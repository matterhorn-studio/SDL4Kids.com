{
 "cells": [
  {
   "cell_type": "markdown",
   "id": "7fadee20",
   "metadata": {
    "pycharm": {
     "name": "#%% md\n"
    }
   },
   "source": [
    "# Step 5 - Exercises  (MacOS)\n",
    "\n",
    "This notebook asks some questions that you can try to answer with everything you learned in Step 1 to Step 4.\n",
    "\n",
    "If you have any questions, check out the [FAQ](https://sites.google.com/matterhorn.studio/sdl4kids/faq)!"
   ]
  },
  {
   "cell_type": "markdown",
   "id": "d2c63e16",
   "metadata": {},
   "source": [
    "## Requirements\n",
    "\n",
    "You will need the following to complete some of these exercises:\n",
    "1. A jupyter notebook and a way to install python packages.\n",
    "2. A micro:bit, available [here](https://shop.pimoroni.com/products/bbc-micro-bit-go-starter-kit?variant=32337813078099).\n",
    "3. An enviro:bit (an extension to the micro:bit), available [here](https://kitronik.co.uk/products/46133-envirobit-add-on-for-the-bbc-microbit).\n",
    "\n",
    "Many parts can be done without the micro:bit, but we recommend it for a real SDL hardware experience."
   ]
  },
  {
   "cell_type": "markdown",
   "id": "3f32c0fd",
   "metadata": {},
   "source": [
    "## Question 1: What is the impact of moving the RGB sensor further away from the screen?\n",
    "\n",
    "Our envirobit has an RGB sensor, but the measurement is makes have noise on them. Noise means that if the screen shows a (255,0,0) color, the sensor might measure something like (220,50,70), because the screen also reflects the sunlight (a source of noise).\n",
    "\n",
    "**Question**: What happens to the Bayesian Optimisation result as you move the sensor further and further away from the screen? Does it still find the right color? Does it fail at some point?"
   ]
  },
  {
   "cell_type": "code",
   "execution_count": 1,
   "id": "1b492826",
   "metadata": {},
   "outputs": [],
   "source": [
    "# Fill in your code here"
   ]
  },
  {
   "cell_type": "markdown",
   "id": "03eab182",
   "metadata": {},
   "source": [
    "# Question 2: How much better is Bayesian Optimisation compare over Random and Grid search?\n",
    "\n",
    "Take the code from Step 4 and run it multiple times. Can you run the three different one after another? What is a good way to compare them?"
   ]
  },
  {
   "cell_type": "code",
   "execution_count": 2,
   "id": "b40b007e",
   "metadata": {},
   "outputs": [],
   "source": [
    "# Fill in your code here"
   ]
  },
  {
   "cell_type": "code",
   "execution_count": null,
   "id": "d5e34aa6",
   "metadata": {},
   "outputs": [],
   "source": []
  }
 ],
 "metadata": {
  "kernelspec": {
   "display_name": "SDL4Kids_kernel",
   "language": "python",
   "name": "sdl4kids_kernel"
  },
  "language_info": {
   "codemirror_mode": {
    "name": "ipython",
    "version": 3
   },
   "file_extension": ".py",
   "mimetype": "text/x-python",
   "name": "python",
   "nbconvert_exporter": "python",
   "pygments_lexer": "ipython3",
   "version": "3.11.4"
  }
 },
 "nbformat": 4,
 "nbformat_minor": 5
}
