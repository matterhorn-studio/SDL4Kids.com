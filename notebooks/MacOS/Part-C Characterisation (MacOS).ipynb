{
 "cells": [
  {
   "cell_type": "markdown",
   "id": "7fadee20",
   "metadata": {
    "pycharm": {
     "name": "#%% md\n"
    }
   },
   "source": [
    "# Part C: Characterisation for your SDL (MacOS version)\n",
    "\n",
    "In this notebook, you will learn more about the second step of an SDL: Characterisation.\n",
    "\n",
    "Go to [sdl4kids.com](http://sdl4kids.com) for the Windows version.\n",
    "\n",
    "If you have any questions, check out the [FAQ](https://sites.google.com/matterhorn.studio/sdl4kids/faq)!"
   ]
  },
  {
   "cell_type": "markdown",
   "id": "7c546391",
   "metadata": {},
   "source": [
    "## Introduction\n",
    "\n",
    "We will look at all the building blocks required for measuring the RGB color on your screen, that you learned how to synthesise in Part B.\n",
    "\n",
    "1. Setting up the microbit to measure colors\n",
    "2. Programming the microbit to send measurements\n",
    "3. Processing the measurements"
   ]
  },
  {
   "cell_type": "markdown",
   "id": "018365c9",
   "metadata": {},
   "source": [
    "## (1) Setting up the microbit to measure colors\n",
    "\n",
    "We will use the enviro:bit (PIM355) by Pimoroni which is available for purchase [here](https://shop.pimoroni.com/products/enviro-bit?variant=3142289653770).\n",
    "\n",
    "It is the most simple way to measure RGB colors with a microbit (or any microcontroller):\n",
    "1. Plug the microbit into the board. Make sure you slide it in the right way (the side with 'envirobit' on it should be on the same side where it says 'microbit' on the microbit)\n",
    "2. Then plug the microbit via USB into your computer.\n",
    "3. Open MakeCode where we will program the microbit on [https://makecode.microbit.org/](https://makecode.microbit.org/) It works best in [Google Chrome](https://www.google.com/chrome/)\n",
    "4. Click \"New Project\" and call it \"SDL4Kids\". You should now have the programming interface in front of you.\n",
    "\n",
    "**Task**: If you are unfamiliar with the microbit, make sure to try some of the tutorials and smaller programming projects to make sure you understand the workflow."
   ]
  },
  {
   "cell_type": "markdown",
   "id": "57786146",
   "metadata": {
    "pycharm": {
     "name": "#%% md\n"
    }
   },
   "source": [
    "## (2) Programming the Microbit to send new RGB color measurements\n",
    "\n",
    "We will now program the microbit to send us RGB values:\n",
    "\n",
    "1. In the middle column, somewhere between \"Math\" and \"Variables\" click on \"Extensions\".\n",
    "2. Search for \"envirobit\", then click on it to load the envirobit library into your Microbit program.\n",
    "3. User drag and drop to create below program into your Microbit.\n",
    "\n",
    "![Microbit Program](img/microbit_program.png \"Microbit Program\")\n",
    "\n",
    "5. Alternatively, you can copy and paste the following code into the \"JavaScript\" section (switch to JavaScript via its button in the middle of the top bar, NOT Python):\n",
    "```\n",
    "serial.onDataReceived(serial.delimiters(Delimiters.Comma), function () {\n",
    "    serial.writeLine(\"\" + envirobit.getRed() + \"-\" + envirobit.getGreen() + \"-\" + envirobit.getBlue())\n",
    "    music.playTone(262, music.beat(BeatFraction.Sixteenth))\n",
    "})\n",
    "music.setVolume(127)\n",
    "\n",
    "```\n"
   ]
  },
  {
   "cell_type": "markdown",
   "id": "baa14281",
   "metadata": {},
   "source": [
    "## (3) Connecting to the Microbit and requesting new measurements"
   ]
  },
  {
   "cell_type": "markdown",
   "id": "af77cbad",
   "metadata": {},
   "source": [
    "**Note**: Ideally, you disconnect your Microbit from Google Chrome before continuing. Otherwise, Google Chrome will interfere with the serial connection and a lot of measurements will be corrupted."
   ]
  },
  {
   "cell_type": "markdown",
   "id": "c10a47f1",
   "metadata": {
    "pycharm": {
     "name": "#%% md\n"
    }
   },
   "source": [
    "Let's import the 'pyserial' package, which we use to connect to the Microbit (it is just called 'serial'):"
   ]
  },
  {
   "cell_type": "code",
   "execution_count": null,
   "id": "26d4521d",
   "metadata": {},
   "outputs": [],
   "source": [
    "!pip install pyserial"
   ]
  },
  {
   "cell_type": "code",
   "execution_count": 5,
   "id": "26239577",
   "metadata": {
    "pycharm": {
     "name": "#%%\n"
    }
   },
   "outputs": [],
   "source": [
    "import serial"
   ]
  },
  {
   "cell_type": "markdown",
   "id": "5feba709",
   "metadata": {
    "pycharm": {
     "name": "#%% md\n"
    }
   },
   "source": [
    "We will list all USB devices currently connected to our computer:"
   ]
  },
  {
   "cell_type": "code",
   "execution_count": 6,
   "id": "ed6dd490",
   "metadata": {
    "pycharm": {
     "name": "#%%\n"
    }
   },
   "outputs": [
    {
     "name": "stdout",
     "output_type": "stream",
     "text": [
      "\u001b[34m\u001b[43m/dev/cu.Bluetooth-Incoming-Port\u001b[m\u001b[m \u001b[34m\u001b[43m/dev/cu.ZeitlersBoseQC35II\u001b[m\u001b[m\r\n",
      "\u001b[34m\u001b[43m/dev/cu.RoastBeats\u001b[m\u001b[m              \u001b[34m\u001b[43m/dev/cu.usbmodem2102\u001b[m\u001b[m\r\n"
     ]
    }
   ],
   "source": [
    "!ls /dev/cu.*"
   ]
  },
  {
   "cell_type": "markdown",
   "id": "c4f37588",
   "metadata": {
    "pycharm": {
     "name": "#%% md\n"
    }
   },
   "source": [
    "Choose the one with 'cu.usbmodem' in its name and copy its FULL name into the code below:"
   ]
  },
  {
   "cell_type": "code",
   "execution_count": 7,
   "id": "13cb4120",
   "metadata": {
    "pycharm": {
     "name": "#%%\n"
    }
   },
   "outputs": [],
   "source": [
    "ser = serial.Serial()\n",
    "ser = serial.Serial(\"/dev/cu.usbmodem2102\",115200, timeout=0.1)"
   ]
  },
  {
   "cell_type": "markdown",
   "id": "edf397b4",
   "metadata": {},
   "source": [
    "The following lines of code will send a comma (\",\") to the microbit, which is our signal to it to send us the RGB measurements."
   ]
  },
  {
   "cell_type": "code",
   "execution_count": 9,
   "id": "68cc4e42",
   "metadata": {},
   "outputs": [
    {
     "data": {
      "text/plain": [
       "'98-76-83'"
      ]
     },
     "execution_count": 9,
     "metadata": {},
     "output_type": "execute_result"
    }
   ],
   "source": [
    "# 1. Send a comma to the microbit. The b in b\",\" indicates that it should be in bytecode\n",
    "ser.write(b\",\")\n",
    "# 2. We then read the response from the microbit. \n",
    "serial_data = str(ser.readline().decode('utf8')).rstrip()\n",
    "serial_data"
   ]
  },
  {
   "cell_type": "markdown",
   "id": "f464d283",
   "metadata": {},
   "source": [
    "The first time will fail. On the second try, you should now see three numbers separated by a dash, like '115-92-103'.\n",
    "\n",
    "**Task**: Move around the microbit and request new messages. Are the numbers changing? What colors can you measure?"
   ]
  },
  {
   "cell_type": "markdown",
   "id": "08fb2b09",
   "metadata": {},
   "source": [
    "## (4) Making the connection robust\n",
    "\n",
    "Unfortunately, depending on your computer system, the serial USB connection between the microbit and computer might not be robust and messages will get corrupted.\n",
    "\n",
    "To avoid these messages breaking our SDL, we will add a validation procedure:\n",
    "1. If there are not exactly three numbers, we will measure again.\n",
    "2. If the numbers are not between 0 and 255, we will measure again.\n",
    "\n",
    "This procedure is not perfect, as the numbers themselves could be corrupted, but we will just have to accept that as measurement noise at this stage.\n",
    "\n",
    "We will introduce a function called 'characterise' that returns the measured RBG color."
   ]
  },
  {
   "cell_type": "code",
   "execution_count": 33,
   "id": "83f3c5d1",
   "metadata": {},
   "outputs": [],
   "source": [
    "def characterise():\n",
    "    valid = False\n",
    "    while not valid:\n",
    "        try:\n",
    "            ser.flushInput()\n",
    "            ser.write(b\",\")\n",
    "            serial_data = str(ser.readline().decode('utf8')).rstrip()\n",
    "            rgb = tuple([int(value) for value in serial_data.split(\"-\")])\n",
    "            # Validate: Measurement needs three entries\n",
    "            if len(rgb) != 3:\n",
    "                print(f\"Measurement did not containt 3 RGB values:{rgb}\")\n",
    "                raise Exception()\n",
    "            # Validate: Measurements need to be between 0 and 255\n",
    "            if sum([0 <= x <= 255 for x in rgb]) != 3:\n",
    "                print(f\"Measurement outside valid range [0,255]:{rgb}\")\n",
    "                raise Exception()\n",
    "            valid = True\n",
    "        except Exception as e:\n",
    "            print(f\"Measurement invalid, will try again (error: {str(e)})\")\n",
    "    print(f\"New RGB Measurement: {rgb}\")\n",
    "    return rgb"
   ]
  },
  {
   "cell_type": "markdown",
   "id": "05d8c08d",
   "metadata": {},
   "source": [
    "Let's give it a try:"
   ]
  },
  {
   "cell_type": "code",
   "execution_count": 34,
   "id": "1da2e6ec",
   "metadata": {},
   "outputs": [
    {
     "name": "stdout",
     "output_type": "stream",
     "text": [
      "New RGB Measurement: (98, 77, 84)\n"
     ]
    },
    {
     "data": {
      "text/plain": [
       "(98, 77, 84)"
      ]
     },
     "execution_count": 34,
     "metadata": {},
     "output_type": "execute_result"
    }
   ],
   "source": [
    "characterise()"
   ]
  },
  {
   "cell_type": "markdown",
   "id": "a49ff7db",
   "metadata": {},
   "source": [
    "Let's take 50 measurements:"
   ]
  },
  {
   "cell_type": "code",
   "execution_count": 37,
   "id": "764ca6bf",
   "metadata": {},
   "outputs": [
    {
     "name": "stdout",
     "output_type": "stream",
     "text": [
      "New RGB Measurement: (103, 67, 93)\n",
      "New RGB Measurement: (103, 67, 93)\n",
      "New RGB Measurement: (103, 67, 93)\n",
      "New RGB Measurement: (103, 67, 93)\n",
      "New RGB Measurement: (103, 67, 93)\n",
      "New RGB Measurement: (103, 67, 93)\n",
      "New RGB Measurement: (104, 67, 92)\n",
      "New RGB Measurement: (104, 67, 92)\n",
      "New RGB Measurement: (104, 67, 92)\n",
      "New RGB Measurement: (104, 67, 92)\n",
      "New RGB Measurement: (104, 67, 92)\n",
      "New RGB Measurement: (104, 67, 92)\n",
      "New RGB Measurement: (104, 67, 92)\n",
      "New RGB Measurement: (104, 67, 92)\n",
      "New RGB Measurement: (104, 67, 92)\n",
      "New RGB Measurement: (104, 67, 92)\n",
      "New RGB Measurement: (104, 67, 92)\n",
      "New RGB Measurement: (104, 67, 92)\n",
      "New RGB Measurement: (104, 67, 92)\n",
      "New RGB Measurement: (103, 67, 91)\n",
      "New RGB Measurement: (103, 67, 91)\n",
      "New RGB Measurement: (103, 67, 91)\n",
      "New RGB Measurement: (103, 67, 91)\n",
      "New RGB Measurement: (103, 67, 91)\n",
      "New RGB Measurement: (103, 67, 91)\n",
      "New RGB Measurement: (103, 67, 91)\n",
      "New RGB Measurement: (103, 67, 91)\n",
      "New RGB Measurement: (103, 67, 91)\n",
      "New RGB Measurement: (103, 67, 91)\n",
      "New RGB Measurement: (103, 67, 91)\n",
      "New RGB Measurement: (103, 67, 91)\n",
      "New RGB Measurement: (103, 67, 91)\n",
      "New RGB Measurement: (102, 77, 90)\n",
      "New RGB Measurement: (102, 77, 90)\n",
      "New RGB Measurement: (102, 77, 90)\n",
      "New RGB Measurement: (102, 77, 90)\n",
      "New RGB Measurement: (102, 77, 90)\n",
      "New RGB Measurement: (102, 77, 90)\n",
      "New RGB Measurement: (102, 77, 90)\n",
      "New RGB Measurement: (102, 77, 90)\n",
      "New RGB Measurement: (102, 77, 90)\n",
      "New RGB Measurement: (102, 77, 90)\n",
      "New RGB Measurement: (102, 77, 90)\n",
      "New RGB Measurement: (102, 77, 90)\n",
      "New RGB Measurement: (102, 77, 90)\n",
      "New RGB Measurement: (102, 70, 89)\n",
      "New RGB Measurement: (102, 70, 89)\n",
      "New RGB Measurement: (102, 70, 89)\n",
      "New RGB Measurement: (102, 70, 89)\n",
      "New RGB Measurement: (102, 70, 89)\n"
     ]
    }
   ],
   "source": [
    "for i in range(50):\n",
    "    characterise()"
   ]
  },
  {
   "cell_type": "markdown",
   "id": "e65f87d4",
   "metadata": {},
   "source": [
    "Notice that we can take many hundreds of measurements per second, so if you do not move the microbit much, you will not see the numbers change much."
   ]
  },
  {
   "cell_type": "code",
   "execution_count": null,
   "id": "abb5c4ba",
   "metadata": {},
   "outputs": [],
   "source": []
  },
  {
   "cell_type": "markdown",
   "id": "44b70af9",
   "metadata": {},
   "source": [
    "## (5) Putting it all together\n",
    "\n",
    "We can now measure colors with the microbit using a function called 'characterise()'.\n",
    "\n",
    "Let's take add this function into the code from the loop we programmed in Part B:\n",
    "\n",
    "1. We will still generate random colors.\n",
    "2. Instead of calculating the error in the computer, we will measure the color with the microbit.\n",
    "3. Then we will calculate the error.\n",
    "\n",
    "The change is very small, just one line:"
   ]
  },
  {
   "cell_type": "code",
   "execution_count": 46,
   "id": "67718b11",
   "metadata": {},
   "outputs": [
    {
     "name": "stdout",
     "output_type": "stream",
     "text": [
      "New RGB Measurement: (93, 82, 78)\n",
      "197.61578884289585\n",
      "New RGB Measurement: (93, 82, 78)\n",
      "197.61578884289585\n",
      "New RGB Measurement: (93, 82, 78)\n",
      "197.61578884289585\n",
      "New RGB Measurement: (93, 82, 78)\n",
      "197.61578884289585\n",
      "New RGB Measurement: (93, 82, 78)\n",
      "197.61578884289585\n",
      "New RGB Measurement: (93, 82, 78)\n",
      "197.61578884289585\n"
     ]
    },
    {
     "ename": "KeyboardInterrupt",
     "evalue": "",
     "output_type": "error",
     "traceback": [
      "\u001b[0;31m---------------------------------------------------------------------------\u001b[0m",
      "\u001b[0;31mKeyboardInterrupt\u001b[0m                         Traceback (most recent call last)",
      "Cell \u001b[0;32mIn[46], line 77\u001b[0m\n\u001b[1;32m     74\u001b[0m     cv2\u001b[38;5;241m.\u001b[39mimshow(\u001b[38;5;124m\"\u001b[39m\u001b[38;5;124mLive Image\u001b[39m\u001b[38;5;124m\"\u001b[39m, image)\n\u001b[1;32m     76\u001b[0m     \u001b[38;5;66;03m# 8. Wait half a second\u001b[39;00m\n\u001b[0;32m---> 77\u001b[0m     \u001b[43mcv2\u001b[49m\u001b[38;5;241;43m.\u001b[39;49m\u001b[43mwaitKey\u001b[49m\u001b[43m(\u001b[49m\u001b[38;5;241;43m500\u001b[39;49m\u001b[43m)\u001b[49m \n\u001b[1;32m     79\u001b[0m \u001b[38;5;66;03m# Close the window after the desired number of iterations\u001b[39;00m\n\u001b[1;32m     80\u001b[0m cv2\u001b[38;5;241m.\u001b[39mwaitKey(\u001b[38;5;241m1\u001b[39m)\n",
      "\u001b[0;31mKeyboardInterrupt\u001b[0m: "
     ]
    }
   ],
   "source": [
    "import cv2\n",
    "import numpy as np\n",
    "\n",
    "import random #this package give us access to a function called 'randint(lowest, highest)'\n",
    "def generate_random_color():\n",
    "    red = random.randint(0, 255)\n",
    "    green = random.randint(0, 255)\n",
    "    blue = random.randint(0, 255)\n",
    "    return blue, green, red  # OpenCV uses BGR color format\n",
    "\n",
    "import numpy as np # We import numpy so we can use it's square root function np.sqrt()\n",
    "def calculate_error(color1, color2):\n",
    "    return np.sqrt((color1[0] - color2[0]) ** 2 + (color1[1] - color2[1]) ** 2 + (color1[2] - color2[2]) ** 2)\n",
    "\n",
    "# 1. Create a named window for display\n",
    "cv2.namedWindow(\"Synthesis Window\", cv2.WINDOW_NORMAL)\n",
    "cv2.startWindowThread()\n",
    "\n",
    "# 2. Create a blank image\n",
    "width, height = 800, 400\n",
    "image = np.zeros((height, width, 3), dtype=np.uint8)\n",
    "\n",
    "# 3.1 Define how many colors we want to show\n",
    "max_iterations = 10\n",
    "\n",
    "# 3.2 Let's define our goal color\n",
    "goal_color = (0,0,255) # BGR order, not RGB\n",
    "\n",
    "# 3.3 Create an empty list to store the error values\n",
    "error_values = []\n",
    "\n",
    "# 3.4 Define font properties for displaying text\n",
    "font = cv2.FONT_HERSHEY_SIMPLEX\n",
    "font_scale = 0.8\n",
    "font_color = (255, 255, 255)  # White color\n",
    "\n",
    "for iteration in range(max_iterations):\n",
    "    # 4. Generate a new random color\n",
    "    current_color = generate_random_color()\n",
    "    \n",
    "    # 5.1 Update the live image with the current color\n",
    "    image[:, :] = current_color\n",
    "    \n",
    "    # 5.2 Let's plot the goal color\n",
    "    subplot_x = width // (max_iterations + 1)\n",
    "    subplot_width = width // (max_iterations + 1)\n",
    "    cv2.rectangle(image, (subplot_x, 60), (subplot_x + subplot_width, height - 60), goal_color, -1)\n",
    "    \n",
    "    # 5.3 Let's also calculate the difference between the MEASURED color and the goal\n",
    "    current_color = characterise()\n",
    "    current_color = tuple(reversed(current_color)) # We will have to flip the order from RGB to BGR\n",
    "    error = calculate_error(goal_color, current_color)\n",
    "    error_values.append(error)\n",
    "    print(error)\n",
    "    \n",
    "    # 5.4. Add text information to the image\n",
    "    text = f\"Iteration: {iteration + 1}\"\n",
    "    cv2.putText(image, text, (10, 30), font, font_scale, font_color, 2)\n",
    "\n",
    "    # 5.5 Add text for the error\n",
    "    error_text = f\"Loss: {error:.2f}\"\n",
    "    cv2.putText(image, error_text, (10, height - 10), font, font_scale, font_color, 2)\n",
    "\n",
    "    # 5.6 Draw the graph of error values\n",
    "    if len(error_values) > 1:\n",
    "        for i in range(1, len(error_values)):\n",
    "            x1 = (i - 1) * (width // max_iterations)\n",
    "            y1 = height - int(error_values[i - 1] * (height - 60) / max(error_values))\n",
    "            x2 = i * (width // max_iterations)\n",
    "            y2 = height - int(error_values[i] * (height - 60) / max(error_values))\n",
    "            cv2.line(image, (x1, y1), (x2, y2), (255, 255, 255), 2)\n",
    "    \n",
    "    # 6. Display the image again\n",
    "    cv2.imshow(\"Live Image\", image)\n",
    "    \n",
    "    # 8. Wait half a second\n",
    "    cv2.waitKey(500) \n",
    "        \n",
    "# Close the window after the desired number of iterations\n",
    "cv2.waitKey(1)\n",
    "cv2.destroyAllWindows()\n",
    "cv2.waitKey(1)"
   ]
  },
  {
   "cell_type": "code",
   "execution_count": 47,
   "id": "97c772fe",
   "metadata": {},
   "outputs": [
    {
     "data": {
      "text/plain": [
       "[<matplotlib.lines.Line2D at 0x2a8421550>]"
      ]
     },
     "execution_count": 47,
     "metadata": {},
     "output_type": "execute_result"
    },
    {
     "data": {
      "image/png": "[encoded data removed]",
      "text/plain": [
       "<Figure size 640x480 with 1 Axes>"
      ]
     },
     "metadata": {},
     "output_type": "display_data"
    }
   ],
   "source": [
    "import matplotlib.pyplot as plt\n",
    "plt.plot(error_values)"
   ]
  },
  {
   "cell_type": "markdown",
   "id": "80b4dd59",
   "metadata": {},
   "source": [
    "**Task**: Increase the number of iterations. Do the colors and their calcualted errors match with what you see?"
   ]
  },
  {
   "cell_type": "markdown",
   "id": "20732a4e",
   "metadata": {},
   "source": [
    "### **Now it's time to move on to the third and final step of an SDL: Planning. Find it in the notebook \"Part D\"**"
   ]
  },
  {
   "cell_type": "code",
   "execution_count": null,
   "id": "779e0d00",
   "metadata": {},
   "outputs": [],
   "source": []
  }
 ],
 "metadata": {
  "kernelspec": {
   "display_name": "SDL4Kids_kernel",
   "language": "python",
   "name": "sdl4kids_kernel"
  },
  "language_info": {
   "codemirror_mode": {
    "name": "ipython",
    "version": 3
   },
   "file_extension": ".py",
   "mimetype": "text/x-python",
   "name": "python",
   "nbconvert_exporter": "python",
   "pygments_lexer": "ipython3",
   "version": "3.11.4"
  }
 },
 "nbformat": 4,
 "nbformat_minor": 5
}
