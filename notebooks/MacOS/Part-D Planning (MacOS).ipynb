{
 "cells": [
  {
   "cell_type": "markdown",
   "id": "7fadee20",
   "metadata": {
    "pycharm": {
     "name": "#%% md\n"
    }
   },
   "source": [
    "# Part D: Planning for your SDL (MacOS version)\n",
    "\n",
    "In this notebook, you will learn more about the third step of an SDL: Planning.\n",
    "\n",
    "Go to [sdl4kids.com](http://sdl4kids.com) for the Windows version.\n",
    "\n",
    "If you have any questions, check out the [FAQ](https://sites.google.com/matterhorn.studio/sdl4kids/faq)!"
   ]
  },
  {
   "cell_type": "markdown",
   "id": "7c546391",
   "metadata": {},
   "source": [
    "## Introduction\n",
    "\n",
    "We will look at different ways to plan your experiment, i.e. selecting which color to try next:\n",
    "\n",
    "1. Random\n",
    "2. Grid\n",
    "3. Bayesian Optimisation"
   ]
  },
  {
   "cell_type": "markdown",
   "id": "861537d0",
   "metadata": {},
   "source": [
    "## (1) Strategy: Random\n",
    "\n",
    "**Goal**: You will learn how to use a random search to find the best RGB combination.\n",
    "\n",
    "Random here means the same as throwing a die with 6 sides: Each side, 1 to 6, has an equal probability (1/6 = 16.6%) of occurence. \n",
    "\n",
    "With RGB colors, we essentially have three dice — one for each R, G and B — with each die having 256 sides, representing the numbers 0 to 255. Each side has equal probability.\n",
    "\n",
    "We will throw these three die to select the next RGB experiment. If we do that 100 times, many RGB colors will be far off our target color, but with a certain probability, some will get close."
   ]
  },
  {
   "cell_type": "code",
   "execution_count": 106,
   "id": "b3471f86",
   "metadata": {},
   "outputs": [],
   "source": [
    "import random\n",
    "import numpy as np\n",
    "import cv2\n",
    "\n",
    "# Function to generate random color\n",
    "def generate_random_color():\n",
    "    red = random.randint(0, 255)\n",
    "    green = random.randint(0, 255)\n",
    "    blue = random.randint(0, 255)\n",
    "    return blue, green, red  # OpenCV uses BGR color format\n",
    "\n",
    "# Function to calculate the error between two colors\n",
    "def calculate_error(color1, color2):\n",
    "    return np.sqrt((color1[0] - color2[0]) ** 2 + (color1[1] - color2[1]) ** 2 + (color1[2] - color2[2]) ** 2)\n"
   ]
  },
  {
   "cell_type": "code",
   "execution_count": 107,
   "id": "094f89ee",
   "metadata": {
    "pycharm": {
     "name": "#%%\n"
    }
   },
   "outputs": [
    {
     "data": {
      "text/plain": [
       "-1"
      ]
     },
     "execution_count": 107,
     "metadata": {},
     "output_type": "execute_result"
    }
   ],
   "source": [
    "\n",
    "# Create a blank image\n",
    "width, height = 800, 400\n",
    "image = np.zeros((height, width, 3), dtype=np.uint8)\n",
    "\n",
    "# Create a named window for display\n",
    "cv2.namedWindow(\"Live Image\", cv2.WINDOW_NORMAL)\n",
    "cv2.startWindowThread()\n",
    "\n",
    "# Define font properties for displaying text\n",
    "font = cv2.FONT_HERSHEY_SIMPLEX\n",
    "font_scale = 0.8\n",
    "font_color = (255, 255, 255)  # White color\n",
    "\n",
    "# Define the goal color\n",
    "goal_color = (0, 0, 255)  # Red color (BGR format)\n",
    "\n",
    "# Create an empty list to store the error values\n",
    "error_values = []\n",
    "\n",
    "# Main loop\n",
    "max_iterations = 50  # Set the desired number of iterations\n",
    "\n",
    "candidate_color = (0,0,0) # Initial candidate\n",
    "\n",
    "for iteration in range(max_iterations):\n",
    "    \n",
    "\n",
    "    # STEP 1: Synthesis\n",
    "    # Update the live image with the current color\n",
    "    image[:, :] = candidate_color\n",
    "    \n",
    "    # Display the image\n",
    "    cv2.imshow(\"Live Image\", image)\n",
    "    \n",
    "    # STEP 2: Characterisation\n",
    "    \n",
    "    # Measure the color with the Microbit: We will do this eventually\n",
    "    #rgb_measurement = characterise()  \n",
    "    #rgb_measurement = tuple(reversed(rgb_measurement))\n",
    "    \n",
    "    # Measure the color by just pretending candidate_color being the measurement \n",
    "    rgb_measurement = candidate_color\n",
    "    \n",
    "    # STEP 3: Planning\n",
    "    \n",
    "    # Calculate the error between the goal color and the current color\n",
    "    error = calculate_error(goal_color, rgb_measurement)\n",
    "\n",
    "    # Add the loss value to the list\n",
    "    error_values.append(error)    \n",
    "\n",
    "    # Add text information to the image\n",
    "    text = f\"Iteration: {iteration + 1}\"\n",
    "    cv2.putText(image, text, (10, 30), font, font_scale, font_color, 2)\n",
    "\n",
    "    # Plot a subplot for the goal color\n",
    "    # subplot_x = num_iterations * (width // (max_iterations + 1))\n",
    "    subplot_x = width // (max_iterations + 1)\n",
    "    subplot_width = width // 50\n",
    "    cv2.rectangle(image, (subplot_x, 60), (subplot_x + subplot_width, height - 60), goal_color, -1)\n",
    "\n",
    "    # Add text for the loss\n",
    "    error_text = f\"Loss: {error:.2f}\"\n",
    "    cv2.putText(image, error_text, (10, height - 10), font, font_scale, font_color, 2)\n",
    "\n",
    "    # Draw the graph of error values\n",
    "    if len(error_values) > 1:\n",
    "        for i in range(1, len(error_values)):\n",
    "            x1 = (i - 1) * (width // max_iterations)\n",
    "            y1 = height - int(error_values[i - 1] * (height - 60) / max(error_values))\n",
    "            x2 = i * (width // max_iterations)\n",
    "            y2 = height - int(error_values[i] * (height - 60) / max(error_values))\n",
    "            cv2.line(image, (x1, y1), (x2, y2), (255, 255, 255), 2)\n",
    "\n",
    "    # Increment the iteration counter\n",
    "    cv2.imshow(\"Live Image\", image)\n",
    "    cv2.waitKey(50)  # Adjust the wait time (in milliseconds) as needed\n",
    "    \n",
    "    # Generate a new candidate color, for now we will pick one randomly\n",
    "    candidate_color = generate_random_color()\n",
    "    \n",
    "# Close the window after the desired number of iterations\n",
    "cv2.waitKey(1)\n",
    "cv2.destroyAllWindows()\n",
    "cv2.waitKey(1)"
   ]
  },
  {
   "cell_type": "markdown",
   "id": "3fa245bb",
   "metadata": {},
   "source": [
    "We can now plot the error for each random RGB combination, and also a line for the best random color we have found so far."
   ]
  },
  {
   "cell_type": "code",
   "execution_count": 108,
   "id": "d9d1a198",
   "metadata": {
    "pycharm": {
     "name": "#%%\n"
    }
   },
   "outputs": [
    {
     "data": {
      "text/plain": [
       "<matplotlib.legend.Legend at 0x2bd3cbe90>"
      ]
     },
     "execution_count": 108,
     "metadata": {},
     "output_type": "execute_result"
    },
    {
     "data": {
      "image/png": "[encoded data removed]",
      "text/plain": [
       "<Figure size 640x480 with 1 Axes>"
      ]
     },
     "metadata": {},
     "output_type": "display_data"
    }
   ],
   "source": [
    "import matplotlib.pyplot as plt\n",
    "# Plot error for each iteration\n",
    "plt.scatter(range(len(error_values)), error_values, label=\"Error for each iteration\")\n",
    "\n",
    "# Calculate best error so far\n",
    "best_error_so_far = 1000\n",
    "best_errors = []\n",
    "for value in error_values:\n",
    "    if value < best_error_so_far:\n",
    "        best_error_so_far = value\n",
    "    best_errors.append(best_error_so_far)\n",
    "    \n",
    "# Plot best error so far\n",
    "plt.plot(best_errors, label=\"Best Error So Far\", color=\"orange\")\n",
    "plt.legend()"
   ]
  },
  {
   "cell_type": "markdown",
   "id": "9ea5f310",
   "metadata": {},
   "source": [
    "## (2) Strategy: Grid\n",
    "\n",
    "We will generate a 'grid' of RGB combinations, which we then measure and pick the best point.\n",
    "\n",
    "Image you want to cook the best pizza, but you don't know what the best time in the oven at 200 Celsius. It is most likely somehwere between 10 and 15 minutes. If we have 6 pizzas, we can just put in a pizza for each 10, 11, 12, 13, 14 and 15 minutes and then test the taste. That's a grid: We have a lower and upper bound and a limited number of experiments we can run in between, evenly spaced.\n",
    "\n",
    "For our SDL4Kids, we have 3 variables R, G and B instead of 'minutes in the oven'. For example, we can create a grid with 5 steps for each variable. That would be 5 * 5 * 5 = 125 experiments to run. The following code generates such a grid:"
   ]
  },
  {
   "cell_type": "code",
   "execution_count": 109,
   "id": "6e5ff7fa",
   "metadata": {},
   "outputs": [
    {
     "data": {
      "text/plain": [
       "[(0.0, 0.0, 0.0),\n",
       " (0.0, 0.0, 85.0),\n",
       " (0.0, 0.0, 170.0),\n",
       " (0.0, 0.0, 255.0),\n",
       " (0.0, 85.0, 0.0),\n",
       " (0.0, 85.0, 85.0),\n",
       " (0.0, 85.0, 170.0),\n",
       " (0.0, 85.0, 255.0),\n",
       " (0.0, 170.0, 0.0),\n",
       " (0.0, 170.0, 85.0),\n",
       " (0.0, 170.0, 170.0),\n",
       " (0.0, 170.0, 255.0),\n",
       " (0.0, 255.0, 0.0),\n",
       " (0.0, 255.0, 85.0),\n",
       " (0.0, 255.0, 170.0),\n",
       " (0.0, 255.0, 255.0),\n",
       " (85.0, 0.0, 0.0),\n",
       " (85.0, 0.0, 85.0),\n",
       " (85.0, 0.0, 170.0),\n",
       " (85.0, 0.0, 255.0),\n",
       " (85.0, 85.0, 0.0),\n",
       " (85.0, 85.0, 85.0),\n",
       " (85.0, 85.0, 170.0),\n",
       " (85.0, 85.0, 255.0),\n",
       " (85.0, 170.0, 0.0),\n",
       " (85.0, 170.0, 85.0),\n",
       " (85.0, 170.0, 170.0),\n",
       " (85.0, 170.0, 255.0),\n",
       " (85.0, 255.0, 0.0),\n",
       " (85.0, 255.0, 85.0),\n",
       " (85.0, 255.0, 170.0),\n",
       " (85.0, 255.0, 255.0),\n",
       " (170.0, 0.0, 0.0),\n",
       " (170.0, 0.0, 85.0),\n",
       " (170.0, 0.0, 170.0),\n",
       " (170.0, 0.0, 255.0),\n",
       " (170.0, 85.0, 0.0),\n",
       " (170.0, 85.0, 85.0),\n",
       " (170.0, 85.0, 170.0),\n",
       " (170.0, 85.0, 255.0),\n",
       " (170.0, 170.0, 0.0),\n",
       " (170.0, 170.0, 85.0),\n",
       " (170.0, 170.0, 170.0),\n",
       " (170.0, 170.0, 255.0),\n",
       " (170.0, 255.0, 0.0),\n",
       " (170.0, 255.0, 85.0),\n",
       " (170.0, 255.0, 170.0),\n",
       " (170.0, 255.0, 255.0),\n",
       " (255.0, 0.0, 0.0),\n",
       " (255.0, 0.0, 85.0),\n",
       " (255.0, 0.0, 170.0),\n",
       " (255.0, 0.0, 255.0),\n",
       " (255.0, 85.0, 0.0),\n",
       " (255.0, 85.0, 85.0),\n",
       " (255.0, 85.0, 170.0),\n",
       " (255.0, 85.0, 255.0),\n",
       " (255.0, 170.0, 0.0),\n",
       " (255.0, 170.0, 85.0),\n",
       " (255.0, 170.0, 170.0),\n",
       " (255.0, 170.0, 255.0),\n",
       " (255.0, 255.0, 0.0),\n",
       " (255.0, 255.0, 85.0),\n",
       " (255.0, 255.0, 170.0),\n",
       " (255.0, 255.0, 255.0)]"
      ]
     },
     "execution_count": 109,
     "metadata": {},
     "output_type": "execute_result"
    }
   ],
   "source": [
    "grid_steps = 4\n",
    "red = np.linspace(0, 255, grid_steps)\n",
    "green = np.linspace(0, 255, grid_steps)\n",
    "blue = np.linspace(0, 255, grid_steps)\n",
    "\n",
    "grid_combinations = []\n",
    "for r in red:\n",
    "    for g in green:\n",
    "        for b in blue:\n",
    "            combination = (r,g,b)\n",
    "            grid_combinations.append(combination)\n",
    "grid_combinations"
   ]
  },
  {
   "cell_type": "code",
   "execution_count": 110,
   "id": "aa9c0ae0",
   "metadata": {},
   "outputs": [
    {
     "data": {
      "text/plain": [
       "-1"
      ]
     },
     "execution_count": 110,
     "metadata": {},
     "output_type": "execute_result"
    }
   ],
   "source": [
    "import random\n",
    "import numpy as np\n",
    "import cv2\n",
    "\n",
    "# Create a blank image\n",
    "width, height = 800, 400\n",
    "image = np.zeros((height, width, 3), dtype=np.uint8)\n",
    "\n",
    "# Create a named window for display\n",
    "cv2.namedWindow(\"Live Image\", cv2.WINDOW_NORMAL)\n",
    "cv2.startWindowThread()\n",
    "\n",
    "# Define font properties for displaying text\n",
    "font = cv2.FONT_HERSHEY_SIMPLEX\n",
    "font_scale = 0.8\n",
    "font_color = (255, 255, 255)  # White color\n",
    "\n",
    "# Define the goal color\n",
    "goal_color = (0, 0, 255)  # Red color (BGR format)\n",
    "\n",
    "# Create an empty list to store the loss values\n",
    "error_values = []\n",
    "\n",
    "# Main loop\n",
    "max_iterations = len(grid_combinations)  # Set the desired number of iterations\n",
    "\n",
    "candidate_color = grid_combinations[0]\n",
    "\n",
    "for iteration, grid_combination in enumerate(grid_combinations):\n",
    "    \n",
    "\n",
    "    # STEP 1: Synthesis\n",
    "    # Update the live image with the current color\n",
    "    image[:, :] = candidate_color\n",
    "    \n",
    "    # Display the image\n",
    "    cv2.imshow(\"Live Image\", image)\n",
    "    \n",
    "    # STEP 2: Characterisation\n",
    "    \n",
    "    # Measure the color with the Microbit: We will do this eventually\n",
    "    #rgb_measurement = characterise()  \n",
    "    #rgb_measurement = tuple(reversed(rgb_measurement))\n",
    "    \n",
    "    # Measure the color by just pretending candidate_color being the measurement \n",
    "    rgb_measurement = candidate_color\n",
    "    \n",
    "    # STEP 3: Planning\n",
    "    \n",
    "    # Calculate the loss between the goal color and the current color\n",
    "    error = calculate_error(goal_color, rgb_measurement)\n",
    "\n",
    "    # Add the loss value to the list\n",
    "    error_values.append(error)    \n",
    "\n",
    "    # Add text information to the image\n",
    "    text = f\"Iteration: {iteration + 1}\"\n",
    "    cv2.putText(image, text, (10, 30), font, font_scale, font_color, 2)\n",
    "\n",
    "    # Plot a subplot for the goal color\n",
    "    # subplot_x = num_iterations * (width // (max_iterations + 1))\n",
    "    subplot_x = width // (max_iterations + 1)\n",
    "    subplot_width = width // (max_iterations + 1)\n",
    "    cv2.rectangle(image, (subplot_x, 60), (subplot_x + subplot_width, height - 60), goal_color, -1)\n",
    "\n",
    "    # Add text for the error\n",
    "    error_text = f\"Loss: {error:.2f}\"\n",
    "    cv2.putText(image, error_text, (10, height - 10), font, font_scale, font_color, 2)\n",
    "\n",
    "    # Draw the graph of error values\n",
    "    if len(error_values) > 1:\n",
    "        for i in range(1, len(error_values)):\n",
    "            x1 = (i - 1) * (width // max_iterations)\n",
    "            y1 = height - int(error_values[i - 1] * (height - 60) / max(error_values))\n",
    "            x2 = i * (width // max_iterations)\n",
    "            y2 = height - int(error_values[i] * (height - 60) / max(error_values))\n",
    "            cv2.line(image, (x1, y1), (x2, y2), (255, 255, 255), 2)\n",
    "\n",
    "    # Increment the iteration counter\n",
    "    cv2.imshow(\"Live Image\", image)\n",
    "    cv2.waitKey(50)  # Adjust the wait time (in milliseconds) as needed\n",
    "    \n",
    "    # Generate a new candidate color, for now we will pick one randomly\n",
    "    candidate_color = grid_combination\n",
    "    \n",
    "# Close the window after the desired number of iterations\n",
    "cv2.waitKey(1)\n",
    "cv2.destroyAllWindows()\n",
    "cv2.waitKey(1)"
   ]
  },
  {
   "cell_type": "markdown",
   "id": "785acab6",
   "metadata": {},
   "source": [
    "Let's plot the error values for each grid combination. Notice the pattern a grid creates."
   ]
  },
  {
   "cell_type": "code",
   "execution_count": 111,
   "id": "8a65d0a7",
   "metadata": {},
   "outputs": [
    {
     "data": {
      "text/plain": [
       "<matplotlib.legend.Legend at 0x2bdaf2750>"
      ]
     },
     "execution_count": 111,
     "metadata": {},
     "output_type": "execute_result"
    },
    {
     "data": {
      "image/png": "[encoded data removed]",
      "text/plain": [
       "<Figure size 640x480 with 1 Axes>"
      ]
     },
     "metadata": {},
     "output_type": "display_data"
    }
   ],
   "source": [
    "import matplotlib.pyplot as plt\n",
    "# Plot error for each iteration\n",
    "plt.scatter(range(len(error_values)), error_values, label=\"Error for each iteration\")\n",
    "\n",
    "# Calculate best error so far\n",
    "best_error_so_far = 1000\n",
    "best_errors = []\n",
    "for value in error_values:\n",
    "    if value < best_error_so_far:\n",
    "        best_error_so_far = value\n",
    "    best_errors.append(best_error_so_far)\n",
    "    \n",
    "# Plot best error so far\n",
    "plt.plot(best_errors, label=\"Best Error So Far\", color=\"orange\")\n",
    "plt.legend()"
   ]
  },
  {
   "cell_type": "markdown",
   "id": "92efdb47",
   "metadata": {},
   "source": [
    "**Question**: Which RGB combination was closest to our goal color?\n",
    "\n",
    "*Solution*: Check the loss graph for the combination with the smallest loss, i.e. it is closest to our goal color."
   ]
  },
  {
   "cell_type": "code",
   "execution_count": 112,
   "id": "6c12d631",
   "metadata": {},
   "outputs": [
    {
     "data": {
      "text/plain": [
       "(0.0, 0.0, 255.0)"
      ]
     },
     "execution_count": 112,
     "metadata": {},
     "output_type": "execute_result"
    }
   ],
   "source": [
    "iteration_with_smallest_error = error_values.index(min(error_values))-1 # Index of the iteration with the smallest loss\n",
    "grid_combinations[iteration_with_smallest_error]"
   ]
  },
  {
   "cell_type": "markdown",
   "id": "a3ce4463",
   "metadata": {
    "pycharm": {
     "name": "#%% md\n"
    }
   },
   "source": [
    "## (3) Strategy: Bayesian Optimisation \n",
    "\n",
    "The *random* strategy is a good baseline we want to beat. If our search is not better than *random* then, we should just randomly experiment. With a *grid* search, we are more structured in our search, but the best experiment can still easily sleep in between the grid points.\n",
    "\n",
    "With **Bayesian Optimisation**, we build a statistical model for decision making, i.e. steering our search. This model will represent the behaviour of our RGB color. In Material Science, it can for example represent the relationships between water content and concrete strength.\n",
    "\n",
    "We can ask this model for the next *most informative* combination to test, collect the data, update the model and repeat."
   ]
  },
  {
   "cell_type": "code",
   "execution_count": 113,
   "id": "35459665",
   "metadata": {},
   "outputs": [
    {
     "name": "stdout",
     "output_type": "stream",
     "text": [
      "(197.4839600342983, 201.41902643163655, 95.839297094905)\n",
      "(0.048026854908693184, 3.0191990703733094, 2.308574931156185)\n",
      "(97.73814467908761, 0.0, 0.0)\n",
      "(0.0, 0.0, 149.3980447069649)\n",
      "(0.0, 107.09938710342699, 0.0)\n",
      "(0.0, 160.01394843472895, 0.0)\n",
      "(0.0, 235.7223043472734, 0.0)\n",
      "(0.0, 255.0, 7.1040860019203515e-15)\n",
      "(0.0, 255.0, 60.789691499241584)\n",
      "(38.604119318469564, 254.88832368438395, 4.623567783441024)\n",
      "(2.1548429692133704, 254.64742748616052, 251.61912768693824)\n",
      "(250.9198703599937, 9.90788453512876, 254.32165824810926)\n",
      "(238.64211901350333, 253.80599107700212, 1.5858996081784127)\n",
      "(250.99551842634935, 249.15958644527913, 236.65161030953502)\n",
      "(252.33762237871773, 79.52997952487152, 0.8868626922513179)\n",
      "(4.470389610159204, 106.17752647738752, 247.00156349395525)\n",
      "(101.41449625210882, 254.45489599871902, 226.6234091102697)\n",
      "(128.9197842169437, 253.26691148389236, 0.4283427041430482)\n",
      "(0.013397322555320224, 232.88706110829563, 171.56196545023622)\n",
      "(116.38664251045873, 147.9767575259466, 1.9464195456157907)\n",
      "(0.11012990954626323, 155.51267761271504, 84.66610920218335)\n",
      "(254.07229554722906, 253.7986857211406, 97.65908602652236)\n",
      "(72.36088884194835, 253.1729236570767, 91.41956209175666)\n",
      "(0.51770037613805, 3.4381988065814015, 251.9672069593549)\n",
      "(245.3914448140305, 0.9681467066136906, 0.8275583938039494)\n"
     ]
    },
    {
     "data": {
      "text/plain": [
       "-1"
      ]
     },
     "execution_count": 113,
     "metadata": {},
     "output_type": "execute_result"
    }
   ],
   "source": [
    "import random\n",
    "import numpy as np\n",
    "import cv2\n",
    "\n",
    "# Create a blank image\n",
    "width, height = 800, 400\n",
    "image = np.zeros((height, width, 3), dtype=np.uint8)\n",
    "\n",
    "# Create a named window for display\n",
    "cv2.namedWindow(\"Live Image\", cv2.WINDOW_NORMAL)\n",
    "cv2.startWindowThread()\n",
    "\n",
    "# Define font properties for displaying text\n",
    "font = cv2.FONT_HERSHEY_SIMPLEX\n",
    "font_scale = 0.8\n",
    "font_color = (255, 255, 255)  # White color\n",
    "\n",
    "# Define the goal color\n",
    "goal_color = (255, 0, 255)  # Red color\n",
    "\n",
    "# Create an empty list to store the loss values\n",
    "error_values = []\n",
    "\n",
    "# Main loop\n",
    "max_iterations = 25  # Set the desired number of iterations\n",
    "\n",
    "\n",
    "# Bayesian Optimisation\n",
    "from bayes_opt import BayesianOptimization\n",
    "from bayes_opt import UtilityFunction\n",
    "\n",
    "def objective_function(R, G, B):\n",
    "    # Simulate the outcome based on the RGB values\n",
    "    outcome = calculate_error(goal_color, {'R': R, 'G': G, 'B': B})\n",
    "    return outcome\n",
    "\n",
    "# Define the utility function (Expected Improvement)\n",
    "utility = UtilityFunction(kind=\"ei\", kappa=2.5, xi=0.0)\n",
    "\n",
    "# Define the search space bounds\n",
    "rgb_bounds = {'R': (0, 255), 'G': (0, 255), 'B': (0, 255)}\n",
    "\n",
    "# Define the Bayesian optimization function\n",
    "optimizer = BayesianOptimization(\n",
    "        f=objective_function,\n",
    "        pbounds=rgb_bounds,\n",
    "        random_state=1,\n",
    "        verbose=2, \n",
    "        allow_duplicate_points=True\n",
    ")\n",
    "\n",
    "candidate_color = (0,0,0) # Initial color\n",
    "for iteration in range(max_iterations):\n",
    "\n",
    "    # STEP 1: Synthesis\n",
    "    # Update the live image with the current color\n",
    "    image[:, :] = tuple(reversed(candidate_color))\n",
    "    \n",
    "    # Display the image\n",
    "    cv2.imshow(\"Live Image\", image)\n",
    "    \n",
    "    # STEP 2: Characterisation\n",
    "    \n",
    "    # Measure the color with the Microbit: We will do this eventually\n",
    "    #rgb_measurement = characterise()  \n",
    "    #rgb_measurement = tuple(reversed(rgb_measurement))\n",
    "    \n",
    "    # Measure the color by just pretending candidate_color being the measurement \n",
    "    rgb_measurement = candidate_color\n",
    "    \n",
    "    # STEP 3: Planning\n",
    "    \n",
    "    # Calculate the loss between the goal color and the current color\n",
    "    error = calculate_error(goal_color, rgb_measurement)\n",
    "\n",
    "    # Add the loss value to the list\n",
    "    error_values.append(error)   \n",
    "    \n",
    "    # Update the optimizer with the new sample\n",
    "    optimizer.register(params={'R': rgb_measurement[0], 'G': rgb_measurement[1], 'B': rgb_measurement[2]}, target=error)\n",
    "\n",
    "    # Optimize the acquisition function to get the next sample\n",
    "    candidate_color = optimizer.suggest(utility_function=utility)\n",
    "    candidate_color = (candidate_color[\"R\"], candidate_color[\"G\"], candidate_color['B'])\n",
    "    print(candidate_color)\n",
    "\n",
    "    # Add text information to the image\n",
    "    text = f\"Iteration: {iteration + 1}\"\n",
    "    cv2.putText(image, text, (10, 30), font, font_scale, font_color, 2)\n",
    "\n",
    "    # Plot a subplot for the goal color\n",
    "    # subplot_x = num_iterations * (width // (max_iterations + 1))\n",
    "    subplot_x = width // (max_iterations + 1)\n",
    "    subplot_width = width // (max_iterations + 1)\n",
    "    cv2.rectangle(image, (subplot_x, 60), (subplot_x + subplot_width, height - 60), goal_color, -1)\n",
    "\n",
    "    # Add text for the error\n",
    "    error_text = f\"Error: {error:.2f}\"\n",
    "    cv2.putText(image, error_text, (10, height - 10), font, font_scale, font_color, 2)\n",
    "\n",
    "    # Draw the graph of error values\n",
    "    if len(error_values) > 1:\n",
    "        for i in range(1, len(error_values)):\n",
    "            x1 = (i - 1) * (width // max_iterations)\n",
    "            y1 = height - int(error_values[i - 1] * (height - 60) / max(error_values))\n",
    "            x2 = i * (width // max_iterations)\n",
    "            y2 = height - int(error_values[i] * (height - 60) / max(error_values))\n",
    "            cv2.line(image, (x1, y1), (x2, y2), (255, 255, 255), 2)\n",
    "\n",
    "    # Increment the iteration counter\n",
    "    cv2.imshow(\"Live Image\", image)\n",
    "    cv2.waitKey(10)  # Adjust the wait time (in milliseconds) as needed\n",
    "    \n",
    "# Close the window after the desired number of iterations\n",
    "cv2.waitKey(1)\n",
    "cv2.destroyAllWindows()\n",
    "cv2.waitKey(1)"
   ]
  },
  {
   "cell_type": "code",
   "execution_count": 114,
   "id": "385bdf25",
   "metadata": {
    "pycharm": {
     "name": "#%%\n"
    }
   },
   "outputs": [
    {
     "data": {
      "text/plain": [
       "<matplotlib.legend.Legend at 0x2be8dd250>"
      ]
     },
     "execution_count": 114,
     "metadata": {},
     "output_type": "execute_result"
    },
    {
     "data": {
      "image/png": "[encoded data removed]",
      "text/plain": [
       "<Figure size 640x480 with 1 Axes>"
      ]
     },
     "metadata": {},
     "output_type": "display_data"
    }
   ],
   "source": [
    "import matplotlib.pyplot as plt\n",
    "# Plot error for each iteration\n",
    "plt.scatter(range(len(error_values)), error_values, label=\"Error for each iteration\")\n",
    "\n",
    "# Calculate best error so far\n",
    "best_error_so_far = 999999\n",
    "best_errors = []\n",
    "for value in error_values:\n",
    "    if value < best_error_so_far:\n",
    "        best_error_so_far = value\n",
    "    best_errors.append(best_error_so_far)\n",
    "    \n",
    "# Plot best error so far\n",
    "plt.plot(best_errors, label=\"Best Error So Far\", color=\"orange\")\n",
    "plt.legend()"
   ]
  },
  {
   "cell_type": "code",
   "execution_count": null,
   "id": "6e65ea5e",
   "metadata": {},
   "outputs": [],
   "source": [
    "\n"
   ]
  },
  {
   "cell_type": "markdown",
   "id": "5f52544e",
   "metadata": {},
   "source": [
    "## (4) Bayesian Optimisation with Microbit measurements"
   ]
  },
  {
   "cell_type": "code",
   "execution_count": 115,
   "id": "c12bbc4d",
   "metadata": {},
   "outputs": [],
   "source": [
    "import serial"
   ]
  },
  {
   "cell_type": "code",
   "execution_count": 116,
   "id": "0d5c33cc",
   "metadata": {},
   "outputs": [
    {
     "name": "stdout",
     "output_type": "stream",
     "text": [
      "\u001b[34m\u001b[43m/dev/cu.Bluetooth-Incoming-Port\u001b[m\u001b[m \u001b[34m\u001b[43m/dev/cu.ZeitlersBoseQC35II\u001b[m\u001b[m\r\n",
      "\u001b[34m\u001b[43m/dev/cu.RoastBeats\u001b[m\u001b[m              \u001b[34m\u001b[43m/dev/cu.usbmodem102\u001b[m\u001b[m\r\n"
     ]
    }
   ],
   "source": [
    "!ls /dev/cu.*"
   ]
  },
  {
   "cell_type": "code",
   "execution_count": 117,
   "id": "5a9d9e6f",
   "metadata": {},
   "outputs": [],
   "source": [
    "ser = serial.Serial()\n",
    "ser = serial.Serial(\"/dev/cu.usbmodem102\",115200, timeout=0.1)"
   ]
  },
  {
   "cell_type": "code",
   "execution_count": 118,
   "id": "b1fee44d",
   "metadata": {},
   "outputs": [],
   "source": [
    "import time\n",
    "def characterise(wait=0.5):\n",
    "    valid = False\n",
    "    while not valid:\n",
    "        try:\n",
    "            ser.flushInput()\n",
    "            ser.write(b\",\")\n",
    "            serial_data = str(ser.readline().decode('utf8')).rstrip()\n",
    "            rgb = tuple([int(value) for value in serial_data.split(\"-\")])\n",
    "            # Validate: Measurement needs three entries\n",
    "            if len(rgb) != 3:\n",
    "                print(f\"Measurement did not containt 3 RGB values:{rgb}\")\n",
    "                raise Exception()\n",
    "            # Validate: Measurements need to be between 0 and 255\n",
    "            if sum([0 <= x <= 255 for x in rgb]) != 3:\n",
    "                print(f\"Measurement outside valid range [0,255]:{rgb}\")\n",
    "                raise Exception()\n",
    "            valid = True\n",
    "        except Exception as e:\n",
    "            print(f\"Measurement invalid, will try again (error: {str(e)})\")\n",
    "    print(f\"New RGB Measurement: {rgb}\")\n",
    "    time.sleep(wait)\n",
    "    return rgb"
   ]
  },
  {
   "cell_type": "code",
   "execution_count": 119,
   "id": "7bd5e46d",
   "metadata": {},
   "outputs": [
    {
     "name": "stdout",
     "output_type": "stream",
     "text": [
      "New RGB Measurement: (90, 90, 76)\n"
     ]
    },
    {
     "data": {
      "text/plain": [
       "(90, 90, 76)"
      ]
     },
     "execution_count": 119,
     "metadata": {},
     "output_type": "execute_result"
    }
   ],
   "source": [
    "characterise()"
   ]
  },
  {
   "cell_type": "code",
   "execution_count": 120,
   "id": "8b9dfe13",
   "metadata": {},
   "outputs": [],
   "source": [
    "import torch\n",
    "from botorch.models import SingleTaskGP\n",
    "from botorch.fit import fit_gpytorch_mll\n",
    "from botorch.utils import standardize\n",
    "from gpytorch.mlls import ExactMarginalLogLikelihood\n",
    "from botorch.acquisition import UpperConfidenceBound\n",
    "from botorch.optim import optimize_acqf\n",
    "from botorch.models.transforms.input import Normalize\n",
    "from botorch.models.transforms.outcome import Standardize"
   ]
  },
  {
   "cell_type": "code",
   "execution_count": 121,
   "id": "8ffb3fba",
   "metadata": {},
   "outputs": [],
   "source": [
    "import pandas as pd\n",
    "def calculate_candidate(samples):\n",
    "    train_X = samples[[\"R\",\"G\",\"B\"]]\n",
    "    train_Y = samples[[\"error\"]]\n",
    "\n",
    "    train_X = torch.tensor(train_X.to_numpy(dtype=np.float64))\n",
    "    train_Y = torch.tensor(-1*train_Y.to_numpy(dtype=np.float64))\n",
    "\n",
    "    gp = SingleTaskGP(train_X, train_Y, input_transform=Normalize(d=train_X.shape[-1]), outcome_transform=Standardize(m=train_Y.shape[-1]),)\n",
    "    mll = ExactMarginalLogLikelihood(gp.likelihood, gp)\n",
    "    fit_gpytorch_mll(mll)\n",
    "\n",
    "    from botorch.acquisition import UpperConfidenceBound\n",
    "    UCB = UpperConfidenceBound(gp, beta=0.1)\n",
    "    \n",
    "    from botorch.optim import optimize_acqf\n",
    "    bounds = torch.stack([torch.zeros(3), torch.ones(3)*255])\n",
    "    candidate, acq_value = optimize_acqf(\n",
    "        UCB, bounds=bounds, q=1, num_restarts=5, raw_samples=20,\n",
    "    )\n",
    "    candidate = candidate[0]\n",
    "    candidate = {\"R\": candidate[0], \"G\": candidate[1], \"B\": candidate[2]}\n",
    "    return candidate"
   ]
  },
  {
   "cell_type": "code",
   "execution_count": 122,
   "id": "7a2caa88",
   "metadata": {},
   "outputs": [
    {
     "name": "stdout",
     "output_type": "stream",
     "text": [
      "---Iteration 0\n",
      "Synthesis:(0, 0, 0)\n",
      "New RGB Measurement: (90, 90, 76)\n",
      "Characterisation:(90, 90, 76)\n",
      "Error:47.968739820845826\n",
      "Planning: Candidate:(24.742786407470703, 126.70474243164062, 147.2547607421875)\n",
      "---Iteration 1\n",
      "Synthesis:(24.742786407470703, 126.70474243164062, 147.2547607421875)\n",
      "New RGB Measurement: (90, 90, 77)\n",
      "Characterisation:(90, 90, 77)\n",
      "Error:48.518037882832814\n",
      "Planning: Candidate:(13.733202934265137, 90.74266815185547, 94.28443145751953)\n",
      "---Iteration 2\n",
      "Synthesis:(13.733202934265137, 90.74266815185547, 94.28443145751953)\n",
      "New RGB Measurement: (58, 109, 100)\n",
      "Characterisation:(58, 109, 100)\n",
      "Error:53.85164807134504\n",
      "Planning: Candidate:(160.808837890625, 89.16996765136719, 90.10165405273438)\n",
      "---Iteration 3\n",
      "Synthesis:(160.808837890625, 89.16996765136719, 90.10165405273438)\n",
      "New RGB Measurement: (58, 109, 100)\n",
      "Characterisation:(58, 109, 100)\n",
      "Error:53.85164807134504\n",
      "Planning: Candidate:(123.91304016113281, 65.6556167602539, 44.254024505615234)\n",
      "---Iteration 4\n",
      "Synthesis:(123.91304016113281, 65.6556167602539, 44.254024505615234)\n",
      "New RGB Measurement: (51, 108, 100)\n",
      "Characterisation:(51, 108, 100)\n",
      "Error:56.124860801609124\n",
      "Planning: Candidate:(58.149471282958984, 53.917354583740234, 43.23431396484375)\n",
      "---Iteration 5\n",
      "Synthesis:(58.149471282958984, 53.917354583740234, 43.23431396484375)\n",
      "New RGB Measurement: (98, 90, 78)\n",
      "Characterisation:(98, 90, 78)\n",
      "Error:52.848841046895245\n",
      "Planning: Candidate:(33.35957336425781, 72.56946563720703, 49.730308532714844)\n",
      "---Iteration 6\n",
      "Synthesis:(33.35957336425781, 72.56946563720703, 49.730308532714844)\n",
      "New RGB Measurement: (131, 75, 63)\n",
      "Characterisation:(131, 75, 63)\n",
      "Error:79.93747556684536\n",
      "Planning: Candidate:(77.41502380371094, 91.85807037353516, 72.04914093017578)\n",
      "---Iteration 7\n",
      "Synthesis:(77.41502380371094, 91.85807037353516, 72.04914093017578)\n",
      "New RGB Measurement: (116, 90, 69)\n",
      "Characterisation:(116, 90, 69)\n",
      "Error:60.844062980705026\n",
      "Planning: Candidate:(76.95995330810547, 92.07793426513672, 71.5526351928711)\n",
      "---Iteration 8\n",
      "Synthesis:(76.95995330810547, 92.07793426513672, 71.5526351928711)\n",
      "New RGB Measurement: (84, 110, 81)\n",
      "Characterisation:(84, 110, 81)\n",
      "Error:37.17526059088221\n",
      "Planning: Candidate:(80.06922912597656, 106.50012969970703, 75.50171661376953)\n",
      "---Iteration 9\n",
      "Synthesis:(80.06922912597656, 106.50012969970703, 75.50171661376953)\n",
      "New RGB Measurement: (86, 105, 76)\n",
      "Characterisation:(86, 105, 76)\n",
      "Error:36.49657518178932\n",
      "Planning: Candidate:(78.32904052734375, 107.25774383544922, 73.42417907714844)\n",
      "---Iteration 10\n",
      "Synthesis:(78.32904052734375, 107.25774383544922, 73.42417907714844)\n",
      "New RGB Measurement: (85, 106, 75)\n",
      "Characterisation:(85, 106, 75)\n",
      "Error:34.79942528261063\n",
      "Planning: Candidate:(76.2739486694336, 111.29019165039062, 68.16181182861328)\n",
      "---Iteration 11\n",
      "Synthesis:(76.2739486694336, 111.29019165039062, 68.16181182861328)\n",
      "New RGB Measurement: (83, 108, 72)\n",
      "Characterisation:(83, 108, 72)\n",
      "Error:30.692018506445613\n",
      "Planning: Candidate:(75.66888427734375, 113.46192169189453, 63.60002517700195)\n",
      "---Iteration 12\n",
      "Synthesis:(75.66888427734375, 113.46192169189453, 63.60002517700195)\n",
      "New RGB Measurement: (83, 109, 72)\n",
      "Characterisation:(83, 109, 72)\n",
      "Error:30.14962686336267\n",
      "Planning: Candidate:(75.71495056152344, 114.46289825439453, 63.06934356689453)\n",
      "---Iteration 13\n",
      "Synthesis:(75.71495056152344, 114.46289825439453, 63.06934356689453)\n",
      "New RGB Measurement: (83, 111, 70)\n",
      "Characterisation:(83, 111, 70)\n",
      "Error:27.65863337187866\n",
      "Planning: Candidate:(76.87149810791016, 116.53701782226562, 60.76917266845703)\n",
      "---Iteration 14\n",
      "Synthesis:(76.87149810791016, 116.53701782226562, 60.76917266845703)\n",
      "New RGB Measurement: (82, 114, 67)\n",
      "Characterisation:(82, 114, 67)\n",
      "Error:23.53720459187964\n",
      "Planning: Candidate:(72.54741668701172, 121.43303680419922, 56.86960220336914)\n",
      "---Iteration 15\n",
      "Synthesis:(72.54741668701172, 121.43303680419922, 56.86960220336914)\n",
      "New RGB Measurement: (82, 113, 68)\n",
      "Characterisation:(82, 113, 68)\n",
      "Error:24.73863375370596\n",
      "Planning: Candidate:(72.24415588378906, 121.57027435302734, 56.69842529296875)\n",
      "---Iteration 16\n",
      "Synthesis:(72.24415588378906, 121.57027435302734, 56.69842529296875)\n",
      "New RGB Measurement: (82, 115, 66)\n",
      "Characterisation:(82, 115, 66)\n",
      "Error:22.360679774997898\n",
      "Planning: Candidate:(72.70237731933594, 122.74360656738281, 55.602962493896484)\n",
      "---Iteration 17\n",
      "Synthesis:(72.70237731933594, 122.74360656738281, 55.602962493896484)\n",
      "New RGB Measurement: (80, 118, 64)\n",
      "Characterisation:(80, 118, 64)\n",
      "Error:18.57417562100671\n",
      "Planning: Candidate:(68.29851531982422, 127.99246978759766, 54.8239860534668)\n",
      "---Iteration 18\n",
      "Synthesis:(68.29851531982422, 127.99246978759766, 54.8239860534668)\n",
      "New RGB Measurement: (80, 118, 65)\n",
      "Characterisation:(80, 118, 65)\n",
      "Error:19.339079605813716\n",
      "Planning: Candidate:(68.28507995605469, 127.42533111572266, 52.594154357910156)\n",
      "---Iteration 19\n",
      "Synthesis:(68.28507995605469, 127.42533111572266, 52.594154357910156)\n",
      "New RGB Measurement: (81, 118, 64)\n",
      "Characterisation:(81, 118, 64)\n",
      "Error:19.131126469708992\n",
      "Planning: Candidate:(67.28582000732422, 126.65361785888672, 53.120174407958984)\n",
      "---Iteration 20\n",
      "Synthesis:(67.28582000732422, 126.65361785888672, 53.120174407958984)\n",
      "New RGB Measurement: (79, 118, 64)\n",
      "Characterisation:(79, 118, 64)\n",
      "Error:18.05547008526779\n",
      "Planning: Candidate:(64.99935913085938, 125.88379669189453, 52.38452911376953)\n",
      "---Iteration 21\n",
      "Synthesis:(64.99935913085938, 125.88379669189453, 52.38452911376953)\n",
      "New RGB Measurement: (78, 117, 64)\n",
      "Characterisation:(78, 117, 64)\n",
      "Error:18.0\n",
      "Planning: Candidate:(64.67550659179688, 125.67169189453125, 52.3389892578125)\n",
      "---Iteration 22\n",
      "Synthesis:(64.67550659179688, 125.67169189453125, 52.3389892578125)\n",
      "New RGB Measurement: (78, 117, 65)\n",
      "Characterisation:(78, 117, 65)\n",
      "Error:18.788294228055936\n",
      "Planning: Candidate:(64.80680847167969, 125.774169921875, 51.84251403808594)\n",
      "---Iteration 23\n",
      "Synthesis:(64.80680847167969, 125.774169921875, 51.84251403808594)\n",
      "New RGB Measurement: (77, 117, 65)\n",
      "Characterisation:(77, 117, 65)\n",
      "Error:18.384776310850235\n",
      "Planning: Candidate:(65.05696868896484, 125.79288482666016, 51.596649169921875)\n",
      "---Iteration 24\n",
      "Synthesis:(65.05696868896484, 125.79288482666016, 51.596649169921875)\n",
      "New RGB Measurement: (77, 117, 65)\n",
      "Characterisation:(77, 117, 65)\n",
      "Error:18.384776310850235\n",
      "Planning: Candidate:(65.08914184570312, 125.80863952636719, 51.45856475830078)\n",
      "---Iteration 25\n",
      "Synthesis:(65.08914184570312, 125.80863952636719, 51.45856475830078)\n",
      "New RGB Measurement: (77, 117, 65)\n",
      "Characterisation:(77, 117, 65)\n",
      "Error:18.384776310850235\n",
      "Planning: Candidate:(65.52603149414062, 125.54209899902344, 51.543148040771484)\n",
      "---Iteration 26\n",
      "Synthesis:(65.52603149414062, 125.54209899902344, 51.543148040771484)\n",
      "New RGB Measurement: (77, 117, 65)\n",
      "Characterisation:(77, 117, 65)\n",
      "Error:18.384776310850235\n",
      "Planning: Candidate:(65.47779846191406, 125.73027801513672, 51.925025939941406)\n",
      "---Iteration 27\n",
      "Synthesis:(65.47779846191406, 125.73027801513672, 51.925025939941406)\n",
      "New RGB Measurement: (77, 117, 65)\n",
      "Characterisation:(77, 117, 65)\n",
      "Error:18.384776310850235\n",
      "Planning: Candidate:(65.55084991455078, 125.59089660644531, 51.468387603759766)\n",
      "---Iteration 28\n",
      "Synthesis:(65.55084991455078, 125.59089660644531, 51.468387603759766)\n",
      "New RGB Measurement: (77, 117, 65)\n",
      "Characterisation:(77, 117, 65)\n",
      "Error:18.384776310850235\n",
      "Planning: Candidate:(65.60176086425781, 125.57518005371094, 51.45502471923828)\n",
      "---Iteration 29\n",
      "Synthesis:(65.60176086425781, 125.57518005371094, 51.45502471923828)\n",
      "New RGB Measurement: (77, 117, 65)\n",
      "Characterisation:(77, 117, 65)\n",
      "Error:18.384776310850235\n",
      "Planning: Candidate:(65.48556518554688, 125.63809204101562, 51.98357009887695)\n",
      "---Iteration 30\n",
      "Synthesis:(65.48556518554688, 125.63809204101562, 51.98357009887695)\n",
      "New RGB Measurement: (77, 117, 65)\n",
      "Characterisation:(77, 117, 65)\n",
      "Error:18.384776310850235\n",
      "Planning: Candidate:(65.49090576171875, 125.65821838378906, 51.95559310913086)\n",
      "---Iteration 31\n",
      "Synthesis:(65.49090576171875, 125.65821838378906, 51.95559310913086)\n",
      "New RGB Measurement: (77, 116, 65)\n",
      "Characterisation:(77, 116, 65)\n",
      "Error:18.841443681416774\n",
      "Planning: Candidate:(65.28649139404297, 126.03211975097656, 51.44103240966797)\n",
      "---Iteration 32\n",
      "Synthesis:(65.28649139404297, 126.03211975097656, 51.44103240966797)\n",
      "New RGB Measurement: (77, 116, 65)\n",
      "Characterisation:(77, 116, 65)\n",
      "Error:18.841443681416774\n"
     ]
    },
    {
     "name": "stdout",
     "output_type": "stream",
     "text": [
      "Planning: Candidate:(65.11865234375, 126.2483901977539, 51.41216278076172)\n",
      "---Iteration 33\n",
      "Synthesis:(65.11865234375, 126.2483901977539, 51.41216278076172)\n",
      "New RGB Measurement: (77, 116, 65)\n",
      "Characterisation:(77, 116, 65)\n",
      "Error:18.841443681416774\n",
      "Planning: Candidate:(65.3161849975586, 126.62167358398438, 51.71189880371094)\n",
      "---Iteration 34\n",
      "Synthesis:(65.3161849975586, 126.62167358398438, 51.71189880371094)\n",
      "New RGB Measurement: (77, 117, 65)\n",
      "Characterisation:(77, 117, 65)\n",
      "Error:18.384776310850235\n",
      "Planning: Candidate:(64.8353042602539, 126.60868835449219, 51.39311599731445)\n",
      "---Iteration 35\n",
      "Synthesis:(64.8353042602539, 126.60868835449219, 51.39311599731445)\n",
      "New RGB Measurement: (77, 117, 65)\n",
      "Characterisation:(77, 117, 65)\n",
      "Error:18.384776310850235\n",
      "Planning: Candidate:(64.81053161621094, 126.65504455566406, 51.30257797241211)\n",
      "---Iteration 36\n",
      "Synthesis:(64.81053161621094, 126.65504455566406, 51.30257797241211)\n",
      "New RGB Measurement: (77, 117, 65)\n",
      "Characterisation:(77, 117, 65)\n",
      "Error:18.384776310850235\n",
      "Planning: Candidate:(64.83734130859375, 126.65937042236328, 51.30607223510742)\n",
      "---Iteration 37\n",
      "Synthesis:(64.83734130859375, 126.65937042236328, 51.30607223510742)\n",
      "New RGB Measurement: (77, 117, 65)\n",
      "Characterisation:(77, 117, 65)\n",
      "Error:18.384776310850235\n",
      "Planning: Candidate:(65.12693786621094, 126.67047119140625, 51.56208801269531)\n",
      "---Iteration 38\n",
      "Synthesis:(65.12693786621094, 126.67047119140625, 51.56208801269531)\n",
      "New RGB Measurement: (77, 117, 65)\n",
      "Characterisation:(77, 117, 65)\n",
      "Error:18.384776310850235\n",
      "Planning: Candidate:(65.09587860107422, 126.68441009521484, 51.59187698364258)\n",
      "---Iteration 39\n",
      "Synthesis:(65.09587860107422, 126.68441009521484, 51.59187698364258)\n",
      "New RGB Measurement: (77, 117, 65)\n",
      "Characterisation:(77, 117, 65)\n",
      "Error:18.384776310850235\n",
      "Planning: Candidate:(65.03546905517578, 126.65489196777344, 51.63315200805664)\n",
      "---Iteration 40\n",
      "Synthesis:(65.03546905517578, 126.65489196777344, 51.63315200805664)\n",
      "New RGB Measurement: (77, 117, 65)\n",
      "Characterisation:(77, 117, 65)\n",
      "Error:18.384776310850235\n",
      "Planning: Candidate:(64.94705963134766, 126.67689514160156, 51.43441390991211)\n",
      "---Iteration 41\n",
      "Synthesis:(64.94705963134766, 126.67689514160156, 51.43441390991211)\n",
      "New RGB Measurement: (77, 117, 65)\n",
      "Characterisation:(77, 117, 65)\n",
      "Error:18.384776310850235\n",
      "Planning: Candidate:(65.88880157470703, 126.96047973632812, 51.62845993041992)\n",
      "---Iteration 42\n",
      "Synthesis:(65.88880157470703, 126.96047973632812, 51.62845993041992)\n",
      "New RGB Measurement: (77, 117, 65)\n",
      "Characterisation:(77, 117, 65)\n",
      "Error:18.384776310850235\n",
      "Planning: Candidate:(65.5843734741211, 126.95259857177734, 51.59630584716797)\n",
      "---Iteration 43\n",
      "Synthesis:(65.5843734741211, 126.95259857177734, 51.59630584716797)\n",
      "New RGB Measurement: (77, 116, 65)\n",
      "Characterisation:(77, 116, 65)\n",
      "Error:18.841443681416774\n",
      "Planning: Candidate:(65.24107360839844, 127.02351379394531, 51.551177978515625)\n",
      "---Iteration 44\n",
      "Synthesis:(65.24107360839844, 127.02351379394531, 51.551177978515625)\n",
      "New RGB Measurement: (77, 117, 65)\n",
      "Characterisation:(77, 117, 65)\n",
      "Error:18.384776310850235\n",
      "Planning: Candidate:(64.89993286132812, 127.01838684082031, 51.496517181396484)\n",
      "---Iteration 45\n",
      "Synthesis:(64.89993286132812, 127.01838684082031, 51.496517181396484)\n",
      "New RGB Measurement: (77, 117, 65)\n",
      "Characterisation:(77, 117, 65)\n",
      "Error:18.384776310850235\n",
      "Planning: Candidate:(64.84568786621094, 126.84225463867188, 51.1828498840332)\n",
      "---Iteration 46\n",
      "Synthesis:(64.84568786621094, 126.84225463867188, 51.1828498840332)\n",
      "New RGB Measurement: (77, 117, 65)\n",
      "Characterisation:(77, 117, 65)\n",
      "Error:18.384776310850235\n",
      "Planning: Candidate:(64.23567962646484, 127.02741241455078, 51.34004211425781)\n",
      "---Iteration 47\n",
      "Synthesis:(64.23567962646484, 127.02741241455078, 51.34004211425781)\n",
      "New RGB Measurement: (77, 117, 65)\n",
      "Characterisation:(77, 117, 65)\n",
      "Error:18.384776310850235\n",
      "Planning: Candidate:(64.75869750976562, 126.94234466552734, 51.16434097290039)\n",
      "---Iteration 48\n",
      "Synthesis:(64.75869750976562, 126.94234466552734, 51.16434097290039)\n",
      "New RGB Measurement: (77, 117, 65)\n",
      "Characterisation:(77, 117, 65)\n",
      "Error:18.384776310850235\n",
      "Planning: Candidate:(63.68605041503906, 127.07798767089844, 51.11679458618164)\n",
      "---Iteration 49\n",
      "Synthesis:(63.68605041503906, 127.07798767089844, 51.11679458618164)\n",
      "New RGB Measurement: (77, 117, 65)\n",
      "Characterisation:(77, 117, 65)\n",
      "Error:18.384776310850235\n",
      "Planning: Candidate:(64.53303527832031, 127.0344009399414, 51.091915130615234)\n"
     ]
    },
    {
     "data": {
      "text/plain": [
       "-1"
      ]
     },
     "execution_count": 122,
     "metadata": {},
     "output_type": "execute_result"
    }
   ],
   "source": [
    "import random\n",
    "import numpy as np\n",
    "import cv2\n",
    "\n",
    "# Create a blank image\n",
    "width, height = 800, 400\n",
    "image = np.zeros((height, width, 3), dtype=np.uint8)\n",
    "\n",
    "# Create a named window for display\n",
    "cv2.namedWindow(\"Live Image\", cv2.WINDOW_NORMAL)\n",
    "cv2.startWindowThread()\n",
    "\n",
    "# Define font properties for displaying text\n",
    "font = cv2.FONT_HERSHEY_SIMPLEX\n",
    "font_scale = 0.8\n",
    "font_color = (255, 255, 255)  # White color\n",
    "\n",
    "# Define the goal color\n",
    "goal_color = (70,125,50)  # Goal color\n",
    "\n",
    "# Main loop\n",
    "max_iterations = 50  # Set the desired number of iterations\n",
    "\n",
    "# Let us set up a data table to record the data more structured\n",
    "samples = pd.DataFrame(columns=['R', 'G', 'B', 'error', 'ID'])\n",
    "\n",
    "candidate_color = (0,0,0) # Initial color\n",
    "\n",
    "for iteration in range(max_iterations):\n",
    "    print(f\"---Iteration {iteration}\")\n",
    "\n",
    "    # STEP 1: Synthesis\n",
    "    # Update the live image with the current color\n",
    "    print(f\"Synthesis:{candidate_color}\")\n",
    "    image[:, :] = tuple(reversed(candidate_color))\n",
    "    \n",
    "    # Display the image\n",
    "    cv2.imshow(\"Live Image\", image)\n",
    "    \n",
    "    # STEP 2: Characterisation\n",
    "    \n",
    "    # Measure the color with the Microbit: We will do this eventually\n",
    "    rgb_measurement = characterise(wait=0.2)  \n",
    "    print(f\"Characterisation:{rgb_measurement}\")\n",
    "    #rgb_measurement = (rgb_measurement[0]+np.random.normal(1),rgb_measurement[1]+np.random.normal(1),rgb_measurement[2]+np.random.normal(1))\n",
    "    \n",
    "    # STEP 3: Planning\n",
    "    \n",
    "    # Calculate the loss between the goal color and the current color\n",
    "    error = calculate_error(goal_color, rgb_measurement)\n",
    "    print(f\"Error:{error}\")\n",
    "\n",
    "    # Add the sample to the data table\n",
    "    new_sample = pd.DataFrame({\"R\":rgb_measurement[0], \"G\":rgb_measurement[1], \"B\":rgb_measurement[2], \"ID\":iteration, \"error\":error}, index=[iteration])\n",
    "    samples = pd.concat([samples, new_sample], axis=0, ignore_index=True)\n",
    "\n",
    "    candidate = calculate_candidate(samples)\n",
    "    candidate_color = (candidate['R'].item(), candidate['G'].item(), candidate['B'].item())\n",
    "    print(f\"Planning: Candidate:{candidate_color}\")\n",
    "    \n",
    "    # Add text information to the image\n",
    "    text = f\"Iteration: {iteration + 1}\"\n",
    "    cv2.putText(image, text, (10, 30), font, font_scale, font_color, 2)\n",
    "\n",
    "    # Plot a subplot for the goal color\n",
    "    # subplot_x = num_iterations * (width // (max_iterations + 1))\n",
    "    subplot_x = width // (max_iterations + 1)\n",
    "    subplot_width = 50\n",
    "    cv2.rectangle(image, (subplot_x, 60), (subplot_x + subplot_width, height - 60), tuple(reversed(goal_color)), -1)\n",
    "\n",
    "    # Add text for the error\n",
    "    error_text = f\"Error: {error:.2f}\"\n",
    "    cv2.putText(image, error_text, (10, height - 10), font, font_scale, font_color, 2)\n",
    "\n",
    "    error_values = list(samples['error'].to_numpy())    # Draw the graph of error values\n",
    "    if len(error_values) > 1:\n",
    "        for i in range(1, len(error_values)):\n",
    "            x1 = (i - 1) * (width // max_iterations)\n",
    "            y1 = height - int(error_values[i - 1] * (height - 60) / max(error_values))\n",
    "            x2 = i * (width // max_iterations)\n",
    "            y2 = height - int(error_values[i] * (height - 60) / max(error_values))\n",
    "            cv2.line(image, (x1, y1), (x2, y2), (255, 255, 255), 2)\n",
    "\n",
    "    # Increment the iteration counter\n",
    "    cv2.imshow(\"Live Image\", image)\n",
    "    cv2.waitKey(200)  # Adjust the wait time (in milliseconds) as needed\n",
    "    \n",
    "# Close the window after the desired number of iterations\n",
    "cv2.waitKey(1)\n",
    "cv2.destroyAllWindows()\n",
    "cv2.waitKey(1)"
   ]
  },
  {
   "cell_type": "code",
   "execution_count": 123,
   "id": "668d00b7",
   "metadata": {
    "scrolled": false
   },
   "outputs": [
    {
     "data": {
      "text/plain": [
       "<matplotlib.legend.Legend at 0x2bf267c50>"
      ]
     },
     "execution_count": 123,
     "metadata": {},
     "output_type": "execute_result"
    },
    {
     "data": {
      "image/png": "[encoded data removed]",
      "text/plain": [
       "<Figure size 640x480 with 1 Axes>"
      ]
     },
     "metadata": {},
     "output_type": "display_data"
    }
   ],
   "source": [
    "import matplotlib.pyplot as plt\n",
    "# Plot error for each iteration\n",
    "plt.scatter(range(len(error_values)), error_values, label=\"Error for each iteration\")\n",
    "\n",
    "# Calculate best error so far\n",
    "best_error_so_far = 1000\n",
    "best_errors = []\n",
    "for value in error_values:\n",
    "    if value < best_error_so_far:\n",
    "        best_error_so_far = value\n",
    "    best_errors.append(best_error_so_far)\n",
    "    \n",
    "# Plot best error so far\n",
    "plt.plot(best_errors, label=\"Best Error So Far\", color=\"orange\")\n",
    "plt.legend()"
   ]
  },
  {
   "cell_type": "markdown",
   "id": "d55b8a65",
   "metadata": {},
   "source": [
    "Let's also plot the RGB colors with it."
   ]
  },
  {
   "cell_type": "code",
   "execution_count": 124,
   "id": "158b96fa",
   "metadata": {},
   "outputs": [
    {
     "data": {
      "text/plain": [
       "<matplotlib.legend.Legend at 0x2bf454310>"
      ]
     },
     "execution_count": 124,
     "metadata": {},
     "output_type": "execute_result"
    },
    {
     "data": {
      "image/png": "[encoded data removed]",
      "text/plain": [
       "<Figure size 640x480 with 1 Axes>"
      ]
     },
     "metadata": {},
     "output_type": "display_data"
    }
   ],
   "source": [
    "import matplotlib.pyplot as plt\n",
    "# Plot error for each iteration\n",
    "plt.scatter(range(len(error_values)), error_values, label=\"Error for each iteration\")\n",
    "\n",
    "# Calculate best error so far\n",
    "best_error_so_far = 1000\n",
    "best_errors = []\n",
    "for value in error_values:\n",
    "    if value < best_error_so_far:\n",
    "        best_error_so_far = value\n",
    "    best_errors.append(best_error_so_far)\n",
    "    \n",
    "# Plot best error so far\n",
    "plt.plot(best_errors, label=\"Best Error So Far\", color=\"orange\")\n",
    "plt.plot(samples['R'])\n",
    "plt.plot(samples['G'])\n",
    "plt.plot(samples['B'])\n",
    "plt.legend()"
   ]
  },
  {
   "cell_type": "code",
   "execution_count": null,
   "id": "f04fd880",
   "metadata": {},
   "outputs": [],
   "source": []
  }
 ],
 "metadata": {
  "kernelspec": {
   "display_name": "SDL4Kids_kernel",
   "language": "python",
   "name": "sdl4kids_kernel"
  },
  "language_info": {
   "codemirror_mode": {
    "name": "ipython",
    "version": 3
   },
   "file_extension": ".py",
   "mimetype": "text/x-python",
   "name": "python",
   "nbconvert_exporter": "python",
   "pygments_lexer": "ipython3",
   "version": "3.11.4"
  }
 },
 "nbformat": 4,
 "nbformat_minor": 5
}
