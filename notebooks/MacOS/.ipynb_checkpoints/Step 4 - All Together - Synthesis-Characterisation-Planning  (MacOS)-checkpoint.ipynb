{
 "cells": [
  {
   "cell_type": "markdown",
   "id": "7fadee20",
   "metadata": {
    "pycharm": {
     "name": "#%% md\n"
    }
   },
   "source": [
    "# SDL4Kids.com: All 3 Steps Together - Synthesis-Characterisation-Planning  (MacOS)\n",
    "\n",
    "This notebook helps you run your first SDL, using the BBC Micro:bit, see [sdl4kids.com](http://sdl4kids.com).\n",
    "\n",
    "This notebook is part of a 4 part series:\n",
    "1. Step 1: Synthesis (10 mins, EASY)\n",
    "2. Step 2: Characterisation (20 mins, MEDIUM)\n",
    "3. Step 3: Planning (15 mins, MEDIUM)\n",
    "4. Step 4: All 3 Steps Together - Synthesis-Characterisation-Planning (15 mins, HARD)\n",
    "\n",
    "This notebook is good for a quick start and runs you through the 3 core steps of an SDL in 15 minutes. \n",
    "\n",
    "Step 1, 2 and 3 go into details and are a good place to go this notebook is too hard for you at the moment and does not work for you straight away.\n",
    "\n",
    "### For the best experience, following along the video-series that explains the notebooks step by step [here](http://sdl4kids.com).\n",
    "\n",
    "If you have any questions, check out the [FAQ](https://sites.google.com/matterhorn.studio/sdl4kids/faq)!"
   ]
  },
  {
   "cell_type": "markdown",
   "id": "d2c63e16",
   "metadata": {},
   "source": [
    "## Requirements\n",
    "\n",
    "You will need the following to complete this tutorial:\n",
    "1. A jupyter notebook and a way to install python packages.\n",
    "2. A micro:bit, available [here](https://shop.pimoroni.com/products/bbc-micro-bit-go-starter-kit?variant=32337813078099).\n",
    "3. An enviro:bit (an extension to the micro:bit), available [here](https://kitronik.co.uk/products/46133-envirobit-add-on-for-the-bbc-microbit).\n",
    "\n",
    "Many parts can be done without the micro:bit, but we recommend it for a real SDL hardware experience."
   ]
  },
  {
   "cell_type": "markdown",
   "id": "7c546391",
   "metadata": {},
   "source": [
    "## Introduction\n",
    "\n",
    "In this notebook, you will run your first closed-loop SDL.\n",
    "\n",
    "### *Our Goal*: Finding the optimal RGB mix to match a color on your screen.\n",
    "\n",
    "Our SDL has three core components:\n",
    "\n",
    "1. **Synthesis**: We will use your computer screen to *generate rectangles with different RGB colors*.\n",
    "2. **Characterisation**: We will use the Microbit to *measure the RGB color* on the screen. \n",
    "3. **Planning**: We will use different *search strategies to find the correct RGB color* combination."
   ]
  },
  {
   "cell_type": "markdown",
   "id": "861537d0",
   "metadata": {},
   "source": [
    "## (1) Synthesis: Using your screen as an RGB color generator\n",
    "\n",
    "**Goal**: You will learn how to display different RGB colors on your screen.\n",
    "\n",
    "RGB stands for \n",
    "\n",
    "<span style=\"color:red\">Red (0 to 255)</span>,  \n",
    "<span style=\"color:green\">Green (0 to 255)</span>,  \n",
    "<span style=\"color:blue\">Blue (0 to 255)</span> \n",
    "\n",
    "By mixing these three colors, we can create all kinds of colors on your screen. \n",
    "\n",
    "For example, if you want a fully <span style=\"color:red\">Red</span>, you will need to set the color to (255, 0, 0)\n",
    "\n",
    "Let's try drawing a red rectangle on our screen. We will use the cv2 package."
   ]
  },
  {
   "cell_type": "code",
   "execution_count": null,
   "id": "2f2aad3d",
   "metadata": {},
   "outputs": [],
   "source": [
    "import cv2\n",
    "import numpy as np"
   ]
  },
  {
   "cell_type": "code",
   "execution_count": null,
   "id": "2778ef59",
   "metadata": {},
   "outputs": [],
   "source": [
    "red = 255\n",
    "green = 0\n",
    "blue = 0\n",
    "\n",
    "current_color = (red, green, blue)"
   ]
  },
  {
   "cell_type": "markdown",
   "id": "47b2862c",
   "metadata": {},
   "source": [
    "The following code will open up a red rectangle, for 3 seconds and then close.\n",
    "\n",
    "**Warning:** The window might open *BEHIND* your jupyter notebook. Make sure to check behind it if you cannot see it pop up."
   ]
  },
  {
   "cell_type": "code",
   "execution_count": null,
   "id": "314cfd23",
   "metadata": {},
   "outputs": [],
   "source": [
    "# Create a blank image\n",
    "width, height = 800, 400\n",
    "image = np.zeros((height, width, 3), dtype=np.uint8)\n",
    "\n",
    "# Create a named window for display\n",
    "cv2.namedWindow(\"Live Image\", cv2.WINDOW_NORMAL)\n",
    "cv2.startWindowThread()\n",
    "image[:, :] = tuple(reversed(current_color)) # cv2 works with BGR order instead of RGB\n",
    "# Display the image\n",
    "cv2.imshow(\"Live Image\", image)\n",
    "\n",
    "cv2.waitKey(3000)  # Adjust the wait time (in milliseconds) as needed\n",
    "# Close the CV2 window\n",
    "cv2.waitKey(1)\n",
    "cv2.destroyAllWindows()\n",
    "cv2.waitKey(1)"
   ]
  },
  {
   "cell_type": "markdown",
   "id": "a7be9b75",
   "metadata": {},
   "source": [
    "**Task**: Now try it yourself: Change the RGB values above, and see what different rectangles you can create!\n",
    "\n",
    "**Warning:** The window might open *BEHIND* your jupyter notebook. Make sure to check behind it if you cannot see it pop up.\n",
    "\n",
    "**Note**: Check out Step 1 for a detailed explanation of this section [here](https://github.com/matterhorn-studio/SDL4Kids.com/tree/main/notebooks/MacOS)"
   ]
  },
  {
   "cell_type": "markdown",
   "id": "4caf96cd",
   "metadata": {
    "pycharm": {
     "name": "#%% md\n"
    }
   },
   "source": [
    "## (2) Characterisation: Measure RGB colors on your screen, using the microbit and envirobit\n",
    "\n",
    "**Goal**: You will be able to measure RGB colors with the Microbit\n",
    "\n",
    "We will use the 'pyserial' library to connect to the microbit.\n",
    "\n",
    "**Steps**: \n",
    "1. Program the Microbit to measure RGB color on request.\n",
    "2. Connect the Microbit to the computer, and make sure we request new measurements from it.\n",
    "\n",
    "**Note**: Check out Step 2 for a detailed explanation of this section [here](https://github.com/matterhorn-studio/SDL4Kids.com/tree/main/notebooks/MacOS)"
   ]
  },
  {
   "cell_type": "markdown",
   "id": "57786146",
   "metadata": {
    "pycharm": {
     "name": "#%% md\n"
    }
   },
   "source": [
    "### (2.1) Programming the Microbit to send new RGB color measurements\n",
    "\n",
    "**Task**: We will program the microbit to use its sensor to measure RGB colors, and then send them to our computer.\n",
    "\n",
    "Slot your Microbit into the Envirobit extension board (see [here](https://shop.pimoroni.com/products/enviro-bit)). Then, plug it into a USB socket on your computer (the microbit LEDs should light up yellow and/or red). \n",
    "\n",
    "Then follow these steps:\n",
    "\n",
    "1. Open MakeCode [here](https://makecode.microbit.org/#editor), in Google Chrome ([download](https://www.google.com/chrome/)).\n",
    "2. In the middle column, somewhere between \"Math\" and \"Variables\" click on \"Extensions\".\n",
    "3. Search for \"envirobit\", then click on it to load the envirobit library into your Microbit program. (it should appear below \"Led\" as \"Enviro:Bit\" with a teardrop icon).\n",
    "4. Drag and drop the below program into your Microbit. \n",
    "\n",
    "*Hints*: \n",
    "\n",
    "The 'serial' blocks are hidden in the 'Advanced' section. \n",
    "The orange 'join' block is in the 'Text' section. \n",
    "\n",
    "![Microbit Program](img/microbit_program.png \"Microbit Program\")\n",
    "\n",
    "5. Alternatively, you can copy and paste the following code into the \"JavaScript\" section (switch to JavaScript via its button in the middle of the top bar):\n",
    "```\n",
    "serial.onDataReceived(serial.delimiters(Delimiters.Comma), function () {\n",
    "    serial.writeLine(envirobit.getRed() + \"-\" + envirobit.getGreen() + \"-\" + envirobit.getBlue())\n",
    "    music.playTone(262, music.beat(BeatFraction.Sixteenth))\n",
    "})\n",
    "music.setVolume(127)\n",
    "```\n",
    "\n",
    "6. Connect to your microbit by clicking 'Connect' on the bottom left. Follow the instructions on the screen.\n",
    "7. Once connected, press download to load the program onto the microbit.\n",
    "8. **Alternatively**, follow the standard programming procedure by downloading the program and copying onto the microbit, see [here](https://microbit.org/get-started/first-steps/set-up/#transfer-from-a-computer).\n"
   ]
  },
  {
   "cell_type": "markdown",
   "id": "baa14281",
   "metadata": {},
   "source": [
    "### (2.2) Connecting to the Microbit and request new RGB color measurements"
   ]
  },
  {
   "cell_type": "markdown",
   "id": "af77cbad",
   "metadata": {},
   "source": [
    "**Warning**: Make 100% sure that you disconnected your Microbit from Google Chrome before continuing. Otherwise, Google Chrome will interfere with the serial connection and you cannot request values"
   ]
  },
  {
   "cell_type": "markdown",
   "id": "c10a47f1",
   "metadata": {
    "pycharm": {
     "name": "#%% md\n"
    }
   },
   "source": [
    "Let's import the 'pyserial' package, which we use to connect to the Microbit (it is just called 'serial'):"
   ]
  },
  {
   "cell_type": "code",
   "execution_count": null,
   "id": "26239577",
   "metadata": {
    "pycharm": {
     "name": "#%%\n"
    }
   },
   "outputs": [],
   "source": [
    "import serial"
   ]
  },
  {
   "cell_type": "markdown",
   "id": "5feba709",
   "metadata": {
    "pycharm": {
     "name": "#%% md\n"
    }
   },
   "source": [
    "We will list all USB devices currently connected to our computer:"
   ]
  },
  {
   "cell_type": "code",
   "execution_count": null,
   "id": "ed6dd490",
   "metadata": {
    "pycharm": {
     "name": "#%%\n"
    }
   },
   "outputs": [],
   "source": [
    "!ls /dev/cu.*"
   ]
  },
  {
   "cell_type": "markdown",
   "id": "c4f37588",
   "metadata": {
    "pycharm": {
     "name": "#%% md\n"
    }
   },
   "source": [
    "Choose the one with 'cu.usbmodem' in its name and copy its name below:"
   ]
  },
  {
   "cell_type": "code",
   "execution_count": null,
   "id": "13cb4120",
   "metadata": {
    "pycharm": {
     "name": "#%%\n"
    }
   },
   "outputs": [],
   "source": [
    "ser = serial.Serial()\n",
    "ser=serial.Serial(\"/dev/cu.usbmodem102\",115200, timeout=0.1)"
   ]
  },
  {
   "cell_type": "markdown",
   "id": "08cf8fec",
   "metadata": {},
   "source": [
    "We will introduce a function called 'characterise' that returns the measured RBG color."
   ]
  },
  {
   "cell_type": "code",
   "execution_count": null,
   "id": "abb5c4ba",
   "metadata": {},
   "outputs": [],
   "source": [
    "def characterise():\n",
    "    import time\n",
    "    valid = False\n",
    "    max_num_tries = 25\n",
    "    num_tries = 0\n",
    "    while not valid:\n",
    "        try:\n",
    "            ser.flushInput()\n",
    "            ser.write(b\",\")\n",
    "            serial_data = str(ser.readline().decode('utf8')).rstrip()\n",
    "            rgb = tuple([int(value) for value in serial_data.split(\"-\")])\n",
    "            # Measurement needs three entries\n",
    "            if len(rgb) != 3:\n",
    "                print(f\"Measurement did not containt 3 RGB values:{rgb}\")\n",
    "                raise Exception()\n",
    "            if not np.all([0 <= x <= 255 for x in rgb]):\n",
    "                print(f\"Measurement outside valid range [0,255]:{rgb}\")\n",
    "                raise Exception()\n",
    "            valid = True\n",
    "        except Exception as err:\n",
    "            print(f\"Unexpected {err=}, {type(err)=}\")\n",
    "            print(\"Measurement invalid, will try again\")\n",
    "            if num_tries > max_num_tries:\n",
    "                print(\"Please check connection. Maximum number of tries exceeded. There seems to be a fatal error.\")\n",
    "                break\n",
    "            num_tries = num_tries + 1\n",
    "    print(f\"New RGB Measurement: {rgb}\")\n",
    "    time.sleep(0.4)\n",
    "    return rgb"
   ]
  },
  {
   "cell_type": "markdown",
   "id": "f834761a",
   "metadata": {},
   "source": [
    "Give it a try! Run the following code and hold up the sensor to your computer screen like this: \n",
    "\n",
    "![Measuring colors](img/measuring_colors.png \"Measuring colors\")"
   ]
  },
  {
   "cell_type": "code",
   "execution_count": null,
   "id": "b9eba97b",
   "metadata": {},
   "outputs": [],
   "source": [
    "for i in range(10):\n",
    "    characterise()"
   ]
  },
  {
   "cell_type": "markdown",
   "id": "b1d87fa9",
   "metadata": {},
   "source": [
    "**Note**: To improve the connection between your computer and the microbit, make sure that Chrome is disconnected as otherwise it will keep sending message to the microbit. Most simply, close the Chrome application. We will not need it again anyway."
   ]
  },
  {
   "cell_type": "markdown",
   "id": "f307b1bd",
   "metadata": {},
   "source": [
    "## (3) Planning: Using different search strategies: Random, Grid, Bayesian Optimisation\n",
    "\n",
    "To find the RGB combination that is closest to our goal color, we can use different methods or *\"search strategies\"* to explore promising RGB combinations. Here, we will take a look at three of them:\n",
    "\n",
    "1. Random\n",
    "2. Grid\n",
    "3. Bayesian Optimisation\n",
    "\n",
    "\n",
    "**Note**: Check out Step 3 for a detailed explanation of this section [here](https://github.com/matterhorn-studio/SDL4Kids.com/tree/main/notebooks/MacOS)"
   ]
  },
  {
   "cell_type": "markdown",
   "id": "77581851",
   "metadata": {
    "pycharm": {
     "name": "#%% md\n"
    }
   },
   "source": [
    "### (3.1) Strategy: Random\n",
    "\n",
    "**Goal**: You will learn how to use a random search to find the best RGB combination.\n",
    "\n",
    "*Random* here means the same as throwing a die with 6 sides: Each side, 1 to 6, has an equal probability (1/6 = 16.6%) of occurence. \n",
    "\n",
    "With RGB colors, we essentially have three dice — one for each R, G and B — with each die having 256 sides, representing the numbers 0 to 255. Each side has equal probability.\n",
    "\n",
    "We will throw these three die to select the next RGB experiment. If we do that 100 times, many RGB colors will be far off our target color, but with a certain probability, some will get close.\n",
    "\n",
    "**Note**: Hold up your envirobit color sensor closely to the screen where the rectangle appears to measure the colors."
   ]
  },
  {
   "cell_type": "code",
   "execution_count": null,
   "id": "094f89ee",
   "metadata": {
    "pycharm": {
     "name": "#%%\n"
    }
   },
   "outputs": [],
   "source": [
    "import random\n",
    "import numpy as np\n",
    "import cv2\n",
    "\n",
    "# Function to generate random color\n",
    "def generate_random_color():\n",
    "    red = random.randint(0, 255)\n",
    "    green = random.randint(0, 255)\n",
    "    blue = random.randint(0, 255)\n",
    "    return blue, green, red  # OpenCV uses BGR color format\n",
    "\n",
    "# Function to calculate the error between two colors\n",
    "def calculate_error(color1, color2):\n",
    "    return np.sqrt((color1[0] - color2[0]) ** 2 + (color1[1] - color2[1]) ** 2 + (color1[2] - color2[2]) ** 2)\n",
    "\n",
    "# Create a blank image\n",
    "width, height = 800, 400\n",
    "image = np.zeros((height, width, 3), dtype=np.uint8)\n",
    "\n",
    "# Create a named window for display\n",
    "cv2.namedWindow(\"Live Image\", cv2.WINDOW_NORMAL)\n",
    "cv2.startWindowThread()\n",
    "\n",
    "# Define font properties for displaying text\n",
    "font = cv2.FONT_HERSHEY_SIMPLEX\n",
    "font_scale = 0.8\n",
    "font_color = (255, 255, 255)  # White color\n",
    "\n",
    "# Define the goal color\n",
    "goal_color = (255, 0, 0)  # Red color (BGR format)\n",
    "\n",
    "# Create an empty list to store the error values\n",
    "error_values = []\n",
    "\n",
    "# Main loop\n",
    "max_iterations = 10  # Set the desired number of iterations\n",
    "\n",
    "candidate_color = (0,0,0) # Initial candidate\n",
    "\n",
    "for iteration in range(max_iterations):\n",
    "    \n",
    "\n",
    "    # STEP 1: Synthesis\n",
    "    # Update the live image with the current color\n",
    "    image[:, :] = tuple(reversed(candidate_color))\n",
    "    \n",
    "    # Display the image\n",
    "    cv2.imshow(\"Live Image\", image)\n",
    "    \n",
    "    # STEP 2: Characterisation\n",
    "    # Measure the color\n",
    "    rgb_measurement = characterise()\n",
    "    \n",
    "    # STEP 3: Planning\n",
    "    \n",
    "    # Calculate the error between the goal color and the current color\n",
    "    error = calculate_error(goal_color, rgb_measurement)\n",
    "\n",
    "    # Add the error value to the list\n",
    "    error_values.append(error)    \n",
    "\n",
    "    # Add text information to the image\n",
    "    text = f\"Iteration: {iteration + 1}\"\n",
    "    cv2.putText(image, text, (10, 30), font, font_scale, font_color, 2)\n",
    "\n",
    "    # Plot a subplot for the goal color\n",
    "    # subplot_x = num_iterations * (width // (max_iterations + 1))\n",
    "    subplot_x = width // (max_iterations + 1)\n",
    "    subplot_width = width // (max_iterations + 1)\n",
    "    cv2.rectangle(image, (subplot_x, 60), (subplot_x + subplot_width, height - 60), tuple(reversed(goal_color)), -1)\n",
    "\n",
    "    # Add text for the error\n",
    "    error_text = f\"Error: {error:.2f}\"\n",
    "    cv2.putText(image, error_text, (10, height - 10), font, font_scale, font_color, 2)\n",
    "\n",
    "    # Draw the graph of error values\n",
    "    if len(error_values) > 1:\n",
    "        for i in range(1, len(error_values)):\n",
    "            x1 = (i - 1) * (width // max_iterations)\n",
    "            y1 = height - int(error_values[i - 1] * (height - 60) / max(error_values))\n",
    "            x2 = i * (width // max_iterations)\n",
    "            y2 = height - int(error_values[i] * (height - 60) / max(error_values))\n",
    "            cv2.line(image, (x1, y1), (x2, y2), (255, 255, 255), 2)\n",
    "\n",
    "    # Increment the iteration counter\n",
    "    cv2.imshow(\"Live Image\", image)\n",
    "    cv2.waitKey(1)  # Adjust the wait time (in milliseconds) as needed\n",
    "\n",
    "    \n",
    "    # Generate a new candidate color, for now we will pick one randomly\n",
    "    candidate_color = generate_random_color()\n",
    "    \n",
    "# Close the window after the desired number of iterations\n",
    "cv2.waitKey(1)\n",
    "cv2.destroyAllWindows()\n",
    "cv2.waitKey(1)"
   ]
  },
  {
   "cell_type": "markdown",
   "id": "53022a4f",
   "metadata": {},
   "source": [
    "We can now plot the errors for each iteration:"
   ]
  },
  {
   "cell_type": "code",
   "execution_count": null,
   "id": "d9d1a198",
   "metadata": {
    "pycharm": {
     "name": "#%%\n"
    }
   },
   "outputs": [],
   "source": [
    "import matplotlib.pyplot as plt\n",
    "plt.plot(error_values)"
   ]
  },
  {
   "cell_type": "markdown",
   "id": "442bc1c0",
   "metadata": {},
   "source": [
    "Let's also add some more detail to the plot, so it is easier to read and interpret:"
   ]
  },
  {
   "cell_type": "code",
   "execution_count": null,
   "id": "4ff11f18",
   "metadata": {},
   "outputs": [],
   "source": [
    "import matplotlib.pyplot as plt\n",
    "# Plot error for each iteration\n",
    "plt.scatter(range(len(error_values)), error_values, label=\"Error for each iteration\")\n",
    "\n",
    "# Calculate best error so far\n",
    "best_error_so_far = 1000\n",
    "best_errors = []\n",
    "for value in error_values:\n",
    "    if value < best_error_so_far:\n",
    "        best_error_so_far = value\n",
    "    best_errors.append(best_error_so_far)\n",
    "    \n",
    "# Plot best error so far\n",
    "plt.plot(best_errors, label=\"Best Error So Far\", color=\"orange\")\n",
    "plt.xlabel('Iteration', fontsize=18)\n",
    "plt.ylabel('Distance to Goal', fontsize=18)\n",
    "plt.legend()"
   ]
  },
  {
   "cell_type": "markdown",
   "id": "a70efe51",
   "metadata": {},
   "source": [
    "**Task**: What happens when you run the loop for longer? Do you find more colors that have a small error?"
   ]
  },
  {
   "cell_type": "markdown",
   "id": "9ea5f310",
   "metadata": {},
   "source": [
    "### (3.2) Use a search over a grid to find the best RGB combination\n",
    "\n",
    "**Goal**: We will generate a 'grid' of RGB combinations, which we then measure and pick the best point.\n",
    "\n",
    "Image you want to cook the best pizza, but you don't know for how long you should put the pizza in the oven (e.g. at 200 Celsius). It is most likely somehwere between 10 and 15 minutes. If we have 6 pizzas, we can just put in a pizza for each 10, 11, 12, 13, 14 and 15 minutes and then test the taste. \n",
    "\n",
    "That's a grid: We have a lower (10) and upper (15) bound and a limited number of experiments we can run in between (6 pizzas). If we evenly space them, we get the following grid: 10, 11, 12, 13, 14, 15.\n",
    "\n",
    "For our SDL4Kids, we have 3 variables R, G and B instead of 'minutes in the oven'. For example, we can create a grid with 3 steps for each variable. That would be 3 * 3 * 3 = 27 experiments to run. The following code generates such a grid:"
   ]
  },
  {
   "cell_type": "code",
   "execution_count": null,
   "id": "6e5ff7fa",
   "metadata": {},
   "outputs": [],
   "source": [
    "grid_steps = 3\n",
    "red = np.linspace(0, 255, grid_steps)\n",
    "green = np.linspace(0, 255, grid_steps)\n",
    "blue = np.linspace(0, 255, grid_steps)\n",
    "\n",
    "grid_combinations = []\n",
    "for r in red:\n",
    "    for g in green:\n",
    "        for b in blue:\n",
    "            combination = (r,g,b)\n",
    "            grid_combinations.append(combination)\n",
    "grid_combinations"
   ]
  },
  {
   "cell_type": "code",
   "execution_count": null,
   "id": "aa9c0ae0",
   "metadata": {},
   "outputs": [],
   "source": [
    "import random\n",
    "import numpy as np\n",
    "import cv2\n",
    "\n",
    "# Function to generate random color\n",
    "def generate_random_color():\n",
    "    red = random.randint(0, 255)\n",
    "    green = random.randint(0, 255)\n",
    "    blue = random.randint(0, 255)\n",
    "    return blue, green, red  # OpenCV uses BGR color format\n",
    "\n",
    "# Function to calculate the error between two colors\n",
    "def calculate_error(color1, color2):\n",
    "    return np.sqrt((color1[0] - color2[0]) ** 2 + (color1[1] - color2[1]) ** 2 + (color1[2] - color2[2]) ** 2)\n",
    "\n",
    "# Create a blank image\n",
    "width, height = 800, 400\n",
    "image = np.zeros((height, width, 3), dtype=np.uint8)\n",
    "\n",
    "# Create a named window for display\n",
    "cv2.namedWindow(\"Live Image\", cv2.WINDOW_NORMAL)\n",
    "cv2.startWindowThread()\n",
    "\n",
    "# Define font properties for displaying text\n",
    "font = cv2.FONT_HERSHEY_SIMPLEX\n",
    "font_scale = 0.8\n",
    "font_color = (255, 255, 255)  # White color\n",
    "\n",
    "# Define the goal color\n",
    "goal_color = (255, 0, 0)  # Red color (BGR format)\n",
    "\n",
    "# Create an empty list to store the error values\n",
    "error_values = []\n",
    "\n",
    "# Main loop\n",
    "max_iterations = len(grid_combinations)  # Set the desired number of iterations\n",
    "\n",
    "candidate_color = grid_combinations[0]\n",
    "\n",
    "for iteration, grid_combination in enumerate(grid_combinations):\n",
    "    \n",
    "\n",
    "    # STEP 1: Synthesis\n",
    "    # Update the live image with the current color\n",
    "    image[:, :] = tuple(reversed(candidate_color))\n",
    "    \n",
    "    # Display the image\n",
    "    cv2.imshow(\"Live Image\", image)\n",
    "    \n",
    "    # STEP 2: Characterisation\n",
    "    # Measure the color\n",
    "    rgb_measurement = characterise()\n",
    "    \n",
    "    # STEP 3: Planning\n",
    "    \n",
    "    # Calculate the error between the goal color and the current color\n",
    "    error = calculate_error(goal_color, rgb_measurement)\n",
    "\n",
    "    # Add the error value to the list\n",
    "    error_values.append(error)    \n",
    "\n",
    "    # Add text information to the image\n",
    "    text = f\"Iteration: {iteration + 1}\"\n",
    "    cv2.putText(image, text, (10, 30), font, font_scale, font_color, 2)\n",
    "\n",
    "    # Plot a subplot for the goal color\n",
    "    # subplot_x = num_iterations * (width // (max_iterations + 1))\n",
    "    subplot_x = width // (max_iterations + 1)\n",
    "    subplot_width = width // (max_iterations + 1)\n",
    "    cv2.rectangle(image, (subplot_x, 60), (subplot_x + subplot_width, height - 60), tuple(reversed(goal_color)), -1)\n",
    "\n",
    "    # Add text for the error\n",
    "    error_text = f\"Error: {error:.2f}\"\n",
    "    cv2.putText(image, error_text, (10, height - 10), font, font_scale, font_color, 2)\n",
    "\n",
    "    # Draw the graph of error values\n",
    "    if len(error_values) > 1:\n",
    "        for i in range(1, len(error_values)):\n",
    "            x1 = (i - 1) * (width // max_iterations)\n",
    "            y1 = height - int(error_values[i - 1] * (height - 60) / max(error_values))\n",
    "            x2 = i * (width // max_iterations)\n",
    "            y2 = height - int(error_values[i] * (height - 60) / max(error_values))\n",
    "            cv2.line(image, (x1, y1), (x2, y2), (255, 255, 255), 2)\n",
    "\n",
    "    # Increment the iteration counter\n",
    "    cv2.imshow(\"Live Image\", image)\n",
    "    cv2.waitKey(100)  # Adjust the wait time (in milliseconds) as needed\n",
    "    \n",
    "    # Generate a new candidate color, for now we will pick one randomly\n",
    "    candidate_color = grid_combination\n",
    "    \n",
    "# Close the window after the desired number of iterations\n",
    "cv2.waitKey(1)\n",
    "cv2.destroyAllWindows()\n",
    "cv2.waitKey(1)"
   ]
  },
  {
   "cell_type": "code",
   "execution_count": null,
   "id": "8a65d0a7",
   "metadata": {},
   "outputs": [],
   "source": [
    "import matplotlib.pyplot as plt\n",
    "# Plot error for each iteration\n",
    "plt.scatter(range(len(error_values)), error_values, label=\"Error for each iteration\")\n",
    "\n",
    "# Calculate best error so far\n",
    "best_error_so_far = 1000\n",
    "best_errors = []\n",
    "for value in error_values:\n",
    "    if value < best_error_so_far:\n",
    "        best_error_so_far = value\n",
    "    best_errors.append(best_error_so_far)\n",
    "    \n",
    "# Plot best error so far\n",
    "plt.plot(best_errors, label=\"Best Error So Far\", color=\"orange\")\n",
    "plt.xlabel('Iteration', fontsize=18)\n",
    "plt.ylabel('Distance to Goal', fontsize=18)\n",
    "plt.legend()"
   ]
  },
  {
   "cell_type": "markdown",
   "id": "5630dc2d",
   "metadata": {},
   "source": [
    "**Task**: What happens when you increase the size of the grid?\n",
    "\n",
    "Increase *grid_steps* and see what happens. Do you find a combination with a lower error?"
   ]
  },
  {
   "cell_type": "markdown",
   "id": "a3ce4463",
   "metadata": {
    "pycharm": {
     "name": "#%% md\n"
    }
   },
   "source": [
    "### (3.3) Strategy: Bayesian Optimisation\n",
    "\n",
    "**Goal**: With **Bayesian Optimisation**, we build a statistical model for decision making, i.e. using statistics to steer our search. \n",
    "\n",
    "We can ask this model for the next *most informative* combination to test, collect the data, update the model and repeat."
   ]
  },
  {
   "cell_type": "code",
   "execution_count": null,
   "id": "710c5884",
   "metadata": {
    "pycharm": {
     "name": "#%%\n"
    }
   },
   "outputs": [],
   "source": [
    "import torch\n",
    "from botorch.models import SingleTaskGP\n",
    "from botorch.fit import fit_gpytorch_mll\n",
    "from botorch.utils import standardize\n",
    "from gpytorch.mlls import ExactMarginalLogLikelihood\n",
    "from botorch.acquisition import UpperConfidenceBound\n",
    "from botorch.optim import optimize_acqf\n",
    "from botorch.models.transforms.input import Normalize\n",
    "from botorch.models.transforms.outcome import Standardize"
   ]
  },
  {
   "cell_type": "code",
   "execution_count": null,
   "id": "385bdf25",
   "metadata": {
    "pycharm": {
     "name": "#%%\n"
    }
   },
   "outputs": [],
   "source": [
    "import pandas as pd\n",
    "def calculate_candidate(samples):\n",
    "    train_X = samples[[\"R\",\"G\",\"B\"]]\n",
    "    train_Y = samples[[\"error\"]]\n",
    "\n",
    "    train_X = torch.tensor(train_X.to_numpy(dtype=np.float64))\n",
    "    train_Y = torch.tensor(-1*train_Y.to_numpy(dtype=np.float64))\n",
    "\n",
    "    gp = SingleTaskGP(train_X, train_Y, input_transform=Normalize(d=train_X.shape[-1]), outcome_transform=Standardize(m=train_Y.shape[-1]),)\n",
    "    mll = ExactMarginalLogLikelihood(gp.likelihood, gp)\n",
    "    fit_gpytorch_mll(mll)\n",
    "\n",
    "    from botorch.acquisition import UpperConfidenceBound\n",
    "    UCB = UpperConfidenceBound(gp, beta=0.1)\n",
    "    \n",
    "    from botorch.optim import optimize_acqf\n",
    "    bounds = torch.stack([torch.zeros(3), torch.ones(3)*255])\n",
    "    candidate, acq_value = optimize_acqf(\n",
    "        UCB, bounds=bounds, q=1, num_restarts=5, raw_samples=20,\n",
    "    )\n",
    "    candidate = candidate[0]\n",
    "    candidate = {\"R\": candidate[0], \"G\": candidate[1], \"B\": candidate[2]}\n",
    "    return candidate"
   ]
  },
  {
   "cell_type": "code",
   "execution_count": null,
   "id": "464f2a67",
   "metadata": {},
   "outputs": [],
   "source": [
    "import random\n",
    "import numpy as np\n",
    "import cv2\n",
    "\n",
    "# Create a blank image\n",
    "width, height = 800, 400\n",
    "image = np.zeros((height, width, 3), dtype=np.uint8)\n",
    "\n",
    "# Create a named window for display\n",
    "cv2.namedWindow(\"Live Image\", cv2.WINDOW_NORMAL)\n",
    "cv2.startWindowThread()\n",
    "\n",
    "# Define font properties for displaying text\n",
    "font = cv2.FONT_HERSHEY_SIMPLEX\n",
    "font_scale = 0.8\n",
    "font_color = (255, 255, 255)  # White color\n",
    "\n",
    "# Define the goal color\n",
    "goal_color = (255,0,0) \n",
    "\n",
    "# Main loop\n",
    "max_iterations = 50  # Set the desired number of iterations\n",
    "\n",
    "# Let us set up a data table to record the data more structured\n",
    "samples = pd.DataFrame(columns=['R', 'G', 'B', 'error', 'ID'])\n",
    "\n",
    "candidate_color = (0,0,0) # Initial color\n",
    "\n",
    "for iteration in range(max_iterations):\n",
    "    print(f\"---Iteration {iteration}\")\n",
    "\n",
    "    # STEP 1: Synthesis\n",
    "    # Update the live image with the current color\n",
    "    print(f\"Synthesis:{candidate_color}\")\n",
    "    image[:, :] = tuple(reversed(candidate_color))\n",
    "    \n",
    "    # Display the image\n",
    "    cv2.imshow(\"Live Image\", image)\n",
    "    \n",
    "    # STEP 2: Characterisation\n",
    "    # Measure the color by just plugging it in\n",
    "    rgb_measurement = characterise()\n",
    "    print(f\"Characterisation:{rgb_measurement}\")\n",
    "    \n",
    "    # STEP 3: Planning\n",
    "    # Calculate the loss between the goal color and the current color\n",
    "    error = calculate_error(goal_color, rgb_measurement)\n",
    "    print(f\"Error:{error}\")\n",
    "\n",
    "    # Add the sample to the data table\n",
    "    new_sample = pd.DataFrame({\"R\":rgb_measurement[0], \"G\":rgb_measurement[1], \"B\":rgb_measurement[2], \"ID\":iteration, \"error\":error}, index=[iteration])\n",
    "    samples = pd.concat([samples, new_sample], axis=0, ignore_index=True)\n",
    "\n",
    "    candidate = calculate_candidate(samples)\n",
    "    candidate_color = (candidate['R'].item(), candidate['G'].item(), candidate['B'].item())\n",
    "    print(f\"Planning: Candidate:{candidate_color}\")\n",
    "    \n",
    "    # Add text information to the image\n",
    "    text = f\"Iteration: {iteration + 1}\"\n",
    "    cv2.putText(image, text, (10, 30), font, font_scale, font_color, 2)\n",
    "\n",
    "    # Plot a subplot for the goal color\n",
    "    # subplot_x = num_iterations * (width // (max_iterations + 1))\n",
    "    subplot_x = width // (max_iterations + 1)\n",
    "    subplot_width = 50\n",
    "    cv2.rectangle(image, (subplot_x, 60), (subplot_x + subplot_width, height - 60), tuple(reversed(goal_color)), -1)\n",
    "\n",
    "    # Add text for the error\n",
    "    error_text = f\"Error: {error:.2f}\"\n",
    "    cv2.putText(image, error_text, (10, height - 10), font, font_scale, font_color, 2)\n",
    "\n",
    "    error_values = list(samples['error'].to_numpy())    # Draw the graph of error values\n",
    "    if len(error_values) > 1:\n",
    "        for i in range(1, len(error_values)):\n",
    "            x1 = (i - 1) * (width // max_iterations)\n",
    "            y1 = height - int(error_values[i - 1] * (height - 60) / max(error_values))\n",
    "            x2 = i * (width // max_iterations)\n",
    "            y2 = height - int(error_values[i] * (height - 60) / max(error_values))\n",
    "            cv2.line(image, (x1, y1), (x2, y2), (255, 255, 255), 2)\n",
    "\n",
    "    # Increment the iteration counter\n",
    "    cv2.imshow(\"Live Image\", image)\n",
    "    cv2.waitKey(100)  # Adjust the wait time (in milliseconds) as needed\n",
    "    \n",
    "# Close the window after the desired number of iterations\n",
    "cv2.waitKey(1)\n",
    "cv2.destroyAllWindows()\n",
    "cv2.waitKey(1)"
   ]
  },
  {
   "cell_type": "markdown",
   "id": "5e5c3811",
   "metadata": {},
   "source": [
    "Let's plot the errors for the Bayesian Optimisation. Do you see the difference to a random or grid search?"
   ]
  },
  {
   "cell_type": "code",
   "execution_count": null,
   "id": "6747a019",
   "metadata": {},
   "outputs": [],
   "source": [
    "import matplotlib.pyplot as plt\n",
    "# Plot error for each iteration\n",
    "plt.scatter(range(len(error_values)), error_values, label=\"Error for each iteration\")\n",
    "\n",
    "# Calculate best error so far\n",
    "best_error_so_far = 1000\n",
    "best_errors = []\n",
    "for value in error_values:\n",
    "    if value < best_error_so_far:\n",
    "        best_error_so_far = value\n",
    "    best_errors.append(best_error_so_far)\n",
    "    \n",
    "# Plot best error so far\n",
    "plt.plot(best_errors, label=\"Best Error So Far\", color=\"orange\")\n",
    "plt.xlabel('Iteration', fontsize=18)\n",
    "plt.ylabel('Distance to Goal', fontsize=18)\n",
    "plt.legend()"
   ]
  },
  {
   "cell_type": "markdown",
   "id": "ff4e4b78",
   "metadata": {},
   "source": [
    "We can also add the RGB colors into the plot to understand better how the Bayesian Optimisation algorithm is making its decisions:"
   ]
  },
  {
   "cell_type": "code",
   "execution_count": null,
   "id": "95671af2",
   "metadata": {},
   "outputs": [],
   "source": [
    "import matplotlib.pyplot as plt\n",
    "# Plot error for each iteration\n",
    "plt.scatter(range(len(error_values)), error_values, label=\"Error for each iteration\")\n",
    "\n",
    "# Calculate best error so far\n",
    "best_error_so_far = 1000\n",
    "best_errors = []\n",
    "for value in error_values:\n",
    "    if value < best_error_so_far:\n",
    "        best_error_so_far = value\n",
    "    best_errors.append(best_error_so_far)\n",
    "    \n",
    "# Plot best error so far\n",
    "plt.plot(best_errors, label=\"Best Error So Far\", color=\"orange\")\n",
    "plt.xlabel('Iteration', fontsize=18)\n",
    "plt.ylabel('Distance to Goal', fontsize=18)\n",
    "plt.legend()\n",
    "ax = plt.gca()\n",
    "secax = ax.twinx() \n",
    "secax.set_ylabel('RGB value (0 to 255)')\n",
    "secax.plot(samples['R'], color='red', linestyle='dashed')\n",
    "secax.plot(samples['G'], color='green', linestyle='dashed')\n",
    "secax.plot(samples['B'], color='blue', linestyle='dashed')\n"
   ]
  },
  {
   "cell_type": "markdown",
   "id": "ef298334",
   "metadata": {},
   "source": [
    "**How to interpret the results**:\n",
    "\n",
    "Our goal was to create a red color on the screen. So presumably the color will need to have a lot of red in it!\n",
    "\n",
    "As you can see in the plot above, at first, the algorithm is mixing all three RGB colors, but soon realises that it only needs red, and not much of green or blue.\n",
    "\n",
    "Therefore, it increases red to a maximum and reduces green and blue to a minimum!\n",
    "\n",
    "*Note: Depending on the light in your room, and sunlight from outside, the algorithm will not converge onto a solution of (255,0,0). This is by design! It is robust to the noise in the color sensor and adjusts accordingly to still ultimately produce the color on the screen closest to the goal!*"
   ]
  },
  {
   "cell_type": "markdown",
   "id": "b637bfe6",
   "metadata": {},
   "source": [
    "## (4) Congratulations! \n",
    "\n",
    "### You just ran your first closed-loop self-driving laboratory. You learned how to do its 3 core steps:\n",
    "### 1. Synthesis: *Generating the material: a color on your screen (RGB)*\n",
    "### 2. Charactersiation: *Measuring the material: the color on your screen (in RGB)*\n",
    "### 3. Planning: *Choosing the next experiment: randomly, with a grid or with Bayesian Optimisation*\n",
    "\n",
    "### Next Steps: We have prepared notebooks that discuss each step in detail, see [sdl4kids.com](http://sdl4kids.com)"
   ]
  },
  {
   "cell_type": "code",
   "execution_count": null,
   "id": "ca10b54f",
   "metadata": {},
   "outputs": [],
   "source": []
  },
  {
   "cell_type": "code",
   "execution_count": null,
   "id": "1b492826",
   "metadata": {},
   "outputs": [],
   "source": []
  }
 ],
 "metadata": {
  "kernelspec": {
   "display_name": "SDL4Kids_kernel",
   "language": "python",
   "name": "sdl4kids_kernel"
  },
  "language_info": {
   "codemirror_mode": {
    "name": "ipython",
    "version": 3
   },
   "file_extension": ".py",
   "mimetype": "text/x-python",
   "name": "python",
   "nbconvert_exporter": "python",
   "pygments_lexer": "ipython3",
   "version": "3.11.4"
  }
 },
 "nbformat": 4,
 "nbformat_minor": 5
}
