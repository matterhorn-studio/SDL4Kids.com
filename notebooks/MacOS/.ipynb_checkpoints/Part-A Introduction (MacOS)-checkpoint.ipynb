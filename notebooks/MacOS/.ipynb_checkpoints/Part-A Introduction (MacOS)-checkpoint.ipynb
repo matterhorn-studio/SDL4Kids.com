{
 "cells": [
  {
   "cell_type": "markdown",
   "id": "7fadee20",
   "metadata": {
    "pycharm": {
     "name": "#%% md\n"
    }
   },
   "source": [
    "# SDL4Kids.com: Your first self-driving laboratory (MacOS version)\n",
    "\n",
    "This notebook helps you run your first SDL, using the BBC Micro:bit, see [sdl4kids.com](http://sdl4kids.com).\n",
    "\n",
    "This notebook is part of a 4 part series:\n",
    "1. Part A: Your first self-driving laboratory (15 mins)\n",
    "2. Part B: Synthesis for your SDL (10 mins)\n",
    "3. Part C: Characterisation for your SDL (20 mins)\n",
    "4. Part D: Planning for your SDL (15 mins)\n",
    "\n",
    "Part A is for a quick start. Part B, C and D go into details and are a good place to go if Part A does not work for you straight away.\n",
    "\n",
    "### For the best experience, following along the video-series that explains the notebooks step by step [here](http://sdl4kids.com).\n",
    "\n",
    "If you have any questions, check out the [FAQ](https://sites.google.com/matterhorn.studio/sdl4kids/faq)!"
   ]
  },
  {
   "cell_type": "markdown",
   "id": "a517a051",
   "metadata": {},
   "source": [
    "## Requirements\n",
    "\n",
    "You will need the following to complete this tutorial:\n",
    "1. A jupyter notebook installation and a way to install missing python packages.\n",
    "2. A micro:bit, available [here](https://shop.pimoroni.com/products/bbc-micro-bit-go-starter-kit?variant=32337813078099).\n",
    "3. An enviro:bit (an extension to the micro:bit), available [here](https://shop.pimoroni.com/products/enviro-bit?variant=3142289653770).\n",
    "\n",
    "Many parts can be done without the micro:bit, but we recommend it for a real SDL hardware experience."
   ]
  },
  {
   "cell_type": "markdown",
   "id": "7c546391",
   "metadata": {},
   "source": [
    "## Introduction\n",
    "\n",
    "In this notebook, you will run your first closed-loop SDL.\n",
    "\n",
    "### *Our Goal*: Finding the optimal RGB mix to match a color on your screen.\n",
    "\n",
    "Our SDL has three core components:\n",
    "\n",
    "1. **Synthesis**: We will use your computer screen to *generate rectangles with different RGB colors*.\n",
    "2. **Characterisation**: We will use the Microbit to *measure the RGB color* on the screen. \n",
    "3. **Planning**: We will use different *search strategies to find the correct RGB color* combination."
   ]
  },
  {
   "cell_type": "markdown",
   "id": "861537d0",
   "metadata": {},
   "source": [
    "## (1) Synthesis: Using your screen as an RGB color generator\n",
    "\n",
    "**Goal**: You will learn how to display different RGB colors on your screen.\n",
    "\n",
    "RGB stands for \n",
    "\n",
    "<span style=\"color:red\">Red (0 to 255)</span>,  \n",
    "<span style=\"color:green\">Green (0 to 255)</span>,  \n",
    "<span style=\"color:blue\">Blue (0 to 255)</span> \n",
    "\n",
    "By mixing these three colors, we can create all kinds of colors on your screen. \n",
    "\n",
    "For example, if you want a fully <span style=\"color:red\">Red</span>, you will need to set the color to (255, 0, 0)\n",
    "\n",
    "Let's try drawing a red rectangle on our screen. We will use the cv2 package."
   ]
  },
  {
   "cell_type": "code",
   "execution_count": 3,
   "id": "2f2aad3d",
   "metadata": {},
   "outputs": [],
   "source": [
    "import cv2\n",
    "import numpy as np"
   ]
  },
  {
   "cell_type": "code",
   "execution_count": 4,
   "id": "2778ef59",
   "metadata": {},
   "outputs": [],
   "source": [
    "red = 255\n",
    "green = 0\n",
    "blue = 0\n",
    "\n",
    "current_color = (red, green, blue)"
   ]
  },
  {
   "cell_type": "markdown",
   "id": "47b2862c",
   "metadata": {},
   "source": [
    "The following code will open up a red rectangle, for 3 seconds and then close.\n",
    "\n",
    "**Warning:** The window might open *BEHIND* your jupyter notebook. Make sure to check behind it if you cannot see it pop up."
   ]
  },
  {
   "cell_type": "code",
   "execution_count": 5,
   "id": "314cfd23",
   "metadata": {},
   "outputs": [
    {
     "data": {
      "text/plain": [
       "-1"
      ]
     },
     "execution_count": 5,
     "metadata": {},
     "output_type": "execute_result"
    }
   ],
   "source": [
    "# Create a blank image\n",
    "width, height = 800, 400\n",
    "image = np.zeros((height, width, 3), dtype=np.uint8)\n",
    "\n",
    "# Create a named window for display\n",
    "cv2.namedWindow(\"Live Image\", cv2.WINDOW_NORMAL)\n",
    "cv2.startWindowThread()\n",
    "image[:, :] = tuple(reversed(current_color)) # cv2 works with BGR order instead of RGB\n",
    "# Display the image\n",
    "cv2.imshow(\"Live Image\", image)\n",
    "\n",
    "cv2.waitKey(3000)  # Adjust the wait time (in milliseconds) as needed\n",
    "# Close the CV2 window\n",
    "cv2.waitKey(1)\n",
    "cv2.destroyAllWindows()\n",
    "cv2.waitKey(1)"
   ]
  },
  {
   "cell_type": "markdown",
   "id": "a7be9b75",
   "metadata": {},
   "source": [
    "**Task**: Now try it yourself: Change the RGB values above, and see what different rectangles you can create!\n",
    "\n",
    "**Warning:** The window might open *BEHIND* your jupyter notebook. Make sure to check behind it if you cannot see it pop up.\n",
    "\n",
    "**Note**: Check out Part-B for a detailed explanation of this section [here](https://github.com/matterhorn-studio/SDL4Kids.com/tree/main/notebooks/MacOS)"
   ]
  },
  {
   "cell_type": "markdown",
   "id": "4caf96cd",
   "metadata": {
    "pycharm": {
     "name": "#%% md\n"
    }
   },
   "source": [
    "## (2) Characterisation: Measure RGB colors on your screen, using the microbit and envirobit\n",
    "\n",
    "**Goal**: You will be able to measure RGB colors with the Microbit\n",
    "\n",
    "We will use the 'pyserial' library to connect to the microbit.\n",
    "\n",
    "**Steps**: \n",
    "1. Program the Microbit to measure RGB color on request.\n",
    "2. Connect the Microbit to the computer, and make sure we request new measurements from it.\n",
    "\n",
    "**Note**: Check out Part-C for a detailed explanation of this section [here](https://github.com/matterhorn-studio/SDL4Kids.com/tree/main/notebooks/MacOS)"
   ]
  },
  {
   "cell_type": "markdown",
   "id": "57786146",
   "metadata": {
    "pycharm": {
     "name": "#%% md\n"
    }
   },
   "source": [
    "### (2.1) Programming the Microbit to send new RGB color measurements\n",
    "\n",
    "**Task**: We will program the microbit to use its sensor to measure RGB colors, and then send them to our computer.\n",
    "\n",
    "Slot your Microbit into the Envirobit extension board (see [here](https://shop.pimoroni.com/products/enviro-bit)). Then, plug it into a USB socket on your computer (the microbit LEDs should light up yellow and/or red). \n",
    "\n",
    "Then follow these steps:\n",
    "\n",
    "1. Open MakeCode [here](https://makecode.microbit.org/#editor), in Google Chrome ([download](https://www.google.com/chrome/)).\n",
    "2. In the middle column, somewhere between \"Math\" and \"Variables\" click on \"Extensions\".\n",
    "3. Search for \"envirobit\", then click on it to load the envirobit library into your Microbit program. (it should appear below \"Led\" as \"Enviro:Bit\" with a teardrop icon).\n",
    "4. Drag and drop the below program into your Microbit. \n",
    "\n",
    "*Hints*: \n",
    "\n",
    "The 'serial' blocks are hidden in the 'Advanced' section. \n",
    "The orange 'join' block is in the 'Text' section. \n",
    "\n",
    "![Microbit Program](img/microbit_program.png \"Microbit Program\")\n",
    "\n",
    "5. Alternatively, you can copy and paste the following code into the \"JavaScript\" section (switch to JavaScript via its button in the middle of the top bar):\n",
    "```\n",
    "serial.onDataReceived(serial.delimiters(Delimiters.Comma), function () {\n",
    "    serial.writeLine(envirobit.getGreen() + \"-\" + envirobit.getRed() + \"-\" + envirobit.getBlue())\n",
    "    music.playTone(262, music.beat(BeatFraction.Sixteenth))\n",
    "})\n",
    "music.setVolume(127)\n",
    "```\n",
    "\n",
    "6. Connect to your microbit by clicking 'Connect' on the bottom left. Follow the instructions on the screen.\n",
    "7. Once connected, press download to load the program onto the microbit.\n",
    "8. **Alternatively**, follow the standard programming procedure by downloading the program and copying onto the microbit, see [here](https://microbit.org/get-started/first-steps/set-up/#transfer-from-a-computer).\n"
   ]
  },
  {
   "cell_type": "markdown",
   "id": "baa14281",
   "metadata": {},
   "source": [
    "### (2.2) Connecting to the Microbit and request new RGB color measurements"
   ]
  },
  {
   "cell_type": "markdown",
   "id": "af77cbad",
   "metadata": {},
   "source": [
    "**Warning**: Make 100% sure that you disconnected your Microbit from Google Chrome before continuing. Otherwise, Google Chrome will interfere with the serial connection and you cannot request values"
   ]
  },
  {
   "cell_type": "markdown",
   "id": "c10a47f1",
   "metadata": {
    "pycharm": {
     "name": "#%% md\n"
    }
   },
   "source": [
    "Let's import the 'pyserial' package, which we use to connect to the Microbit (it is just called 'serial'):"
   ]
  },
  {
   "cell_type": "code",
   "execution_count": 4,
   "id": "26239577",
   "metadata": {
    "pycharm": {
     "name": "#%%\n"
    }
   },
   "outputs": [],
   "source": [
    "import serial"
   ]
  },
  {
   "cell_type": "markdown",
   "id": "5feba709",
   "metadata": {
    "pycharm": {
     "name": "#%% md\n"
    }
   },
   "source": [
    "We will list all USB devices currently connected to our computer:"
   ]
  },
  {
   "cell_type": "code",
   "execution_count": 16,
   "id": "ed6dd490",
   "metadata": {
    "pycharm": {
     "name": "#%%\n"
    }
   },
   "outputs": [
    {
     "name": "stdout",
     "output_type": "stream",
     "text": [
      "\u001b[34m\u001b[43m/dev/cu.Bluetooth-Incoming-Port\u001b[m\u001b[m \u001b[34m\u001b[43m/dev/cu.ZeitlersBoseQC35II\u001b[m\u001b[m\r\n",
      "\u001b[34m\u001b[43m/dev/cu.RoastBeats\u001b[m\u001b[m              \u001b[34m\u001b[43m/dev/cu.usbmodem1102\u001b[m\u001b[m\r\n"
     ]
    }
   ],
   "source": [
    "!ls /dev/cu.*"
   ]
  },
  {
   "cell_type": "markdown",
   "id": "c4f37588",
   "metadata": {
    "pycharm": {
     "name": "#%% md\n"
    }
   },
   "source": [
    "Choose the one with 'cu.usbmodem' in its name and copy its name below:"
   ]
  },
  {
   "cell_type": "code",
   "execution_count": 17,
   "id": "13cb4120",
   "metadata": {
    "pycharm": {
     "name": "#%%\n"
    }
   },
   "outputs": [],
   "source": [
    "ser = serial.Serial()\n",
    "ser=serial.Serial(\"/dev/cu.usbmodem1102\",115200, timeout=0.1)"
   ]
  },
  {
   "cell_type": "code",
   "execution_count": 6,
   "id": "abb5c4ba",
   "metadata": {},
   "outputs": [],
   "source": [
    "def characterise():\n",
    "    valid = False\n",
    "    max_num_tries = 25\n",
    "    num_tries = 0\n",
    "    while not valid:\n",
    "        try:\n",
    "            ser.flushInput()\n",
    "            ser.write(b\",\")\n",
    "            serial_data = str(ser.readline().decode('utf8')).rstrip()\n",
    "            rgb = tuple([int(value) for value in serial_data.split(\"-\")])\n",
    "            # Measurement needs three entries\n",
    "            if len(rgb) != 3:\n",
    "                print(f\"Measurement did not containt 3 RGB values:{rgb}\")\n",
    "                raise Exception()\n",
    "            if not np.all([0 <= x <= 255 for x in rgb]):\n",
    "                print(f\"Measurement outside valid range [0,255]:{rgb}\")\n",
    "                raise Exception()\n",
    "            valid = True\n",
    "        except:\n",
    "            print(\"Measurement invalid, will try again\")\n",
    "            if num_tries > max_num_tries:\n",
    "                print(\"Please check connection. Maximum number of tries exceeded. There seems to be a fatal error.\")\n",
    "                break\n",
    "            num_tries = num_tries + 1\n",
    "    print(f\"New RGB Measurement: {rgb}\")\n",
    "    return rgb"
   ]
  },
  {
   "cell_type": "code",
   "execution_count": 11,
   "id": "b9eba97b",
   "metadata": {},
   "outputs": [
    {
     "name": "stdout",
     "output_type": "stream",
     "text": [
      "New RGB Measurement: (144, 103, 115)\n",
      "New RGB Measurement: (144, 103, 115)\n",
      "New RGB Measurement: (144, 103, 115)\n",
      "New RGB Measurement: (144, 103, 115)\n",
      "New RGB Measurement: (144, 103, 115)\n",
      "New RGB Measurement: (144, 103, 115)\n",
      "New RGB Measurement: (144, 103, 115)\n",
      "New RGB Measurement: (144, 103, 115)\n",
      "New RGB Measurement: (144, 103, 115)\n",
      "New RGB Measurement: (144, 103, 115)\n"
     ]
    }
   ],
   "source": [
    "for i in range(10):\n",
    "    characterise()"
   ]
  },
  {
   "cell_type": "markdown",
   "id": "b1d87fa9",
   "metadata": {},
   "source": [
    "**Note**: To improve the connection between your computer and the microbit, make sure that Chrome is disconnected as otherwise it will keep sending message to the microbit. Most simply, close the Chrome application. We will not need it again anyway."
   ]
  },
  {
   "cell_type": "markdown",
   "id": "f307b1bd",
   "metadata": {},
   "source": [
    "## (3) Planning: Using different search strategies: Random, Grid, Bayesian Optimisation\n",
    "\n",
    "**Note**: Check out Part-D for a detailed explanation of this section [here](https://github.com/matterhorn-studio/SDL4Kids.com/tree/main/notebooks/MacOS)"
   ]
  },
  {
   "cell_type": "markdown",
   "id": "77581851",
   "metadata": {
    "pycharm": {
     "name": "#%% md\n"
    }
   },
   "source": [
    "### (3.1) Generate a random color with CV2"
   ]
  },
  {
   "cell_type": "code",
   "execution_count": 18,
   "id": "094f89ee",
   "metadata": {
    "pycharm": {
     "name": "#%%\n"
    }
   },
   "outputs": [
    {
     "name": "stdout",
     "output_type": "stream",
     "text": [
      "Measurement invalid, will try again\n",
      "Measurement invalid, will try again\n",
      "Measurement invalid, will try again\n",
      "Measurement invalid, will try again\n",
      "Measurement invalid, will try again\n",
      "Measurement invalid, will try again\n",
      "Measurement invalid, will try again\n",
      "Measurement invalid, will try again\n",
      "Measurement invalid, will try again\n",
      "Measurement invalid, will try again\n",
      "Measurement invalid, will try again\n",
      "Measurement invalid, will try again\n",
      "Measurement invalid, will try again\n",
      "Measurement invalid, will try again\n",
      "New RGB Measurement: (83, 100, 97)\n",
      "New RGB Measurement: (83, 100, 97)\n",
      "New RGB Measurement: (83, 100, 97)\n",
      "New RGB Measurement: (100, 108, 110)\n",
      "New RGB Measurement: (100, 108, 110)\n",
      "New RGB Measurement: (84, 106, 109)\n",
      "New RGB Measurement: (84, 106, 109)\n",
      "New RGB Measurement: (95, 108, 111)\n",
      "New RGB Measurement: (95, 108, 111)\n",
      "New RGB Measurement: (95, 108, 111)\n"
     ]
    },
    {
     "data": {
      "text/plain": [
       "-1"
      ]
     },
     "execution_count": 18,
     "metadata": {},
     "output_type": "execute_result"
    }
   ],
   "source": [
    "import random\n",
    "import numpy as np\n",
    "import cv2\n",
    "\n",
    "# Function to generate random color\n",
    "def generate_random_color():\n",
    "    red = random.randint(0, 255)\n",
    "    green = random.randint(0, 255)\n",
    "    blue = random.randint(0, 255)\n",
    "    return blue, green, red  # OpenCV uses BGR color format\n",
    "\n",
    "# Function to calculate the error between two colors\n",
    "def calculate_error(color1, color2):\n",
    "    return np.sqrt((color1[0] - color2[0]) ** 2 + (color1[1] - color2[1]) ** 2 + (color1[2] - color2[2]) ** 2)\n",
    "\n",
    "# Create a blank image\n",
    "width, height = 800, 400\n",
    "image = np.zeros((height, width, 3), dtype=np.uint8)\n",
    "\n",
    "# Create a named window for display\n",
    "cv2.namedWindow(\"Live Image\", cv2.WINDOW_NORMAL)\n",
    "cv2.startWindowThread()\n",
    "\n",
    "# Define font properties for displaying text\n",
    "font = cv2.FONT_HERSHEY_SIMPLEX\n",
    "font_scale = 0.8\n",
    "font_color = (255, 255, 255)  # White color\n",
    "\n",
    "# Define the goal color\n",
    "goal_color = (255, 0, 0)  # Red color (BGR format)\n",
    "\n",
    "# Create an empty list to store the error values\n",
    "error_values = []\n",
    "\n",
    "# Main loop\n",
    "max_iterations = 10  # Set the desired number of iterations\n",
    "\n",
    "candidate_color = (0,0,0) # Initial candidate\n",
    "\n",
    "for iteration in range(max_iterations):\n",
    "    \n",
    "\n",
    "    # STEP 1: Synthesis\n",
    "    # Update the live image with the current color\n",
    "    image[:, :] = tuple(reversed(candidate_color))\n",
    "    \n",
    "    # Display the image\n",
    "    cv2.imshow(\"Live Image\", image)\n",
    "    \n",
    "    # STEP 2: Characterisation\n",
    "    # Measure the color\n",
    "    rgb_measurement = characterise()\n",
    "    \n",
    "    # STEP 3: Planning\n",
    "    \n",
    "    # Calculate the error between the goal color and the current color\n",
    "    error = calculate_error(goal_color, rgb_measurement)\n",
    "\n",
    "    # Add the error value to the list\n",
    "    error_values.append(error)    \n",
    "\n",
    "    # Add text information to the image\n",
    "    text = f\"Iteration: {iteration + 1}\"\n",
    "    cv2.putText(image, text, (10, 30), font, font_scale, font_color, 2)\n",
    "\n",
    "    # Plot a subplot for the goal color\n",
    "    # subplot_x = num_iterations * (width // (max_iterations + 1))\n",
    "    subplot_x = width // (max_iterations + 1)\n",
    "    subplot_width = width // (max_iterations + 1)\n",
    "    cv2.rectangle(image, (subplot_x, 60), (subplot_x + subplot_width, height - 60), tuple(reversed(goal_color)), -1)\n",
    "\n",
    "    # Add text for the error\n",
    "    error_text = f\"Error: {error:.2f}\"\n",
    "    cv2.putText(image, error_text, (10, height - 10), font, font_scale, font_color, 2)\n",
    "\n",
    "    # Draw the graph of error values\n",
    "    if len(error_values) > 1:\n",
    "        for i in range(1, len(error_values)):\n",
    "            x1 = (i - 1) * (width // max_iterations)\n",
    "            y1 = height - int(error_values[i - 1] * (height - 60) / max(error_values))\n",
    "            x2 = i * (width // max_iterations)\n",
    "            y2 = height - int(error_values[i] * (height - 60) / max(error_values))\n",
    "            cv2.line(image, (x1, y1), (x2, y2), (255, 255, 255), 2)\n",
    "\n",
    "    # Increment the iteration counter\n",
    "    cv2.imshow(\"Live Image\", image)\n",
    "    cv2.waitKey(200)  # Adjust the wait time (in milliseconds) as needed\n",
    "    \n",
    "    # Generate a new candidate color, for now we will pick one randomly\n",
    "    candidate_color = generate_random_color()\n",
    "    \n",
    "# Close the window after the desired number of iterations\n",
    "cv2.waitKey(1)\n",
    "cv2.destroyAllWindows()\n",
    "cv2.waitKey(1)"
   ]
  },
  {
   "cell_type": "code",
   "execution_count": 19,
   "id": "d9d1a198",
   "metadata": {
    "pycharm": {
     "name": "#%%\n"
    }
   },
   "outputs": [
    {
     "data": {
      "text/plain": [
       "[<matplotlib.lines.Line2D at 0x16d023050>]"
      ]
     },
     "execution_count": 19,
     "metadata": {},
     "output_type": "execute_result"
    },
    {
     "data": {
      "image/png": "[encoded data removed]",
      "text/plain": [
       "<Figure size 640x480 with 1 Axes>"
      ]
     },
     "metadata": {},
     "output_type": "display_data"
    }
   ],
   "source": [
    "import matplotlib.pyplot as plt\n",
    "plt.plot(error_values)"
   ]
  },
  {
   "cell_type": "markdown",
   "id": "9ea5f310",
   "metadata": {},
   "source": [
    "### (3.2) Use a search over a grid to find the best RGB combination\n",
    "\n",
    "TBD Explanation"
   ]
  },
  {
   "cell_type": "code",
   "execution_count": 20,
   "id": "6e5ff7fa",
   "metadata": {},
   "outputs": [
    {
     "data": {
      "text/plain": [
       "[(0.0, 0.0, 0.0),\n",
       " (0.0, 0.0, 127.5),\n",
       " (0.0, 0.0, 255.0),\n",
       " (0.0, 127.5, 0.0),\n",
       " (0.0, 127.5, 127.5),\n",
       " (0.0, 127.5, 255.0),\n",
       " (0.0, 255.0, 0.0),\n",
       " (0.0, 255.0, 127.5),\n",
       " (0.0, 255.0, 255.0),\n",
       " (127.5, 0.0, 0.0),\n",
       " (127.5, 0.0, 127.5),\n",
       " (127.5, 0.0, 255.0),\n",
       " (127.5, 127.5, 0.0),\n",
       " (127.5, 127.5, 127.5),\n",
       " (127.5, 127.5, 255.0),\n",
       " (127.5, 255.0, 0.0),\n",
       " (127.5, 255.0, 127.5),\n",
       " (127.5, 255.0, 255.0),\n",
       " (255.0, 0.0, 0.0),\n",
       " (255.0, 0.0, 127.5),\n",
       " (255.0, 0.0, 255.0),\n",
       " (255.0, 127.5, 0.0),\n",
       " (255.0, 127.5, 127.5),\n",
       " (255.0, 127.5, 255.0),\n",
       " (255.0, 255.0, 0.0),\n",
       " (255.0, 255.0, 127.5),\n",
       " (255.0, 255.0, 255.0)]"
      ]
     },
     "execution_count": 20,
     "metadata": {},
     "output_type": "execute_result"
    }
   ],
   "source": [
    "grid_steps = 3\n",
    "red = np.linspace(0, 255, grid_steps)\n",
    "green = np.linspace(0, 255, grid_steps)\n",
    "blue = np.linspace(0, 255, grid_steps)\n",
    "\n",
    "grid_combinations = []\n",
    "for r in red:\n",
    "    for g in green:\n",
    "        for b in blue:\n",
    "            combination = (r,g,b)\n",
    "            grid_combinations.append(combination)\n",
    "grid_combinations"
   ]
  },
  {
   "cell_type": "code",
   "execution_count": 21,
   "id": "aa9c0ae0",
   "metadata": {},
   "outputs": [
    {
     "name": "stdout",
     "output_type": "stream",
     "text": [
      "New RGB Measurement: (78, 92, 86)\n",
      "New RGB Measurement: (78, 92, 87)\n",
      "New RGB Measurement: (78, 92, 87)\n",
      "New RGB Measurement: (78, 92, 87)\n",
      "New RGB Measurement: (78, 92, 87)\n",
      "New RGB Measurement: (78, 92, 87)\n",
      "New RGB Measurement: (48, 90, 142)\n",
      "New RGB Measurement: (48, 90, 142)\n",
      "New RGB Measurement: (48, 90, 142)\n",
      "New RGB Measurement: (48, 90, 142)\n",
      "New RGB Measurement: (45, 120, 93)\n",
      "New RGB Measurement: (45, 120, 93)\n",
      "New RGB Measurement: (45, 120, 93)\n",
      "New RGB Measurement: (45, 120, 93)\n",
      "New RGB Measurement: (45, 120, 93)\n",
      "New RGB Measurement: (69, 85, 113)\n",
      "New RGB Measurement: (69, 85, 113)\n",
      "New RGB Measurement: (69, 85, 113)\n",
      "New RGB Measurement: (69, 85, 113)\n",
      "New RGB Measurement: (64, 111, 84)\n",
      "New RGB Measurement: (64, 111, 84)\n",
      "New RGB Measurement: (64, 111, 84)\n",
      "New RGB Measurement: (64, 111, 84)\n",
      "New RGB Measurement: (112, 67, 87)\n",
      "New RGB Measurement: (112, 67, 87)\n",
      "New RGB Measurement: (112, 67, 87)\n",
      "New RGB Measurement: (112, 67, 87)\n"
     ]
    },
    {
     "data": {
      "text/plain": [
       "-1"
      ]
     },
     "execution_count": 21,
     "metadata": {},
     "output_type": "execute_result"
    }
   ],
   "source": [
    "import random\n",
    "import numpy as np\n",
    "import cv2\n",
    "\n",
    "# Function to generate random color\n",
    "def generate_random_color():\n",
    "    red = random.randint(0, 255)\n",
    "    green = random.randint(0, 255)\n",
    "    blue = random.randint(0, 255)\n",
    "    return blue, green, red  # OpenCV uses BGR color format\n",
    "\n",
    "# Function to calculate the error between two colors\n",
    "def calculate_error(color1, color2):\n",
    "    return np.sqrt((color1[0] - color2[0]) ** 2 + (color1[1] - color2[1]) ** 2 + (color1[2] - color2[2]) ** 2)\n",
    "\n",
    "# Create a blank image\n",
    "width, height = 800, 400\n",
    "image = np.zeros((height, width, 3), dtype=np.uint8)\n",
    "\n",
    "# Create a named window for display\n",
    "cv2.namedWindow(\"Live Image\", cv2.WINDOW_NORMAL)\n",
    "cv2.startWindowThread()\n",
    "\n",
    "# Define font properties for displaying text\n",
    "font = cv2.FONT_HERSHEY_SIMPLEX\n",
    "font_scale = 0.8\n",
    "font_color = (255, 255, 255)  # White color\n",
    "\n",
    "# Define the goal color\n",
    "goal_color = (255, 0, 0)  # Red color (BGR format)\n",
    "\n",
    "# Create an empty list to store the error values\n",
    "error_values = []\n",
    "\n",
    "# Main loop\n",
    "max_iterations = len(grid_combinations)  # Set the desired number of iterations\n",
    "\n",
    "candidate_color = grid_combinations[0]\n",
    "\n",
    "for iteration, grid_combination in enumerate(grid_combinations):\n",
    "    \n",
    "\n",
    "    # STEP 1: Synthesis\n",
    "    # Update the live image with the current color\n",
    "    image[:, :] = tuple(reversed(candidate_color))\n",
    "    \n",
    "    # Display the image\n",
    "    cv2.imshow(\"Live Image\", image)\n",
    "    \n",
    "    # STEP 2: Characterisation\n",
    "    # Measure the color\n",
    "    rgb_measurement = characterise()\n",
    "    \n",
    "    # STEP 3: Planning\n",
    "    \n",
    "    # Calculate the error between the goal color and the current color\n",
    "    error = calculate_error(goal_color, rgb_measurement)\n",
    "\n",
    "    # Add the error value to the list\n",
    "    error_values.append(error)    \n",
    "\n",
    "    # Add text information to the image\n",
    "    text = f\"Iteration: {iteration + 1}\"\n",
    "    cv2.putText(image, text, (10, 30), font, font_scale, font_color, 2)\n",
    "\n",
    "    # Plot a subplot for the goal color\n",
    "    # subplot_x = num_iterations * (width // (max_iterations + 1))\n",
    "    subplot_x = width // (max_iterations + 1)\n",
    "    subplot_width = width // (max_iterations + 1)\n",
    "    cv2.rectangle(image, (subplot_x, 60), (subplot_x + subplot_width, height - 60), tuple(reversed(goal_color)), -1)\n",
    "\n",
    "    # Add text for the error\n",
    "    error_text = f\"Error: {error:.2f}\"\n",
    "    cv2.putText(image, error_text, (10, height - 10), font, font_scale, font_color, 2)\n",
    "\n",
    "    # Draw the graph of error values\n",
    "    if len(error_values) > 1:\n",
    "        for i in range(1, len(error_values)):\n",
    "            x1 = (i - 1) * (width // max_iterations)\n",
    "            y1 = height - int(error_values[i - 1] * (height - 60) / max(error_values))\n",
    "            x2 = i * (width // max_iterations)\n",
    "            y2 = height - int(error_values[i] * (height - 60) / max(error_values))\n",
    "            cv2.line(image, (x1, y1), (x2, y2), (255, 255, 255), 2)\n",
    "\n",
    "    # Increment the iteration counter\n",
    "    cv2.imshow(\"Live Image\", image)\n",
    "    cv2.waitKey(100)  # Adjust the wait time (in milliseconds) as needed\n",
    "    \n",
    "    # Generate a new candidate color, for now we will pick one randomly\n",
    "    candidate_color = grid_combination\n",
    "    \n",
    "# Close the window after the desired number of iterations\n",
    "cv2.waitKey(1)\n",
    "cv2.destroyAllWindows()\n",
    "cv2.waitKey(1)"
   ]
  },
  {
   "cell_type": "code",
   "execution_count": 22,
   "id": "8a65d0a7",
   "metadata": {},
   "outputs": [
    {
     "data": {
      "text/plain": [
       "[<matplotlib.lines.Line2D at 0x16d0b5510>]"
      ]
     },
     "execution_count": 22,
     "metadata": {},
     "output_type": "execute_result"
    },
    {
     "data": {
      "image/png": "[encoded data removed]",
      "text/plain": [
       "<Figure size 640x480 with 1 Axes>"
      ]
     },
     "metadata": {},
     "output_type": "display_data"
    }
   ],
   "source": [
    "plt.plot(error_values)"
   ]
  },
  {
   "cell_type": "markdown",
   "id": "a3ce4463",
   "metadata": {
    "pycharm": {
     "name": "#%% md\n"
    }
   },
   "source": [
    "### (3.3) Use Bayesian Optimisation to search for the optimal RGB combination"
   ]
  },
  {
   "cell_type": "code",
   "execution_count": 23,
   "id": "710c5884",
   "metadata": {
    "pycharm": {
     "name": "#%%\n"
    }
   },
   "outputs": [
    {
     "name": "stderr",
     "output_type": "stream",
     "text": [
      "/opt/homebrew/Caskroom/miniforge/base/envs/SDL4Kids/lib/python3.11/site-packages/tqdm/auto.py:21: TqdmWarning: IProgress not found. Please update jupyter and ipywidgets. See https://ipywidgets.readthedocs.io/en/stable/user_install.html\n",
      "  from .autonotebook import tqdm as notebook_tqdm\n"
     ]
    }
   ],
   "source": [
    "import torch\n",
    "from botorch.models import SingleTaskGP\n",
    "from botorch.fit import fit_gpytorch_mll\n",
    "from botorch.utils import standardize\n",
    "from gpytorch.mlls import ExactMarginalLogLikelihood\n",
    "from botorch.acquisition import UpperConfidenceBound\n",
    "from botorch.optim import optimize_acqf\n",
    "from botorch.models.transforms.input import Normalize\n",
    "from botorch.models.transforms.outcome import Standardize"
   ]
  },
  {
   "cell_type": "code",
   "execution_count": 24,
   "id": "385bdf25",
   "metadata": {
    "pycharm": {
     "name": "#%%\n"
    }
   },
   "outputs": [],
   "source": [
    "import pandas as pd\n",
    "def calculate_candidate(samples):\n",
    "    train_X = samples[[\"R\",\"G\",\"B\"]]\n",
    "    train_Y = samples[[\"error\"]]\n",
    "\n",
    "    train_X = torch.tensor(train_X.to_numpy(dtype=np.float64))\n",
    "    train_Y = torch.tensor(-1*train_Y.to_numpy(dtype=np.float64))\n",
    "\n",
    "    gp = SingleTaskGP(train_X, train_Y, input_transform=Normalize(d=train_X.shape[-1]), outcome_transform=Standardize(m=train_Y.shape[-1]),)\n",
    "    mll = ExactMarginalLogLikelihood(gp.likelihood, gp)\n",
    "    fit_gpytorch_mll(mll)\n",
    "\n",
    "    from botorch.acquisition import UpperConfidenceBound\n",
    "    UCB = UpperConfidenceBound(gp, beta=0.1)\n",
    "    \n",
    "    from botorch.optim import optimize_acqf\n",
    "    bounds = torch.stack([torch.zeros(3), torch.ones(3)*255])\n",
    "    candidate, acq_value = optimize_acqf(\n",
    "        UCB, bounds=bounds, q=1, num_restarts=5, raw_samples=20,\n",
    "    )\n",
    "    candidate = candidate[0]\n",
    "    candidate = {\"R\": candidate[0], \"G\": candidate[1], \"B\": candidate[2]}\n",
    "    return candidate"
   ]
  },
  {
   "cell_type": "code",
   "execution_count": 25,
   "id": "464f2a67",
   "metadata": {},
   "outputs": [
    {
     "name": "stdout",
     "output_type": "stream",
     "text": [
      "---Iteration 0\n",
      "Synthesis:(0, 0, 0)\n",
      "New RGB Measurement: (78, 92, 87)\n",
      "Characterisation:(78, 92, 87)\n",
      "Error:217.62812318264383\n",
      "Planning: Candidate:(105.7410888671875, 91.51355743408203, 234.69027709960938)\n",
      "---Iteration 1\n",
      "Synthesis:(105.7410888671875, 91.51355743408203, 234.69027709960938)\n",
      "New RGB Measurement: (78, 92, 87)\n",
      "Characterisation:(78, 92, 87)\n",
      "Error:217.62812318264383\n"
     ]
    },
    {
     "name": "stderr",
     "output_type": "stream",
     "text": [
      "/opt/homebrew/Caskroom/miniforge/base/envs/SDL4Kids/lib/python3.11/site-packages/botorch/optim/initializers.py:403: BadInitialCandidatesWarning: Unable to find non-zero acquisition function values - initial conditions are being selected randomly.\n",
      "  warnings.warn(\n",
      "/opt/homebrew/Caskroom/miniforge/base/envs/SDL4Kids/lib/python3.11/site-packages/botorch/models/utils/assorted.py:201: InputDataWarning: Input data is not standardized. Please consider scaling the input to zero mean and unit variance.\n",
      "  warnings.warn(msg, InputDataWarning)\n"
     ]
    },
    {
     "name": "stdout",
     "output_type": "stream",
     "text": [
      "Planning: Candidate:(20.28258514404297, 209.28152465820312, 198.0763397216797)\n",
      "---Iteration 2\n",
      "Synthesis:(20.28258514404297, 209.28152465820312, 198.0763397216797)\n",
      "New RGB Measurement: (78, 92, 87)\n",
      "Characterisation:(78, 92, 87)\n",
      "Error:217.62812318264383\n",
      "Planning: Candidate:(9.412525177001953, 220.25425720214844, 84.25123596191406)\n"
     ]
    },
    {
     "name": "stderr",
     "output_type": "stream",
     "text": [
      "/opt/homebrew/Caskroom/miniforge/base/envs/SDL4Kids/lib/python3.11/site-packages/botorch/models/utils/assorted.py:201: InputDataWarning: Input data is not standardized. Please consider scaling the input to zero mean and unit variance.\n",
      "  warnings.warn(msg, InputDataWarning)\n",
      "/opt/homebrew/Caskroom/miniforge/base/envs/SDL4Kids/lib/python3.11/site-packages/botorch/models/utils/assorted.py:201: InputDataWarning: Input data is not standardized. Please consider scaling the input to zero mean and unit variance.\n",
      "  warnings.warn(msg, InputDataWarning)\n"
     ]
    },
    {
     "name": "stdout",
     "output_type": "stream",
     "text": [
      "---Iteration 3\n",
      "Synthesis:(9.412525177001953, 220.25425720214844, 84.25123596191406)\n",
      "New RGB Measurement: (78, 92, 87)\n",
      "Characterisation:(78, 92, 87)\n",
      "Error:217.62812318264383\n",
      "Planning: Candidate:(151.67666625976562, 171.63343811035156, 120.2135009765625)\n",
      "---Iteration 4\n",
      "Synthesis:(151.67666625976562, 171.63343811035156, 120.2135009765625)\n",
      "New RGB Measurement: (50, 100, 116)\n",
      "Characterisation:(50, 100, 116)\n",
      "Error:255.8925555775314\n",
      "Planning: Candidate:(155.97879028320312, 95.00682067871094, 154.5104522705078)\n",
      "---Iteration 5\n",
      "Synthesis:(155.97879028320312, 95.00682067871094, 154.5104522705078)\n",
      "New RGB Measurement: (50, 100, 116)\n",
      "Characterisation:(50, 100, 116)\n",
      "Error:255.8925555775314\n",
      "Planning: Candidate:(105.29278564453125, 68.73345184326172, 89.95848846435547)\n",
      "---Iteration 6\n",
      "Synthesis:(105.29278564453125, 68.73345184326172, 89.95848846435547)\n",
      "New RGB Measurement: (50, 100, 116)\n",
      "Characterisation:(50, 100, 116)\n",
      "Error:255.8925555775314\n",
      "Planning: Candidate:(79.94690704345703, 91.3654556274414, 84.68157958984375)\n",
      "---Iteration 7\n",
      "Synthesis:(79.94690704345703, 91.3654556274414, 84.68157958984375)\n",
      "New RGB Measurement: (79, 105, 83)\n",
      "Characterisation:(79, 105, 83)\n",
      "Error:221.11083193728885\n",
      "Planning: Candidate:(78.52578735351562, 94.04151916503906, 85.96797180175781)\n",
      "---Iteration 8\n",
      "Synthesis:(78.52578735351562, 94.04151916503906, 85.96797180175781)\n",
      "New RGB Measurement: (79, 105, 83)\n",
      "Characterisation:(79, 105, 83)\n",
      "Error:221.11083193728885\n",
      "Planning: Candidate:(164.0553436279297, 66.76567077636719, 25.431947708129883)\n",
      "---Iteration 9\n",
      "Synthesis:(164.0553436279297, 66.76567077636719, 25.431947708129883)\n",
      "New RGB Measurement: (79, 105, 83)\n",
      "Characterisation:(79, 105, 83)\n",
      "Error:221.11083193728885\n",
      "Planning: Candidate:(113.37596893310547, 123.80152893066406, 17.911203384399414)\n",
      "---Iteration 10\n",
      "Synthesis:(113.37596893310547, 123.80152893066406, 17.911203384399414)\n",
      "New RGB Measurement: (79, 105, 83)\n",
      "Characterisation:(79, 105, 83)\n",
      "Error:221.11083193728885\n",
      "Planning: Candidate:(78.51465606689453, 93.98287200927734, 85.99237060546875)\n",
      "---Iteration 11\n",
      "Synthesis:(78.51465606689453, 93.98287200927734, 85.99237060546875)\n",
      "New RGB Measurement: (102, 97, 92)\n",
      "Characterisation:(102, 97, 92)\n",
      "Error:203.17972339778396\n",
      "Planning: Candidate:(20.627334594726562, 95.58343505859375, 49.33999252319336)\n",
      "---Iteration 12\n",
      "Synthesis:(20.627334594726562, 95.58343505859375, 49.33999252319336)\n",
      "New RGB Measurement: (102, 97, 92)\n",
      "Characterisation:(102, 97, 92)\n",
      "Error:203.17972339778396\n",
      "Planning: Candidate:(98.52973937988281, 96.52645874023438, 89.84840393066406)\n",
      "---Iteration 13\n",
      "Synthesis:(98.52973937988281, 96.52645874023438, 89.84840393066406)\n",
      "New RGB Measurement: (103, 104, 78)\n",
      "Characterisation:(103, 104, 78)\n",
      "Error:200.0099997500125\n",
      "Planning: Candidate:(104.89212036132812, 101.6635513305664, 81.81814575195312)\n",
      "---Iteration 14\n",
      "Synthesis:(104.89212036132812, 101.6635513305664, 81.81814575195312)\n",
      "New RGB Measurement: (103, 104, 78)\n",
      "Characterisation:(103, 104, 78)\n",
      "Error:200.0099997500125\n",
      "Planning: Candidate:(19.392728805541992, 116.73775482177734, 9.738211631774902)\n",
      "---Iteration 15\n",
      "Synthesis:(19.392728805541992, 116.73775482177734, 9.738211631774902)\n",
      "New RGB Measurement: (103, 104, 78)\n",
      "Characterisation:(103, 104, 78)\n",
      "Error:200.0099997500125\n",
      "Planning: Candidate:(104.89688110351562, 101.66134643554688, 81.82080841064453)\n",
      "---Iteration 16\n",
      "Synthesis:(104.89688110351562, 101.66134643554688, 81.82080841064453)\n",
      "New RGB Measurement: (103, 104, 78)\n",
      "Characterisation:(103, 104, 78)\n",
      "Error:200.0099997500125\n",
      "Planning: Candidate:(104.89752960205078, 101.6612777709961, 81.82084655761719)\n",
      "---Iteration 17\n",
      "Synthesis:(104.89752960205078, 101.6612777709961, 81.82084655761719)\n",
      "New RGB Measurement: (88, 110, 88)\n",
      "Characterisation:(88, 110, 88)\n",
      "Error:218.4788319265736\n",
      "Planning: Candidate:(22.694778442382812, 67.69820404052734, 55.00291442871094)\n",
      "---Iteration 18\n",
      "Synthesis:(22.694778442382812, 67.69820404052734, 55.00291442871094)\n",
      "New RGB Measurement: (88, 110, 88)\n",
      "Characterisation:(88, 110, 88)\n",
      "Error:218.4788319265736\n",
      "Planning: Candidate:(105.0197525024414, 100.93675994873047, 82.64471435546875)\n",
      "---Iteration 19\n",
      "Synthesis:(105.0197525024414, 100.93675994873047, 82.64471435546875)\n",
      "New RGB Measurement: (88, 110, 87)\n",
      "Characterisation:(88, 110, 87)\n",
      "Error:218.07796770879904\n",
      "Planning: Candidate:(104.9984130859375, 100.59732818603516, 81.41487884521484)\n",
      "---Iteration 20\n",
      "Synthesis:(104.9984130859375, 100.59732818603516, 81.41487884521484)\n",
      "New RGB Measurement: (90, 111, 87)\n",
      "Characterisation:(90, 111, 87)\n",
      "Error:217.05989956691678\n",
      "Planning: Candidate:(107.43218994140625, 100.0840072631836, 80.91521453857422)\n",
      "---Iteration 21\n",
      "Synthesis:(107.43218994140625, 100.0840072631836, 80.91521453857422)\n",
      "New RGB Measurement: (90, 111, 87)\n",
      "Characterisation:(90, 111, 87)\n",
      "Error:217.05989956691678\n",
      "Planning: Candidate:(107.43910217285156, 100.07422637939453, 80.9015884399414)\n",
      "---Iteration 22\n",
      "Synthesis:(107.43910217285156, 100.07422637939453, 80.9015884399414)\n",
      "New RGB Measurement: (93, 105, 92)\n",
      "Characterisation:(93, 105, 92)\n",
      "Error:213.85275308024444\n",
      "Planning: Candidate:(109.76785278320312, 98.84136962890625, 79.9784164428711)\n",
      "---Iteration 23\n",
      "Synthesis:(109.76785278320312, 98.84136962890625, 79.9784164428711)\n",
      "New RGB Measurement: (93, 105, 92)\n",
      "Characterisation:(93, 105, 92)\n",
      "Error:213.85275308024444\n",
      "Planning: Candidate:(109.77835083007812, 98.83981323242188, 79.95463562011719)\n",
      "---Iteration 24\n",
      "Synthesis:(109.77835083007812, 98.83981323242188, 79.95463562011719)\n",
      "New RGB Measurement: (97, 101, 85)\n",
      "Characterisation:(97, 101, 85)\n",
      "Error:205.88831924128186\n",
      "Planning: Candidate:(114.58223724365234, 100.4071044921875, 78.33257293701172)\n",
      "---Iteration 25\n",
      "Synthesis:(114.58223724365234, 100.4071044921875, 78.33257293701172)\n",
      "New RGB Measurement: (97, 101, 85)\n",
      "Characterisation:(97, 101, 85)\n",
      "Error:205.88831924128186\n",
      "Planning: Candidate:(114.58686828613281, 100.40579986572266, 78.32263946533203)\n",
      "---Iteration 26\n",
      "Synthesis:(114.58686828613281, 100.40579986572266, 78.32263946533203)\n",
      "New RGB Measurement: (98, 101, 86)\n",
      "Characterisation:(98, 101, 86)\n",
      "Error:205.53831759552767\n",
      "Planning: Candidate:(115.64767456054688, 99.63104248046875, 76.00093078613281)\n",
      "---Iteration 27\n",
      "Synthesis:(115.64767456054688, 99.63104248046875, 76.00093078613281)\n",
      "New RGB Measurement: (98, 101, 86)\n",
      "Characterisation:(98, 101, 86)\n",
      "Error:205.53831759552767\n",
      "Planning: Candidate:(115.7479019165039, 99.58637237548828, 75.83707427978516)\n",
      "---Iteration 28\n",
      "Synthesis:(115.7479019165039, 99.58637237548828, 75.83707427978516)\n",
      "New RGB Measurement: (101, 99, 84)\n",
      "Characterisation:(101, 99, 84)\n",
      "Error:201.42740627829173\n",
      "Planning: Candidate:(116.68081665039062, 97.64800262451172, 75.0544662475586)\n",
      "---Iteration 29\n",
      "Synthesis:(116.68081665039062, 97.64800262451172, 75.0544662475586)\n",
      "New RGB Measurement: (101, 99, 84)\n",
      "Characterisation:(101, 99, 84)\n",
      "Error:201.42740627829173\n",
      "Planning: Candidate:(116.68058776855469, 97.63265228271484, 75.04508972167969)\n",
      "---Iteration 30\n",
      "Synthesis:(116.68058776855469, 97.63265228271484, 75.04508972167969)\n",
      "New RGB Measurement: (101, 99, 84)\n",
      "Characterisation:(101, 99, 84)\n",
      "Error:201.42740627829173\n",
      "Planning: Candidate:(116.66761779785156, 97.59508514404297, 75.12129974365234)\n",
      "---Iteration 31\n",
      "Synthesis:(116.66761779785156, 97.59508514404297, 75.12129974365234)\n",
      "New RGB Measurement: (103, 98, 83)\n",
      "Characterisation:(103, 98, 83)\n",
      "Error:198.9899494949431\n",
      "Planning: Candidate:(119.88478088378906, 95.41311645507812, 74.71212768554688)\n",
      "---Iteration 32\n",
      "Synthesis:(119.88478088378906, 95.41311645507812, 74.71212768554688)\n",
      "New RGB Measurement: (103, 98, 83)\n",
      "Characterisation:(103, 98, 83)\n",
      "Error:198.9899494949431\n",
      "Planning: Candidate:(120.0302505493164, 95.30082702636719, 74.69214630126953)\n",
      "---Iteration 33\n",
      "Synthesis:(120.0302505493164, 95.30082702636719, 74.69214630126953)\n",
      "New RGB Measurement: (103, 98, 82)\n",
      "Characterisation:(103, 98, 82)\n",
      "Error:198.5749228880626\n",
      "Planning: Candidate:(120.04769134521484, 95.08985137939453, 73.56800842285156)\n",
      "---Iteration 34\n",
      "Synthesis:(120.04769134521484, 95.08985137939453, 73.56800842285156)\n",
      "New RGB Measurement: (103, 98, 82)\n",
      "Characterisation:(103, 98, 82)\n",
      "Error:198.5749228880626\n",
      "Planning: Candidate:(120.05851745605469, 95.04385375976562, 73.32408905029297)\n",
      "---Iteration 35\n",
      "Synthesis:(120.05851745605469, 95.04385375976562, 73.32408905029297)\n",
      "New RGB Measurement: (105, 97, 83)\n",
      "Characterisation:(105, 97, 83)\n",
      "Error:196.97207923967295\n"
     ]
    },
    {
     "name": "stdout",
     "output_type": "stream",
     "text": [
      "Planning: Candidate:(122.96755981445312, 94.18365478515625, 74.53904724121094)\n",
      "---Iteration 36\n",
      "Synthesis:(122.96755981445312, 94.18365478515625, 74.53904724121094)\n",
      "New RGB Measurement: (106, 97, 81)\n",
      "Characterisation:(106, 97, 81)\n",
      "Error:195.37400031734006\n",
      "Planning: Candidate:(124.84736633300781, 93.86410522460938, 72.85953521728516)\n",
      "---Iteration 37\n",
      "Synthesis:(124.84736633300781, 93.86410522460938, 72.85953521728516)\n",
      "New RGB Measurement: (106, 97, 81)\n",
      "Characterisation:(106, 97, 81)\n",
      "Error:195.37400031734006\n",
      "Planning: Candidate:(124.9052963256836, 93.82628631591797, 72.68416595458984)\n",
      "---Iteration 38\n",
      "Synthesis:(124.9052963256836, 93.82628631591797, 72.68416595458984)\n",
      "New RGB Measurement: (108, 95, 81)\n",
      "Characterisation:(108, 95, 81)\n",
      "Error:192.8600528880981\n",
      "Planning: Candidate:(127.48382568359375, 90.87822723388672, 72.67536163330078)\n",
      "---Iteration 39\n",
      "Synthesis:(127.48382568359375, 90.87822723388672, 72.67536163330078)\n",
      "New RGB Measurement: (108, 95, 81)\n",
      "Characterisation:(108, 95, 81)\n",
      "Error:192.8600528880981\n",
      "Planning: Candidate:(127.51155853271484, 90.7791748046875, 72.7060775756836)\n",
      "---Iteration 40\n",
      "Synthesis:(127.51155853271484, 90.7791748046875, 72.7060775756836)\n",
      "New RGB Measurement: (109, 94, 81)\n",
      "Characterisation:(109, 94, 81)\n",
      "Error:191.60636732634956\n",
      "Planning: Candidate:(127.7596206665039, 89.5612564086914, 72.4300765991211)\n",
      "---Iteration 41\n",
      "Synthesis:(127.7596206665039, 89.5612564086914, 72.4300765991211)\n",
      "New RGB Measurement: (111, 93, 80)\n",
      "Characterisation:(111, 93, 80)\n",
      "Error:189.16923639957952\n",
      "Planning: Candidate:(131.67420959472656, 88.12488555908203, 71.21295928955078)\n",
      "---Iteration 42\n",
      "Synthesis:(131.67420959472656, 88.12488555908203, 71.21295928955078)\n",
      "New RGB Measurement: (111, 93, 80)\n",
      "Characterisation:(111, 93, 80)\n",
      "Error:189.16923639957952\n",
      "Planning: Candidate:(132.15867614746094, 87.90632629394531, 71.35894012451172)\n",
      "---Iteration 43\n",
      "Synthesis:(132.15867614746094, 87.90632629394531, 71.35894012451172)\n",
      "New RGB Measurement: (113, 92, 81)\n",
      "Characterisation:(113, 92, 81)\n",
      "Error:187.5873130038383\n",
      "Planning: Candidate:(134.84881591796875, 87.44849395751953, 73.02670288085938)\n",
      "---Iteration 44\n",
      "Synthesis:(134.84881591796875, 87.44849395751953, 73.02670288085938)\n",
      "New RGB Measurement: (113, 92, 81)\n",
      "Characterisation:(113, 92, 81)\n",
      "Error:187.5873130038383\n",
      "Planning: Candidate:(134.90948486328125, 87.42403411865234, 73.13432312011719)\n",
      "---Iteration 45\n",
      "Synthesis:(134.90948486328125, 87.42403411865234, 73.13432312011719)\n",
      "New RGB Measurement: (116, 90, 80)\n",
      "Characterisation:(116, 90, 80)\n",
      "Error:183.90486671102536\n",
      "Planning: Candidate:(138.986083984375, 83.37390899658203, 71.307373046875)\n",
      "---Iteration 46\n",
      "Synthesis:(138.986083984375, 83.37390899658203, 71.307373046875)\n",
      "New RGB Measurement: (116, 89, 80)\n",
      "Characterisation:(116, 89, 80)\n",
      "Error:183.41755641159327\n",
      "Planning: Candidate:(139.7207489013672, 82.61042022705078, 71.25530242919922)\n",
      "---Iteration 47\n",
      "Synthesis:(139.7207489013672, 82.61042022705078, 71.25530242919922)\n",
      "New RGB Measurement: (118, 89, 80)\n",
      "Characterisation:(118, 89, 80)\n",
      "Error:181.90656942507601\n",
      "Planning: Candidate:(143.71450805664062, 82.72005462646484, 71.9278564453125)\n",
      "---Iteration 48\n",
      "Synthesis:(143.71450805664062, 82.72005462646484, 71.9278564453125)\n",
      "New RGB Measurement: (119, 87, 79)\n",
      "Characterisation:(119, 87, 79)\n",
      "Error:179.7386992275175\n",
      "Planning: Candidate:(145.21316528320312, 79.27975463867188, 70.77606201171875)\n",
      "---Iteration 49\n",
      "Synthesis:(145.21316528320312, 79.27975463867188, 70.77606201171875)\n",
      "New RGB Measurement: (119, 87, 79)\n",
      "Characterisation:(119, 87, 79)\n",
      "Error:179.7386992275175\n",
      "Planning: Candidate:(145.44674682617188, 79.03047180175781, 70.54310607910156)\n",
      "---Iteration 50\n",
      "Synthesis:(145.44674682617188, 79.03047180175781, 70.54310607910156)\n",
      "New RGB Measurement: (124, 85, 79)\n",
      "Characterisation:(124, 85, 79)\n",
      "Error:175.00571419242286\n",
      "Planning: Candidate:(153.24032592773438, 76.77183532714844, 72.3856430053711)\n",
      "---Iteration 51\n",
      "Synthesis:(153.24032592773438, 76.77183532714844, 72.3856430053711)\n",
      "New RGB Measurement: (124, 85, 79)\n",
      "Characterisation:(124, 85, 79)\n",
      "Error:175.00571419242286\n",
      "Planning: Candidate:(153.30267333984375, 76.76786804199219, 72.46578216552734)\n",
      "---Iteration 52\n",
      "Synthesis:(153.30267333984375, 76.76786804199219, 72.46578216552734)\n",
      "New RGB Measurement: (128, 82, 77)\n",
      "Characterisation:(128, 82, 77)\n",
      "Error:169.6525861871843\n",
      "Planning: Candidate:(158.2552947998047, 72.20172119140625, 67.85585021972656)\n",
      "---Iteration 53\n",
      "Synthesis:(158.2552947998047, 72.20172119140625, 67.85585021972656)\n",
      "New RGB Measurement: (131, 80, 77)\n",
      "Characterisation:(131, 80, 77)\n",
      "Error:166.44819013735176\n",
      "Planning: Candidate:(162.5110321044922, 68.28543853759766, 69.66539764404297)\n",
      "---Iteration 54\n",
      "Synthesis:(162.5110321044922, 68.28543853759766, 69.66539764404297)\n",
      "New RGB Measurement: (131, 80, 77)\n",
      "Characterisation:(131, 80, 77)\n",
      "Error:166.44819013735176\n",
      "Planning: Candidate:(162.82998657226562, 68.24763488769531, 69.78715515136719)\n",
      "---Iteration 55\n",
      "Synthesis:(162.82998657226562, 68.24763488769531, 69.78715515136719)\n",
      "New RGB Measurement: (134, 77, 74)\n",
      "Characterisation:(134, 77, 74)\n",
      "Error:161.3877318757532\n",
      "Planning: Candidate:(165.95338439941406, 64.37889099121094, 63.57501983642578)\n",
      "---Iteration 56\n",
      "Synthesis:(165.95338439941406, 64.37889099121094, 63.57501983642578)\n",
      "New RGB Measurement: (134, 77, 74)\n",
      "Characterisation:(134, 77, 74)\n",
      "Error:161.3877318757532\n",
      "Planning: Candidate:(165.82476806640625, 64.39781188964844, 63.50077438354492)\n",
      "---Iteration 57\n",
      "Synthesis:(165.82476806640625, 64.39781188964844, 63.50077438354492)\n",
      "New RGB Measurement: (141, 74, 74)\n",
      "Characterisation:(141, 74, 74)\n",
      "Error:154.75141356381855\n",
      "Planning: Candidate:(178.08370971679688, 61.70816421508789, 65.23340606689453)\n",
      "---Iteration 58\n",
      "Synthesis:(178.08370971679688, 61.70816421508789, 65.23340606689453)\n",
      "New RGB Measurement: (141, 74, 74)\n",
      "Characterisation:(141, 74, 74)\n",
      "Error:154.75141356381855\n",
      "Planning: Candidate:(177.999755859375, 61.74238586425781, 65.3458251953125)\n",
      "---Iteration 59\n",
      "Synthesis:(177.999755859375, 61.74238586425781, 65.3458251953125)\n",
      "New RGB Measurement: (144, 71, 73)\n",
      "Characterisation:(144, 71, 73)\n",
      "Error:150.63532122314473\n",
      "Planning: Candidate:(180.75613403320312, 54.39376449584961, 64.03731536865234)\n",
      "---Iteration 60\n",
      "Synthesis:(180.75613403320312, 54.39376449584961, 64.03731536865234)\n",
      "New RGB Measurement: (150, 68, 69)\n",
      "Characterisation:(150, 68, 69)\n",
      "Error:142.86357128393507\n",
      "Planning: Candidate:(190.7136993408203, 54.78794860839844, 56.384193420410156)\n",
      "---Iteration 61\n",
      "Synthesis:(190.7136993408203, 54.78794860839844, 56.384193420410156)\n",
      "New RGB Measurement: (150, 68, 69)\n",
      "Characterisation:(150, 68, 69)\n",
      "Error:142.86357128393507\n",
      "Planning: Candidate:(190.5229949951172, 54.87107467651367, 56.241085052490234)\n",
      "---Iteration 62\n",
      "Synthesis:(190.5229949951172, 54.87107467651367, 56.241085052490234)\n",
      "New RGB Measurement: (156, 65, 69)\n",
      "Characterisation:(156, 65, 69)\n",
      "Error:137.0656776877421\n",
      "Planning: Candidate:(202.44085693359375, 48.996883392333984, 59.171878814697266)\n",
      "---Iteration 63\n",
      "Synthesis:(202.44085693359375, 48.996883392333984, 59.171878814697266)\n",
      "New RGB Measurement: (156, 65, 69)\n",
      "Characterisation:(156, 65, 69)\n",
      "Error:137.0656776877421\n",
      "Planning: Candidate:(201.27964782714844, 49.51900100708008, 58.44194030761719)\n",
      "---Iteration 64\n",
      "Synthesis:(201.27964782714844, 49.51900100708008, 58.44194030761719)\n",
      "New RGB Measurement: (162, 62, 65)\n",
      "Characterisation:(162, 62, 65)\n",
      "Error:129.29810516786392\n",
      "Planning: Candidate:(210.0299835205078, 45.40341567993164, 49.73080825805664)\n",
      "---Iteration 65\n",
      "Synthesis:(210.0299835205078, 45.40341567993164, 49.73080825805664)\n",
      "New RGB Measurement: (162, 62, 65)\n",
      "Characterisation:(162, 62, 65)\n",
      "Error:129.29810516786392\n",
      "Planning: Candidate:(209.7889404296875, 45.542362213134766, 49.79874801635742)\n",
      "---Iteration 66\n",
      "Synthesis:(209.7889404296875, 45.542362213134766, 49.79874801635742)\n",
      "New RGB Measurement: (167, 58, 63)\n",
      "Characterisation:(167, 58, 63)\n",
      "Error:122.78843593759146\n",
      "Planning: Candidate:(213.896484375, 35.532470703125, 46.58211898803711)\n",
      "---Iteration 67\n",
      "Synthesis:(213.896484375, 35.532470703125, 46.58211898803711)\n",
      "New RGB Measurement: (167, 58, 63)\n",
      "Characterisation:(167, 58, 63)\n",
      "Error:122.78843593759146\n",
      "Planning: Candidate:(213.68438720703125, 35.4118537902832, 46.786468505859375)\n",
      "---Iteration 68\n",
      "Synthesis:(213.68438720703125, 35.4118537902832, 46.786468505859375)\n",
      "New RGB Measurement: (173, 57, 59)\n",
      "Characterisation:(173, 57, 59)\n",
      "Error:115.99137898999219\n"
     ]
    },
    {
     "name": "stdout",
     "output_type": "stream",
     "text": [
      "Planning: Candidate:(226.32716369628906, 40.464176177978516, 41.1168098449707)\n",
      "---Iteration 69\n",
      "Synthesis:(226.32716369628906, 40.464176177978516, 41.1168098449707)\n",
      "New RGB Measurement: (173, 57, 59)\n",
      "Characterisation:(173, 57, 59)\n",
      "Error:115.99137898999219\n",
      "Planning: Candidate:(227.17364501953125, 39.9209098815918, 42.005409240722656)\n",
      "---Iteration 70\n",
      "Synthesis:(227.17364501953125, 39.9209098815918, 42.005409240722656)\n",
      "New RGB Measurement: (178, 53, 57)\n",
      "Characterisation:(178, 53, 57)\n",
      "Error:109.48515881159419\n",
      "Planning: Candidate:(233.14584350585938, 32.1894645690918, 38.3975830078125)\n",
      "---Iteration 71\n",
      "Synthesis:(233.14584350585938, 32.1894645690918, 38.3975830078125)\n",
      "New RGB Measurement: (178, 53, 57)\n",
      "Characterisation:(178, 53, 57)\n",
      "Error:109.48515881159419\n",
      "Planning: Candidate:(233.88729858398438, 30.889116287231445, 39.5556755065918)\n",
      "---Iteration 72\n",
      "Synthesis:(233.88729858398438, 30.889116287231445, 39.5556755065918)\n",
      "New RGB Measurement: (180, 51, 54)\n",
      "Characterisation:(180, 51, 54)\n",
      "Error:105.55567251455508\n",
      "Planning: Candidate:(233.91368103027344, 28.329771041870117, 34.15423583984375)\n",
      "---Iteration 73\n",
      "Synthesis:(233.91368103027344, 28.329771041870117, 34.15423583984375)\n",
      "New RGB Measurement: (180, 51, 54)\n",
      "Characterisation:(180, 51, 54)\n",
      "Error:105.55567251455508\n",
      "Planning: Candidate:(232.54478454589844, 29.461584091186523, 33.422454833984375)\n",
      "---Iteration 74\n",
      "Synthesis:(232.54478454589844, 29.461584091186523, 33.422454833984375)\n",
      "New RGB Measurement: (184, 49, 53)\n",
      "Characterisation:(184, 49, 53)\n",
      "Error:101.24722218411723\n",
      "Planning: Candidate:(243.2647247314453, 25.86273956298828, 34.02597427368164)\n",
      "---Iteration 75\n",
      "Synthesis:(243.2647247314453, 25.86273956298828, 34.02597427368164)\n",
      "New RGB Measurement: (184, 49, 53)\n",
      "Characterisation:(184, 49, 53)\n",
      "Error:101.24722218411723\n",
      "Planning: Candidate:(244.37355041503906, 25.549196243286133, 34.21360778808594)\n",
      "---Iteration 76\n",
      "Synthesis:(244.37355041503906, 25.549196243286133, 34.21360778808594)\n",
      "New RGB Measurement: (186, 49, 52)\n",
      "Characterisation:(186, 49, 52)\n",
      "Error:99.32774033471213\n",
      "Planning: Candidate:(247.94264221191406, 27.022869110107422, 33.04975509643555)\n",
      "---Iteration 77\n",
      "Synthesis:(247.94264221191406, 27.022869110107422, 33.04975509643555)\n",
      "New RGB Measurement: (186, 49, 52)\n",
      "Characterisation:(186, 49, 52)\n",
      "Error:99.32774033471213\n",
      "Planning: Candidate:(247.69277954101562, 28.00542449951172, 31.457059860229492)\n",
      "---Iteration 78\n",
      "Synthesis:(247.69277954101562, 28.00542449951172, 31.457059860229492)\n",
      "New RGB Measurement: (188, 47, 51)\n",
      "Characterisation:(188, 47, 51)\n",
      "Error:96.43132271207318\n",
      "Planning: Candidate:(250.99314880371094, 24.785009384155273, 32.006752014160156)\n",
      "---Iteration 79\n",
      "Synthesis:(250.99314880371094, 24.785009384155273, 32.006752014160156)\n",
      "New RGB Measurement: (188, 47, 51)\n",
      "Characterisation:(188, 47, 51)\n",
      "Error:96.43132271207318\n",
      "Planning: Candidate:(250.24085998535156, 25.10538101196289, 30.843280792236328)\n",
      "---Iteration 80\n",
      "Synthesis:(250.24085998535156, 25.10538101196289, 30.843280792236328)\n",
      "New RGB Measurement: (189, 46, 50)\n",
      "Characterisation:(189, 46, 50)\n",
      "Error:94.72064188971694\n",
      "Planning: Candidate:(250.8145751953125, 23.577478408813477, 29.561016082763672)\n",
      "---Iteration 81\n",
      "Synthesis:(250.8145751953125, 23.577478408813477, 29.561016082763672)\n",
      "New RGB Measurement: (189, 46, 50)\n",
      "Characterisation:(189, 46, 50)\n",
      "Error:94.72064188971694\n",
      "Planning: Candidate:(251.63954162597656, 21.89357566833496, 29.977787017822266)\n",
      "---Iteration 82\n",
      "Synthesis:(251.63954162597656, 21.89357566833496, 29.977787017822266)\n",
      "New RGB Measurement: (190, 45, 49)\n",
      "Characterisation:(190, 45, 49)\n",
      "Error:93.01075206662937\n",
      "Planning: Candidate:(251.51707458496094, 21.5146541595459, 28.91033935546875)\n",
      "---Iteration 83\n",
      "Synthesis:(251.51707458496094, 21.5146541595459, 28.91033935546875)\n",
      "New RGB Measurement: (190, 45, 49)\n",
      "Characterisation:(190, 45, 49)\n",
      "Error:93.01075206662937\n",
      "Planning: Candidate:(237.40257263183594, 25.74327850341797, 35.06786346435547)\n",
      "---Iteration 84\n",
      "Synthesis:(237.40257263183594, 25.74327850341797, 35.06786346435547)\n",
      "New RGB Measurement: (191, 45, 49)\n",
      "Characterisation:(191, 45, 49)\n",
      "Error:92.31467922275417\n",
      "Planning: Candidate:(238.9448699951172, 25.645219802856445, 34.83320999145508)\n",
      "---Iteration 85\n",
      "Synthesis:(238.9448699951172, 25.645219802856445, 34.83320999145508)\n",
      "New RGB Measurement: (191, 45, 49)\n",
      "Characterisation:(191, 45, 49)\n",
      "Error:92.31467922275417\n",
      "Planning: Candidate:(239.8865203857422, 25.574922561645508, 34.68426513671875)\n",
      "---Iteration 86\n",
      "Synthesis:(239.8865203857422, 25.574922561645508, 34.68426513671875)\n",
      "New RGB Measurement: (190, 46, 50)\n",
      "Characterisation:(190, 46, 50)\n",
      "Error:94.02659198333204\n",
      "Planning: Candidate:(240.59019470214844, 25.615720748901367, 34.749691009521484)\n",
      "---Iteration 87\n",
      "Synthesis:(240.59019470214844, 25.615720748901367, 34.749691009521484)\n",
      "New RGB Measurement: (190, 46, 50)\n",
      "Characterisation:(190, 46, 50)\n",
      "Error:94.02659198333204\n",
      "Planning: Candidate:(241.18600463867188, 25.624780654907227, 34.785037994384766)\n",
      "---Iteration 88\n",
      "Synthesis:(241.18600463867188, 25.624780654907227, 34.785037994384766)\n",
      "New RGB Measurement: (190, 46, 50)\n",
      "Characterisation:(190, 46, 50)\n",
      "Error:94.02659198333204\n",
      "Planning: Candidate:(241.7096405029297, 25.615331649780273, 34.800846099853516)\n",
      "---Iteration 89\n",
      "Synthesis:(241.7096405029297, 25.615331649780273, 34.800846099853516)\n",
      "New RGB Measurement: (188, 47, 51)\n",
      "Characterisation:(188, 47, 51)\n",
      "Error:96.43132271207318\n",
      "Planning: Candidate:(241.98902893066406, 25.528881072998047, 34.672332763671875)\n",
      "---Iteration 90\n",
      "Synthesis:(241.98902893066406, 25.528881072998047, 34.672332763671875)\n",
      "New RGB Measurement: (188, 47, 51)\n",
      "Characterisation:(188, 47, 51)\n",
      "Error:96.43132271207318\n",
      "Planning: Candidate:(242.25856018066406, 25.446901321411133, 34.556556701660156)\n",
      "---Iteration 91\n",
      "Synthesis:(242.25856018066406, 25.446901321411133, 34.556556701660156)\n",
      "New RGB Measurement: (188, 47, 51)\n",
      "Characterisation:(188, 47, 51)\n",
      "Error:96.43132271207318\n",
      "Planning: Candidate:(242.51583862304688, 25.368722915649414, 34.45146942138672)\n",
      "---Iteration 92\n",
      "Synthesis:(242.51583862304688, 25.368722915649414, 34.45146942138672)\n",
      "New RGB Measurement: (189, 47, 51)\n",
      "Characterisation:(189, 47, 51)\n",
      "Error:95.73922915921143\n",
      "Planning: Candidate:(242.97366333007812, 25.35927391052246, 34.46689224243164)\n",
      "---Iteration 93\n",
      "Synthesis:(242.97366333007812, 25.35927391052246, 34.46689224243164)\n",
      "New RGB Measurement: (189, 47, 51)\n",
      "Characterisation:(189, 47, 51)\n",
      "Error:95.73922915921143\n",
      "Planning: Candidate:(243.3736572265625, 25.33696174621582, 34.46935272216797)\n",
      "---Iteration 94\n",
      "Synthesis:(243.3736572265625, 25.33696174621582, 34.46935272216797)\n",
      "New RGB Measurement: (189, 46, 51)\n",
      "Characterisation:(189, 46, 51)\n",
      "Error:95.25229656024048\n",
      "Planning: Candidate:(243.55865478515625, 25.195556640625, 34.36369705200195)\n",
      "---Iteration 95\n",
      "Synthesis:(243.55865478515625, 25.195556640625, 34.36369705200195)\n",
      "New RGB Measurement: (189, 46, 51)\n",
      "Characterisation:(189, 46, 51)\n",
      "Error:95.25229656024048\n",
      "Planning: Candidate:(243.7910919189453, 25.082242965698242, 34.287296295166016)\n",
      "---Iteration 96\n",
      "Synthesis:(243.7910919189453, 25.082242965698242, 34.287296295166016)\n",
      "New RGB Measurement: (189, 46, 51)\n",
      "Characterisation:(189, 46, 51)\n",
      "Error:95.25229656024048\n",
      "Planning: Candidate:(244.02737426757812, 24.984376907348633, 34.22301483154297)\n",
      "---Iteration 97\n",
      "Synthesis:(244.02737426757812, 24.984376907348633, 34.22301483154297)\n",
      "New RGB Measurement: (189, 47, 50)\n",
      "Characterisation:(189, 47, 50)\n",
      "Error:95.2102935611481\n",
      "Planning: Candidate:(244.25311279296875, 24.895273208618164, 34.135581970214844)\n",
      "---Iteration 98\n",
      "Synthesis:(244.25311279296875, 24.895273208618164, 34.135581970214844)\n",
      "New RGB Measurement: (189, 47, 50)\n",
      "Characterisation:(189, 47, 50)\n",
      "Error:95.2102935611481\n",
      "Planning: Candidate:(244.4806671142578, 24.816390991210938, 34.06446075439453)\n",
      "---Iteration 99\n",
      "Synthesis:(244.4806671142578, 24.816390991210938, 34.06446075439453)\n",
      "New RGB Measurement: (189, 47, 50)\n",
      "Characterisation:(189, 47, 50)\n",
      "Error:95.2102935611481\n",
      "Planning: Candidate:(244.70008850097656, 24.743793487548828, 33.99925994873047)\n"
     ]
    },
    {
     "data": {
      "text/plain": [
       "-1"
      ]
     },
     "execution_count": 25,
     "metadata": {},
     "output_type": "execute_result"
    }
   ],
   "source": [
    "import random\n",
    "import numpy as np\n",
    "import cv2\n",
    "\n",
    "# Create a blank image\n",
    "width, height = 800, 400\n",
    "image = np.zeros((height, width, 3), dtype=np.uint8)\n",
    "\n",
    "# Create a named window for display\n",
    "cv2.namedWindow(\"Live Image\", cv2.WINDOW_NORMAL)\n",
    "cv2.startWindowThread()\n",
    "\n",
    "# Define font properties for displaying text\n",
    "font = cv2.FONT_HERSHEY_SIMPLEX\n",
    "font_scale = 0.8\n",
    "font_color = (255, 255, 255)  # White color\n",
    "\n",
    "# Define the goal color\n",
    "goal_color = (255,0,0) \n",
    "\n",
    "# Main loop\n",
    "max_iterations = 100  # Set the desired number of iterations\n",
    "\n",
    "# Let us set up a data table to record the data more structured\n",
    "samples = pd.DataFrame(columns=['R', 'G', 'B', 'error', 'ID'])\n",
    "\n",
    "candidate_color = (0,0,0) # Initial color\n",
    "\n",
    "for iteration in range(max_iterations):\n",
    "    print(f\"---Iteration {iteration}\")\n",
    "\n",
    "    # STEP 1: Synthesis\n",
    "    # Update the live image with the current color\n",
    "    print(f\"Synthesis:{candidate_color}\")\n",
    "    image[:, :] = tuple(reversed(candidate_color))\n",
    "    \n",
    "    # Display the image\n",
    "    cv2.imshow(\"Live Image\", image)\n",
    "    \n",
    "    # STEP 2: Characterisation\n",
    "    # Measure the color by just plugging it in\n",
    "    rgb_measurement = characterise()\n",
    "    print(f\"Characterisation:{rgb_measurement}\")\n",
    "    \n",
    "    # STEP 3: Planning\n",
    "    # Calculate the loss between the goal color and the current color\n",
    "    error = calculate_error(goal_color, rgb_measurement)\n",
    "    print(f\"Error:{error}\")\n",
    "\n",
    "    # Add the sample to the data table\n",
    "    new_sample = pd.DataFrame({\"R\":rgb_measurement[0], \"G\":rgb_measurement[1], \"B\":rgb_measurement[2], \"ID\":iteration, \"error\":error}, index=[iteration])\n",
    "    samples = pd.concat([samples, new_sample], axis=0, ignore_index=True)\n",
    "\n",
    "    candidate = calculate_candidate(samples)\n",
    "    candidate_color = (candidate['R'].item(), candidate['G'].item(), candidate['B'].item())\n",
    "    print(f\"Planning: Candidate:{candidate_color}\")\n",
    "    \n",
    "    # Add text information to the image\n",
    "    text = f\"Iteration: {iteration + 1}\"\n",
    "    cv2.putText(image, text, (10, 30), font, font_scale, font_color, 2)\n",
    "\n",
    "    # Plot a subplot for the goal color\n",
    "    # subplot_x = num_iterations * (width // (max_iterations + 1))\n",
    "    subplot_x = width // (max_iterations + 1)\n",
    "    subplot_width = 50\n",
    "    cv2.rectangle(image, (subplot_x, 60), (subplot_x + subplot_width, height - 60), tuple(reversed(goal_color)), -1)\n",
    "\n",
    "    # Add text for the error\n",
    "    error_text = f\"Error: {error:.2f}\"\n",
    "    cv2.putText(image, error_text, (10, height - 10), font, font_scale, font_color, 2)\n",
    "\n",
    "    error_values = list(samples['error'].to_numpy())    # Draw the graph of error values\n",
    "    if len(error_values) > 1:\n",
    "        for i in range(1, len(error_values)):\n",
    "            x1 = (i - 1) * (width // max_iterations)\n",
    "            y1 = height - int(error_values[i - 1] * (height - 60) / max(error_values))\n",
    "            x2 = i * (width // max_iterations)\n",
    "            y2 = height - int(error_values[i] * (height - 60) / max(error_values))\n",
    "            cv2.line(image, (x1, y1), (x2, y2), (255, 255, 255), 2)\n",
    "\n",
    "    # Increment the iteration counter\n",
    "    cv2.imshow(\"Live Image\", image)\n",
    "    cv2.waitKey(100)  # Adjust the wait time (in milliseconds) as needed\n",
    "    \n",
    "# Close the window after the desired number of iterations\n",
    "cv2.waitKey(1)\n",
    "cv2.destroyAllWindows()\n",
    "cv2.waitKey(1)"
   ]
  },
  {
   "cell_type": "code",
   "execution_count": 26,
   "id": "22fc8004",
   "metadata": {},
   "outputs": [
    {
     "data": {
      "text/plain": [
       "<matplotlib.legend.Legend at 0x29f978450>"
      ]
     },
     "execution_count": 26,
     "metadata": {},
     "output_type": "execute_result"
    },
    {
     "data": {
      "image/png": "[encoded data removed]",
      "text/plain": [
       "<Figure size 640x480 with 1 Axes>"
      ]
     },
     "metadata": {},
     "output_type": "display_data"
    }
   ],
   "source": [
    "import matplotlib.pyplot as plt\n",
    "# Plot error for each iteration\n",
    "plt.scatter(range(len(error_values)), error_values, label=\"Error for each iteration\")\n",
    "\n",
    "# Calculate best error so far\n",
    "best_error_so_far = 999999\n",
    "best_errors = []\n",
    "for value in error_values:\n",
    "    if value < best_error_so_far:\n",
    "        best_error_so_far = value\n",
    "    best_errors.append(best_error_so_far)\n",
    "    \n",
    "# Plot best error so far\n",
    "plt.plot(best_errors, label=\"Best Error So Far\", color=\"orange\")\n",
    "plt.legend()"
   ]
  },
  {
   "cell_type": "code",
   "execution_count": 27,
   "id": "95671af2",
   "metadata": {},
   "outputs": [
    {
     "data": {
      "text/plain": [
       "<matplotlib.legend.Legend at 0x2a056af90>"
      ]
     },
     "execution_count": 27,
     "metadata": {},
     "output_type": "execute_result"
    },
    {
     "data": {
      "image/png": "[encoded data removed]",
      "text/plain": [
       "<Figure size 640x480 with 1 Axes>"
      ]
     },
     "metadata": {},
     "output_type": "display_data"
    }
   ],
   "source": [
    "import matplotlib.pyplot as plt\n",
    "# Plot error for each iteration\n",
    "plt.scatter(range(len(error_values)), error_values, label=\"Error for each iteration\")\n",
    "\n",
    "# Calculate best error so far\n",
    "best_error_so_far = 1000\n",
    "best_errors = []\n",
    "for value in error_values:\n",
    "    if value < best_error_so_far:\n",
    "        best_error_so_far = value\n",
    "    best_errors.append(best_error_so_far)\n",
    "    \n",
    "# Plot best error so far\n",
    "plt.plot(best_errors, label=\"Best Error So Far\", color=\"orange\")\n",
    "plt.plot(samples['R'], color='red')\n",
    "plt.plot(samples['G'], color='green')\n",
    "plt.plot(samples['B'], color='blue')\n",
    "plt.legend()"
   ]
  },
  {
   "cell_type": "markdown",
   "id": "b637bfe6",
   "metadata": {},
   "source": [
    "## (4) Congratulations! \n",
    "\n",
    "### You just ran your first closed-loop self-driving laboratory. You learned how to do its 3 core steps:\n",
    "### 1. Synthesis: *Generating the material: a color on your screen (RGB)*\n",
    "### 2. Charactersiation: *Measuring the material: the color on your screen (in RGB)*\n",
    "### 3. Planning: *Choosing the next experiment: randomly, with a grid or with Bayesian Optimisation*\n",
    "\n",
    "## Next Steps: We have prepared notebooks that discuss each step in detail, see https://github.com/matterhorn-studio/SDL4Kids.com"
   ]
  },
  {
   "cell_type": "code",
   "execution_count": null,
   "id": "ca10b54f",
   "metadata": {},
   "outputs": [],
   "source": []
  },
  {
   "cell_type": "code",
   "execution_count": null,
   "id": "1b492826",
   "metadata": {},
   "outputs": [],
   "source": []
  }
 ],
 "metadata": {
  "kernelspec": {
   "display_name": "SDL4Kids_kernel",
   "language": "python",
   "name": "sdl4kids_kernel"
  },
  "language_info": {
   "codemirror_mode": {
    "name": "ipython",
    "version": 3
   },
   "file_extension": ".py",
   "mimetype": "text/x-python",
   "name": "python",
   "nbconvert_exporter": "python",
   "pygments_lexer": "ipython3",
   "version": "3.11.4"
  }
 },
 "nbformat": 4,
 "nbformat_minor": 5
}
