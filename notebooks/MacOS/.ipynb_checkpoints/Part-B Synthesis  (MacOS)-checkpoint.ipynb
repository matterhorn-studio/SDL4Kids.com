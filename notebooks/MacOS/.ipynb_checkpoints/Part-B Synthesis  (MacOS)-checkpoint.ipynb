{
 "cells": [
  {
   "cell_type": "markdown",
   "id": "7fadee20",
   "metadata": {
    "pycharm": {
     "name": "#%% md\n"
    }
   },
   "source": [
    "# Part B: Synthesis for your SDL (MacOS version)\n",
    "\n",
    "In this notebook, you will learn more about the first step of an SDL: *Synthesis*.\n",
    "\n",
    "ALL of the steps in this notebook are down without the microbit. We will introduce the microbit in Part C.\n",
    "\n",
    "Go to [sdl4kids.com](http://sdl4kids.com) for the Windows version.\n",
    "\n",
    "If you have any questions, check out the [FAQ](https://sites.google.com/matterhorn.studio/sdl4kids/faq)!"
   ]
  },
  {
   "cell_type": "markdown",
   "id": "7c546391",
   "metadata": {},
   "source": [
    "## Introduction\n",
    "\n",
    "We will look at all the building blocks required for showing squares different colors on your screen.\n",
    "\n",
    "1. Creating a window to draw colors in\n",
    "2. Rendering different colors into that window\n",
    "3. Updating the window with new colors"
   ]
  },
  {
   "cell_type": "markdown",
   "id": "861537d0",
   "metadata": {},
   "source": [
    "## (1) Creating a window and filling it with a color\n",
    "\n",
    "**Goal**: You will learn how to display different RGB colors on your screen.\n",
    "\n",
    "RGB is a short-hand for the colors \"Red\", \"Green\" and \"Blue\". \n",
    "\n",
    "By *mixing* these three colors, we can create all kinds of colors on your screen.  For example\n",
    "\n",
    "1. (255,0,0) is 100% red and no other color, so the screen will be fully red.\n",
    "2. (255,0,255) is red and blue together, which makes pink!\n",
    "3. (255,255,255) is 100% for all of red, green and blue, which makes the color white.\n"
   ]
  },
  {
   "cell_type": "markdown",
   "id": "d74f3500",
   "metadata": {},
   "source": [
    "First, we will import 'cv2', the python software library which we will use to draw rectangles on our screen. ([Installation instructions](https://github.com/opencv/opencv-python))\n",
    "\n",
    "We also import numpy for some calculations later. ([Installation instructions](https://numpy.org/install/))"
   ]
  },
  {
   "cell_type": "code",
   "execution_count": 1,
   "id": "2f2aad3d",
   "metadata": {},
   "outputs": [],
   "source": [
    "import cv2\n",
    "import numpy as np"
   ]
  },
  {
   "cell_type": "markdown",
   "id": "cb8a590d",
   "metadata": {},
   "source": [
    "Then, we define what RGB values we want to mix and put them together into one a single object (also called a *tuple*)."
   ]
  },
  {
   "cell_type": "code",
   "execution_count": 2,
   "id": "2778ef59",
   "metadata": {},
   "outputs": [],
   "source": [
    "red = 255\n",
    "green = 0\n",
    "blue = 0\n",
    "\n",
    "current_color = (red, green, blue)"
   ]
  },
  {
   "cell_type": "markdown",
   "id": "47b2862c",
   "metadata": {},
   "source": [
    "The following code will create a window and fill it with our 'current_color'. \n",
    "\n",
    "Make sure you have an idea what each of the steps does!"
   ]
  },
  {
   "cell_type": "code",
   "execution_count": 6,
   "id": "314cfd23",
   "metadata": {},
   "outputs": [
    {
     "data": {
      "text/plain": [
       "-1"
      ]
     },
     "execution_count": 6,
     "metadata": {},
     "output_type": "execute_result"
    }
   ],
   "source": [
    "# 1. Create a window to display our color and give it a name\n",
    "cv2.namedWindow(\"Synthesis Window\", cv2.WINDOW_NORMAL)\n",
    "cv2.startWindowThread()\n",
    "\n",
    "# 2. Create a blank image of size 800 by 400\n",
    "width, height = 800, 400\n",
    "image = np.zeros((height, width, 3), dtype=np.uint8)\n",
    "\n",
    "# 3. Fill it with our current color\n",
    "image[:, :] = tuple(reversed(current_color)) #cv2 expects colors in the BGR order, not RGB\n",
    "\n",
    "# 4. Display the image\n",
    "cv2.imshow(\"Live Image\", image)\n",
    "\n",
    "# 5. Wait for 3000 milliseconds (i.e. 3 seconds) so we can see the window\n",
    "cv2.waitKey(3000)  \n",
    "\n",
    "# 6. Close the CV2 window\n",
    "cv2.waitKey(1)\n",
    "cv2.destroyAllWindows()\n",
    "cv2.waitKey(1)"
   ]
  },
  {
   "cell_type": "markdown",
   "id": "a7be9b75",
   "metadata": {},
   "source": [
    "**Task**: Now try it yourself: Change the RGB value above (i.e. the variable current_color), and see what different rectangles you can create!"
   ]
  },
  {
   "cell_type": "code",
   "execution_count": 4,
   "id": "dde37817",
   "metadata": {},
   "outputs": [],
   "source": [
    "current_color = (0,255,255)"
   ]
  },
  {
   "cell_type": "markdown",
   "id": "77581851",
   "metadata": {
    "pycharm": {
     "name": "#%% md\n"
    }
   },
   "source": [
    "## (2) Generating a random colors"
   ]
  },
  {
   "cell_type": "markdown",
   "id": "cfd2c5e7",
   "metadata": {},
   "source": [
    "We will define a function that will give us random RGB combinations, i.e. three random numbers, each between 0 and 255:"
   ]
  },
  {
   "cell_type": "code",
   "execution_count": 7,
   "id": "e3f6ecb7",
   "metadata": {},
   "outputs": [],
   "source": [
    "import random #this package give us access to a function called 'randint(lowest, highest)'\n",
    "def generate_random_color():\n",
    "    red = random.randint(0, 255)\n",
    "    green = random.randint(0, 255)\n",
    "    blue = random.randint(0, 255)\n",
    "    return red, green, blue  # OpenCV uses BGR color format"
   ]
  },
  {
   "cell_type": "markdown",
   "id": "2ba76b4e",
   "metadata": {},
   "source": [
    "Give the function a try, run it a few time to generate different random colors:"
   ]
  },
  {
   "cell_type": "code",
   "execution_count": 10,
   "id": "248d5233",
   "metadata": {},
   "outputs": [
    {
     "data": {
      "text/plain": [
       "(72, 225, 69)"
      ]
     },
     "execution_count": 10,
     "metadata": {},
     "output_type": "execute_result"
    }
   ],
   "source": [
    "generate_random_color()"
   ]
  },
  {
   "cell_type": "markdown",
   "id": "82c7f17a",
   "metadata": {},
   "source": [
    "Let's generate 10 different random colors with a loop:"
   ]
  },
  {
   "cell_type": "code",
   "execution_count": 11,
   "id": "094f89ee",
   "metadata": {
    "pycharm": {
     "name": "#%%\n"
    }
   },
   "outputs": [
    {
     "data": {
      "text/plain": [
       "-1"
      ]
     },
     "execution_count": 11,
     "metadata": {},
     "output_type": "execute_result"
    }
   ],
   "source": [
    "# 1. Create a named window for display\n",
    "cv2.namedWindow(\"Synthesis Window\", cv2.WINDOW_NORMAL)\n",
    "cv2.startWindowThread()\n",
    "\n",
    "# 2. Create a blank image\n",
    "width, height = 800, 400\n",
    "image = np.zeros((height, width, 3), dtype=np.uint8)\n",
    "\n",
    "# 3. Define how many colors we want to show\n",
    "max_iterations = 10 \n",
    "\n",
    "for iteration in range(max_iterations):\n",
    "    # 4. Generate a new random color\n",
    "    current_color = generate_random_color()\n",
    "    \n",
    "    # 5. Update the live image with the current color\n",
    "    image[:, :] = tuple(reversed(current_color))\n",
    "    \n",
    "    # 6. Display the image\n",
    "    cv2.imshow(\"Live Image\", image)\n",
    "    \n",
    "    # 7. Wait half a second\n",
    "    cv2.waitKey(500) \n",
    "        \n",
    "# Close the window after the desired number of iterations\n",
    "cv2.waitKey(1)\n",
    "cv2.destroyAllWindows()\n",
    "cv2.waitKey(1)"
   ]
  },
  {
   "cell_type": "markdown",
   "id": "475f3b37",
   "metadata": {},
   "source": [
    "**Task**: Try changing the number of iterations or the time we wait before we show the next color to get a feeling for the loop."
   ]
  },
  {
   "cell_type": "markdown",
   "id": "8ceb1463",
   "metadata": {},
   "source": [
    "## (3) Setting a goal color and calculating the error\n",
    "\n",
    "Let's extend the loop above and calculate the *difference* between each random color and a 'target' color that we want to achieve. We will call this the *error* between our target color and another color.\n",
    "\n",
    "For example, if our goal is a completely red image, i.e.\n",
    "\n",
    "RGB_goal = (255,0,0)\n",
    "\n",
    "then difference between our goal and a different color will be\n",
    "\n",
    "RGB_goal - current_color = (255,0,0) - (150,100,200)\n",
    "\n",
    "if current color was (150,100,200).\n",
    "\n",
    "We will use the squared error to indicate that we only care *how far* the color is away from our goal, not whether it is bigger or smaller than the goal."
   ]
  },
  {
   "cell_type": "code",
   "execution_count": 12,
   "id": "f146cf6f",
   "metadata": {},
   "outputs": [],
   "source": [
    "def calculate_error(color1, color2):\n",
    "    return np.sqrt((color1[0] - color2[0]) ** 2 + (color1[1] - color2[1]) ** 2 + (color1[2] - color2[2]) ** 2)"
   ]
  },
  {
   "cell_type": "markdown",
   "id": "4ae991ef",
   "metadata": {},
   "source": [
    "**Task**: Use the calculate function to calculate the difference between two colors, e.g. with goal = (255,0,0)\n",
    "\n",
    "Which color is furthest away from our goal of (255,0,0)?"
   ]
  },
  {
   "cell_type": "code",
   "execution_count": 14,
   "id": "555ff97a",
   "metadata": {},
   "outputs": [
    {
     "data": {
      "text/plain": [
       "320.7802986469088"
      ]
     },
     "execution_count": 14,
     "metadata": {},
     "output_type": "execute_result"
    }
   ],
   "source": [
    "RGB_goal = (255,0,0)\n",
    "current_color = (25,100,200)\n",
    "calculate_error(RGB_goal, current_color)"
   ]
  },
  {
   "cell_type": "markdown",
   "id": "3d8137bf",
   "metadata": {},
   "source": [
    "Let's generate some random colors and calculate their errors (printed below the cell):"
   ]
  },
  {
   "cell_type": "code",
   "execution_count": 15,
   "id": "ea6f1396",
   "metadata": {},
   "outputs": [
    {
     "name": "stdout",
     "output_type": "stream",
     "text": [
      "Error:268.0093281958671\n",
      "Error:278.65929017350203\n",
      "Error:337.78839530096354\n",
      "Error:224.69757453074567\n",
      "Error:429.12352533973245\n",
      "Error:209.51372270092477\n",
      "Error:243.66370267235126\n",
      "Error:275.05999345597314\n",
      "Error:249.04015740438328\n",
      "Error:246.52788888886386\n"
     ]
    },
    {
     "data": {
      "text/plain": [
       "-1"
      ]
     },
     "execution_count": 15,
     "metadata": {},
     "output_type": "execute_result"
    }
   ],
   "source": [
    "# 1. Create a named window for display\n",
    "cv2.namedWindow(\"Synthesis Window\", cv2.WINDOW_NORMAL)\n",
    "cv2.startWindowThread()\n",
    "\n",
    "# 2. Create a blank image\n",
    "width, height = 800, 400\n",
    "image = np.zeros((height, width, 3), dtype=np.uint8)\n",
    "\n",
    "# 3.1 Define how many colors we want to show\n",
    "max_iterations = 10 \n",
    "\n",
    "# 3.2 Let's define our goal color\n",
    "goal_color = (0,0,255) # BGR order, not RGB\n",
    "\n",
    "for iteration in range(max_iterations):\n",
    "    # 4. Generate a new random color\n",
    "    current_color = generate_random_color()\n",
    "    \n",
    "    # 5. Update the live image with the current color\n",
    "    image[:, :] = current_color\n",
    "    \n",
    "    # 6.1 Let's also calculate the difference between the random color and the goal\n",
    "    print(f\"Error:{calculate_error(goal_color, current_color)}\")\n",
    "    \n",
    "    # 6.2 Display the image\n",
    "    cv2.imshow(\"Live Image\", image)\n",
    "    \n",
    "    # 7. Wait half a second\n",
    "    cv2.waitKey(500) \n",
    "        \n",
    "# Close the window after the desired number of iterations\n",
    "cv2.waitKey(1)\n",
    "cv2.destroyAllWindows()\n",
    "cv2.waitKey(1)"
   ]
  },
  {
   "cell_type": "markdown",
   "id": "f9fb3b48",
   "metadata": {},
   "source": [
    "Let's also add a list called 'error_values' that save all the color differences so we can plot them"
   ]
  },
  {
   "cell_type": "code",
   "execution_count": 16,
   "id": "e0d71b3a",
   "metadata": {},
   "outputs": [
    {
     "name": "stdout",
     "output_type": "stream",
     "text": [
      "140.13564856951996\n",
      "202.03712530126734\n",
      "311.8733717392365\n",
      "392.5328011771755\n",
      "267.6378149664206\n",
      "280.1178323491741\n",
      "194.25241311242442\n",
      "199.6246477767713\n",
      "322.919494611273\n",
      "344.0668539688181\n"
     ]
    },
    {
     "data": {
      "text/plain": [
       "-1"
      ]
     },
     "execution_count": 16,
     "metadata": {},
     "output_type": "execute_result"
    }
   ],
   "source": [
    "# 1. Create a named window for display\n",
    "cv2.namedWindow(\"Synthesis Window\", cv2.WINDOW_NORMAL)\n",
    "cv2.startWindowThread()\n",
    "\n",
    "# 2. Create a blank image\n",
    "width, height = 800, 400\n",
    "image = np.zeros((height, width, 3), dtype=np.uint8)\n",
    "\n",
    "# 3.1 Define how many colors we want to show\n",
    "max_iterations = 10 \n",
    "\n",
    "# 3.2 Let's define our goal color\n",
    "goal_color = (255,0,0)\n",
    "\n",
    "# 3.3 Create an empty list to store the error values\n",
    "error_values = []\n",
    "\n",
    "for iteration in range(max_iterations):\n",
    "    # 4. Generate a new random color\n",
    "    current_color = generate_random_color()\n",
    "    \n",
    "    # 5. Update the live image with the current color\n",
    "    image[:, :] = tuple(reversed(current_color))\n",
    "    \n",
    "    # 6.1 Display the image\n",
    "    cv2.imshow(\"Live Image\", image)\n",
    "    \n",
    "    # 6.2 Let's also calculate the difference between the random color and the goal\n",
    "    error = calculate_error(goal_color, current_color)\n",
    "    error_values.append(error)\n",
    "    print(error)\n",
    "    \n",
    "    # 7. Wait half a second\n",
    "    cv2.waitKey(500) \n",
    "        \n",
    "# Close the window after the desired number of iterations\n",
    "cv2.waitKey(1)\n",
    "cv2.destroyAllWindows()\n",
    "cv2.waitKey(1)"
   ]
  },
  {
   "cell_type": "markdown",
   "id": "21514035",
   "metadata": {},
   "source": [
    "Now, we can also plot the error values at each iteration step."
   ]
  },
  {
   "cell_type": "code",
   "execution_count": 17,
   "id": "428e85f5",
   "metadata": {},
   "outputs": [
    {
     "data": {
      "text/plain": [
       "[<matplotlib.lines.Line2D at 0x16e573210>]"
      ]
     },
     "execution_count": 17,
     "metadata": {},
     "output_type": "execute_result"
    },
    {
     "data": {
      "image/png": "[encoded data removed]",
      "text/plain": [
       "<Figure size 640x480 with 1 Axes>"
      ]
     },
     "metadata": {},
     "output_type": "display_data"
    }
   ],
   "source": [
    "import matplotlib.pyplot as plt\n",
    "plt.plot(error_values)"
   ]
  },
  {
   "cell_type": "markdown",
   "id": "4adab653",
   "metadata": {
    "pycharm": {
     "name": "#%%\n"
    }
   },
   "source": [
    "**Task**: What happens when you run the loop for longer? Do you find more colors that have a small error?"
   ]
  },
  {
   "cell_type": "markdown",
   "id": "2dcf491c",
   "metadata": {},
   "source": [
    "## (4) Adding more details to the window\n",
    "\n",
    "We will add some more information to the window:\n",
    "\n",
    "1. A counter for the iterations. (top left)\n",
    "2. A line that shows the error. (left to right, in white)\n",
    "3. A gauge that shows the current error. (bottom left)\n",
    "4. The goal color, with a rectangle on the left side."
   ]
  },
  {
   "cell_type": "code",
   "execution_count": 18,
   "id": "c40d8b21",
   "metadata": {},
   "outputs": [
    {
     "name": "stdout",
     "output_type": "stream",
     "text": [
      "93.66429415737889\n",
      "166.71232707871366\n",
      "263.6399059323152\n",
      "344.9217302519515\n",
      "135.74240310234677\n",
      "169.62900695340994\n",
      "241.21359828998033\n",
      "217.3131381210073\n",
      "307.78888868833457\n",
      "278.54263587465385\n"
     ]
    },
    {
     "data": {
      "text/plain": [
       "-1"
      ]
     },
     "execution_count": 18,
     "metadata": {},
     "output_type": "execute_result"
    }
   ],
   "source": [
    "# 1. Create a named window for display\n",
    "cv2.namedWindow(\"Synthesis Window\", cv2.WINDOW_NORMAL)\n",
    "cv2.startWindowThread()\n",
    "\n",
    "# 2. Create a blank image\n",
    "width, height = 800, 400\n",
    "image = np.zeros((height, width, 3), dtype=np.uint8)\n",
    "\n",
    "# 3.1 Define how many colors we want to show\n",
    "max_iterations = 10 \n",
    "\n",
    "# 3.2 Let's define our goal color\n",
    "goal_color = (255,0,0)\n",
    "\n",
    "# 3.3 Create an empty list to store the error values\n",
    "error_values = []\n",
    "\n",
    "# 3.4 Define font properties for displaying text\n",
    "font = cv2.FONT_HERSHEY_SIMPLEX\n",
    "font_scale = 0.8\n",
    "font_color = (255, 255, 255)  # White color\n",
    "\n",
    "for iteration in range(max_iterations):\n",
    "    # 4. Generate a new random color\n",
    "    current_color = generate_random_color()\n",
    "    \n",
    "    # 5.1 Update the live image with the current color\n",
    "    image[:, :] = tuple(reversed(current_color))\n",
    "    \n",
    "    # 5.2 Let's plot the goal color\n",
    "    subplot_x = width // (max_iterations + 1)\n",
    "    subplot_width = width // (max_iterations + 1)\n",
    "    cv2.rectangle(image, (subplot_x, 60), (subplot_x + subplot_width, height - 60), tuple(reversed(goal_color)), -1)\n",
    "    \n",
    "    # 5.3 Let's also calculate the difference between the random color and the goal\n",
    "    error = calculate_error(goal_color, current_color)\n",
    "    error_values.append(error)\n",
    "    print(error)\n",
    "    \n",
    "    # 5.4. Add text information to the image\n",
    "    text = f\"Iteration: {iteration + 1}\"\n",
    "    cv2.putText(image, text, (10, 30), font, font_scale, font_color, 2)\n",
    "\n",
    "    # 5.5 Add text for the error\n",
    "    error_text = f\"Error: {error:.2f}\"\n",
    "    cv2.putText(image, error_text, (10, height - 10), font, font_scale, font_color, 2)\n",
    "\n",
    "    # 5.6 Draw the graph of error values\n",
    "    if len(error_values) > 1:\n",
    "        for i in range(1, len(error_values)):\n",
    "            x1 = (i - 1) * (width // max_iterations)\n",
    "            y1 = height - int(error_values[i - 1] * (height - 60) / max(error_values))\n",
    "            x2 = i * (width // max_iterations)\n",
    "            y2 = height - int(error_values[i] * (height - 60) / max(error_values))\n",
    "            cv2.line(image, (x1, y1), (x2, y2), (255, 255, 255), 2)\n",
    "    \n",
    "    # 6. Display the image again\n",
    "    cv2.imshow(\"Live Image\", image)\n",
    "    \n",
    "    # 8. Wait half a second\n",
    "    cv2.waitKey(500) \n",
    "        \n",
    "# Close the window after the desired number of iterations\n",
    "cv2.waitKey(1)\n",
    "cv2.destroyAllWindows()\n",
    "cv2.waitKey(1)"
   ]
  },
  {
   "cell_type": "markdown",
   "id": "673859ec",
   "metadata": {},
   "source": [
    "## (5) Conclusion\n",
    "\n",
    "Well done! You made it completed Part B of the SDL4Kids.com notebooks. \n",
    "\n",
    "You learnt:\n",
    "1. How to create windows\n",
    "2. Fill them with colors\n",
    "3. Fill them with random colors\n",
    "4. Calculate the difference of those random colors to a goal color\n",
    "5. Display a graph of the errors\n",
    "6. Add aditional information to the window\n",
    "\n",
    "### **Now it's time to move on to the second step of an SDL: Characterisation in the notebook \"Part C\"**"
   ]
  },
  {
   "cell_type": "code",
   "execution_count": null,
   "id": "fdeb7bb6",
   "metadata": {},
   "outputs": [],
   "source": []
  },
  {
   "cell_type": "code",
   "execution_count": null,
   "id": "a8f94568",
   "metadata": {},
   "outputs": [],
   "source": []
  }
 ],
 "metadata": {
  "kernelspec": {
   "display_name": "SDL4Kids_kernel",
   "language": "python",
   "name": "sdl4kids_kernel"
  },
  "language_info": {
   "codemirror_mode": {
    "name": "ipython",
    "version": 3
   },
   "file_extension": ".py",
   "mimetype": "text/x-python",
   "name": "python",
   "nbconvert_exporter": "python",
   "pygments_lexer": "ipython3",
   "version": "3.11.4"
  }
 },
 "nbformat": 4,
 "nbformat_minor": 5
}
