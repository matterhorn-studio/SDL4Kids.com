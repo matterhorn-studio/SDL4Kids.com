{
 "cells": [
  {
   "cell_type": "markdown",
   "id": "7fadee20",
   "metadata": {
    "pycharm": {
     "name": "#%% md\n"
    }
   },
   "source": [
    "# Part B: Synthesis for your SDL (MacOS version)\n",
    "\n",
    "In this notebook, you will learn more about the first step of an SDL: Synthesis.\n",
    "\n",
    "Go to [sdl4kids.com](http://sdl4kids.com) for the Windows version.\n",
    "\n",
    "If you have any questions, check out the [FAQ](https://sites.google.com/matterhorn.studio/sdl4kids/faq)!"
   ]
  },
  {
   "cell_type": "markdown",
   "id": "7c546391",
   "metadata": {},
   "source": [
    "## Introduction\n",
    "\n",
    "We will look at all the building blocks required for showing squares different colors on your screen.\n",
    "\n",
    "1. Creating a window\n",
    "2. Rendering different colors\n",
    "3. Updating the window"
   ]
  },
  {
   "cell_type": "markdown",
   "id": "861537d0",
   "metadata": {},
   "source": [
    "## (1) Creating a window and filling it with a color\n",
    "\n",
    "**Goal**: You will learn how to display different RGB colors on your screen.\n",
    "\n",
    "RGB is a short-hand for the colors \"Red\", \"Green\" and \"Blue\". \n",
    "\n",
    "By *mixing* these three colors, we can create all kinds of colors on your screen.  For example\n",
    "\n",
    "1. (255,0,0) is 100% red and no other color, so the screen will be fully red.\n",
    "2. (255,0,255) is red and blue together, which makes pink!\n",
    "3. (255,255,255) is 100% for all of red, green and blue, which makes the color white.\n"
   ]
  },
  {
   "cell_type": "markdown",
   "id": "d74f3500",
   "metadata": {},
   "source": [
    "First, we will import 'cv2', the python software library which we will use to draw rectangles on our screen. We also import numpy for some calculations later."
   ]
  },
  {
   "cell_type": "code",
   "execution_count": 3,
   "id": "2f2aad3d",
   "metadata": {},
   "outputs": [],
   "source": [
    "import cv2\n",
    "import numpy as np"
   ]
  },
  {
   "cell_type": "markdown",
   "id": "cb8a590d",
   "metadata": {},
   "source": [
    "Then, we define what RGB values we want to mix and put them together into one a single object (also called a *tuple*)."
   ]
  },
  {
   "cell_type": "code",
   "execution_count": 4,
   "id": "2778ef59",
   "metadata": {},
   "outputs": [],
   "source": [
    "blue = 0\n",
    "green = 0\n",
    "red = 255\n",
    "current_color = (blue, green, red)"
   ]
  },
  {
   "cell_type": "markdown",
   "id": "f3944c6e",
   "metadata": {},
   "source": [
    "Notice how we put them in the order BGR, not RGB. That is because the software 'cv2' works with the order BGR instead of RGB."
   ]
  },
  {
   "cell_type": "markdown",
   "id": "47b2862c",
   "metadata": {},
   "source": [
    "The following code will create a window and fill it with our 'current_color'. \n",
    "\n",
    "Make sure you have an idea what each of the steps does!"
   ]
  },
  {
   "cell_type": "code",
   "execution_count": 5,
   "id": "314cfd23",
   "metadata": {},
   "outputs": [
    {
     "data": {
      "text/plain": [
       "-1"
      ]
     },
     "execution_count": 5,
     "metadata": {},
     "output_type": "execute_result"
    }
   ],
   "source": [
    "# 1. Create a window to display our color and give it a name\n",
    "cv2.namedWindow(\"Synthesis Window\", cv2.WINDOW_NORMAL)\n",
    "cv2.startWindowThread()\n",
    "\n",
    "# 2. Create a blank image of size 800 by 400\n",
    "width, height = 800, 400\n",
    "image = np.zeros((height, width, 3), dtype=np.uint8)\n",
    "\n",
    "# 3. Fill it with our current color\n",
    "image[:, :] = current_color\n",
    "\n",
    "# 4. Display the image\n",
    "cv2.imshow(\"Live Image\", image)\n",
    "\n",
    "# 5. Wait for 3000 milliseconds (i.e. 3 seconds) so we can see the window\n",
    "cv2.waitKey(3000)  \n",
    "\n",
    "# 6. Close the CV2 window\n",
    "cv2.waitKey(1)\n",
    "cv2.destroyAllWindows()\n",
    "cv2.waitKey(1)"
   ]
  },
  {
   "cell_type": "markdown",
   "id": "a7be9b75",
   "metadata": {},
   "source": [
    "**Task**: Now try it yourself: Change the RGB value above (i.e. the variable current_color), and see what different rectangles you can create!"
   ]
  },
  {
   "cell_type": "code",
   "execution_count": null,
   "id": "dde37817",
   "metadata": {},
   "outputs": [],
   "source": []
  },
  {
   "cell_type": "markdown",
   "id": "77581851",
   "metadata": {
    "pycharm": {
     "name": "#%% md\n"
    }
   },
   "source": [
    "## (2) Generating a random colors"
   ]
  },
  {
   "cell_type": "markdown",
   "id": "cfd2c5e7",
   "metadata": {},
   "source": [
    "We will define a function that will give us random RGB combinations, i.e. three random numbers, each between 0 and 255:"
   ]
  },
  {
   "cell_type": "code",
   "execution_count": 6,
   "id": "e3f6ecb7",
   "metadata": {},
   "outputs": [],
   "source": [
    "import random #this package give us access to a function called 'randint(lowest, highest)'\n",
    "def generate_random_color():\n",
    "    red = random.randint(0, 255)\n",
    "    green = random.randint(0, 255)\n",
    "    blue = random.randint(0, 255)\n",
    "    return blue, green, red  # OpenCV uses BGR color format"
   ]
  },
  {
   "cell_type": "markdown",
   "id": "2ba76b4e",
   "metadata": {},
   "source": [
    "Give the function a try, run it a few time to generate different random colors:"
   ]
  },
  {
   "cell_type": "code",
   "execution_count": 7,
   "id": "248d5233",
   "metadata": {},
   "outputs": [
    {
     "data": {
      "text/plain": [
       "(211, 112, 196)"
      ]
     },
     "execution_count": 7,
     "metadata": {},
     "output_type": "execute_result"
    }
   ],
   "source": [
    "generate_random_color()"
   ]
  },
  {
   "cell_type": "code",
   "execution_count": 8,
   "id": "094f89ee",
   "metadata": {
    "pycharm": {
     "name": "#%%\n"
    }
   },
   "outputs": [
    {
     "data": {
      "text/plain": [
       "-1"
      ]
     },
     "execution_count": 8,
     "metadata": {},
     "output_type": "execute_result"
    }
   ],
   "source": [
    "import numpy as np\n",
    "\n",
    "# 1. Create a named window for display\n",
    "cv2.namedWindow(\"Synthesis Window\", cv2.WINDOW_NORMAL)\n",
    "cv2.startWindowThread()\n",
    "\n",
    "# 2. Create a blank image\n",
    "width, height = 800, 400\n",
    "image = np.zeros((height, width, 3), dtype=np.uint8)\n",
    "\n",
    "# 3. Define how many colors we want to show\n",
    "max_iterations = 10 \n",
    "\n",
    "for iteration in range(max_iterations):\n",
    "    # 4. Generate a new random color\n",
    "    current_color = generate_random_color()\n",
    "    \n",
    "    # 5. Update the live image with the current color\n",
    "    image[:, :] = current_color\n",
    "    \n",
    "    # 6. Display the image\n",
    "    cv2.imshow(\"Live Image\", image)\n",
    "    \n",
    "    # 7. Wait half a second\n",
    "    cv2.waitKey(500) \n",
    "        \n",
    "# Close the window after the desired number of iterations\n",
    "cv2.waitKey(1)\n",
    "cv2.destroyAllWindows()\n",
    "cv2.waitKey(1)"
   ]
  },
  {
   "cell_type": "markdown",
   "id": "475f3b37",
   "metadata": {},
   "source": [
    "**Task**: Try changing the number of iterations or the time we wait before we show the next color to get a feeling for the loop."
   ]
  },
  {
   "cell_type": "markdown",
   "id": "8ceb1463",
   "metadata": {},
   "source": [
    "## (3) Setting a goal color and calculating the error\n",
    "\n",
    "Let's extend the loop above and calculate the *difference** between each random color and a 'target' color that we want to achieve. \n",
    "\n",
    "For example, if our goal is a completely red image, i.e.\n",
    "\n",
    "RGB_goal = (255,0,0)\n",
    "\n",
    "then difference between our goal and a different color will be\n",
    "\n",
    "RGB_goal - current_color = (255,0,0) - (150,100,200)\n",
    "\n",
    "if current color was (150,100,200).\n",
    "\n",
    "We will use the squared error to indicate that we only care *how far* the color is away from our goal, not whether it is bigger or smaller than the goal."
   ]
  },
  {
   "cell_type": "code",
   "execution_count": 9,
   "id": "f146cf6f",
   "metadata": {},
   "outputs": [],
   "source": [
    "import numpy as np # We import numpy so we can use it's square root function np.sqrt()\n",
    "def calculate_error(color1, color2):\n",
    "    return np.sqrt((color1[0] - color2[0]) ** 2 + (color1[1] - color2[1]) ** 2 + (color1[2] - color2[2]) ** 2)"
   ]
  },
  {
   "cell_type": "markdown",
   "id": "4ae991ef",
   "metadata": {},
   "source": [
    "**Task**: Use the calculate function to calculate the difference between two colors, e.g. with goal = (255,0,0)\n",
    "\n",
    "Which color is furthest away from our goal of (255,0,0)?"
   ]
  },
  {
   "cell_type": "code",
   "execution_count": 10,
   "id": "555ff97a",
   "metadata": {},
   "outputs": [
    {
     "data": {
      "text/plain": [
       "247.0323865407125"
      ]
     },
     "execution_count": 10,
     "metadata": {},
     "output_type": "execute_result"
    }
   ],
   "source": [
    "RGB_goal = (255,0,0)\n",
    "current_color = (150,100,200)\n",
    "calculate_error(RGB_goal, current_color)"
   ]
  },
  {
   "cell_type": "code",
   "execution_count": 12,
   "id": "ea6f1396",
   "metadata": {},
   "outputs": [
    {
     "name": "stdout",
     "output_type": "stream",
     "text": [
      "Error:182.32388762858255\n",
      "Error:313.6638327891821\n",
      "Error:307.25559392792184\n",
      "Error:195.72940504686565\n",
      "Error:102.56705123966468\n",
      "Error:256.90854403853524\n",
      "Error:194.36306233438492\n",
      "Error:182.01922975334227\n",
      "Error:256.7586415293554\n",
      "Error:223.6604569431083\n"
     ]
    },
    {
     "data": {
      "text/plain": [
       "-1"
      ]
     },
     "execution_count": 12,
     "metadata": {},
     "output_type": "execute_result"
    }
   ],
   "source": [
    "# 1. Create a named window for display\n",
    "cv2.namedWindow(\"Synthesis Window\", cv2.WINDOW_NORMAL)\n",
    "cv2.startWindowThread()\n",
    "\n",
    "# 2. Create a blank image\n",
    "width, height = 800, 400\n",
    "image = np.zeros((height, width, 3), dtype=np.uint8)\n",
    "\n",
    "# 3.1 Define how many colors we want to show\n",
    "max_iterations = 10 \n",
    "\n",
    "# 3.2 Let's define our goal color\n",
    "goal_color = (0,0,255) # BGR order, not RGB\n",
    "\n",
    "for iteration in range(max_iterations):\n",
    "    # 4. Generate a new random color\n",
    "    current_color = generate_random_color()\n",
    "    \n",
    "    # 5. Update the live image with the current color\n",
    "    image[:, :] = current_color\n",
    "    \n",
    "    # 6.1 Let's plot the goal color\n",
    "    subplot_x = width // (max_iterations + 1)\n",
    "    subplot_width = width // (max_iterations + 1)\n",
    "    cv2.rectangle(image, (subplot_x, 60), (subplot_x + subplot_width, height - 60), goal_color, -1)\n",
    "    \n",
    "    # 6.2 Let's also calculate the difference between the random color and the goal\n",
    "    print(f\"Error:{calculate_error(goal_color, current_color)}\")\n",
    "    \n",
    "    # 6.3 Display the image\n",
    "    cv2.imshow(\"Live Image\", image)\n",
    "    \n",
    "    # 7. Wait half a second\n",
    "    cv2.waitKey(500) \n",
    "        \n",
    "# Close the window after the desired number of iterations\n",
    "cv2.waitKey(1)\n",
    "cv2.destroyAllWindows()\n",
    "cv2.waitKey(1)"
   ]
  },
  {
   "cell_type": "markdown",
   "id": "f9fb3b48",
   "metadata": {},
   "source": [
    "Let's also add a list called 'error_values' that save all the color differences so we can plot them"
   ]
  },
  {
   "cell_type": "code",
   "execution_count": 13,
   "id": "e0d71b3a",
   "metadata": {},
   "outputs": [
    {
     "name": "stdout",
     "output_type": "stream",
     "text": [
      "230.29763350933504\n",
      "269.5867207412116\n",
      "334.85220620446864\n",
      "137.45544732748863\n",
      "272.2296824374594\n",
      "206.86952409671173\n",
      "208.11054754625005\n",
      "197.11164349170244\n",
      "231.49298045513171\n",
      "295.98986469134377\n"
     ]
    },
    {
     "data": {
      "text/plain": [
       "-1"
      ]
     },
     "execution_count": 13,
     "metadata": {},
     "output_type": "execute_result"
    }
   ],
   "source": [
    "# 1. Create a named window for display\n",
    "cv2.namedWindow(\"Synthesis Window\", cv2.WINDOW_NORMAL)\n",
    "cv2.startWindowThread()\n",
    "\n",
    "# 2. Create a blank image\n",
    "width, height = 800, 400\n",
    "image = np.zeros((height, width, 3), dtype=np.uint8)\n",
    "\n",
    "# 3.1 Define how many colors we want to show\n",
    "max_iterations = 10 \n",
    "\n",
    "# 3.2 Let's define our goal color\n",
    "goal_color = (0,0,255) # BGR order, not RGB\n",
    "\n",
    "# 3.3 Create an empty list to store the error values\n",
    "error_values = []\n",
    "\n",
    "for iteration in range(max_iterations):\n",
    "    # 4. Generate a new random color\n",
    "    current_color = generate_random_color()\n",
    "    \n",
    "    # 5. Update the live image with the current color\n",
    "    image[:, :] = current_color\n",
    "    \n",
    "    # 6.1 Display the image\n",
    "    cv2.imshow(\"Live Image\", image)\n",
    "    \n",
    "    # 6.2 Let's plot the goal color\n",
    "    subplot_x = width // (max_iterations + 1)\n",
    "    subplot_width = width // (max_iterations + 1)\n",
    "    cv2.rectangle(image, (subplot_x, 60), (subplot_x + subplot_width, height - 60), goal_color, -1)\n",
    "    \n",
    "    # 6.3 Let's also calculate the difference between the random color and the goal\n",
    "    error = calculate_error(goal_color, current_color)\n",
    "    error_values.append(error)\n",
    "    print(error)\n",
    "    \n",
    "    # 7. Wait half a second\n",
    "    cv2.waitKey(500) \n",
    "        \n",
    "# Close the window after the desired number of iterations\n",
    "cv2.waitKey(1)\n",
    "cv2.destroyAllWindows()\n",
    "cv2.waitKey(1)"
   ]
  },
  {
   "cell_type": "markdown",
   "id": "21514035",
   "metadata": {},
   "source": [
    "Now, we can also plot the error values at each iteration step."
   ]
  },
  {
   "cell_type": "code",
   "execution_count": 14,
   "id": "428e85f5",
   "metadata": {},
   "outputs": [
    {
     "data": {
      "text/plain": [
       "[<matplotlib.lines.Line2D at 0x1646a9010>]"
      ]
     },
     "execution_count": 14,
     "metadata": {},
     "output_type": "execute_result"
    },
    {
     "data": {
      "image/png": "[encoded data removed]",
      "text/plain": [
       "<Figure size 640x480 with 1 Axes>"
      ]
     },
     "metadata": {},
     "output_type": "display_data"
    }
   ],
   "source": [
    "import matplotlib.pyplot as plt\n",
    "plt.plot(error_values)"
   ]
  },
  {
   "cell_type": "markdown",
   "id": "4adab653",
   "metadata": {
    "pycharm": {
     "name": "#%%\n"
    }
   },
   "source": [
    "**Task**: What happens when you run the loop for longer? Do you find more colors that have a small error?"
   ]
  },
  {
   "cell_type": "markdown",
   "id": "2dcf491c",
   "metadata": {},
   "source": [
    "## (4) Adding more details to the window"
   ]
  },
  {
   "cell_type": "code",
   "execution_count": 15,
   "id": "c40d8b21",
   "metadata": {},
   "outputs": [
    {
     "name": "stdout",
     "output_type": "stream",
     "text": [
      "243.65139031000828\n",
      "321.22577729690374\n",
      "93.96275858019496\n",
      "330.1363354736949\n",
      "268.87543584344036\n",
      "232.51881644288488\n",
      "224.0223203165256\n",
      "205.49209230527583\n",
      "297.5197472437754\n",
      "241.85532865744347\n"
     ]
    },
    {
     "data": {
      "text/plain": [
       "-1"
      ]
     },
     "execution_count": 15,
     "metadata": {},
     "output_type": "execute_result"
    }
   ],
   "source": [
    "# 1. Create a named window for display\n",
    "cv2.namedWindow(\"Synthesis Window\", cv2.WINDOW_NORMAL)\n",
    "cv2.startWindowThread()\n",
    "\n",
    "# 2. Create a blank image\n",
    "width, height = 800, 400\n",
    "image = np.zeros((height, width, 3), dtype=np.uint8)\n",
    "\n",
    "# 3.1 Define how many colors we want to show\n",
    "max_iterations = 10 \n",
    "\n",
    "# 3.2 Let's define our goal color\n",
    "goal_color = (0,0,255) # BGR order, not RGB\n",
    "\n",
    "# 3.3 Create an empty list to store the error values\n",
    "error_values = []\n",
    "\n",
    "# 3.4 Define font properties for displaying text\n",
    "font = cv2.FONT_HERSHEY_SIMPLEX\n",
    "font_scale = 0.8\n",
    "font_color = (255, 255, 255)  # White color\n",
    "\n",
    "for iteration in range(max_iterations):\n",
    "    # 4. Generate a new random color\n",
    "    current_color = generate_random_color()\n",
    "    \n",
    "    # 5.1 Update the live image with the current color\n",
    "    image[:, :] = current_color\n",
    "    \n",
    "    # 5.2 Let's plot the goal color\n",
    "    subplot_x = width // (max_iterations + 1)\n",
    "    subplot_width = width // (max_iterations + 1)\n",
    "    cv2.rectangle(image, (subplot_x, 60), (subplot_x + subplot_width, height - 60), goal_color, -1)\n",
    "    \n",
    "    # 5.3 Let's also calculate the difference between the random color and the goal\n",
    "    error = calculate_error(goal_color, current_color)\n",
    "    error_values.append(error)\n",
    "    print(error)\n",
    "    \n",
    "    # 5.4. Add text information to the image\n",
    "    text = f\"Iteration: {iteration + 1}\"\n",
    "    cv2.putText(image, text, (10, 30), font, font_scale, font_color, 2)\n",
    "\n",
    "    # 5.5 Add text for the error\n",
    "    error_text = f\"Loss: {error:.2f}\"\n",
    "    cv2.putText(image, error_text, (10, height - 10), font, font_scale, font_color, 2)\n",
    "\n",
    "    # 5.6 Draw the graph of error values\n",
    "    if len(error_values) > 1:\n",
    "        for i in range(1, len(error_values)):\n",
    "            x1 = (i - 1) * (width // max_iterations)\n",
    "            y1 = height - int(error_values[i - 1] * (height - 60) / max(error_values))\n",
    "            x2 = i * (width // max_iterations)\n",
    "            y2 = height - int(error_values[i] * (height - 60) / max(error_values))\n",
    "            cv2.line(image, (x1, y1), (x2, y2), (255, 255, 255), 2)\n",
    "    \n",
    "    # 6. Display the image again\n",
    "    cv2.imshow(\"Live Image\", image)\n",
    "    \n",
    "    # 8. Wait half a second\n",
    "    cv2.waitKey(500) \n",
    "        \n",
    "# Close the window after the desired number of iterations\n",
    "cv2.waitKey(1)\n",
    "cv2.destroyAllWindows()\n",
    "cv2.waitKey(1)"
   ]
  },
  {
   "cell_type": "markdown",
   "id": "673859ec",
   "metadata": {},
   "source": [
    "## (5) Conclusion\n",
    "\n",
    "Well done! You made it through Part B of the SDL4Kids.com notebooks. \n",
    "\n",
    "You learnt:\n",
    "1. How to create windows\n",
    "2. Fill them with colors\n",
    "3. Fill them with random colors\n",
    "4. Calculate the difference of those random colors to a goal color\n",
    "5. Display a graph of the errors\n",
    "6. Add aditional information to the window\n",
    "\n",
    "### **Now it's time to move on to the second step of an SDL: Characterisation in the notebook \"Part C\"**"
   ]
  },
  {
   "cell_type": "code",
   "execution_count": null,
   "id": "fdeb7bb6",
   "metadata": {},
   "outputs": [],
   "source": []
  },
  {
   "cell_type": "code",
   "execution_count": null,
   "id": "a8f94568",
   "metadata": {},
   "outputs": [],
   "source": []
  }
 ],
 "metadata": {
  "kernelspec": {
   "display_name": "SDL4Kids_kernel",
   "language": "python",
   "name": "sdl4kids_kernel"
  },
  "language_info": {
   "codemirror_mode": {
    "name": "ipython",
    "version": 3
   },
   "file_extension": ".py",
   "mimetype": "text/x-python",
   "name": "python",
   "nbconvert_exporter": "python",
   "pygments_lexer": "ipython3",
   "version": "3.11.4"
  }
 },
 "nbformat": 4,
 "nbformat_minor": 5
}
