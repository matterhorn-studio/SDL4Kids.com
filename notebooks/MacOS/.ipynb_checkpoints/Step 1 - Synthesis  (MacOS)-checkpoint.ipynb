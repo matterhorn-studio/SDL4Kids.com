{
 "cells": [
  {
   "cell_type": "markdown",
   "id": "7fadee20",
   "metadata": {
    "pycharm": {
     "name": "#%% md\n"
    }
   },
   "source": [
    "# Step 1 - Synthesis  (MacOS)\n",
    "\n"
   ]
  },
  {
   "cell_type": "code",
   "execution_count": 1,
   "id": "af954a28",
   "metadata": {},
   "outputs": [
    {
     "data": {
      "text/html": [
       "<iframe width=\"560\" height=\"315\" src=\"https://www.youtube.com/embed/8E3BB9lTzcc\" title=\"YouTube video player\" frameborder=\"0\" allow=\"accelerometer; autoplay; clipboard-write; encrypted-media; gyroscope; picture-in-picture\" allowfullscreen></iframe>\n"
      ],
      "text/plain": [
       "<IPython.core.display.HTML object>"
      ]
     },
     "metadata": {},
     "output_type": "display_data"
    }
   ],
   "source": [
    "%%html\n",
    "<iframe width=\"560\" height=\"315\" src=\"https://www.youtube.com/embed/8E3BB9lTzcc\" title=\"YouTube video player\" frameborder=\"0\" allow=\"accelerometer; autoplay; clipboard-write; encrypted-media; gyroscope; picture-in-picture\" allowfullscreen></iframe>"
   ]
  },
  {
   "cell_type": "markdown",
   "id": "af9fd909",
   "metadata": {},
   "source": [
    "In this notebook, you will learn more about the first step of an SDL: *Synthesis*.\n",
    "\n",
    "This notebook is part of a 4 part series:\n",
    "1. Step 1: Synthesis (10 mins, EASY)\n",
    "2. Step 2: Characterisation (20 mins, MEDIUM)\n",
    "3. Step 3: Planning (15 mins, MEDIUM)\n",
    "4. Step 4: All 3 Steps Together - Synthesis-Characterisation-Planning (15 mins, HARD)\n",
    "\n",
    "ALL of the steps in this notebook are down without the microbit. We will introduce the microbit in Step 2.\n",
    "\n",
    "For the best experience, following along the video-series that explains the notebooks step by step with the video above or [here](http://sdl4kids.com).\n",
    "\n",
    "If you have any questions, check out the [FAQ](https://sites.google.com/matterhorn.studio/sdl4kids/faq)!"
   ]
  },
  {
   "cell_type": "markdown",
   "id": "7c546391",
   "metadata": {},
   "source": [
    "## Introduction\n",
    "\n",
    "We will look at all the building blocks required for showing squares different colors on your screen.\n",
    "\n",
    "1. Creating a window to draw colors in\n",
    "2. Rendering different colors into that window\n",
    "3. Updating the window with new colors\n",
    "\n",
    "**Note**: You will NOT need the microbit for this notebook."
   ]
  },
  {
   "cell_type": "markdown",
   "id": "861537d0",
   "metadata": {},
   "source": [
    "## (1) Creating a window and filling it with a color\n",
    "\n",
    "**Goal**: You will learn how to display different RGB colors on your screen.\n",
    "\n",
    "RGB is a short-hand for the colors \"Red\", \"Green\" and \"Blue\". \n",
    "\n",
    "By *mixing* these three colors, we can create all kinds of colors on your screen.  For example\n",
    "\n",
    "1. (255,0,0) is 100% red and no other color, so the screen will be fully red.\n",
    "2. (255,0,255) is red and blue together, which makes pink!\n",
    "3. (255,255,255) is 100% for all of red, green and blue, which makes the color white.\n"
   ]
  },
  {
   "cell_type": "markdown",
   "id": "d74f3500",
   "metadata": {},
   "source": [
    "First, we will import 'cv2', the python software library which we will use to draw rectangles on our screen. ([Installation instructions](https://github.com/opencv/opencv-python))\n",
    "\n",
    "We also import numpy for some calculations later. ([Installation instructions](https://numpy.org/install/))"
   ]
  },
  {
   "cell_type": "code",
   "execution_count": 1,
   "id": "2f2aad3d",
   "metadata": {},
   "outputs": [],
   "source": [
    "import cv2\n",
    "import numpy as np"
   ]
  },
  {
   "cell_type": "markdown",
   "id": "cb8a590d",
   "metadata": {},
   "source": [
    "Then, we define what RGB values we want to mix and put them together into one a single object (also called a *tuple*)."
   ]
  },
  {
   "cell_type": "code",
   "execution_count": 2,
   "id": "2778ef59",
   "metadata": {},
   "outputs": [],
   "source": [
    "red = 255\n",
    "green = 0\n",
    "blue = 0\n",
    "\n",
    "current_color = (red, green, blue)"
   ]
  },
  {
   "cell_type": "markdown",
   "id": "47b2862c",
   "metadata": {},
   "source": [
    "The following code will create a window and fill it with our 'current_color'. \n",
    "\n",
    "Make sure you have an idea what each of the steps does!"
   ]
  },
  {
   "cell_type": "code",
   "execution_count": 7,
   "id": "314cfd23",
   "metadata": {},
   "outputs": [
    {
     "data": {
      "text/plain": [
       "-1"
      ]
     },
     "execution_count": 7,
     "metadata": {},
     "output_type": "execute_result"
    }
   ],
   "source": [
    "# 1. Create a window to display our color and give it a name\n",
    "cv2.namedWindow(\"Synthesis Window\", cv2.WINDOW_NORMAL)\n",
    "cv2.startWindowThread()\n",
    "\n",
    "# 2. Create a blank image of size 800 by 400\n",
    "width, height = 800, 400\n",
    "image = np.zeros((height, width, 3), dtype=np.uint8)\n",
    "\n",
    "# 3. Fill it with our current color\n",
    "image[:, :] = tuple(reversed(current_color)) #cv2 expects colors in the BGR order, not RGB\n",
    "\n",
    "# 4. Display the image\n",
    "cv2.imshow(\"Live Image\", image)\n",
    "\n",
    "# 5. Wait for 3000 milliseconds (i.e. 3 seconds) so we can see the window\n",
    "cv2.waitKey(3000)  \n",
    "\n",
    "# 6. Close the CV2 window\n",
    "cv2.waitKey(1)\n",
    "cv2.destroyAllWindows()\n",
    "cv2.waitKey(1)"
   ]
  },
  {
   "cell_type": "markdown",
   "id": "a7be9b75",
   "metadata": {},
   "source": [
    "**Task**: Now try it yourself: Change the RGB value above (i.e. the variable current_color), and see what different rectangles you can create!"
   ]
  },
  {
   "cell_type": "code",
   "execution_count": 6,
   "id": "dde37817",
   "metadata": {},
   "outputs": [],
   "source": [
    "current_color = (255,0,255)"
   ]
  },
  {
   "cell_type": "markdown",
   "id": "77581851",
   "metadata": {
    "pycharm": {
     "name": "#%% md\n"
    }
   },
   "source": [
    "## (2) Generating a random colors"
   ]
  },
  {
   "cell_type": "markdown",
   "id": "cfd2c5e7",
   "metadata": {},
   "source": [
    "**Goal**: We will define a function that will give us random RGB combinations, i.e. three random numbers, each between 0 and 255:"
   ]
  },
  {
   "cell_type": "code",
   "execution_count": 8,
   "id": "e3f6ecb7",
   "metadata": {},
   "outputs": [],
   "source": [
    "import random #this package give us access to a function called 'randint(lowest, highest)'\n",
    "def generate_random_color():\n",
    "    red = random.randint(0, 255)\n",
    "    green = random.randint(0, 255)\n",
    "    blue = random.randint(0, 255)\n",
    "    return red, green, blue  # OpenCV uses BGR color format"
   ]
  },
  {
   "cell_type": "markdown",
   "id": "2ba76b4e",
   "metadata": {},
   "source": [
    "Give the function a try, run it a few time to generate different random colors:"
   ]
  },
  {
   "cell_type": "code",
   "execution_count": 10,
   "id": "248d5233",
   "metadata": {},
   "outputs": [
    {
     "data": {
      "text/plain": [
       "(205, 219, 203)"
      ]
     },
     "execution_count": 10,
     "metadata": {},
     "output_type": "execute_result"
    }
   ],
   "source": [
    "generate_random_color()"
   ]
  },
  {
   "cell_type": "markdown",
   "id": "82c7f17a",
   "metadata": {},
   "source": [
    "Let's generate 10 different random colors with a loop:"
   ]
  },
  {
   "cell_type": "code",
   "execution_count": 11,
   "id": "094f89ee",
   "metadata": {
    "pycharm": {
     "name": "#%%\n"
    }
   },
   "outputs": [
    {
     "data": {
      "text/plain": [
       "-1"
      ]
     },
     "execution_count": 11,
     "metadata": {},
     "output_type": "execute_result"
    }
   ],
   "source": [
    "# 1. Create a named window for display\n",
    "cv2.namedWindow(\"Synthesis Window\", cv2.WINDOW_NORMAL)\n",
    "cv2.startWindowThread()\n",
    "\n",
    "# 2. Create a blank image\n",
    "width, height = 800, 400\n",
    "image = np.zeros((height, width, 3), dtype=np.uint8)\n",
    "\n",
    "# 3. Define how many colors we want to show\n",
    "max_iterations = 20 \n",
    "\n",
    "for iteration in range(max_iterations):\n",
    "    # 4. Generate a new random color\n",
    "    current_color = generate_random_color()\n",
    "    \n",
    "    # 5. Update the live image with the current color\n",
    "    image[:, :] = tuple(reversed(current_color))\n",
    "    \n",
    "    # 6. Display the image\n",
    "    cv2.imshow(\"Live Image\", image)\n",
    "    \n",
    "    # 7. Wait half a second\n",
    "    cv2.waitKey(100) \n",
    "        \n",
    "# Close the window after the desired number of iterations\n",
    "cv2.waitKey(1)\n",
    "cv2.destroyAllWindows()\n",
    "cv2.waitKey(1)"
   ]
  },
  {
   "cell_type": "markdown",
   "id": "475f3b37",
   "metadata": {},
   "source": [
    "**Task**: Try changing the number of iterations or the time we wait before we show the next color to get a feeling for the loop."
   ]
  },
  {
   "cell_type": "markdown",
   "id": "8ceb1463",
   "metadata": {},
   "source": [
    "## (3) Setting a goal color and calculating the error\n",
    "\n",
    "**Goal**: Let's extend the loop above and calculate the *difference* between each random color and a 'target' color that we want to achieve. We will call this the *error* between our target color and another color.\n",
    "\n",
    "For example, if our goal is a completely red image, i.e.\n",
    "\n",
    "RGB_goal = (255,0,0)\n",
    "\n",
    "then difference between our goal and a different color will be\n",
    "\n",
    "RGB_goal - current_color = (255,0,0) - (150,100,200)\n",
    "\n",
    "if current color was (150,100,200).\n",
    "\n",
    "We will use the squared error to indicate that we only care *how far* the color is away from our goal, not whether it is bigger or smaller than the goal."
   ]
  },
  {
   "cell_type": "code",
   "execution_count": 12,
   "id": "f146cf6f",
   "metadata": {},
   "outputs": [],
   "source": [
    "def calculate_error(color1, color2):\n",
    "    return np.sqrt((color1[0] - color2[0]) ** 2 + (color1[1] - color2[1]) ** 2 + (color1[2] - color2[2]) ** 2)"
   ]
  },
  {
   "cell_type": "markdown",
   "id": "4ae991ef",
   "metadata": {},
   "source": [
    "**Task**: Use the calculate function to calculate the difference between two colors, e.g. with goal = (255,0,0)\n",
    "\n",
    "Which color is furthest away from our goal of (255,0,0)?"
   ]
  },
  {
   "cell_type": "code",
   "execution_count": 15,
   "id": "555ff97a",
   "metadata": {},
   "outputs": [
    {
     "data": {
      "text/plain": [
       "441.6729559300637"
      ]
     },
     "execution_count": 15,
     "metadata": {},
     "output_type": "execute_result"
    }
   ],
   "source": [
    "RGB_goal = (255,0,0)\n",
    "current_color = (0,255,255)\n",
    "calculate_error(RGB_goal, current_color)"
   ]
  },
  {
   "cell_type": "markdown",
   "id": "3d8137bf",
   "metadata": {},
   "source": [
    "Let's generate some random colors and calculate their errors (printed below the cell):"
   ]
  },
  {
   "cell_type": "code",
   "execution_count": 18,
   "id": "ea6f1396",
   "metadata": {},
   "outputs": [
    {
     "name": "stdout",
     "output_type": "stream",
     "text": [
      "RGB=(136, 180, 63) has Error=224.78878975607302\n",
      "RGB=(64, 79, 48) has Error=212.19330809429405\n",
      "RGB=(193, 253, 37) has Error=263.10074116201196\n",
      "RGB=(215, 226, 226) has Error=322.1055727552692\n",
      "RGB=(22, 247, 37) has Error=341.56551348167454\n",
      "RGB=(188, 239, 32) has Error=250.2678565057846\n",
      "RGB=(44, 177, 20) has Error=276.1340254296815\n",
      "RGB=(181, 111, 78) has Error=154.53478572800364\n",
      "RGB=(8, 11, 196) has Error=315.5091123882161\n",
      "RGB=(38, 252, 192) has Error=384.00130208112574\n",
      "RGB=(180, 19, 253) has Error=264.56568182589365\n",
      "RGB=(96, 236, 205) has Error=350.7164096531555\n",
      "RGB=(93, 195, 108) has Error=275.55943097633224\n",
      "RGB=(227, 173, 36) has Error=178.91059219621403\n",
      "RGB=(191, 85, 48) has Error=116.72617529928752\n",
      "RGB=(160, 220, 179) has Error=299.1086759022546\n",
      "RGB=(89, 161, 214) has Error=315.07618126415076\n",
      "RGB=(119, 240, 209) has Error=346.08813906286935\n",
      "RGB=(147, 154, 60) has Error=197.43353311937665\n",
      "RGB=(88, 171, 237) has Error=336.5991681510814\n"
     ]
    },
    {
     "data": {
      "text/plain": [
       "-1"
      ]
     },
     "execution_count": 18,
     "metadata": {},
     "output_type": "execute_result"
    }
   ],
   "source": [
    "# 1. Create a named window for display\n",
    "cv2.namedWindow(\"Synthesis Window\", cv2.WINDOW_NORMAL)\n",
    "cv2.startWindowThread()\n",
    "\n",
    "# 2. Create a blank image\n",
    "width, height = 800, 400\n",
    "image = np.zeros((height, width, 3), dtype=np.uint8)\n",
    "\n",
    "# 3.1 Define how many colors we want to show\n",
    "max_iterations = 20 \n",
    "\n",
    "# 3.2 Let's define our goal color\n",
    "goal_color = (255,0,0) \n",
    "\n",
    "# 3.3 Create an empty list to store the error values\n",
    "error_values = []\n",
    "\n",
    "for iteration in range(max_iterations):\n",
    "    # 4. Generate a new random color\n",
    "    current_color = generate_random_color()\n",
    "    \n",
    "    # 5. Update the live image with the current color\n",
    "    image[:, :] = tuple(reversed(current_color))\n",
    "    \n",
    "    # 6.1 Let's also calculate the difference between the random color and the goal\n",
    "    error = calculate_error(goal_color, current_color)\n",
    "    error_values.append(error)\n",
    "    print(f\"RGB={current_color} has Error={error}\")\n",
    "    \n",
    "    # 6.2 Display the image\n",
    "    cv2.imshow(\"Live Image\", image)\n",
    "    \n",
    "    # 7. Wait half a second\n",
    "    cv2.waitKey(100) \n",
    "        \n",
    "# Close the window after the desired number of iterations\n",
    "cv2.waitKey(1)\n",
    "cv2.destroyAllWindows()\n",
    "cv2.waitKey(1)"
   ]
  },
  {
   "cell_type": "markdown",
   "id": "21514035",
   "metadata": {},
   "source": [
    "We also added a list called 'error_values' that save all the color differences so we can plot them for each iteration.\n",
    "\n",
    "Each error corresponds to the 'distance' between a color and our goal. For example, a dark red color will have a smaller error than a neon green color to pure red as it is much more similar to red."
   ]
  },
  {
   "cell_type": "code",
   "execution_count": 19,
   "id": "428e85f5",
   "metadata": {},
   "outputs": [
    {
     "data": {
      "text/plain": [
       "<matplotlib.legend.Legend at 0x146cb0d90>"
      ]
     },
     "execution_count": 19,
     "metadata": {},
     "output_type": "execute_result"
    },
    {
     "data": {
      "image/png": "[encoded data removed]",
      "text/plain": [
       "<Figure size 640x480 with 1 Axes>"
      ]
     },
     "metadata": {},
     "output_type": "display_data"
    }
   ],
   "source": [
    "import matplotlib.pyplot as plt\n",
    "# Plot error for each iteration\n",
    "plt.scatter(range(len(error_values)), error_values, label=\"Error for each iteration\")\n",
    "\n",
    "# Calculate best error so far\n",
    "best_error_so_far = 1000\n",
    "best_errors = []\n",
    "for value in error_values:\n",
    "    if value < best_error_so_far:\n",
    "        best_error_so_far = value\n",
    "    best_errors.append(best_error_so_far)\n",
    "    \n",
    "# Plot best error so far\n",
    "plt.plot(best_errors, label=\"Best Error So Far\", color=\"orange\")\n",
    "plt.xlabel('Iteration', fontsize=18)\n",
    "plt.ylabel('Distance to Goal', fontsize=18)\n",
    "plt.legend()"
   ]
  },
  {
   "cell_type": "markdown",
   "id": "4adab653",
   "metadata": {
    "pycharm": {
     "name": "#%%\n"
    }
   },
   "source": [
    "**Task**: What happens when you run the loop for longer? Do you find more colors that have a small error?"
   ]
  },
  {
   "cell_type": "markdown",
   "id": "2dcf491c",
   "metadata": {},
   "source": [
    "## (4) Adding more details to the window\n",
    "\n",
    "**Goal**: We will add some more information to the window. \n",
    "\n",
    "You don't need to understand the details below, but feel free to take a closer look if you are curious how it works:\n",
    "\n",
    "1. A counter for the iterations. (top left)\n",
    "2. A line that shows the error. (left to right, in white)\n",
    "3. A gauge that shows the current error. (bottom left)\n",
    "4. The goal color, with a rectangle on the left side."
   ]
  },
  {
   "cell_type": "code",
   "execution_count": 21,
   "id": "c40d8b21",
   "metadata": {},
   "outputs": [
    {
     "name": "stdout",
     "output_type": "stream",
     "text": [
      "RGB=(193, 28, 94) has Error=116.0344776348823\n",
      "RGB=(51, 185, 207) has Error=344.5141506527707\n",
      "RGB=(116, 129, 194) has Error=271.28951325106544\n",
      "RGB=(159, 64, 84) has Error=142.71650219929018\n",
      "RGB=(146, 209, 18) has Error=236.40219965135688\n",
      "RGB=(50, 205, 149) has Error=325.9616541865009\n",
      "RGB=(168, 83, 198) has Error=231.6505989631799\n",
      "RGB=(241, 186, 205) has Error=277.1587992469299\n",
      "RGB=(91, 34, 81) has Error=186.04569331215382\n",
      "RGB=(14, 175, 26) has Error=298.96822573644846\n"
     ]
    },
    {
     "data": {
      "text/plain": [
       "-1"
      ]
     },
     "execution_count": 21,
     "metadata": {},
     "output_type": "execute_result"
    }
   ],
   "source": [
    "# 1. Create a named window for display\n",
    "cv2.namedWindow(\"Synthesis Window\", cv2.WINDOW_NORMAL)\n",
    "cv2.startWindowThread()\n",
    "\n",
    "# 2. Create a blank image\n",
    "width, height = 800, 400\n",
    "image = np.zeros((height, width, 3), dtype=np.uint8)\n",
    "\n",
    "# 3.1 Define how many colors we want to show\n",
    "max_iterations = 10 \n",
    "\n",
    "# 3.2 Let's define our goal color\n",
    "goal_color = (255,0,0)\n",
    "\n",
    "# 3.3 Create an empty list to store the error values\n",
    "error_values = []\n",
    "\n",
    "# 3.4 Define font properties for displaying text\n",
    "font = cv2.FONT_HERSHEY_SIMPLEX\n",
    "font_scale = 0.8\n",
    "font_color = (255, 255, 255)  # White color\n",
    "\n",
    "for iteration in range(max_iterations):\n",
    "    # 4. Generate a new random color\n",
    "    current_color = generate_random_color()\n",
    "    \n",
    "    # 5.1 Update the live image with the current color\n",
    "    image[:, :] = tuple(reversed(current_color))\n",
    "    \n",
    "    # 5.2 Let's plot the goal color\n",
    "    subplot_x = width // (max_iterations + 1)\n",
    "    subplot_width = width // (max_iterations + 1)\n",
    "    cv2.rectangle(image, (subplot_x, 60), (subplot_x + subplot_width, height - 60), tuple(reversed(goal_color)), -1)\n",
    "    \n",
    "    # 5.3 Let's also calculate the difference between the random color and the goal\n",
    "    error = calculate_error(goal_color, current_color)\n",
    "    error_values.append(error)\n",
    "    print(f\"RGB={current_color} has Error={error}\")\n",
    "    \n",
    "    # 5.4. Add text information to the image\n",
    "    text = f\"Iteration: {iteration + 1}\"\n",
    "    cv2.putText(image, text, (10, 30), font, font_scale, font_color, 2)\n",
    "\n",
    "    # 5.5 Add text for the error\n",
    "    error_text = f\"Error: {error:.2f}\"\n",
    "    cv2.putText(image, error_text, (10, height - 10), font, font_scale, font_color, 2)\n",
    "\n",
    "    # 5.6 Draw the graph of error values\n",
    "    if len(error_values) > 1:\n",
    "        for i in range(1, len(error_values)):\n",
    "            x1 = (i - 1) * (width // max_iterations)\n",
    "            y1 = height - int(error_values[i - 1] * (height - 60) / max(error_values))\n",
    "            x2 = i * (width // max_iterations)\n",
    "            y2 = height - int(error_values[i] * (height - 60) / max(error_values))\n",
    "            cv2.line(image, (x1, y1), (x2, y2), (255, 255, 255), 2)\n",
    "    \n",
    "    # 6. Display the image again\n",
    "    cv2.imshow(\"Live Image\", image)\n",
    "    \n",
    "    # 8. Wait half a second\n",
    "    cv2.waitKey(500) \n",
    "        \n",
    "# Close the window after the desired number of iterations\n",
    "cv2.waitKey(1)\n",
    "cv2.destroyAllWindows()\n",
    "cv2.waitKey(1)"
   ]
  },
  {
   "cell_type": "markdown",
   "id": "673859ec",
   "metadata": {},
   "source": [
    "## (5) Conclusion\n",
    "\n",
    "Well done! You made it completed Step 1 of the SDL4Kids.com notebooks. \n",
    "\n",
    "You learnt:\n",
    "1. How to create windows\n",
    "2. Fill them with colors\n",
    "3. Fill them with random colors\n",
    "4. Calculate the difference of those random colors to a goal color\n",
    "5. Display a graph of the errors\n",
    "6. Add aditional information to the window\n",
    "\n",
    "### **Now it's time to move on to the second step of an SDL: Characterisation in Step 2**\n",
    "\n",
    "If you enjoyed this tutorial, sign up to our newsletter to stay up to date [here](https://forms.gle/XwpSb8XAFJvfYbLk8)."
   ]
  },
  {
   "cell_type": "code",
   "execution_count": null,
   "id": "fdeb7bb6",
   "metadata": {},
   "outputs": [],
   "source": []
  },
  {
   "cell_type": "code",
   "execution_count": null,
   "id": "a8f94568",
   "metadata": {},
   "outputs": [],
   "source": []
  }
 ],
 "metadata": {
  "kernelspec": {
   "display_name": "SDL4Kids_kernel",
   "language": "python",
   "name": "sdl4kids_kernel"
  },
  "language_info": {
   "codemirror_mode": {
    "name": "ipython",
    "version": 3
   },
   "file_extension": ".py",
   "mimetype": "text/x-python",
   "name": "python",
   "nbconvert_exporter": "python",
   "pygments_lexer": "ipython3",
   "version": "3.11.4"
  }
 },
 "nbformat": 4,
 "nbformat_minor": 5
}
