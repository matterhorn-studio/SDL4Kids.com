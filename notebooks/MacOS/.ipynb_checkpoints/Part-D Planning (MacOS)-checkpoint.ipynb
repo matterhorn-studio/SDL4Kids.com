{
 "cells": [
  {
   "cell_type": "markdown",
   "id": "7fadee20",
   "metadata": {
    "pycharm": {
     "name": "#%% md\n"
    }
   },
   "source": [
    "# Part D: Planning for your SDL (MacOS version)\n",
    "\n",
    "In this notebook, you will learn more about the third step of an SDL: Planning.\n",
    "\n",
    "Go to [sdl4kids.com](http://sdl4kids.com) for the Windows version.\n",
    "\n",
    "If you have any questions, check out the [FAQ](https://sites.google.com/matterhorn.studio/sdl4kids/faq)!"
   ]
  },
  {
   "cell_type": "markdown",
   "id": "7c546391",
   "metadata": {},
   "source": [
    "## Introduction\n",
    "\n",
    "We will look at different ways to plan your experiment, i.e. selecting which color to try next:\n",
    "\n",
    "1. Random\n",
    "2. Grid\n",
    "3. Bayesian Optimisation"
   ]
  },
  {
   "cell_type": "markdown",
   "id": "861537d0",
   "metadata": {},
   "source": [
    "## (1) Strategy: Random\n",
    "\n",
    "**Goal**: You will learn how to use a random search to find the best RGB combination.\n",
    "\n",
    "Random here means the same as throwing a die with 6 sides: Each side, 1 to 6, has an equal probability (1/6 = 16.6%) of occurence. \n",
    "\n",
    "With RGB colors, we essentially have three dice — one for each R, G and B — with each die having 256 sides, representing the numbers 0 to 255. Each side has equal probability.\n",
    "\n",
    "We will throw these three die to select the next RGB experiment. If we do that 100 times, many RGB colors will be far off our target color, but with a certain probability, some will get close."
   ]
  },
  {
   "cell_type": "code",
   "execution_count": 12,
   "id": "b3471f86",
   "metadata": {},
   "outputs": [],
   "source": [
    "import random\n",
    "import numpy as np\n",
    "import cv2\n",
    "\n",
    "# Function to generate random color\n",
    "def generate_random_color():\n",
    "    red = random.randint(0, 255)\n",
    "    green = random.randint(0, 255)\n",
    "    blue = random.randint(0, 255)\n",
    "    return blue, green, red  # OpenCV uses BGR color format\n",
    "\n",
    "# Function to calculate the error between two colors\n",
    "def calculate_error(color1, color2):\n",
    "    return np.sqrt((color1[0] - color2[0]) ** 2 + (color1[1] - color2[1]) ** 2 + (color1[2] - color2[2]) ** 2)\n"
   ]
  },
  {
   "cell_type": "code",
   "execution_count": null,
   "id": "094f89ee",
   "metadata": {
    "pycharm": {
     "name": "#%%\n"
    }
   },
   "outputs": [],
   "source": [
    "\n",
    "# Create a blank image\n",
    "width, height = 800, 400\n",
    "image = np.zeros((height, width, 3), dtype=np.uint8)\n",
    "\n",
    "# Create a named window for display\n",
    "cv2.namedWindow(\"Live Image\", cv2.WINDOW_NORMAL)\n",
    "cv2.startWindowThread()\n",
    "\n",
    "# Define font properties for displaying text\n",
    "font = cv2.FONT_HERSHEY_SIMPLEX\n",
    "font_scale = 0.8\n",
    "font_color = (255, 255, 255)  # White color\n",
    "\n",
    "# Define the goal color\n",
    "goal_color = (0, 0, 255)  # Red color (BGR format)\n",
    "\n",
    "# Create an empty list to store the error values\n",
    "error_values = []\n",
    "\n",
    "# Main loop\n",
    "max_iterations = 50  # Set the desired number of iterations\n",
    "\n",
    "candidate_color = (0,0,0) # Initial candidate\n",
    "\n",
    "for iteration in range(max_iterations):\n",
    "    \n",
    "\n",
    "    # STEP 1: Synthesis\n",
    "    # Update the live image with the current color\n",
    "    image[:, :] = candidate_color\n",
    "    \n",
    "    # Display the image\n",
    "    cv2.imshow(\"Live Image\", image)\n",
    "    \n",
    "    # STEP 2: Characterisation\n",
    "    \n",
    "    # Measure the color with the Microbit: We will do this eventually\n",
    "    #rgb_measurement = characterise()  \n",
    "    #rgb_measurement = tuple(reversed(rgb_measurement))\n",
    "    \n",
    "    # Measure the color by just pretending candidate_color being the measurement \n",
    "    rgb_measurement = candidate_color\n",
    "    \n",
    "    # STEP 3: Planning\n",
    "    \n",
    "    # Calculate the error between the goal color and the current color\n",
    "    error = calculate_error(goal_color, rgb_measurement)\n",
    "\n",
    "    # Add the loss value to the list\n",
    "    error_values.append(error)    \n",
    "\n",
    "    # Add text information to the image\n",
    "    text = f\"Iteration: {iteration + 1}\"\n",
    "    cv2.putText(image, text, (10, 30), font, font_scale, font_color, 2)\n",
    "\n",
    "    # Plot a subplot for the goal color\n",
    "    # subplot_x = num_iterations * (width // (max_iterations + 1))\n",
    "    subplot_x = width // (max_iterations + 1)\n",
    "    subplot_width = width // 50\n",
    "    cv2.rectangle(image, (subplot_x, 60), (subplot_x + subplot_width, height - 60), goal_color, -1)\n",
    "\n",
    "    # Add text for the loss\n",
    "    error_text = f\"Loss: {error:.2f}\"\n",
    "    cv2.putText(image, error_text, (10, height - 10), font, font_scale, font_color, 2)\n",
    "\n",
    "    # Draw the graph of error values\n",
    "    if len(error_values) > 1:\n",
    "        for i in range(1, len(error_values)):\n",
    "            x1 = (i - 1) * (width // max_iterations)\n",
    "            y1 = height - int(error_values[i - 1] * (height - 60) / max(error_values))\n",
    "            x2 = i * (width // max_iterations)\n",
    "            y2 = height - int(error_values[i] * (height - 60) / max(error_values))\n",
    "            cv2.line(image, (x1, y1), (x2, y2), (255, 255, 255), 2)\n",
    "\n",
    "    # Increment the iteration counter\n",
    "    cv2.imshow(\"Live Image\", image)\n",
    "    cv2.waitKey(50)  # Adjust the wait time (in milliseconds) as needed\n",
    "    \n",
    "    # Generate a new candidate color, for now we will pick one randomly\n",
    "    candidate_color = generate_random_color()\n",
    "    \n",
    "# Close the window after the desired number of iterations\n",
    "cv2.waitKey(1)\n",
    "cv2.destroyAllWindows()\n",
    "cv2.waitKey(1)"
   ]
  },
  {
   "cell_type": "markdown",
   "id": "3fa245bb",
   "metadata": {},
   "source": [
    "We can now plot the error for each random RGB combination, and also a line for the best random color we have found so far."
   ]
  },
  {
   "cell_type": "code",
   "execution_count": null,
   "id": "d9d1a198",
   "metadata": {
    "pycharm": {
     "name": "#%%\n"
    }
   },
   "outputs": [],
   "source": [
    "import matplotlib.pyplot as plt\n",
    "# Plot error for each iteration\n",
    "plt.scatter(range(len(error_values)), error_values, label=\"Error for each iteration\")\n",
    "\n",
    "# Calculate best error so far\n",
    "best_error_so_far = 1000\n",
    "best_errors = []\n",
    "for value in error_values:\n",
    "    if value < best_error_so_far:\n",
    "        best_error_so_far = value\n",
    "    best_errors.append(best_error_so_far)\n",
    "    \n",
    "# Plot best error so far\n",
    "plt.plot(best_errors, label=\"Best Error So Far\", color=\"orange\")\n",
    "plt.legend()"
   ]
  },
  {
   "cell_type": "markdown",
   "id": "9ea5f310",
   "metadata": {},
   "source": [
    "## (2) Strategy: Grid\n",
    "\n",
    "We will generate a 'grid' of RGB combinations, which we then measure and pick the best point.\n",
    "\n",
    "Image you want to cook the best pizza, but you don't know what the best time in the oven at 200 Celsius. It is most likely somehwere between 10 and 15 minutes. If we have 6 pizzas, we can just put in a pizza for each 10, 11, 12, 13, 14 and 15 minutes and then test the taste. That's a grid: We have a lower and upper bound and a limited number of experiments we can run in between, evenly spaced.\n",
    "\n",
    "For our SDL4Kids, we have 3 variables R, G and B instead of 'minutes in the oven'. For example, we can create a grid with 5 steps for each variable. That would be 5 * 5 * 5 = 125 experiments to run. The following code generates such a grid:"
   ]
  },
  {
   "cell_type": "code",
   "execution_count": null,
   "id": "6e5ff7fa",
   "metadata": {},
   "outputs": [],
   "source": [
    "grid_steps = 4\n",
    "red = np.linspace(0, 255, grid_steps)\n",
    "green = np.linspace(0, 255, grid_steps)\n",
    "blue = np.linspace(0, 255, grid_steps)\n",
    "\n",
    "grid_combinations = []\n",
    "for r in red:\n",
    "    for g in green:\n",
    "        for b in blue:\n",
    "            combination = (r,g,b)\n",
    "            grid_combinations.append(combination)\n",
    "grid_combinations"
   ]
  },
  {
   "cell_type": "code",
   "execution_count": null,
   "id": "aa9c0ae0",
   "metadata": {},
   "outputs": [],
   "source": [
    "import random\n",
    "import numpy as np\n",
    "import cv2\n",
    "\n",
    "# Create a blank image\n",
    "width, height = 800, 400\n",
    "image = np.zeros((height, width, 3), dtype=np.uint8)\n",
    "\n",
    "# Create a named window for display\n",
    "cv2.namedWindow(\"Live Image\", cv2.WINDOW_NORMAL)\n",
    "cv2.startWindowThread()\n",
    "\n",
    "# Define font properties for displaying text\n",
    "font = cv2.FONT_HERSHEY_SIMPLEX\n",
    "font_scale = 0.8\n",
    "font_color = (255, 255, 255)  # White color\n",
    "\n",
    "# Define the goal color\n",
    "goal_color = (0, 0, 255)  # Red color (BGR format)\n",
    "\n",
    "# Create an empty list to store the loss values\n",
    "error_values = []\n",
    "\n",
    "# Main loop\n",
    "max_iterations = len(grid_combinations)  # Set the desired number of iterations\n",
    "\n",
    "candidate_color = grid_combinations[0]\n",
    "\n",
    "for iteration, grid_combination in enumerate(grid_combinations):\n",
    "    \n",
    "\n",
    "    # STEP 1: Synthesis\n",
    "    # Update the live image with the current color\n",
    "    image[:, :] = candidate_color\n",
    "    \n",
    "    # Display the image\n",
    "    cv2.imshow(\"Live Image\", image)\n",
    "    \n",
    "    # STEP 2: Characterisation\n",
    "    \n",
    "    # Measure the color with the Microbit: We will do this eventually\n",
    "    #rgb_measurement = characterise()  \n",
    "    #rgb_measurement = tuple(reversed(rgb_measurement))\n",
    "    \n",
    "    # Measure the color by just pretending candidate_color being the measurement \n",
    "    rgb_measurement = candidate_color\n",
    "    \n",
    "    # STEP 3: Planning\n",
    "    \n",
    "    # Calculate the loss between the goal color and the current color\n",
    "    error = calculate_error(goal_color, rgb_measurement)\n",
    "\n",
    "    # Add the loss value to the list\n",
    "    error_values.append(error)    \n",
    "\n",
    "    # Add text information to the image\n",
    "    text = f\"Iteration: {iteration + 1}\"\n",
    "    cv2.putText(image, text, (10, 30), font, font_scale, font_color, 2)\n",
    "\n",
    "    # Plot a subplot for the goal color\n",
    "    # subplot_x = num_iterations * (width // (max_iterations + 1))\n",
    "    subplot_x = width // (max_iterations + 1)\n",
    "    subplot_width = width // (max_iterations + 1)\n",
    "    cv2.rectangle(image, (subplot_x, 60), (subplot_x + subplot_width, height - 60), goal_color, -1)\n",
    "\n",
    "    # Add text for the error\n",
    "    error_text = f\"Loss: {error:.2f}\"\n",
    "    cv2.putText(image, error_text, (10, height - 10), font, font_scale, font_color, 2)\n",
    "\n",
    "    # Draw the graph of error values\n",
    "    if len(error_values) > 1:\n",
    "        for i in range(1, len(error_values)):\n",
    "            x1 = (i - 1) * (width // max_iterations)\n",
    "            y1 = height - int(error_values[i - 1] * (height - 60) / max(error_values))\n",
    "            x2 = i * (width // max_iterations)\n",
    "            y2 = height - int(error_values[i] * (height - 60) / max(error_values))\n",
    "            cv2.line(image, (x1, y1), (x2, y2), (255, 255, 255), 2)\n",
    "\n",
    "    # Increment the iteration counter\n",
    "    cv2.imshow(\"Live Image\", image)\n",
    "    cv2.waitKey(50)  # Adjust the wait time (in milliseconds) as needed\n",
    "    \n",
    "    # Generate a new candidate color, for now we will pick one randomly\n",
    "    candidate_color = grid_combination\n",
    "    \n",
    "# Close the window after the desired number of iterations\n",
    "cv2.waitKey(1)\n",
    "cv2.destroyAllWindows()\n",
    "cv2.waitKey(1)"
   ]
  },
  {
   "cell_type": "markdown",
   "id": "785acab6",
   "metadata": {},
   "source": [
    "Let's plot the error values for each grid combination. Notice the pattern a grid creates."
   ]
  },
  {
   "cell_type": "code",
   "execution_count": null,
   "id": "8a65d0a7",
   "metadata": {},
   "outputs": [],
   "source": [
    "import matplotlib.pyplot as plt\n",
    "# Plot error for each iteration\n",
    "plt.scatter(range(len(error_values)), error_values, label=\"Error for each iteration\")\n",
    "\n",
    "# Calculate best error so far\n",
    "best_error_so_far = 1000\n",
    "best_errors = []\n",
    "for value in error_values:\n",
    "    if value < best_error_so_far:\n",
    "        best_error_so_far = value\n",
    "    best_errors.append(best_error_so_far)\n",
    "    \n",
    "# Plot best error so far\n",
    "plt.plot(best_errors, label=\"Best Error So Far\", color=\"orange\")\n",
    "plt.legend()"
   ]
  },
  {
   "cell_type": "markdown",
   "id": "92efdb47",
   "metadata": {},
   "source": [
    "**Question**: Which RGB combination was closest to our goal color?\n",
    "\n",
    "*Solution*: Check the loss graph for the combination with the smallest loss, i.e. it is closest to our goal color."
   ]
  },
  {
   "cell_type": "code",
   "execution_count": null,
   "id": "6c12d631",
   "metadata": {},
   "outputs": [],
   "source": [
    "iteration_with_smallest_error = error_values.index(min(error_values))-1 # Index of the iteration with the smallest loss\n",
    "grid_combinations[iteration_with_smallest_error]"
   ]
  },
  {
   "cell_type": "markdown",
   "id": "a3ce4463",
   "metadata": {
    "pycharm": {
     "name": "#%% md\n"
    }
   },
   "source": [
    "## (3) Strategy: Bayesian Optimisation \n",
    "\n",
    "The *random* strategy is a good baseline we want to beat. If our search is not better than *random* then, we should just randomly experiment. With a *grid* search, we are more structured in our search, but the best experiment can still easily sleep in between the grid points.\n",
    "\n",
    "With **Bayesian Optimisation**, we build a statistical model for decision making, i.e. steering our search. This model will represent the behaviour of our RGB color. In Material Science, it can for example represent the relationships between water content and concrete strength.\n",
    "\n",
    "We can ask this model for the next *most informative* combination to test, collect the data, update the model and repeat."
   ]
  },
  {
   "cell_type": "code",
   "execution_count": null,
   "id": "35459665",
   "metadata": {},
   "outputs": [],
   "source": [
    "import random\n",
    "import numpy as np\n",
    "import cv2\n",
    "\n",
    "# Create a blank image\n",
    "width, height = 800, 400\n",
    "image = np.zeros((height, width, 3), dtype=np.uint8)\n",
    "\n",
    "# Create a named window for display\n",
    "cv2.namedWindow(\"Live Image\", cv2.WINDOW_NORMAL)\n",
    "cv2.startWindowThread()\n",
    "\n",
    "# Define font properties for displaying text\n",
    "font = cv2.FONT_HERSHEY_SIMPLEX\n",
    "font_scale = 0.8\n",
    "font_color = (255, 255, 255)  # White color\n",
    "\n",
    "# Define the goal color\n",
    "goal_color = (255, 0, 255)  # Red color\n",
    "\n",
    "# Create an empty list to store the loss values\n",
    "error_values = []\n",
    "\n",
    "# Main loop\n",
    "max_iterations = 25  # Set the desired number of iterations\n",
    "\n",
    "\n",
    "# Bayesian Optimisation\n",
    "from bayes_opt import BayesianOptimization\n",
    "from bayes_opt import UtilityFunction\n",
    "\n",
    "def objective_function(R, G, B):\n",
    "    # Simulate the outcome based on the RGB values\n",
    "    outcome = calculate_error(goal_color, {'R': R, 'G': G, 'B': B})\n",
    "    return outcome\n",
    "\n",
    "# Define the utility function (Expected Improvement)\n",
    "utility = UtilityFunction(kind=\"ei\", kappa=2.5, xi=0.0)\n",
    "\n",
    "# Define the search space bounds\n",
    "rgb_bounds = {'R': (0, 255), 'G': (0, 255), 'B': (0, 255)}\n",
    "\n",
    "# Define the Bayesian optimization function\n",
    "optimizer = BayesianOptimization(\n",
    "        f=objective_function,\n",
    "        pbounds=rgb_bounds,\n",
    "        random_state=1,\n",
    "        verbose=2, \n",
    "        allow_duplicate_points=True\n",
    ")\n",
    "\n",
    "candidate_color = (0,0,0) # Initial color\n",
    "for iteration in range(max_iterations):\n",
    "\n",
    "    # STEP 1: Synthesis\n",
    "    # Update the live image with the current color\n",
    "    image[:, :] = tuple(reversed(candidate_color))\n",
    "    \n",
    "    # Display the image\n",
    "    cv2.imshow(\"Live Image\", image)\n",
    "    \n",
    "    # STEP 2: Characterisation\n",
    "    \n",
    "    # Measure the color with the Microbit: We will do this eventually\n",
    "    #rgb_measurement = characterise()  \n",
    "    #rgb_measurement = tuple(reversed(rgb_measurement))\n",
    "    \n",
    "    # Measure the color by just pretending candidate_color being the measurement \n",
    "    rgb_measurement = candidate_color\n",
    "    \n",
    "    # STEP 3: Planning\n",
    "    \n",
    "    # Calculate the loss between the goal color and the current color\n",
    "    error = calculate_error(goal_color, rgb_measurement)\n",
    "\n",
    "    # Add the loss value to the list\n",
    "    error_values.append(error)   \n",
    "    \n",
    "    # Update the optimizer with the new sample\n",
    "    optimizer.register(params={'R': rgb_measurement[0], 'G': rgb_measurement[1], 'B': rgb_measurement[2]}, target=error)\n",
    "\n",
    "    # Optimize the acquisition function to get the next sample\n",
    "    candidate_color = optimizer.suggest(utility_function=utility)\n",
    "    candidate_color = (candidate_color[\"R\"], candidate_color[\"G\"], candidate_color['B'])\n",
    "    print(candidate_color)\n",
    "\n",
    "    # Add text information to the image\n",
    "    text = f\"Iteration: {iteration + 1}\"\n",
    "    cv2.putText(image, text, (10, 30), font, font_scale, font_color, 2)\n",
    "\n",
    "    # Plot a subplot for the goal color\n",
    "    # subplot_x = num_iterations * (width // (max_iterations + 1))\n",
    "    subplot_x = width // (max_iterations + 1)\n",
    "    subplot_width = width // (max_iterations + 1)\n",
    "    cv2.rectangle(image, (subplot_x, 60), (subplot_x + subplot_width, height - 60), goal_color, -1)\n",
    "\n",
    "    # Add text for the error\n",
    "    error_text = f\"Error: {error:.2f}\"\n",
    "    cv2.putText(image, error_text, (10, height - 10), font, font_scale, font_color, 2)\n",
    "\n",
    "    # Draw the graph of error values\n",
    "    if len(error_values) > 1:\n",
    "        for i in range(1, len(error_values)):\n",
    "            x1 = (i - 1) * (width // max_iterations)\n",
    "            y1 = height - int(error_values[i - 1] * (height - 60) / max(error_values))\n",
    "            x2 = i * (width // max_iterations)\n",
    "            y2 = height - int(error_values[i] * (height - 60) / max(error_values))\n",
    "            cv2.line(image, (x1, y1), (x2, y2), (255, 255, 255), 2)\n",
    "\n",
    "    # Increment the iteration counter\n",
    "    cv2.imshow(\"Live Image\", image)\n",
    "    cv2.waitKey(10)  # Adjust the wait time (in milliseconds) as needed\n",
    "    \n",
    "# Close the window after the desired number of iterations\n",
    "cv2.waitKey(1)\n",
    "cv2.destroyAllWindows()\n",
    "cv2.waitKey(1)"
   ]
  },
  {
   "cell_type": "code",
   "execution_count": null,
   "id": "385bdf25",
   "metadata": {
    "pycharm": {
     "name": "#%%\n"
    }
   },
   "outputs": [],
   "source": [
    "import matplotlib.pyplot as plt\n",
    "# Plot error for each iteration\n",
    "plt.scatter(range(len(error_values)), error_values, label=\"Error for each iteration\")\n",
    "\n",
    "# Calculate best error so far\n",
    "best_error_so_far = 999999\n",
    "best_errors = []\n",
    "for value in error_values:\n",
    "    if value < best_error_so_far:\n",
    "        best_error_so_far = value\n",
    "    best_errors.append(best_error_so_far)\n",
    "    \n",
    "# Plot best error so far\n",
    "plt.plot(best_errors, label=\"Best Error So Far\", color=\"orange\")\n",
    "plt.legend()"
   ]
  },
  {
   "cell_type": "code",
   "execution_count": null,
   "id": "6e65ea5e",
   "metadata": {},
   "outputs": [],
   "source": [
    "\n"
   ]
  },
  {
   "cell_type": "markdown",
   "id": "5f52544e",
   "metadata": {},
   "source": [
    "## (4) Bayesian Optimisation with Microbit measurements"
   ]
  },
  {
   "cell_type": "code",
   "execution_count": 5,
   "id": "c12bbc4d",
   "metadata": {},
   "outputs": [],
   "source": [
    "import serial"
   ]
  },
  {
   "cell_type": "code",
   "execution_count": 6,
   "id": "0d5c33cc",
   "metadata": {},
   "outputs": [
    {
     "name": "stdout",
     "output_type": "stream",
     "text": [
      "\u001b[34m\u001b[43m/dev/cu.Bluetooth-Incoming-Port\u001b[m\u001b[m \u001b[34m\u001b[43m/dev/cu.ZeitlersBoseQC35II\u001b[m\u001b[m\r\n",
      "\u001b[34m\u001b[43m/dev/cu.RoastBeats\u001b[m\u001b[m              \u001b[34m\u001b[43m/dev/cu.usbmodem102\u001b[m\u001b[m\r\n"
     ]
    }
   ],
   "source": [
    "!ls /dev/cu.*"
   ]
  },
  {
   "cell_type": "code",
   "execution_count": 7,
   "id": "5a9d9e6f",
   "metadata": {},
   "outputs": [],
   "source": [
    "ser = serial.Serial()\n",
    "ser = serial.Serial(\"/dev/cu.usbmodem102\",115200, timeout=0.1)"
   ]
  },
  {
   "cell_type": "code",
   "execution_count": 8,
   "id": "b1fee44d",
   "metadata": {},
   "outputs": [],
   "source": [
    "import time\n",
    "def characterise(wait=0.5):\n",
    "    valid = False\n",
    "    while not valid:\n",
    "        try:\n",
    "            ser.flushInput()\n",
    "            ser.write(b\",\")\n",
    "            serial_data = str(ser.readline().decode('utf8')).rstrip()\n",
    "            rgb = tuple([int(value) for value in serial_data.split(\"-\")])\n",
    "            # Validate: Measurement needs three entries\n",
    "            if len(rgb) != 3:\n",
    "                print(f\"Measurement did not containt 3 RGB values:{rgb}\")\n",
    "                raise Exception()\n",
    "            # Validate: Measurements need to be between 0 and 255\n",
    "            if sum([0 <= x <= 255 for x in rgb]) != 3:\n",
    "                print(f\"Measurement outside valid range [0,255]:{rgb}\")\n",
    "                raise Exception()\n",
    "            valid = True\n",
    "        except Exception as e:\n",
    "            print(f\"Measurement invalid, will try again (error: {str(e)})\")\n",
    "    print(f\"New RGB Measurement: {rgb}\")\n",
    "    time.sleep(wait)\n",
    "    return rgb"
   ]
  },
  {
   "cell_type": "code",
   "execution_count": 9,
   "id": "7bd5e46d",
   "metadata": {},
   "outputs": [
    {
     "name": "stdout",
     "output_type": "stream",
     "text": [
      "New RGB Measurement: (101, 88, 88)\n"
     ]
    },
    {
     "data": {
      "text/plain": [
       "(101, 88, 88)"
      ]
     },
     "execution_count": 9,
     "metadata": {},
     "output_type": "execute_result"
    }
   ],
   "source": [
    "characterise()"
   ]
  },
  {
   "cell_type": "markdown",
   "id": "f6803a65",
   "metadata": {},
   "source": [
    "### With bayes_opt"
   ]
  },
  {
   "cell_type": "code",
   "execution_count": null,
   "id": "02b64857",
   "metadata": {},
   "outputs": [],
   "source": [
    "import random\n",
    "import numpy as np\n",
    "import cv2\n",
    "\n",
    "# Create a blank image\n",
    "width, height = 800, 400\n",
    "image = np.zeros((height, width, 3), dtype=np.uint8)\n",
    "\n",
    "# Create a named window for display\n",
    "cv2.namedWindow(\"Live Image\", cv2.WINDOW_NORMAL)\n",
    "cv2.startWindowThread()\n",
    "\n",
    "# Define font properties for displaying text\n",
    "font = cv2.FONT_HERSHEY_SIMPLEX\n",
    "font_scale = 0.8\n",
    "font_color = (255, 255, 255)  # White color\n",
    "\n",
    "# Define the goal color\n",
    "goal_color = (150, 50, 5)  # Goal color\n",
    "\n",
    "# Create an empty list to store the loss values\n",
    "error_values = []\n",
    "\n",
    "# Main loop\n",
    "max_iterations = 100  # Set the desired number of iterations\n",
    "\n",
    "\n",
    "# Bayesian Optimisation\n",
    "from bayes_opt import BayesianOptimization\n",
    "from bayes_opt import UtilityFunction\n",
    "\n",
    "def objective_function(R, G, B):\n",
    "    # Simulate the outcome based on the RGB values\n",
    "    outcome = calculate_error(goal_color, {'R': R, 'G': G, 'B': B})\n",
    "    return -outcome # We flip the sign as want to minimize the error, so maximize the negative error \n",
    "\n",
    "# Define the utility function (Expected Improvement)\n",
    "utility = UtilityFunction(kind=\"ei\")\n",
    "\n",
    "# Define the search space bounds\n",
    "rgb_bounds = {'R': (0, 255), 'G': (0, 255), 'B': (0, 255)}\n",
    "\n",
    "# Define the Bayesian optimization function\n",
    "optimizer = BayesianOptimization(\n",
    "        f=objective_function,\n",
    "        pbounds=rgb_bounds,\n",
    "        random_state=1,\n",
    "        verbose=2, \n",
    "        allow_duplicate_points=True\n",
    ")\n",
    "\n",
    "candidate_color = (0,0,0) # Initial color\n",
    "for iteration in range(max_iterations):\n",
    "    print(f\"---Iteration {iteration}\")\n",
    "\n",
    "    # STEP 1: Synthesis\n",
    "    # Update the live image with the current color\n",
    "    image[:, :] = tuple(reversed(candidate_color))\n",
    "    \n",
    "    # Display the image\n",
    "    cv2.imshow(\"Live Image\", image)\n",
    "    \n",
    "    # STEP 2: Characterisation\n",
    "    \n",
    "    # Measure the color with the Microbit: We will do this eventually\n",
    "    rgb_measurement = characterise()  \n",
    "    rgb_measurement = (rgb_measurement[0]+np.random.normal(1),rgb_measurement[1]+np.random.normal(1),rgb_measurement[2]+np.random.normal(1))\n",
    "    \n",
    "    # STEP 3: Planning\n",
    "    \n",
    "    # Calculate the loss between the goal color and the current color\n",
    "    error = calculate_error(goal_color, rgb_measurement)\n",
    "    print(f\"Error:{error}\")\n",
    "\n",
    "    # Add the loss value to the list\n",
    "    error_values.append(error)   \n",
    "    \n",
    "    # Update the optimizer with the new sample\n",
    "    optimizer.register(params={'R': rgb_measurement[0], 'G': rgb_measurement[1], 'B': rgb_measurement[2]}, target=error)\n",
    "\n",
    "    # Optimize the acquisition function to get the next sample\n",
    "    candidate_color = optimizer.suggest(utility_function=utility)\n",
    "    candidate_color = (candidate_color[\"R\"], candidate_color[\"G\"], candidate_color['B'])\n",
    "    print(f\"New Candidate:{candidate_color}\")\n",
    "\n",
    "    # Add text information to the image\n",
    "    text = f\"Iteration: {iteration + 1}\"\n",
    "    cv2.putText(image, text, (10, 30), font, font_scale, font_color, 2)\n",
    "\n",
    "    # Plot a subplot for the goal color\n",
    "    # subplot_x = num_iterations * (width // (max_iterations + 1))\n",
    "    subplot_x = width // (max_iterations + 1)\n",
    "    subplot_width = 50\n",
    "    cv2.rectangle(image, (subplot_x, 60), (subplot_x + subplot_width, height - 60), goal_color, -1)\n",
    "\n",
    "    # Add text for the error\n",
    "    error_text = f\"Error: {error:.2f}\"\n",
    "    cv2.putText(image, error_text, (10, height - 10), font, font_scale, font_color, 2)\n",
    "\n",
    "    # Draw the graph of error values\n",
    "    if len(error_values) > 1:\n",
    "        for i in range(1, len(error_values)):\n",
    "            x1 = (i - 1) * (width // max_iterations)\n",
    "            y1 = height - int(error_values[i - 1] * (height - 60) / max(error_values))\n",
    "            x2 = i * (width // max_iterations)\n",
    "            y2 = height - int(error_values[i] * (height - 60) / max(error_values))\n",
    "            cv2.line(image, (x1, y1), (x2, y2), (255, 255, 255), 2)\n",
    "\n",
    "    # Increment the iteration counter\n",
    "    cv2.imshow(\"Live Image\", image)\n",
    "    cv2.waitKey(200)  # Adjust the wait time (in milliseconds) as needed\n",
    "    \n",
    "# Close the window after the desired number of iterations\n",
    "cv2.waitKey(1)\n",
    "cv2.destroyAllWindows()\n",
    "cv2.waitKey(1)"
   ]
  },
  {
   "cell_type": "code",
   "execution_count": null,
   "id": "7925079a",
   "metadata": {},
   "outputs": [],
   "source": [
    "import matplotlib.pyplot as plt\n",
    "# Plot error for each iteration\n",
    "plt.scatter(range(len(error_values)), error_values, label=\"Error for each iteration\")\n",
    "\n",
    "# Calculate best error so far\n",
    "best_error_so_far = 1000\n",
    "best_errors = []\n",
    "for value in error_values:\n",
    "    if value < best_error_so_far:\n",
    "        best_error_so_far = value\n",
    "    best_errors.append(best_error_so_far)\n",
    "    \n",
    "# Plot best error so far\n",
    "plt.plot(best_errors, label=\"Best Error So Far\", color=\"orange\")\n",
    "plt.legend()"
   ]
  },
  {
   "cell_type": "code",
   "execution_count": null,
   "id": "2f247335",
   "metadata": {},
   "outputs": [],
   "source": []
  },
  {
   "cell_type": "markdown",
   "id": "654f21df",
   "metadata": {},
   "source": [
    "## With pyGPGO"
   ]
  },
  {
   "cell_type": "code",
   "execution_count": null,
   "id": "21de010d",
   "metadata": {},
   "outputs": [],
   "source": [
    "# Create a blank image\n",
    "width, height = 800, 400\n",
    "image = np.zeros((height, width, 3), dtype=np.uint8)\n",
    "\n",
    "# Display the image\n",
    "cv2.imshow(\"Live Image\", image)\n",
    "cv2.waitKey(1000)"
   ]
  },
  {
   "cell_type": "code",
   "execution_count": null,
   "id": "51e23e06",
   "metadata": {},
   "outputs": [],
   "source": [
    "# Close the window after the desired number of iterations\n",
    "cv2.waitKey(1)\n",
    "cv2.destroyAllWindows()\n",
    "cv2.waitKey(1)"
   ]
  },
  {
   "cell_type": "code",
   "execution_count": null,
   "id": "15fd1556",
   "metadata": {},
   "outputs": [],
   "source": [
    "import numpy as np\n",
    "from pyGPGO.covfunc import matern32\n",
    "from pyGPGO.acquisition import Acquisition\n",
    "from pyGPGO.surrogates.GaussianProcess import GaussianProcess\n",
    "from pyGPGO.GPGO import GPGO\n",
    "\n",
    "\n",
    "# Create a named window for display\n",
    "cv2.namedWindow(\"Live Image\", cv2.WINDOW_NORMAL)\n",
    "cv2.startWindowThread()\n",
    "\n",
    "# Create a blank image\n",
    "width, height = 800, 400\n",
    "image = np.zeros((height, width, 3), dtype=np.uint8)\n",
    "\n",
    "# Display the image\n",
    "cv2.imshow(\"Live Image\", image)\n",
    "cv2.waitKey(1)\n",
    "\n",
    "# Define font properties for displaying text\n",
    "font = cv2.FONT_HERSHEY_SIMPLEX\n",
    "font_scale = 0.8\n",
    "font_color = (255, 255, 255)  # White color\n",
    "\n",
    "# Define the goal color\n",
    "goal_color = (150, 50, 5)  # Goal color\n",
    "\n",
    "# Create an empty list to store the loss values\n",
    "error_values = []\n",
    "error = 0\n",
    "\n",
    "# Main loop\n",
    "max_iterations = 200  # Set the desired number of iterations\n",
    "iteration = 0\n",
    "\n",
    "def f(R, G, B):\n",
    "    # STEP 1: Synthesis\n",
    "    # Update the live image with the current color\n",
    "    candidate_color = (R, G, B)\n",
    "    image[:, :] = tuple(reversed(candidate_color))\n",
    "    \n",
    "    # Add text information to the image\n",
    "    #text = f\"Iteration: {iteration + 1}\"\n",
    "    #iteration = iteration + 1\n",
    "    #cv2.putText(image, text, (10, 30), font, font_scale, font_color, 2)\n",
    "\n",
    "    # Plot a subplot for the goal color\n",
    "    # subplot_x = num_iterations * (width // (max_iterations + 1))\n",
    "    subplot_x = width // (max_iterations + 1)\n",
    "    subplot_width = 50\n",
    "    cv2.rectangle(image, (subplot_x, 60), (subplot_x + subplot_width, height - 60), goal_color, -1)\n",
    "\n",
    "    # Add text for the error\n",
    "    #error_text = f\"Error: {error:.2f}\"\n",
    "    #cv2.putText(image, error_text, (10, height - 10), font, font_scale, font_color, 2)\n",
    "\n",
    "    # Draw the graph of error values\n",
    "    if len(error_values) > 1:\n",
    "        for i in range(1, len(error_values)):\n",
    "            x1 = (i - 1) * (width // max_iterations)\n",
    "            y1 = height - int(error_values[i - 1] * (height - 60) / max(error_values))\n",
    "            x2 = i * (width // max_iterations)\n",
    "            y2 = height - int(error_values[i] * (height - 60) / max(error_values))\n",
    "            cv2.line(image, (x1, y1), (x2, y2), (255, 255, 255), 2)\n",
    "    \n",
    "    # Display the image\n",
    "    cv2.imshow(\"Live Image\", image)\n",
    "    cv2.waitKey(1)\n",
    "    \n",
    "    # STEP 2: Characterisation\n",
    "    \n",
    "    # Measure the color with the Microbit: We will do this eventually\n",
    "    rgb_measurement = characterise(wait=0.4)  \n",
    "    #rgb_measurement = (rgb_measurement[0]+np.random.normal(1),rgb_measurement[1]+np.random.normal(1),rgb_measurement[2]+np.random.normal(1))\n",
    "    \n",
    "    # STEP 3: Planning\n",
    "    \n",
    "    # Calculate the loss between the goal color and the current color\n",
    "    error = calculate_error(goal_color, rgb_measurement)\n",
    "    print(f\"Error:{error}\")\n",
    "\n",
    "    # Add the loss value to the list\n",
    "    error_values.append(error)  \n",
    "        \n",
    "    return -error\n",
    "\n",
    "cov = matern32()\n",
    "gp = GaussianProcess(cov)\n",
    "acq = Acquisition(mode='ExpectedImprovement')\n",
    "param = {'R': ('cont', [0, 255]),\n",
    "         'G': ('cont', [0, 255]),\n",
    "         'B': ('cont', [0, 255])}\n",
    "\n",
    "np.random.seed(1337)\n",
    "gpgo = GPGO(gp, acq, f, param)\n",
    "gpgo.run(max_iter=max_iterations)\n",
    "\n",
    "# Close the window after the desired number of iterations\n",
    "cv2.waitKey(1)\n",
    "cv2.destroyAllWindows()\n",
    "cv2.waitKey(1)"
   ]
  },
  {
   "cell_type": "code",
   "execution_count": null,
   "id": "20e62371",
   "metadata": {},
   "outputs": [],
   "source": [
    "import matplotlib.pyplot as plt\n",
    "# Plot error for each iteration\n",
    "plt.scatter(range(len(error_values)), error_values, label=\"Error for each iteration\")\n",
    "\n",
    "# Calculate best error so far\n",
    "best_error_so_far = 1000\n",
    "best_errors = []\n",
    "for value in error_values:\n",
    "    if value < best_error_so_far:\n",
    "        best_error_so_far = value\n",
    "    best_errors.append(best_error_so_far)\n",
    "    \n",
    "# Plot best error so far\n",
    "plt.plot(best_errors, label=\"Best Error So Far\", color=\"orange\")\n",
    "plt.legend()"
   ]
  },
  {
   "cell_type": "code",
   "execution_count": null,
   "id": "4d2ed8a1",
   "metadata": {},
   "outputs": [],
   "source": []
  },
  {
   "cell_type": "markdown",
   "id": "9d5b268b",
   "metadata": {},
   "source": [
    "### With BoTorch"
   ]
  },
  {
   "cell_type": "code",
   "execution_count": null,
   "id": "54f6932e",
   "metadata": {},
   "outputs": [],
   "source": []
  },
  {
   "cell_type": "code",
   "execution_count": 3,
   "id": "8b9dfe13",
   "metadata": {},
   "outputs": [
    {
     "name": "stderr",
     "output_type": "stream",
     "text": [
      "/opt/homebrew/Caskroom/miniforge/base/envs/SDL4Kids/lib/python3.11/site-packages/tqdm/auto.py:21: TqdmWarning: IProgress not found. Please update jupyter and ipywidgets. See https://ipywidgets.readthedocs.io/en/stable/user_install.html\n",
      "  from .autonotebook import tqdm as notebook_tqdm\n"
     ]
    }
   ],
   "source": [
    "import torch\n",
    "from botorch.models import SingleTaskGP\n",
    "from botorch.fit import fit_gpytorch_mll\n",
    "from botorch.utils import standardize\n",
    "from gpytorch.mlls import ExactMarginalLogLikelihood\n",
    "from botorch.acquisition import UpperConfidenceBound\n",
    "from botorch.optim import optimize_acqf"
   ]
  },
  {
   "cell_type": "code",
   "execution_count": 4,
   "id": "8ffb3fba",
   "metadata": {},
   "outputs": [],
   "source": [
    "import pandas as pd\n",
    "def calculate_candidate(samples):\n",
    "    train_X = samples[[\"R\",\"G\",\"B\"]]\n",
    "    train_Y = samples[[\"error\"]]\n",
    "\n",
    "    train_X = torch.tensor(train_X.to_numpy(dtype=np.float64))\n",
    "    train_Y = torch.tensor(-1*train_Y.to_numpy(dtype=np.float64))\n",
    "\n",
    "    gp = SingleTaskGP(train_X, train_Y)\n",
    "    mll = ExactMarginalLogLikelihood(gp.likelihood, gp)\n",
    "    fit_gpytorch_mll(mll)\n",
    "\n",
    "    from botorch.acquisition import UpperConfidenceBound\n",
    "    UCB = UpperConfidenceBound(gp, beta=0.1)\n",
    "    \n",
    "    from botorch.optim import optimize_acqf\n",
    "    bounds = torch.stack([torch.zeros(3), torch.ones(3)*255])\n",
    "    candidate, acq_value = optimize_acqf(\n",
    "        UCB, bounds=bounds, q=1, num_restarts=5, raw_samples=20,\n",
    "    )\n",
    "    candidate = candidate[0]\n",
    "    candidate = {\"R\": candidate[0], \"G\": candidate[1], \"B\": candidate[2]}\n",
    "    return candidate"
   ]
  },
  {
   "cell_type": "code",
   "execution_count": 10,
   "id": "7a2caa88",
   "metadata": {},
   "outputs": [
    {
     "name": "stdout",
     "output_type": "stream",
     "text": [
      "---Iteration 0\n",
      "New RGB Measurement: (101, 88, 88)\n",
      "Error:-103.60501918343532\n",
      "Candidate:(tensor(28.8347), tensor(186.3224), tensor(12.8237))\n"
     ]
    },
    {
     "name": "stderr",
     "output_type": "stream",
     "text": [
      "/opt/homebrew/Caskroom/miniforge/base/envs/SDL4Kids/lib/python3.11/site-packages/botorch/models/utils/assorted.py:173: InputDataWarning: Input data is not contained to the unit cube. Please consider min-max scaling the input data.\n",
      "  warnings.warn(msg, InputDataWarning)\n",
      "/opt/homebrew/Caskroom/miniforge/base/envs/SDL4Kids/lib/python3.11/site-packages/botorch/models/utils/assorted.py:201: InputDataWarning: Input data is not standardized. Please consider scaling the input to zero mean and unit variance.\n",
      "  warnings.warn(msg, InputDataWarning)\n",
      "/opt/homebrew/Caskroom/miniforge/base/envs/SDL4Kids/lib/python3.11/site-packages/botorch/optim/initializers.py:403: BadInitialCandidatesWarning: Unable to find non-zero acquisition function values - initial conditions are being selected randomly.\n",
      "  warnings.warn(\n"
     ]
    },
    {
     "name": "stdout",
     "output_type": "stream",
     "text": [
      "---Iteration 1\n",
      "New RGB Measurement: (98, 88, 88)\n",
      "Error:-105.05712731652241\n",
      "Candidate:(tensor(227.8467), tensor(163.0729), tensor(248.5741))\n"
     ]
    },
    {
     "name": "stderr",
     "output_type": "stream",
     "text": [
      "/opt/homebrew/Caskroom/miniforge/base/envs/SDL4Kids/lib/python3.11/site-packages/botorch/models/utils/assorted.py:173: InputDataWarning: Input data is not contained to the unit cube. Please consider min-max scaling the input data.\n",
      "  warnings.warn(msg, InputDataWarning)\n",
      "/opt/homebrew/Caskroom/miniforge/base/envs/SDL4Kids/lib/python3.11/site-packages/botorch/models/utils/assorted.py:201: InputDataWarning: Input data is not standardized. Please consider scaling the input to zero mean and unit variance.\n",
      "  warnings.warn(msg, InputDataWarning)\n"
     ]
    },
    {
     "name": "stdout",
     "output_type": "stream",
     "text": [
      "---Iteration 2\n",
      "New RGB Measurement: (112, 106, 100)\n",
      "Error:-116.64047325006874\n",
      "Candidate:(tensor(69.7690), tensor(71.0535), tensor(161.3457))\n"
     ]
    },
    {
     "name": "stderr",
     "output_type": "stream",
     "text": [
      "/opt/homebrew/Caskroom/miniforge/base/envs/SDL4Kids/lib/python3.11/site-packages/botorch/models/utils/assorted.py:173: InputDataWarning: Input data is not contained to the unit cube. Please consider min-max scaling the input data.\n",
      "  warnings.warn(msg, InputDataWarning)\n",
      "/opt/homebrew/Caskroom/miniforge/base/envs/SDL4Kids/lib/python3.11/site-packages/botorch/models/utils/assorted.py:201: InputDataWarning: Input data is not standardized. Please consider scaling the input to zero mean and unit variance.\n",
      "  warnings.warn(msg, InputDataWarning)\n"
     ]
    },
    {
     "name": "stdout",
     "output_type": "stream",
     "text": [
      "---Iteration 3\n",
      "New RGB Measurement: (140, 67, 49)\n",
      "Error:-48.218253804964775\n",
      "Candidate:(tensor(156.2226), tensor(178.2568), tensor(245.8054))\n"
     ]
    },
    {
     "name": "stderr",
     "output_type": "stream",
     "text": [
      "/opt/homebrew/Caskroom/miniforge/base/envs/SDL4Kids/lib/python3.11/site-packages/botorch/models/utils/assorted.py:173: InputDataWarning: Input data is not contained to the unit cube. Please consider min-max scaling the input data.\n",
      "  warnings.warn(msg, InputDataWarning)\n",
      "/opt/homebrew/Caskroom/miniforge/base/envs/SDL4Kids/lib/python3.11/site-packages/botorch/models/utils/assorted.py:201: InputDataWarning: Input data is not standardized. Please consider scaling the input to zero mean and unit variance.\n",
      "  warnings.warn(msg, InputDataWarning)\n"
     ]
    },
    {
     "name": "stdout",
     "output_type": "stream",
     "text": [
      "---Iteration 4\n",
      "New RGB Measurement: (80, 90, 86)\n",
      "Error:-114.28473213863697\n",
      "Candidate:(tensor(110.3913), tensor(215.1152), tensor(150.0646))\n"
     ]
    },
    {
     "name": "stderr",
     "output_type": "stream",
     "text": [
      "/opt/homebrew/Caskroom/miniforge/base/envs/SDL4Kids/lib/python3.11/site-packages/botorch/models/utils/assorted.py:173: InputDataWarning: Input data is not contained to the unit cube. Please consider min-max scaling the input data.\n",
      "  warnings.warn(msg, InputDataWarning)\n",
      "/opt/homebrew/Caskroom/miniforge/base/envs/SDL4Kids/lib/python3.11/site-packages/botorch/models/utils/assorted.py:201: InputDataWarning: Input data is not standardized. Please consider scaling the input to zero mean and unit variance.\n",
      "  warnings.warn(msg, InputDataWarning)\n",
      "/opt/homebrew/Caskroom/miniforge/base/envs/SDL4Kids/lib/python3.11/site-packages/botorch/optim/initializers.py:403: BadInitialCandidatesWarning: Unable to find non-zero acquisition function values - initial conditions are being selected randomly.\n",
      "  warnings.warn(\n"
     ]
    },
    {
     "name": "stdout",
     "output_type": "stream",
     "text": [
      "---Iteration 5\n",
      "New RGB Measurement: (71, 76, 110)\n",
      "Error:-133.94775100762237\n",
      "Candidate:(tensor(95.2134), tensor(156.7731), tensor(221.6846))\n"
     ]
    },
    {
     "name": "stderr",
     "output_type": "stream",
     "text": [
      "/opt/homebrew/Caskroom/miniforge/base/envs/SDL4Kids/lib/python3.11/site-packages/botorch/models/utils/assorted.py:173: InputDataWarning: Input data is not contained to the unit cube. Please consider min-max scaling the input data.\n",
      "  warnings.warn(msg, InputDataWarning)\n",
      "/opt/homebrew/Caskroom/miniforge/base/envs/SDL4Kids/lib/python3.11/site-packages/botorch/models/utils/assorted.py:201: InputDataWarning: Input data is not standardized. Please consider scaling the input to zero mean and unit variance.\n",
      "  warnings.warn(msg, InputDataWarning)\n"
     ]
    },
    {
     "name": "stdout",
     "output_type": "stream",
     "text": [
      "---Iteration 6\n",
      "New RGB Measurement: (84, 65, 105)\n",
      "Error:-120.75181158061356\n",
      "Candidate:(tensor(52.7018), tensor(218.8238), tensor(227.0391))\n"
     ]
    },
    {
     "name": "stderr",
     "output_type": "stream",
     "text": [
      "/opt/homebrew/Caskroom/miniforge/base/envs/SDL4Kids/lib/python3.11/site-packages/botorch/models/utils/assorted.py:173: InputDataWarning: Input data is not contained to the unit cube. Please consider min-max scaling the input data.\n",
      "  warnings.warn(msg, InputDataWarning)\n",
      "/opt/homebrew/Caskroom/miniforge/base/envs/SDL4Kids/lib/python3.11/site-packages/botorch/models/utils/assorted.py:201: InputDataWarning: Input data is not standardized. Please consider scaling the input to zero mean and unit variance.\n",
      "  warnings.warn(msg, InputDataWarning)\n"
     ]
    },
    {
     "name": "stdout",
     "output_type": "stream",
     "text": [
      "---Iteration 7\n",
      "New RGB Measurement: (108, 68, 77)\n",
      "Error:-85.27602242131137\n",
      "Candidate:(tensor(27.8679), tensor(83.2734), tensor(43.7543))\n"
     ]
    },
    {
     "name": "stderr",
     "output_type": "stream",
     "text": [
      "/opt/homebrew/Caskroom/miniforge/base/envs/SDL4Kids/lib/python3.11/site-packages/botorch/models/utils/assorted.py:173: InputDataWarning: Input data is not contained to the unit cube. Please consider min-max scaling the input data.\n",
      "  warnings.warn(msg, InputDataWarning)\n",
      "/opt/homebrew/Caskroom/miniforge/base/envs/SDL4Kids/lib/python3.11/site-packages/botorch/models/utils/assorted.py:201: InputDataWarning: Input data is not standardized. Please consider scaling the input to zero mean and unit variance.\n",
      "  warnings.warn(msg, InputDataWarning)\n"
     ]
    },
    {
     "name": "stdout",
     "output_type": "stream",
     "text": [
      "---Iteration 8\n",
      "New RGB Measurement: (98, 56, 99)\n",
      "Error:-107.59182125050212\n",
      "Candidate:(tensor(16.3045), tensor(160.6172), tensor(64.7593))\n"
     ]
    },
    {
     "name": "stderr",
     "output_type": "stream",
     "text": [
      "/opt/homebrew/Caskroom/miniforge/base/envs/SDL4Kids/lib/python3.11/site-packages/botorch/models/utils/assorted.py:173: InputDataWarning: Input data is not contained to the unit cube. Please consider min-max scaling the input data.\n",
      "  warnings.warn(msg, InputDataWarning)\n",
      "/opt/homebrew/Caskroom/miniforge/base/envs/SDL4Kids/lib/python3.11/site-packages/botorch/models/utils/assorted.py:201: InputDataWarning: Input data is not standardized. Please consider scaling the input to zero mean and unit variance.\n",
      "  warnings.warn(msg, InputDataWarning)\n",
      "/opt/homebrew/Caskroom/miniforge/base/envs/SDL4Kids/lib/python3.11/site-packages/botorch/optim/initializers.py:403: BadInitialCandidatesWarning: Unable to find non-zero acquisition function values - initial conditions are being selected randomly.\n",
      "  warnings.warn(\n"
     ]
    },
    {
     "name": "stdout",
     "output_type": "stream",
     "text": [
      "---Iteration 9\n",
      "New RGB Measurement: (106, 48, 97)\n",
      "Error:-102.0\n",
      "Candidate:(tensor(64.3366), tensor(199.2462), tensor(210.3601))\n"
     ]
    },
    {
     "name": "stderr",
     "output_type": "stream",
     "text": [
      "/opt/homebrew/Caskroom/miniforge/base/envs/SDL4Kids/lib/python3.11/site-packages/botorch/models/utils/assorted.py:173: InputDataWarning: Input data is not contained to the unit cube. Please consider min-max scaling the input data.\n",
      "  warnings.warn(msg, InputDataWarning)\n",
      "/opt/homebrew/Caskroom/miniforge/base/envs/SDL4Kids/lib/python3.11/site-packages/botorch/models/utils/assorted.py:201: InputDataWarning: Input data is not standardized. Please consider scaling the input to zero mean and unit variance.\n",
      "  warnings.warn(msg, InputDataWarning)\n"
     ]
    },
    {
     "name": "stdout",
     "output_type": "stream",
     "text": [
      "---Iteration 10\n",
      "New RGB Measurement: (115, 54, 87)\n",
      "Error:-89.2468486838611\n",
      "Candidate:(tensor(63.6606), tensor(188.3416), tensor(196.9035))\n"
     ]
    },
    {
     "name": "stderr",
     "output_type": "stream",
     "text": [
      "/opt/homebrew/Caskroom/miniforge/base/envs/SDL4Kids/lib/python3.11/site-packages/botorch/models/utils/assorted.py:173: InputDataWarning: Input data is not contained to the unit cube. Please consider min-max scaling the input data.\n",
      "  warnings.warn(msg, InputDataWarning)\n",
      "/opt/homebrew/Caskroom/miniforge/base/envs/SDL4Kids/lib/python3.11/site-packages/botorch/models/utils/assorted.py:201: InputDataWarning: Input data is not standardized. Please consider scaling the input to zero mean and unit variance.\n",
      "  warnings.warn(msg, InputDataWarning)\n",
      "/opt/homebrew/Caskroom/miniforge/base/envs/SDL4Kids/lib/python3.11/site-packages/botorch/optim/initializers.py:403: BadInitialCandidatesWarning: Unable to find non-zero acquisition function values - initial conditions are being selected randomly.\n",
      "  warnings.warn(\n"
     ]
    },
    {
     "name": "stdout",
     "output_type": "stream",
     "text": [
      "---Iteration 11\n",
      "New RGB Measurement: (135, 63, 58)\n",
      "Error:-56.595052787324086\n",
      "Candidate:(tensor(218.5134), tensor(0.7985), tensor(31.0015))\n"
     ]
    },
    {
     "name": "stderr",
     "output_type": "stream",
     "text": [
      "/opt/homebrew/Caskroom/miniforge/base/envs/SDL4Kids/lib/python3.11/site-packages/botorch/models/utils/assorted.py:173: InputDataWarning: Input data is not contained to the unit cube. Please consider min-max scaling the input data.\n",
      "  warnings.warn(msg, InputDataWarning)\n",
      "/opt/homebrew/Caskroom/miniforge/base/envs/SDL4Kids/lib/python3.11/site-packages/botorch/models/utils/assorted.py:201: InputDataWarning: Input data is not standardized. Please consider scaling the input to zero mean and unit variance.\n",
      "  warnings.warn(msg, InputDataWarning)\n",
      "/opt/homebrew/Caskroom/miniforge/base/envs/SDL4Kids/lib/python3.11/site-packages/botorch/optim/initializers.py:403: BadInitialCandidatesWarning: Unable to find non-zero acquisition function values - initial conditions are being selected randomly.\n",
      "  warnings.warn(\n"
     ]
    },
    {
     "name": "stdout",
     "output_type": "stream",
     "text": [
      "---Iteration 12\n",
      "New RGB Measurement: (110, 51, 91)\n",
      "Error:-94.8525170989152\n",
      "Candidate:(tensor(59.9631), tensor(64.9989), tensor(122.3260))\n"
     ]
    },
    {
     "name": "stderr",
     "output_type": "stream",
     "text": [
      "/opt/homebrew/Caskroom/miniforge/base/envs/SDL4Kids/lib/python3.11/site-packages/botorch/models/utils/assorted.py:173: InputDataWarning: Input data is not contained to the unit cube. Please consider min-max scaling the input data.\n",
      "  warnings.warn(msg, InputDataWarning)\n",
      "/opt/homebrew/Caskroom/miniforge/base/envs/SDL4Kids/lib/python3.11/site-packages/botorch/models/utils/assorted.py:201: InputDataWarning: Input data is not standardized. Please consider scaling the input to zero mean and unit variance.\n",
      "  warnings.warn(msg, InputDataWarning)\n"
     ]
    },
    {
     "name": "stdout",
     "output_type": "stream",
     "text": [
      "---Iteration 13\n",
      "New RGB Measurement: (108, 50, 94)\n",
      "Error:-98.41239759298622\n",
      "Candidate:(tensor(62.4698), tensor(3.6978), tensor(211.4501))\n"
     ]
    },
    {
     "name": "stderr",
     "output_type": "stream",
     "text": [
      "/opt/homebrew/Caskroom/miniforge/base/envs/SDL4Kids/lib/python3.11/site-packages/botorch/models/utils/assorted.py:173: InputDataWarning: Input data is not contained to the unit cube. Please consider min-max scaling the input data.\n",
      "  warnings.warn(msg, InputDataWarning)\n",
      "/opt/homebrew/Caskroom/miniforge/base/envs/SDL4Kids/lib/python3.11/site-packages/botorch/models/utils/assorted.py:201: InputDataWarning: Input data is not standardized. Please consider scaling the input to zero mean and unit variance.\n",
      "  warnings.warn(msg, InputDataWarning)\n"
     ]
    },
    {
     "name": "stdout",
     "output_type": "stream",
     "text": [
      "---Iteration 14\n",
      "New RGB Measurement: (53, 161, 53)\n",
      "Error:-155.0290295396317\n",
      "Candidate:(tensor(176.0639), tensor(97.1967), tensor(29.8636))\n"
     ]
    },
    {
     "name": "stderr",
     "output_type": "stream",
     "text": [
      "/opt/homebrew/Caskroom/miniforge/base/envs/SDL4Kids/lib/python3.11/site-packages/botorch/models/utils/assorted.py:173: InputDataWarning: Input data is not contained to the unit cube. Please consider min-max scaling the input data.\n",
      "  warnings.warn(msg, InputDataWarning)\n",
      "/opt/homebrew/Caskroom/miniforge/base/envs/SDL4Kids/lib/python3.11/site-packages/botorch/models/utils/assorted.py:201: InputDataWarning: Input data is not standardized. Please consider scaling the input to zero mean and unit variance.\n",
      "  warnings.warn(msg, InputDataWarning)\n"
     ]
    },
    {
     "name": "stdout",
     "output_type": "stream",
     "text": [
      "---Iteration 15\n",
      "New RGB Measurement: (62, 113, 93)\n",
      "Error:-139.48835076808385\n",
      "Candidate:(tensor(237.3240), tensor(78.6957), tensor(134.4566))\n"
     ]
    },
    {
     "name": "stderr",
     "output_type": "stream",
     "text": [
      "/opt/homebrew/Caskroom/miniforge/base/envs/SDL4Kids/lib/python3.11/site-packages/botorch/models/utils/assorted.py:173: InputDataWarning: Input data is not contained to the unit cube. Please consider min-max scaling the input data.\n",
      "  warnings.warn(msg, InputDataWarning)\n",
      "/opt/homebrew/Caskroom/miniforge/base/envs/SDL4Kids/lib/python3.11/site-packages/botorch/models/utils/assorted.py:201: InputDataWarning: Input data is not standardized. Please consider scaling the input to zero mean and unit variance.\n",
      "  warnings.warn(msg, InputDataWarning)\n",
      "/opt/homebrew/Caskroom/miniforge/base/envs/SDL4Kids/lib/python3.11/site-packages/botorch/optim/initializers.py:403: BadInitialCandidatesWarning: Unable to find non-zero acquisition function values - initial conditions are being selected randomly.\n",
      "  warnings.warn(\n"
     ]
    },
    {
     "name": "stdout",
     "output_type": "stream",
     "text": [
      "---Iteration 16\n",
      "New RGB Measurement: (56, 29, 170)\n",
      "Error:-191.05496591295397\n",
      "Candidate:(tensor(18.9332), tensor(131.5689), tensor(220.3481))\n"
     ]
    },
    {
     "name": "stderr",
     "output_type": "stream",
     "text": [
      "/opt/homebrew/Caskroom/miniforge/base/envs/SDL4Kids/lib/python3.11/site-packages/botorch/models/utils/assorted.py:173: InputDataWarning: Input data is not contained to the unit cube. Please consider min-max scaling the input data.\n",
      "  warnings.warn(msg, InputDataWarning)\n",
      "/opt/homebrew/Caskroom/miniforge/base/envs/SDL4Kids/lib/python3.11/site-packages/botorch/models/utils/assorted.py:201: InputDataWarning: Input data is not standardized. Please consider scaling the input to zero mean and unit variance.\n",
      "  warnings.warn(msg, InputDataWarning)\n"
     ]
    },
    {
     "name": "stdout",
     "output_type": "stream",
     "text": [
      "---Iteration 17\n",
      "New RGB Measurement: (63, 136, 66)\n",
      "Error:-136.69674465765453\n",
      "Candidate:(tensor(234.1704), tensor(56.3960), tensor(175.4476))\n"
     ]
    },
    {
     "name": "stderr",
     "output_type": "stream",
     "text": [
      "/opt/homebrew/Caskroom/miniforge/base/envs/SDL4Kids/lib/python3.11/site-packages/botorch/models/utils/assorted.py:173: InputDataWarning: Input data is not contained to the unit cube. Please consider min-max scaling the input data.\n",
      "  warnings.warn(msg, InputDataWarning)\n",
      "/opt/homebrew/Caskroom/miniforge/base/envs/SDL4Kids/lib/python3.11/site-packages/botorch/models/utils/assorted.py:201: InputDataWarning: Input data is not standardized. Please consider scaling the input to zero mean and unit variance.\n",
      "  warnings.warn(msg, InputDataWarning)\n",
      "/opt/homebrew/Caskroom/miniforge/base/envs/SDL4Kids/lib/python3.11/site-packages/botorch/optim/initializers.py:403: BadInitialCandidatesWarning: Unable to find non-zero acquisition function values - initial conditions are being selected randomly.\n",
      "  warnings.warn(\n"
     ]
    },
    {
     "name": "stdout",
     "output_type": "stream",
     "text": [
      "---Iteration 18\n",
      "New RGB Measurement: (48, 161, 57)\n",
      "Error:-159.46472964263916\n",
      "Candidate:(tensor(71.3289), tensor(197.2560), tensor(150.7229))\n"
     ]
    },
    {
     "name": "stderr",
     "output_type": "stream",
     "text": [
      "/opt/homebrew/Caskroom/miniforge/base/envs/SDL4Kids/lib/python3.11/site-packages/botorch/models/utils/assorted.py:173: InputDataWarning: Input data is not contained to the unit cube. Please consider min-max scaling the input data.\n",
      "  warnings.warn(msg, InputDataWarning)\n",
      "/opt/homebrew/Caskroom/miniforge/base/envs/SDL4Kids/lib/python3.11/site-packages/botorch/models/utils/assorted.py:201: InputDataWarning: Input data is not standardized. Please consider scaling the input to zero mean and unit variance.\n",
      "  warnings.warn(msg, InputDataWarning)\n"
     ]
    },
    {
     "name": "stdout",
     "output_type": "stream",
     "text": [
      "---Iteration 19\n",
      "New RGB Measurement: (77, 66, 112)\n",
      "Error:-130.51436702524362\n",
      "Candidate:(tensor(185.5703), tensor(118.6580), tensor(243.3848))\n"
     ]
    },
    {
     "name": "stderr",
     "output_type": "stream",
     "text": [
      "/opt/homebrew/Caskroom/miniforge/base/envs/SDL4Kids/lib/python3.11/site-packages/botorch/models/utils/assorted.py:173: InputDataWarning: Input data is not contained to the unit cube. Please consider min-max scaling the input data.\n",
      "  warnings.warn(msg, InputDataWarning)\n",
      "/opt/homebrew/Caskroom/miniforge/base/envs/SDL4Kids/lib/python3.11/site-packages/botorch/models/utils/assorted.py:201: InputDataWarning: Input data is not standardized. Please consider scaling the input to zero mean and unit variance.\n",
      "  warnings.warn(msg, InputDataWarning)\n"
     ]
    },
    {
     "name": "stdout",
     "output_type": "stream",
     "text": [
      "---Iteration 20\n",
      "New RGB Measurement: (51, 120, 90)\n",
      "Error:-148.07430567117308\n",
      "Candidate:(tensor(203.2135), tensor(170.5375), tensor(98.1093))\n"
     ]
    },
    {
     "name": "stderr",
     "output_type": "stream",
     "text": [
      "/opt/homebrew/Caskroom/miniforge/base/envs/SDL4Kids/lib/python3.11/site-packages/botorch/models/utils/assorted.py:173: InputDataWarning: Input data is not contained to the unit cube. Please consider min-max scaling the input data.\n",
      "  warnings.warn(msg, InputDataWarning)\n",
      "/opt/homebrew/Caskroom/miniforge/base/envs/SDL4Kids/lib/python3.11/site-packages/botorch/models/utils/assorted.py:201: InputDataWarning: Input data is not standardized. Please consider scaling the input to zero mean and unit variance.\n",
      "  warnings.warn(msg, InputDataWarning)\n"
     ]
    },
    {
     "name": "stdout",
     "output_type": "stream",
     "text": [
      "---Iteration 21\n",
      "New RGB Measurement: (96, 84, 76)\n",
      "Error:-95.46203433826454\n",
      "Candidate:(tensor(210.4485), tensor(141.2726), tensor(45.3979))\n"
     ]
    },
    {
     "name": "stderr",
     "output_type": "stream",
     "text": [
      "/opt/homebrew/Caskroom/miniforge/base/envs/SDL4Kids/lib/python3.11/site-packages/botorch/models/utils/assorted.py:173: InputDataWarning: Input data is not contained to the unit cube. Please consider min-max scaling the input data.\n",
      "  warnings.warn(msg, InputDataWarning)\n",
      "/opt/homebrew/Caskroom/miniforge/base/envs/SDL4Kids/lib/python3.11/site-packages/botorch/models/utils/assorted.py:201: InputDataWarning: Input data is not standardized. Please consider scaling the input to zero mean and unit variance.\n",
      "  warnings.warn(msg, InputDataWarning)\n",
      "/opt/homebrew/Caskroom/miniforge/base/envs/SDL4Kids/lib/python3.11/site-packages/botorch/optim/initializers.py:403: BadInitialCandidatesWarning: Unable to find non-zero acquisition function values - initial conditions are being selected randomly.\n",
      "  warnings.warn(\n"
     ]
    },
    {
     "name": "stdout",
     "output_type": "stream",
     "text": [
      "---Iteration 22\n",
      "New RGB Measurement: (79, 75, 101)\n",
      "Error:-121.99180300331658\n",
      "Candidate:(tensor(65.8828), tensor(14.3014), tensor(198.1168))\n"
     ]
    },
    {
     "name": "stderr",
     "output_type": "stream",
     "text": [
      "/opt/homebrew/Caskroom/miniforge/base/envs/SDL4Kids/lib/python3.11/site-packages/botorch/models/utils/assorted.py:173: InputDataWarning: Input data is not contained to the unit cube. Please consider min-max scaling the input data.\n",
      "  warnings.warn(msg, InputDataWarning)\n",
      "/opt/homebrew/Caskroom/miniforge/base/envs/SDL4Kids/lib/python3.11/site-packages/botorch/models/utils/assorted.py:201: InputDataWarning: Input data is not standardized. Please consider scaling the input to zero mean and unit variance.\n",
      "  warnings.warn(msg, InputDataWarning)\n"
     ]
    },
    {
     "name": "stdout",
     "output_type": "stream",
     "text": [
      "---Iteration 23\n",
      "New RGB Measurement: (80, 108, 71)\n",
      "Error:-112.33877335986894\n",
      "Candidate:(tensor(158.6346), tensor(126.1236), tensor(42.8427))\n"
     ]
    },
    {
     "name": "stderr",
     "output_type": "stream",
     "text": [
      "/opt/homebrew/Caskroom/miniforge/base/envs/SDL4Kids/lib/python3.11/site-packages/botorch/models/utils/assorted.py:173: InputDataWarning: Input data is not contained to the unit cube. Please consider min-max scaling the input data.\n",
      "  warnings.warn(msg, InputDataWarning)\n",
      "/opt/homebrew/Caskroom/miniforge/base/envs/SDL4Kids/lib/python3.11/site-packages/botorch/models/utils/assorted.py:201: InputDataWarning: Input data is not standardized. Please consider scaling the input to zero mean and unit variance.\n",
      "  warnings.warn(msg, InputDataWarning)\n"
     ]
    },
    {
     "name": "stdout",
     "output_type": "stream",
     "text": [
      "---Iteration 24\n",
      "New RGB Measurement: (81, 136, 44)\n",
      "Error:-116.9529820055906\n",
      "Candidate:(tensor(115.5162), tensor(159.1886), tensor(237.4973))\n"
     ]
    },
    {
     "name": "stderr",
     "output_type": "stream",
     "text": [
      "/opt/homebrew/Caskroom/miniforge/base/envs/SDL4Kids/lib/python3.11/site-packages/botorch/models/utils/assorted.py:173: InputDataWarning: Input data is not contained to the unit cube. Please consider min-max scaling the input data.\n",
      "  warnings.warn(msg, InputDataWarning)\n",
      "/opt/homebrew/Caskroom/miniforge/base/envs/SDL4Kids/lib/python3.11/site-packages/botorch/models/utils/assorted.py:201: InputDataWarning: Input data is not standardized. Please consider scaling the input to zero mean and unit variance.\n",
      "  warnings.warn(msg, InputDataWarning)\n"
     ]
    },
    {
     "name": "stdout",
     "output_type": "stream",
     "text": [
      "---Iteration 25\n",
      "New RGB Measurement: (67, 97, 96)\n",
      "Error:-131.829435256319\n",
      "Candidate:(tensor(67.2878), tensor(109.7984), tensor(106.7792))\n"
     ]
    },
    {
     "name": "stderr",
     "output_type": "stream",
     "text": [
      "/opt/homebrew/Caskroom/miniforge/base/envs/SDL4Kids/lib/python3.11/site-packages/botorch/models/utils/assorted.py:173: InputDataWarning: Input data is not contained to the unit cube. Please consider min-max scaling the input data.\n",
      "  warnings.warn(msg, InputDataWarning)\n",
      "/opt/homebrew/Caskroom/miniforge/base/envs/SDL4Kids/lib/python3.11/site-packages/botorch/models/utils/assorted.py:201: InputDataWarning: Input data is not standardized. Please consider scaling the input to zero mean and unit variance.\n",
      "  warnings.warn(msg, InputDataWarning)\n"
     ]
    },
    {
     "name": "stdout",
     "output_type": "stream",
     "text": [
      "---Iteration 26\n",
      "New RGB Measurement: (76, 97, 89)\n",
      "Error:-121.41251994749142\n",
      "Candidate:(tensor(113.2830), tensor(40.6612), tensor(8.7501))\n"
     ]
    },
    {
     "name": "stderr",
     "output_type": "stream",
     "text": [
      "/opt/homebrew/Caskroom/miniforge/base/envs/SDL4Kids/lib/python3.11/site-packages/botorch/models/utils/assorted.py:173: InputDataWarning: Input data is not contained to the unit cube. Please consider min-max scaling the input data.\n",
      "  warnings.warn(msg, InputDataWarning)\n",
      "/opt/homebrew/Caskroom/miniforge/base/envs/SDL4Kids/lib/python3.11/site-packages/botorch/models/utils/assorted.py:201: InputDataWarning: Input data is not standardized. Please consider scaling the input to zero mean and unit variance.\n",
      "  warnings.warn(msg, InputDataWarning)\n"
     ]
    },
    {
     "name": "stdout",
     "output_type": "stream",
     "text": [
      "---Iteration 27\n",
      "New RGB Measurement: (87, 73, 95)\n",
      "Error:-112.24081254160627\n",
      "Candidate:(tensor(46.6914), tensor(13.7171), tensor(209.2817))\n"
     ]
    },
    {
     "name": "stderr",
     "output_type": "stream",
     "text": [
      "/opt/homebrew/Caskroom/miniforge/base/envs/SDL4Kids/lib/python3.11/site-packages/botorch/models/utils/assorted.py:173: InputDataWarning: Input data is not contained to the unit cube. Please consider min-max scaling the input data.\n",
      "  warnings.warn(msg, InputDataWarning)\n",
      "/opt/homebrew/Caskroom/miniforge/base/envs/SDL4Kids/lib/python3.11/site-packages/botorch/models/utils/assorted.py:201: InputDataWarning: Input data is not standardized. Please consider scaling the input to zero mean and unit variance.\n",
      "  warnings.warn(msg, InputDataWarning)\n"
     ]
    },
    {
     "name": "stdout",
     "output_type": "stream",
     "text": [
      "---Iteration 28\n",
      "New RGB Measurement: (92, 58, 105)\n",
      "Error:-115.8792474949678\n",
      "Candidate:(tensor(238.1124), tensor(135.4257), tensor(62.9810))\n"
     ]
    },
    {
     "name": "stderr",
     "output_type": "stream",
     "text": [
      "/opt/homebrew/Caskroom/miniforge/base/envs/SDL4Kids/lib/python3.11/site-packages/botorch/models/utils/assorted.py:173: InputDataWarning: Input data is not contained to the unit cube. Please consider min-max scaling the input data.\n",
      "  warnings.warn(msg, InputDataWarning)\n",
      "/opt/homebrew/Caskroom/miniforge/base/envs/SDL4Kids/lib/python3.11/site-packages/botorch/models/utils/assorted.py:201: InputDataWarning: Input data is not standardized. Please consider scaling the input to zero mean and unit variance.\n",
      "  warnings.warn(msg, InputDataWarning)\n"
     ]
    },
    {
     "name": "stdout",
     "output_type": "stream",
     "text": [
      "---Iteration 29\n",
      "New RGB Measurement: (89, 107, 72)\n",
      "Error:-107.04671877269288\n",
      "Candidate:(tensor(170.3896), tensor(79.5815), tensor(249.8903))\n"
     ]
    },
    {
     "name": "stderr",
     "output_type": "stream",
     "text": [
      "/opt/homebrew/Caskroom/miniforge/base/envs/SDL4Kids/lib/python3.11/site-packages/botorch/models/utils/assorted.py:173: InputDataWarning: Input data is not contained to the unit cube. Please consider min-max scaling the input data.\n",
      "  warnings.warn(msg, InputDataWarning)\n",
      "/opt/homebrew/Caskroom/miniforge/base/envs/SDL4Kids/lib/python3.11/site-packages/botorch/models/utils/assorted.py:201: InputDataWarning: Input data is not standardized. Please consider scaling the input to zero mean and unit variance.\n",
      "  warnings.warn(msg, InputDataWarning)\n"
     ]
    },
    {
     "name": "stdout",
     "output_type": "stream",
     "text": [
      "---Iteration 30\n",
      "New RGB Measurement: (55, 66, 143)\n",
      "Error:-168.30032679706835\n",
      "Candidate:(tensor(46.0141), tensor(12.8630), tensor(227.1292))\n"
     ]
    },
    {
     "name": "stderr",
     "output_type": "stream",
     "text": [
      "/opt/homebrew/Caskroom/miniforge/base/envs/SDL4Kids/lib/python3.11/site-packages/botorch/models/utils/assorted.py:173: InputDataWarning: Input data is not contained to the unit cube. Please consider min-max scaling the input data.\n",
      "  warnings.warn(msg, InputDataWarning)\n",
      "/opt/homebrew/Caskroom/miniforge/base/envs/SDL4Kids/lib/python3.11/site-packages/botorch/models/utils/assorted.py:201: InputDataWarning: Input data is not standardized. Please consider scaling the input to zero mean and unit variance.\n",
      "  warnings.warn(msg, InputDataWarning)\n"
     ]
    },
    {
     "name": "stdout",
     "output_type": "stream",
     "text": [
      "---Iteration 31\n",
      "New RGB Measurement: (62, 112, 88)\n",
      "Error:-135.9301291105103\n",
      "Candidate:(tensor(130.7458), tensor(205.1520), tensor(161.8955))\n"
     ]
    },
    {
     "name": "stderr",
     "output_type": "stream",
     "text": [
      "/opt/homebrew/Caskroom/miniforge/base/envs/SDL4Kids/lib/python3.11/site-packages/botorch/models/utils/assorted.py:173: InputDataWarning: Input data is not contained to the unit cube. Please consider min-max scaling the input data.\n",
      "  warnings.warn(msg, InputDataWarning)\n",
      "/opt/homebrew/Caskroom/miniforge/base/envs/SDL4Kids/lib/python3.11/site-packages/botorch/models/utils/assorted.py:201: InputDataWarning: Input data is not standardized. Please consider scaling the input to zero mean and unit variance.\n",
      "  warnings.warn(msg, InputDataWarning)\n",
      "/opt/homebrew/Caskroom/miniforge/base/envs/SDL4Kids/lib/python3.11/site-packages/botorch/optim/initializers.py:403: BadInitialCandidatesWarning: Unable to find non-zero acquisition function values - initial conditions are being selected randomly.\n",
      "  warnings.warn(\n"
     ]
    },
    {
     "name": "stdout",
     "output_type": "stream",
     "text": [
      "---Iteration 32\n",
      "New RGB Measurement: (60, 118, 82)\n",
      "Error:-136.57598617619425\n",
      "Candidate:(tensor(56.9905), tensor(195.9790), tensor(153.4653))\n"
     ]
    },
    {
     "name": "stderr",
     "output_type": "stream",
     "text": [
      "/opt/homebrew/Caskroom/miniforge/base/envs/SDL4Kids/lib/python3.11/site-packages/botorch/models/utils/assorted.py:173: InputDataWarning: Input data is not contained to the unit cube. Please consider min-max scaling the input data.\n",
      "  warnings.warn(msg, InputDataWarning)\n",
      "/opt/homebrew/Caskroom/miniforge/base/envs/SDL4Kids/lib/python3.11/site-packages/botorch/models/utils/assorted.py:201: InputDataWarning: Input data is not standardized. Please consider scaling the input to zero mean and unit variance.\n",
      "  warnings.warn(msg, InputDataWarning)\n",
      "/opt/homebrew/Caskroom/miniforge/base/envs/SDL4Kids/lib/python3.11/site-packages/botorch/optim/initializers.py:403: BadInitialCandidatesWarning: Unable to find non-zero acquisition function values - initial conditions are being selected randomly.\n",
      "  warnings.warn(\n"
     ]
    },
    {
     "name": "stdout",
     "output_type": "stream",
     "text": [
      "---Iteration 33\n",
      "New RGB Measurement: (54, 58, 143)\n",
      "Error:-168.2973558912914\n",
      "Candidate:(tensor(78.4695), tensor(10.6297), tensor(26.8258))\n"
     ]
    },
    {
     "name": "stderr",
     "output_type": "stream",
     "text": [
      "/opt/homebrew/Caskroom/miniforge/base/envs/SDL4Kids/lib/python3.11/site-packages/botorch/models/utils/assorted.py:173: InputDataWarning: Input data is not contained to the unit cube. Please consider min-max scaling the input data.\n",
      "  warnings.warn(msg, InputDataWarning)\n",
      "/opt/homebrew/Caskroom/miniforge/base/envs/SDL4Kids/lib/python3.11/site-packages/botorch/models/utils/assorted.py:201: InputDataWarning: Input data is not standardized. Please consider scaling the input to zero mean and unit variance.\n",
      "  warnings.warn(msg, InputDataWarning)\n"
     ]
    },
    {
     "name": "stdout",
     "output_type": "stream",
     "text": [
      "---Iteration 34\n",
      "New RGB Measurement: (88, 53, 113)\n",
      "Error:-124.5672509129105\n",
      "Candidate:(tensor(152.3997), tensor(122.9304), tensor(177.4748))\n"
     ]
    },
    {
     "name": "stderr",
     "output_type": "stream",
     "text": [
      "/opt/homebrew/Caskroom/miniforge/base/envs/SDL4Kids/lib/python3.11/site-packages/botorch/models/utils/assorted.py:173: InputDataWarning: Input data is not contained to the unit cube. Please consider min-max scaling the input data.\n",
      "  warnings.warn(msg, InputDataWarning)\n",
      "/opt/homebrew/Caskroom/miniforge/base/envs/SDL4Kids/lib/python3.11/site-packages/botorch/models/utils/assorted.py:201: InputDataWarning: Input data is not standardized. Please consider scaling the input to zero mean and unit variance.\n",
      "  warnings.warn(msg, InputDataWarning)\n"
     ]
    },
    {
     "name": "stdout",
     "output_type": "stream",
     "text": [
      "---Iteration 35\n",
      "New RGB Measurement: (112, 67, 74)\n",
      "Error:-80.58535847162312\n",
      "Candidate:(tensor(113.2767), tensor(105.7034), tensor(41.7678))\n"
     ]
    },
    {
     "name": "stderr",
     "output_type": "stream",
     "text": [
      "/opt/homebrew/Caskroom/miniforge/base/envs/SDL4Kids/lib/python3.11/site-packages/botorch/models/utils/assorted.py:173: InputDataWarning: Input data is not contained to the unit cube. Please consider min-max scaling the input data.\n",
      "  warnings.warn(msg, InputDataWarning)\n",
      "/opt/homebrew/Caskroom/miniforge/base/envs/SDL4Kids/lib/python3.11/site-packages/botorch/models/utils/assorted.py:201: InputDataWarning: Input data is not standardized. Please consider scaling the input to zero mean and unit variance.\n",
      "  warnings.warn(msg, InputDataWarning)\n"
     ]
    },
    {
     "name": "stdout",
     "output_type": "stream",
     "text": [
      "---Iteration 36\n",
      "New RGB Measurement: (115, 63, 76)\n",
      "Error:-80.21845174272562\n",
      "Candidate:(tensor(177.8451), tensor(91.1854), tensor(38.2366))\n"
     ]
    },
    {
     "name": "stderr",
     "output_type": "stream",
     "text": [
      "/opt/homebrew/Caskroom/miniforge/base/envs/SDL4Kids/lib/python3.11/site-packages/botorch/models/utils/assorted.py:173: InputDataWarning: Input data is not contained to the unit cube. Please consider min-max scaling the input data.\n",
      "  warnings.warn(msg, InputDataWarning)\n",
      "/opt/homebrew/Caskroom/miniforge/base/envs/SDL4Kids/lib/python3.11/site-packages/botorch/models/utils/assorted.py:201: InputDataWarning: Input data is not standardized. Please consider scaling the input to zero mean and unit variance.\n",
      "  warnings.warn(msg, InputDataWarning)\n"
     ]
    },
    {
     "name": "stdout",
     "output_type": "stream",
     "text": [
      "---Iteration 37\n",
      "New RGB Measurement: (79, 94, 86)\n",
      "Error:-116.35291143757426\n",
      "Candidate:(tensor(111.2288), tensor(102.4659), tensor(100.5649))\n"
     ]
    },
    {
     "name": "stderr",
     "output_type": "stream",
     "text": [
      "/opt/homebrew/Caskroom/miniforge/base/envs/SDL4Kids/lib/python3.11/site-packages/botorch/models/utils/assorted.py:173: InputDataWarning: Input data is not contained to the unit cube. Please consider min-max scaling the input data.\n",
      "  warnings.warn(msg, InputDataWarning)\n",
      "/opt/homebrew/Caskroom/miniforge/base/envs/SDL4Kids/lib/python3.11/site-packages/botorch/models/utils/assorted.py:201: InputDataWarning: Input data is not standardized. Please consider scaling the input to zero mean and unit variance.\n",
      "  warnings.warn(msg, InputDataWarning)\n"
     ]
    },
    {
     "name": "stdout",
     "output_type": "stream",
     "text": [
      "---Iteration 38\n",
      "New RGB Measurement: (84, 136, 46)\n",
      "Error:-115.90081966923272\n",
      "Candidate:(tensor(244.1817), tensor(87.0367), tensor(113.4242))\n"
     ]
    },
    {
     "name": "stderr",
     "output_type": "stream",
     "text": [
      "/opt/homebrew/Caskroom/miniforge/base/envs/SDL4Kids/lib/python3.11/site-packages/botorch/models/utils/assorted.py:173: InputDataWarning: Input data is not contained to the unit cube. Please consider min-max scaling the input data.\n",
      "  warnings.warn(msg, InputDataWarning)\n",
      "/opt/homebrew/Caskroom/miniforge/base/envs/SDL4Kids/lib/python3.11/site-packages/botorch/models/utils/assorted.py:201: InputDataWarning: Input data is not standardized. Please consider scaling the input to zero mean and unit variance.\n",
      "  warnings.warn(msg, InputDataWarning)\n"
     ]
    },
    {
     "name": "stdout",
     "output_type": "stream",
     "text": [
      "---Iteration 39\n",
      "New RGB Measurement: (67, 153, 47)\n",
      "Error:-138.787607515945\n",
      "Candidate:(tensor(120.2742), tensor(72.4191), tensor(125.9209))\n"
     ]
    },
    {
     "name": "stderr",
     "output_type": "stream",
     "text": [
      "/opt/homebrew/Caskroom/miniforge/base/envs/SDL4Kids/lib/python3.11/site-packages/botorch/models/utils/assorted.py:173: InputDataWarning: Input data is not contained to the unit cube. Please consider min-max scaling the input data.\n",
      "  warnings.warn(msg, InputDataWarning)\n",
      "/opt/homebrew/Caskroom/miniforge/base/envs/SDL4Kids/lib/python3.11/site-packages/botorch/models/utils/assorted.py:201: InputDataWarning: Input data is not standardized. Please consider scaling the input to zero mean and unit variance.\n",
      "  warnings.warn(msg, InputDataWarning)\n",
      "/opt/homebrew/Caskroom/miniforge/base/envs/SDL4Kids/lib/python3.11/site-packages/botorch/optim/initializers.py:403: BadInitialCandidatesWarning: Unable to find non-zero acquisition function values - initial conditions are being selected randomly.\n",
      "  warnings.warn(\n"
     ]
    },
    {
     "name": "stdout",
     "output_type": "stream",
     "text": [
      "---Iteration 40\n",
      "New RGB Measurement: (75, 121, 67)\n",
      "Error:-120.45746137122433\n",
      "Candidate:(tensor(187.8021), tensor(19.0814), tensor(87.2257))\n"
     ]
    },
    {
     "name": "stderr",
     "output_type": "stream",
     "text": [
      "/opt/homebrew/Caskroom/miniforge/base/envs/SDL4Kids/lib/python3.11/site-packages/botorch/models/utils/assorted.py:173: InputDataWarning: Input data is not contained to the unit cube. Please consider min-max scaling the input data.\n",
      "  warnings.warn(msg, InputDataWarning)\n",
      "/opt/homebrew/Caskroom/miniforge/base/envs/SDL4Kids/lib/python3.11/site-packages/botorch/models/utils/assorted.py:201: InputDataWarning: Input data is not standardized. Please consider scaling the input to zero mean and unit variance.\n",
      "  warnings.warn(msg, InputDataWarning)\n"
     ]
    },
    {
     "name": "stdout",
     "output_type": "stream",
     "text": [
      "---Iteration 41\n",
      "New RGB Measurement: (47, 166, 54)\n",
      "Error:-162.68374227316016\n",
      "Candidate:(tensor(21.6368), tensor(211.3830), tensor(194.5375))\n"
     ]
    },
    {
     "name": "stderr",
     "output_type": "stream",
     "text": [
      "/opt/homebrew/Caskroom/miniforge/base/envs/SDL4Kids/lib/python3.11/site-packages/botorch/models/utils/assorted.py:173: InputDataWarning: Input data is not contained to the unit cube. Please consider min-max scaling the input data.\n",
      "  warnings.warn(msg, InputDataWarning)\n",
      "/opt/homebrew/Caskroom/miniforge/base/envs/SDL4Kids/lib/python3.11/site-packages/botorch/models/utils/assorted.py:201: InputDataWarning: Input data is not standardized. Please consider scaling the input to zero mean and unit variance.\n",
      "  warnings.warn(msg, InputDataWarning)\n"
     ]
    },
    {
     "name": "stdout",
     "output_type": "stream",
     "text": [
      "---Iteration 42\n",
      "New RGB Measurement: (63, 108, 93)\n",
      "Error:-136.66382110858748\n",
      "Candidate:(tensor(170.1837), tensor(116.2019), tensor(78.7295))\n"
     ]
    },
    {
     "name": "stderr",
     "output_type": "stream",
     "text": [
      "/opt/homebrew/Caskroom/miniforge/base/envs/SDL4Kids/lib/python3.11/site-packages/botorch/models/utils/assorted.py:173: InputDataWarning: Input data is not contained to the unit cube. Please consider min-max scaling the input data.\n",
      "  warnings.warn(msg, InputDataWarning)\n",
      "/opt/homebrew/Caskroom/miniforge/base/envs/SDL4Kids/lib/python3.11/site-packages/botorch/models/utils/assorted.py:201: InputDataWarning: Input data is not standardized. Please consider scaling the input to zero mean and unit variance.\n",
      "  warnings.warn(msg, InputDataWarning)\n"
     ]
    },
    {
     "name": "stdout",
     "output_type": "stream",
     "text": [
      "---Iteration 43\n",
      "New RGB Measurement: (37, 178, 56)\n",
      "Error:-178.19652072922187\n",
      "Candidate:(tensor(149.8435), tensor(241.1071), tensor(172.1422))\n"
     ]
    },
    {
     "name": "stderr",
     "output_type": "stream",
     "text": [
      "/opt/homebrew/Caskroom/miniforge/base/envs/SDL4Kids/lib/python3.11/site-packages/botorch/models/utils/assorted.py:173: InputDataWarning: Input data is not contained to the unit cube. Please consider min-max scaling the input data.\n",
      "  warnings.warn(msg, InputDataWarning)\n",
      "/opt/homebrew/Caskroom/miniforge/base/envs/SDL4Kids/lib/python3.11/site-packages/botorch/models/utils/assorted.py:201: InputDataWarning: Input data is not standardized. Please consider scaling the input to zero mean and unit variance.\n",
      "  warnings.warn(msg, InputDataWarning)\n"
     ]
    },
    {
     "name": "stdout",
     "output_type": "stream",
     "text": [
      "---Iteration 44\n",
      "New RGB Measurement: (115, 49, 87)\n",
      "Error:-89.16277250063504\n",
      "Candidate:(tensor(110.1262), tensor(10.7254), tensor(253.2829))\n"
     ]
    },
    {
     "name": "stderr",
     "output_type": "stream",
     "text": [
      "/opt/homebrew/Caskroom/miniforge/base/envs/SDL4Kids/lib/python3.11/site-packages/botorch/models/utils/assorted.py:173: InputDataWarning: Input data is not contained to the unit cube. Please consider min-max scaling the input data.\n",
      "  warnings.warn(msg, InputDataWarning)\n",
      "/opt/homebrew/Caskroom/miniforge/base/envs/SDL4Kids/lib/python3.11/site-packages/botorch/models/utils/assorted.py:201: InputDataWarning: Input data is not standardized. Please consider scaling the input to zero mean and unit variance.\n",
      "  warnings.warn(msg, InputDataWarning)\n"
     ]
    },
    {
     "name": "stdout",
     "output_type": "stream",
     "text": [
      "---Iteration 45\n",
      "New RGB Measurement: (79, 132, 52)\n",
      "Error:-118.21167455035902\n",
      "Candidate:(tensor(117.6326), tensor(63.7766), tensor(119.3098))\n"
     ]
    },
    {
     "name": "stderr",
     "output_type": "stream",
     "text": [
      "/opt/homebrew/Caskroom/miniforge/base/envs/SDL4Kids/lib/python3.11/site-packages/botorch/models/utils/assorted.py:173: InputDataWarning: Input data is not contained to the unit cube. Please consider min-max scaling the input data.\n",
      "  warnings.warn(msg, InputDataWarning)\n",
      "/opt/homebrew/Caskroom/miniforge/base/envs/SDL4Kids/lib/python3.11/site-packages/botorch/models/utils/assorted.py:201: InputDataWarning: Input data is not standardized. Please consider scaling the input to zero mean and unit variance.\n",
      "  warnings.warn(msg, InputDataWarning)\n"
     ]
    },
    {
     "name": "stdout",
     "output_type": "stream",
     "text": [
      "---Iteration 46\n",
      "New RGB Measurement: (112, 74, 67)\n",
      "Error:-76.57675887630658\n",
      "Candidate:(tensor(195.7914), tensor(229.1777), tensor(80.2357))\n"
     ]
    },
    {
     "name": "stderr",
     "output_type": "stream",
     "text": [
      "/opt/homebrew/Caskroom/miniforge/base/envs/SDL4Kids/lib/python3.11/site-packages/botorch/models/utils/assorted.py:173: InputDataWarning: Input data is not contained to the unit cube. Please consider min-max scaling the input data.\n",
      "  warnings.warn(msg, InputDataWarning)\n",
      "/opt/homebrew/Caskroom/miniforge/base/envs/SDL4Kids/lib/python3.11/site-packages/botorch/models/utils/assorted.py:201: InputDataWarning: Input data is not standardized. Please consider scaling the input to zero mean and unit variance.\n",
      "  warnings.warn(msg, InputDataWarning)\n"
     ]
    },
    {
     "name": "stdout",
     "output_type": "stream",
     "text": [
      "---Iteration 47\n",
      "New RGB Measurement: (51, 42, 162)\n",
      "Error:-185.77943912069495\n",
      "Candidate:(tensor(141.8631), tensor(188.2634), tensor(214.6184))\n"
     ]
    },
    {
     "name": "stderr",
     "output_type": "stream",
     "text": [
      "/opt/homebrew/Caskroom/miniforge/base/envs/SDL4Kids/lib/python3.11/site-packages/botorch/models/utils/assorted.py:173: InputDataWarning: Input data is not contained to the unit cube. Please consider min-max scaling the input data.\n",
      "  warnings.warn(msg, InputDataWarning)\n",
      "/opt/homebrew/Caskroom/miniforge/base/envs/SDL4Kids/lib/python3.11/site-packages/botorch/models/utils/assorted.py:201: InputDataWarning: Input data is not standardized. Please consider scaling the input to zero mean and unit variance.\n",
      "  warnings.warn(msg, InputDataWarning)\n"
     ]
    },
    {
     "name": "stdout",
     "output_type": "stream",
     "text": [
      "---Iteration 48\n",
      "New RGB Measurement: (62, 102, 100)\n",
      "Error:-139.5456914419073\n",
      "Candidate:(tensor(122.6029), tensor(29.9176), tensor(128.6185))\n"
     ]
    },
    {
     "name": "stderr",
     "output_type": "stream",
     "text": [
      "/opt/homebrew/Caskroom/miniforge/base/envs/SDL4Kids/lib/python3.11/site-packages/botorch/models/utils/assorted.py:173: InputDataWarning: Input data is not contained to the unit cube. Please consider min-max scaling the input data.\n",
      "  warnings.warn(msg, InputDataWarning)\n",
      "/opt/homebrew/Caskroom/miniforge/base/envs/SDL4Kids/lib/python3.11/site-packages/botorch/models/utils/assorted.py:201: InputDataWarning: Input data is not standardized. Please consider scaling the input to zero mean and unit variance.\n",
      "  warnings.warn(msg, InputDataWarning)\n"
     ]
    },
    {
     "name": "stdout",
     "output_type": "stream",
     "text": [
      "---Iteration 49\n",
      "New RGB Measurement: (107, 102, 48)\n",
      "Error:-80.01249902359005\n",
      "Candidate:(tensor(99.1361), tensor(74.2011), tensor(92.9193))\n"
     ]
    },
    {
     "name": "stderr",
     "output_type": "stream",
     "text": [
      "/opt/homebrew/Caskroom/miniforge/base/envs/SDL4Kids/lib/python3.11/site-packages/botorch/models/utils/assorted.py:173: InputDataWarning: Input data is not contained to the unit cube. Please consider min-max scaling the input data.\n",
      "  warnings.warn(msg, InputDataWarning)\n",
      "/opt/homebrew/Caskroom/miniforge/base/envs/SDL4Kids/lib/python3.11/site-packages/botorch/models/utils/assorted.py:201: InputDataWarning: Input data is not standardized. Please consider scaling the input to zero mean and unit variance.\n",
      "  warnings.warn(msg, InputDataWarning)\n",
      "/opt/homebrew/Caskroom/miniforge/base/envs/SDL4Kids/lib/python3.11/site-packages/botorch/optim/initializers.py:403: BadInitialCandidatesWarning: Unable to find non-zero acquisition function values - initial conditions are being selected randomly.\n",
      "  warnings.warn(\n"
     ]
    },
    {
     "name": "stdout",
     "output_type": "stream",
     "text": [
      "---Iteration 50\n",
      "New RGB Measurement: (97, 73, 83)\n",
      "Error:-97.06698717895802\n",
      "Candidate:(tensor(30.8890), tensor(159.0629), tensor(171.5957))\n"
     ]
    },
    {
     "name": "stderr",
     "output_type": "stream",
     "text": [
      "/opt/homebrew/Caskroom/miniforge/base/envs/SDL4Kids/lib/python3.11/site-packages/botorch/models/utils/assorted.py:173: InputDataWarning: Input data is not contained to the unit cube. Please consider min-max scaling the input data.\n",
      "  warnings.warn(msg, InputDataWarning)\n",
      "/opt/homebrew/Caskroom/miniforge/base/envs/SDL4Kids/lib/python3.11/site-packages/botorch/models/utils/assorted.py:201: InputDataWarning: Input data is not standardized. Please consider scaling the input to zero mean and unit variance.\n",
      "  warnings.warn(msg, InputDataWarning)\n"
     ]
    },
    {
     "name": "stdout",
     "output_type": "stream",
     "text": [
      "---Iteration 51\n",
      "New RGB Measurement: (74, 87, 98)\n",
      "Error:-125.67418191498204\n",
      "Candidate:(tensor(52.2191), tensor(78.9842), tensor(46.8858))\n"
     ]
    },
    {
     "name": "stderr",
     "output_type": "stream",
     "text": [
      "/opt/homebrew/Caskroom/miniforge/base/envs/SDL4Kids/lib/python3.11/site-packages/botorch/models/utils/assorted.py:173: InputDataWarning: Input data is not contained to the unit cube. Please consider min-max scaling the input data.\n",
      "  warnings.warn(msg, InputDataWarning)\n",
      "/opt/homebrew/Caskroom/miniforge/base/envs/SDL4Kids/lib/python3.11/site-packages/botorch/models/utils/assorted.py:201: InputDataWarning: Input data is not standardized. Please consider scaling the input to zero mean and unit variance.\n",
      "  warnings.warn(msg, InputDataWarning)\n"
     ]
    },
    {
     "name": "stdout",
     "output_type": "stream",
     "text": [
      "---Iteration 52\n",
      "New RGB Measurement: (68, 107, 91)\n",
      "Error:-131.7915020022156\n",
      "Candidate:(tensor(104.7901), tensor(234.6298), tensor(66.7309))\n"
     ]
    },
    {
     "name": "stderr",
     "output_type": "stream",
     "text": [
      "/opt/homebrew/Caskroom/miniforge/base/envs/SDL4Kids/lib/python3.11/site-packages/botorch/models/utils/assorted.py:173: InputDataWarning: Input data is not contained to the unit cube. Please consider min-max scaling the input data.\n",
      "  warnings.warn(msg, InputDataWarning)\n",
      "/opt/homebrew/Caskroom/miniforge/base/envs/SDL4Kids/lib/python3.11/site-packages/botorch/models/utils/assorted.py:201: InputDataWarning: Input data is not standardized. Please consider scaling the input to zero mean and unit variance.\n",
      "  warnings.warn(msg, InputDataWarning)\n",
      "/opt/homebrew/Caskroom/miniforge/base/envs/SDL4Kids/lib/python3.11/site-packages/botorch/optim/initializers.py:403: BadInitialCandidatesWarning: Unable to find non-zero acquisition function values - initial conditions are being selected randomly.\n",
      "  warnings.warn(\n"
     ]
    },
    {
     "name": "stdout",
     "output_type": "stream",
     "text": [
      "---Iteration 53\n",
      "New RGB Measurement: (105, 54, 96)\n",
      "Error:-101.59724405711013\n",
      "Candidate:(tensor(6.0835), tensor(250.7520), tensor(35.0738))\n"
     ]
    },
    {
     "name": "stderr",
     "output_type": "stream",
     "text": [
      "/opt/homebrew/Caskroom/miniforge/base/envs/SDL4Kids/lib/python3.11/site-packages/botorch/models/utils/assorted.py:173: InputDataWarning: Input data is not contained to the unit cube. Please consider min-max scaling the input data.\n",
      "  warnings.warn(msg, InputDataWarning)\n",
      "/opt/homebrew/Caskroom/miniforge/base/envs/SDL4Kids/lib/python3.11/site-packages/botorch/models/utils/assorted.py:201: InputDataWarning: Input data is not standardized. Please consider scaling the input to zero mean and unit variance.\n",
      "  warnings.warn(msg, InputDataWarning)\n",
      "/opt/homebrew/Caskroom/miniforge/base/envs/SDL4Kids/lib/python3.11/site-packages/botorch/optim/initializers.py:403: BadInitialCandidatesWarning: Unable to find non-zero acquisition function values - initial conditions are being selected randomly.\n",
      "  warnings.warn(\n"
     ]
    },
    {
     "name": "stdout",
     "output_type": "stream",
     "text": [
      "---Iteration 54\n",
      "New RGB Measurement: (110, 57, 90)\n",
      "Error:-94.2019108086455\n",
      "Candidate:(tensor(84.6758), tensor(131.6232), tensor(43.5150))\n"
     ]
    },
    {
     "name": "stderr",
     "output_type": "stream",
     "text": [
      "/opt/homebrew/Caskroom/miniforge/base/envs/SDL4Kids/lib/python3.11/site-packages/botorch/models/utils/assorted.py:173: InputDataWarning: Input data is not contained to the unit cube. Please consider min-max scaling the input data.\n",
      "  warnings.warn(msg, InputDataWarning)\n",
      "/opt/homebrew/Caskroom/miniforge/base/envs/SDL4Kids/lib/python3.11/site-packages/botorch/models/utils/assorted.py:201: InputDataWarning: Input data is not standardized. Please consider scaling the input to zero mean and unit variance.\n",
      "  warnings.warn(msg, InputDataWarning)\n"
     ]
    },
    {
     "name": "stdout",
     "output_type": "stream",
     "text": [
      "---Iteration 55\n",
      "New RGB Measurement: (128, 75, 51)\n",
      "Error:-56.789083458002736\n",
      "Candidate:(tensor(87.9507), tensor(234.9203), tensor(115.1166))\n"
     ]
    },
    {
     "name": "stderr",
     "output_type": "stream",
     "text": [
      "/opt/homebrew/Caskroom/miniforge/base/envs/SDL4Kids/lib/python3.11/site-packages/botorch/models/utils/assorted.py:173: InputDataWarning: Input data is not contained to the unit cube. Please consider min-max scaling the input data.\n",
      "  warnings.warn(msg, InputDataWarning)\n",
      "/opt/homebrew/Caskroom/miniforge/base/envs/SDL4Kids/lib/python3.11/site-packages/botorch/models/utils/assorted.py:201: InputDataWarning: Input data is not standardized. Please consider scaling the input to zero mean and unit variance.\n",
      "  warnings.warn(msg, InputDataWarning)\n"
     ]
    },
    {
     "name": "stdout",
     "output_type": "stream",
     "text": [
      "---Iteration 56\n",
      "New RGB Measurement: (135, 68, 49)\n",
      "Error:-49.84977432245807\n",
      "Candidate:(tensor(183.7930), tensor(132.7643), tensor(233.2884))\n"
     ]
    },
    {
     "name": "stderr",
     "output_type": "stream",
     "text": [
      "/opt/homebrew/Caskroom/miniforge/base/envs/SDL4Kids/lib/python3.11/site-packages/botorch/models/utils/assorted.py:173: InputDataWarning: Input data is not contained to the unit cube. Please consider min-max scaling the input data.\n",
      "  warnings.warn(msg, InputDataWarning)\n",
      "/opt/homebrew/Caskroom/miniforge/base/envs/SDL4Kids/lib/python3.11/site-packages/botorch/models/utils/assorted.py:201: InputDataWarning: Input data is not standardized. Please consider scaling the input to zero mean and unit variance.\n",
      "  warnings.warn(msg, InputDataWarning)\n"
     ]
    },
    {
     "name": "stdout",
     "output_type": "stream",
     "text": [
      "---Iteration 57\n",
      "New RGB Measurement: (136, 68, 48)\n",
      "Error:-48.67237409455183\n",
      "Candidate:(tensor(177.0207), tensor(241.3711), tensor(144.1589))\n"
     ]
    },
    {
     "name": "stderr",
     "output_type": "stream",
     "text": [
      "/opt/homebrew/Caskroom/miniforge/base/envs/SDL4Kids/lib/python3.11/site-packages/botorch/models/utils/assorted.py:173: InputDataWarning: Input data is not contained to the unit cube. Please consider min-max scaling the input data.\n",
      "  warnings.warn(msg, InputDataWarning)\n",
      "/opt/homebrew/Caskroom/miniforge/base/envs/SDL4Kids/lib/python3.11/site-packages/botorch/models/utils/assorted.py:201: InputDataWarning: Input data is not standardized. Please consider scaling the input to zero mean and unit variance.\n",
      "  warnings.warn(msg, InputDataWarning)\n"
     ]
    },
    {
     "name": "stdout",
     "output_type": "stream",
     "text": [
      "---Iteration 58\n",
      "New RGB Measurement: (110, 72, 72)\n",
      "Error:-81.0740402348372\n",
      "Candidate:(tensor(189.5807), tensor(21.9468), tensor(155.8605))\n"
     ]
    },
    {
     "name": "stderr",
     "output_type": "stream",
     "text": [
      "/opt/homebrew/Caskroom/miniforge/base/envs/SDL4Kids/lib/python3.11/site-packages/botorch/models/utils/assorted.py:173: InputDataWarning: Input data is not contained to the unit cube. Please consider min-max scaling the input data.\n",
      "  warnings.warn(msg, InputDataWarning)\n",
      "/opt/homebrew/Caskroom/miniforge/base/envs/SDL4Kids/lib/python3.11/site-packages/botorch/models/utils/assorted.py:201: InputDataWarning: Input data is not standardized. Please consider scaling the input to zero mean and unit variance.\n",
      "  warnings.warn(msg, InputDataWarning)\n",
      "/opt/homebrew/Caskroom/miniforge/base/envs/SDL4Kids/lib/python3.11/site-packages/botorch/optim/initializers.py:403: BadInitialCandidatesWarning: Unable to find non-zero acquisition function values - initial conditions are being selected randomly.\n",
      "  warnings.warn(\n"
     ]
    },
    {
     "name": "stdout",
     "output_type": "stream",
     "text": [
      "---Iteration 59\n",
      "New RGB Measurement: (81, 84, 91)\n",
      "Error:-115.3819743287486\n",
      "Candidate:(tensor(109.3286), tensor(60.7718), tensor(92.4928))\n"
     ]
    },
    {
     "name": "stderr",
     "output_type": "stream",
     "text": [
      "/opt/homebrew/Caskroom/miniforge/base/envs/SDL4Kids/lib/python3.11/site-packages/botorch/models/utils/assorted.py:173: InputDataWarning: Input data is not contained to the unit cube. Please consider min-max scaling the input data.\n",
      "  warnings.warn(msg, InputDataWarning)\n",
      "/opt/homebrew/Caskroom/miniforge/base/envs/SDL4Kids/lib/python3.11/site-packages/botorch/models/utils/assorted.py:201: InputDataWarning: Input data is not standardized. Please consider scaling the input to zero mean and unit variance.\n",
      "  warnings.warn(msg, InputDataWarning)\n"
     ]
    },
    {
     "name": "stdout",
     "output_type": "stream",
     "text": [
      "---Iteration 60\n",
      "New RGB Measurement: (106, 89, 60)\n",
      "Error:-80.51086883148137\n",
      "Candidate:(tensor(56.8170), tensor(134.6996), tensor(220.8772))\n"
     ]
    },
    {
     "name": "stderr",
     "output_type": "stream",
     "text": [
      "/opt/homebrew/Caskroom/miniforge/base/envs/SDL4Kids/lib/python3.11/site-packages/botorch/models/utils/assorted.py:173: InputDataWarning: Input data is not contained to the unit cube. Please consider min-max scaling the input data.\n",
      "  warnings.warn(msg, InputDataWarning)\n",
      "/opt/homebrew/Caskroom/miniforge/base/envs/SDL4Kids/lib/python3.11/site-packages/botorch/models/utils/assorted.py:201: InputDataWarning: Input data is not standardized. Please consider scaling the input to zero mean and unit variance.\n",
      "  warnings.warn(msg, InputDataWarning)\n"
     ]
    },
    {
     "name": "stdout",
     "output_type": "stream",
     "text": [
      "---Iteration 61\n",
      "New RGB Measurement: (38, 139, 89)\n",
      "Error:-165.89454481688057\n",
      "Candidate:(tensor(107.3659), tensor(166.0890), tensor(167.6965))\n"
     ]
    },
    {
     "name": "stderr",
     "output_type": "stream",
     "text": [
      "/opt/homebrew/Caskroom/miniforge/base/envs/SDL4Kids/lib/python3.11/site-packages/botorch/models/utils/assorted.py:173: InputDataWarning: Input data is not contained to the unit cube. Please consider min-max scaling the input data.\n",
      "  warnings.warn(msg, InputDataWarning)\n",
      "/opt/homebrew/Caskroom/miniforge/base/envs/SDL4Kids/lib/python3.11/site-packages/botorch/models/utils/assorted.py:201: InputDataWarning: Input data is not standardized. Please consider scaling the input to zero mean and unit variance.\n",
      "  warnings.warn(msg, InputDataWarning)\n"
     ]
    },
    {
     "name": "stdout",
     "output_type": "stream",
     "text": [
      "---Iteration 62\n",
      "New RGB Measurement: (65, 120, 84)\n",
      "Error:-135.52121605121465\n",
      "Candidate:(tensor(46.4528), tensor(99.2218), tensor(114.5388))\n"
     ]
    },
    {
     "name": "stderr",
     "output_type": "stream",
     "text": [
      "/opt/homebrew/Caskroom/miniforge/base/envs/SDL4Kids/lib/python3.11/site-packages/botorch/models/utils/assorted.py:173: InputDataWarning: Input data is not contained to the unit cube. Please consider min-max scaling the input data.\n",
      "  warnings.warn(msg, InputDataWarning)\n",
      "/opt/homebrew/Caskroom/miniforge/base/envs/SDL4Kids/lib/python3.11/site-packages/botorch/models/utils/assorted.py:201: InputDataWarning: Input data is not standardized. Please consider scaling the input to zero mean and unit variance.\n",
      "  warnings.warn(msg, InputDataWarning)\n"
     ]
    },
    {
     "name": "stdout",
     "output_type": "stream",
     "text": [
      "---Iteration 63\n",
      "New RGB Measurement: (87, 40, 125)\n",
      "Error:-135.9006990416164\n",
      "Candidate:(tensor(79.3208), tensor(88.6485), tensor(88.7777))\n"
     ]
    },
    {
     "name": "stderr",
     "output_type": "stream",
     "text": [
      "/opt/homebrew/Caskroom/miniforge/base/envs/SDL4Kids/lib/python3.11/site-packages/botorch/models/utils/assorted.py:173: InputDataWarning: Input data is not contained to the unit cube. Please consider min-max scaling the input data.\n",
      "  warnings.warn(msg, InputDataWarning)\n",
      "/opt/homebrew/Caskroom/miniforge/base/envs/SDL4Kids/lib/python3.11/site-packages/botorch/models/utils/assorted.py:201: InputDataWarning: Input data is not standardized. Please consider scaling the input to zero mean and unit variance.\n",
      "  warnings.warn(msg, InputDataWarning)\n"
     ]
    },
    {
     "name": "stdout",
     "output_type": "stream",
     "text": [
      "---Iteration 64\n",
      "New RGB Measurement: (99, 62, 93)\n",
      "Error:-102.41581909060729\n",
      "Candidate:(tensor(159.0474), tensor(97.2836), tensor(11.7036))\n"
     ]
    },
    {
     "name": "stderr",
     "output_type": "stream",
     "text": [
      "/opt/homebrew/Caskroom/miniforge/base/envs/SDL4Kids/lib/python3.11/site-packages/botorch/models/utils/assorted.py:173: InputDataWarning: Input data is not contained to the unit cube. Please consider min-max scaling the input data.\n",
      "  warnings.warn(msg, InputDataWarning)\n",
      "/opt/homebrew/Caskroom/miniforge/base/envs/SDL4Kids/lib/python3.11/site-packages/botorch/models/utils/assorted.py:201: InputDataWarning: Input data is not standardized. Please consider scaling the input to zero mean and unit variance.\n",
      "  warnings.warn(msg, InputDataWarning)\n",
      "/opt/homebrew/Caskroom/miniforge/base/envs/SDL4Kids/lib/python3.11/site-packages/botorch/optim/initializers.py:403: BadInitialCandidatesWarning: Unable to find non-zero acquisition function values - initial conditions are being selected randomly.\n",
      "  warnings.warn(\n"
     ]
    },
    {
     "name": "stdout",
     "output_type": "stream",
     "text": [
      "---Iteration 65\n",
      "New RGB Measurement: (103, 62, 92)\n",
      "Error:-99.60923651951158\n",
      "Candidate:(tensor(161.1576), tensor(221.9946), tensor(102.7004))\n"
     ]
    },
    {
     "name": "stderr",
     "output_type": "stream",
     "text": [
      "/opt/homebrew/Caskroom/miniforge/base/envs/SDL4Kids/lib/python3.11/site-packages/botorch/models/utils/assorted.py:173: InputDataWarning: Input data is not contained to the unit cube. Please consider min-max scaling the input data.\n",
      "  warnings.warn(msg, InputDataWarning)\n",
      "/opt/homebrew/Caskroom/miniforge/base/envs/SDL4Kids/lib/python3.11/site-packages/botorch/models/utils/assorted.py:201: InputDataWarning: Input data is not standardized. Please consider scaling the input to zero mean and unit variance.\n",
      "  warnings.warn(msg, InputDataWarning)\n"
     ]
    },
    {
     "name": "stdout",
     "output_type": "stream",
     "text": [
      "---Iteration 66\n",
      "New RGB Measurement: (99, 72, 90)\n",
      "Error:-101.5381701627521\n",
      "Candidate:(tensor(111.6229), tensor(48.0061), tensor(96.8814))\n"
     ]
    },
    {
     "name": "stderr",
     "output_type": "stream",
     "text": [
      "/opt/homebrew/Caskroom/miniforge/base/envs/SDL4Kids/lib/python3.11/site-packages/botorch/models/utils/assorted.py:173: InputDataWarning: Input data is not contained to the unit cube. Please consider min-max scaling the input data.\n",
      "  warnings.warn(msg, InputDataWarning)\n",
      "/opt/homebrew/Caskroom/miniforge/base/envs/SDL4Kids/lib/python3.11/site-packages/botorch/models/utils/assorted.py:201: InputDataWarning: Input data is not standardized. Please consider scaling the input to zero mean and unit variance.\n",
      "  warnings.warn(msg, InputDataWarning)\n"
     ]
    },
    {
     "name": "stdout",
     "output_type": "stream",
     "text": [
      "---Iteration 67\n",
      "New RGB Measurement: (82, 129, 56)\n",
      "Error:-116.04309544302927\n",
      "Candidate:(tensor(219.6556), tensor(20.1671), tensor(178.6226))\n"
     ]
    },
    {
     "name": "stderr",
     "output_type": "stream",
     "text": [
      "/opt/homebrew/Caskroom/miniforge/base/envs/SDL4Kids/lib/python3.11/site-packages/botorch/models/utils/assorted.py:173: InputDataWarning: Input data is not contained to the unit cube. Please consider min-max scaling the input data.\n",
      "  warnings.warn(msg, InputDataWarning)\n",
      "/opt/homebrew/Caskroom/miniforge/base/envs/SDL4Kids/lib/python3.11/site-packages/botorch/models/utils/assorted.py:201: InputDataWarning: Input data is not standardized. Please consider scaling the input to zero mean and unit variance.\n",
      "  warnings.warn(msg, InputDataWarning)\n"
     ]
    },
    {
     "name": "stdout",
     "output_type": "stream",
     "text": [
      "---Iteration 68\n",
      "New RGB Measurement: (109, 92, 55)\n",
      "Error:-77.10382610480494\n",
      "Candidate:(tensor(119.2748), tensor(47.6577), tensor(87.4954))\n"
     ]
    },
    {
     "name": "stderr",
     "output_type": "stream",
     "text": [
      "/opt/homebrew/Caskroom/miniforge/base/envs/SDL4Kids/lib/python3.11/site-packages/botorch/models/utils/assorted.py:173: InputDataWarning: Input data is not contained to the unit cube. Please consider min-max scaling the input data.\n",
      "  warnings.warn(msg, InputDataWarning)\n",
      "/opt/homebrew/Caskroom/miniforge/base/envs/SDL4Kids/lib/python3.11/site-packages/botorch/models/utils/assorted.py:201: InputDataWarning: Input data is not standardized. Please consider scaling the input to zero mean and unit variance.\n",
      "  warnings.warn(msg, InputDataWarning)\n"
     ]
    },
    {
     "name": "stdout",
     "output_type": "stream",
     "text": [
      "---Iteration 69\n",
      "New RGB Measurement: (50, 130, 88)\n",
      "Error:-152.60733927305068\n",
      "Candidate:(tensor(191.3887), tensor(128.3853), tensor(80.0748))\n"
     ]
    },
    {
     "name": "stderr",
     "output_type": "stream",
     "text": [
      "/opt/homebrew/Caskroom/miniforge/base/envs/SDL4Kids/lib/python3.11/site-packages/botorch/models/utils/assorted.py:173: InputDataWarning: Input data is not contained to the unit cube. Please consider min-max scaling the input data.\n",
      "  warnings.warn(msg, InputDataWarning)\n",
      "/opt/homebrew/Caskroom/miniforge/base/envs/SDL4Kids/lib/python3.11/site-packages/botorch/models/utils/assorted.py:201: InputDataWarning: Input data is not standardized. Please consider scaling the input to zero mean and unit variance.\n",
      "  warnings.warn(msg, InputDataWarning)\n"
     ]
    },
    {
     "name": "stdout",
     "output_type": "stream",
     "text": [
      "---Iteration 70\n",
      "New RGB Measurement: (37, 140, 87)\n",
      "Error:-166.1114083980989\n",
      "Candidate:(tensor(99.3944), tensor(90.7986), tensor(86.6260))\n"
     ]
    },
    {
     "name": "stderr",
     "output_type": "stream",
     "text": [
      "/opt/homebrew/Caskroom/miniforge/base/envs/SDL4Kids/lib/python3.11/site-packages/botorch/models/utils/assorted.py:173: InputDataWarning: Input data is not contained to the unit cube. Please consider min-max scaling the input data.\n",
      "  warnings.warn(msg, InputDataWarning)\n",
      "/opt/homebrew/Caskroom/miniforge/base/envs/SDL4Kids/lib/python3.11/site-packages/botorch/models/utils/assorted.py:201: InputDataWarning: Input data is not standardized. Please consider scaling the input to zero mean and unit variance.\n",
      "  warnings.warn(msg, InputDataWarning)\n"
     ]
    },
    {
     "name": "stdout",
     "output_type": "stream",
     "text": [
      "---Iteration 71\n",
      "New RGB Measurement: (55, 138, 78)\n",
      "Error:-148.6539605930498\n",
      "Candidate:(tensor(106.9242), tensor(100.4223), tensor(53.4461))\n"
     ]
    },
    {
     "name": "stderr",
     "output_type": "stream",
     "text": [
      "/opt/homebrew/Caskroom/miniforge/base/envs/SDL4Kids/lib/python3.11/site-packages/botorch/models/utils/assorted.py:173: InputDataWarning: Input data is not contained to the unit cube. Please consider min-max scaling the input data.\n",
      "  warnings.warn(msg, InputDataWarning)\n",
      "/opt/homebrew/Caskroom/miniforge/base/envs/SDL4Kids/lib/python3.11/site-packages/botorch/models/utils/assorted.py:201: InputDataWarning: Input data is not standardized. Please consider scaling the input to zero mean and unit variance.\n",
      "  warnings.warn(msg, InputDataWarning)\n"
     ]
    },
    {
     "name": "stdout",
     "output_type": "stream",
     "text": [
      "---Iteration 72\n",
      "New RGB Measurement: (74, 140, 50)\n",
      "Error:-126.09916732476864\n",
      "Candidate:(tensor(228.6447), tensor(159.8067), tensor(209.9118))\n"
     ]
    },
    {
     "name": "stderr",
     "output_type": "stream",
     "text": [
      "/opt/homebrew/Caskroom/miniforge/base/envs/SDL4Kids/lib/python3.11/site-packages/botorch/models/utils/assorted.py:173: InputDataWarning: Input data is not contained to the unit cube. Please consider min-max scaling the input data.\n",
      "  warnings.warn(msg, InputDataWarning)\n",
      "/opt/homebrew/Caskroom/miniforge/base/envs/SDL4Kids/lib/python3.11/site-packages/botorch/models/utils/assorted.py:201: InputDataWarning: Input data is not standardized. Please consider scaling the input to zero mean and unit variance.\n",
      "  warnings.warn(msg, InputDataWarning)\n"
     ]
    },
    {
     "name": "stdout",
     "output_type": "stream",
     "text": [
      "---Iteration 73\n",
      "New RGB Measurement: (83, 117, 63)\n",
      "Error:-111.09455432198286\n",
      "Candidate:(tensor(86.4026), tensor(204.7836), tensor(241.2942))\n"
     ]
    },
    {
     "name": "stderr",
     "output_type": "stream",
     "text": [
      "/opt/homebrew/Caskroom/miniforge/base/envs/SDL4Kids/lib/python3.11/site-packages/botorch/models/utils/assorted.py:173: InputDataWarning: Input data is not contained to the unit cube. Please consider min-max scaling the input data.\n",
      "  warnings.warn(msg, InputDataWarning)\n",
      "/opt/homebrew/Caskroom/miniforge/base/envs/SDL4Kids/lib/python3.11/site-packages/botorch/models/utils/assorted.py:201: InputDataWarning: Input data is not standardized. Please consider scaling the input to zero mean and unit variance.\n",
      "  warnings.warn(msg, InputDataWarning)\n"
     ]
    },
    {
     "name": "stdout",
     "output_type": "stream",
     "text": [
      "---Iteration 74\n",
      "New RGB Measurement: (94, 108, 63)\n",
      "Error:-99.31767214348109\n",
      "Candidate:(tensor(108.9535), tensor(87.6123), tensor(58.2795))\n"
     ]
    },
    {
     "name": "stderr",
     "output_type": "stream",
     "text": [
      "/opt/homebrew/Caskroom/miniforge/base/envs/SDL4Kids/lib/python3.11/site-packages/botorch/models/utils/assorted.py:173: InputDataWarning: Input data is not contained to the unit cube. Please consider min-max scaling the input data.\n",
      "  warnings.warn(msg, InputDataWarning)\n",
      "/opt/homebrew/Caskroom/miniforge/base/envs/SDL4Kids/lib/python3.11/site-packages/botorch/models/utils/assorted.py:201: InputDataWarning: Input data is not standardized. Please consider scaling the input to zero mean and unit variance.\n",
      "  warnings.warn(msg, InputDataWarning)\n"
     ]
    },
    {
     "name": "stdout",
     "output_type": "stream",
     "text": [
      "---Iteration 75\n",
      "New RGB Measurement: (76, 109, 75)\n",
      "Error:-117.71575935277315\n",
      "Candidate:(tensor(190.9543), tensor(217.6974), tensor(246.5306))\n"
     ]
    },
    {
     "name": "stderr",
     "output_type": "stream",
     "text": [
      "/opt/homebrew/Caskroom/miniforge/base/envs/SDL4Kids/lib/python3.11/site-packages/botorch/models/utils/assorted.py:173: InputDataWarning: Input data is not contained to the unit cube. Please consider min-max scaling the input data.\n",
      "  warnings.warn(msg, InputDataWarning)\n",
      "/opt/homebrew/Caskroom/miniforge/base/envs/SDL4Kids/lib/python3.11/site-packages/botorch/models/utils/assorted.py:201: InputDataWarning: Input data is not standardized. Please consider scaling the input to zero mean and unit variance.\n",
      "  warnings.warn(msg, InputDataWarning)\n",
      "/opt/homebrew/Caskroom/miniforge/base/envs/SDL4Kids/lib/python3.11/site-packages/botorch/optim/initializers.py:403: BadInitialCandidatesWarning: Unable to find non-zero acquisition function values - initial conditions are being selected randomly.\n",
      "  warnings.warn(\n"
     ]
    },
    {
     "name": "stdout",
     "output_type": "stream",
     "text": [
      "---Iteration 76\n",
      "New RGB Measurement: (101, 52, 99)\n",
      "Error:-106.02358228243375\n",
      "Candidate:(tensor(11.7873), tensor(186.0198), tensor(164.5423))\n"
     ]
    },
    {
     "name": "stderr",
     "output_type": "stream",
     "text": [
      "/opt/homebrew/Caskroom/miniforge/base/envs/SDL4Kids/lib/python3.11/site-packages/botorch/models/utils/assorted.py:173: InputDataWarning: Input data is not contained to the unit cube. Please consider min-max scaling the input data.\n",
      "  warnings.warn(msg, InputDataWarning)\n",
      "/opt/homebrew/Caskroom/miniforge/base/envs/SDL4Kids/lib/python3.11/site-packages/botorch/models/utils/assorted.py:201: InputDataWarning: Input data is not standardized. Please consider scaling the input to zero mean and unit variance.\n",
      "  warnings.warn(msg, InputDataWarning)\n"
     ]
    },
    {
     "name": "stdout",
     "output_type": "stream",
     "text": [
      "---Iteration 77\n",
      "New RGB Measurement: (87, 121, 58)\n",
      "Error:-108.7152243248387\n",
      "Candidate:(tensor(120.7947), tensor(212.0439), tensor(47.6106))\n"
     ]
    },
    {
     "name": "stderr",
     "output_type": "stream",
     "text": [
      "/opt/homebrew/Caskroom/miniforge/base/envs/SDL4Kids/lib/python3.11/site-packages/botorch/models/utils/assorted.py:173: InputDataWarning: Input data is not contained to the unit cube. Please consider min-max scaling the input data.\n",
      "  warnings.warn(msg, InputDataWarning)\n",
      "/opt/homebrew/Caskroom/miniforge/base/envs/SDL4Kids/lib/python3.11/site-packages/botorch/models/utils/assorted.py:201: InputDataWarning: Input data is not standardized. Please consider scaling the input to zero mean and unit variance.\n",
      "  warnings.warn(msg, InputDataWarning)\n"
     ]
    },
    {
     "name": "stdout",
     "output_type": "stream",
     "text": [
      "---Iteration 78\n",
      "New RGB Measurement: (91, 76, 87)\n",
      "Error:-104.31203190428226\n",
      "Candidate:(tensor(226.4940), tensor(8.4677), tensor(191.3958))\n"
     ]
    },
    {
     "name": "stderr",
     "output_type": "stream",
     "text": [
      "/opt/homebrew/Caskroom/miniforge/base/envs/SDL4Kids/lib/python3.11/site-packages/botorch/models/utils/assorted.py:173: InputDataWarning: Input data is not contained to the unit cube. Please consider min-max scaling the input data.\n",
      "  warnings.warn(msg, InputDataWarning)\n",
      "/opt/homebrew/Caskroom/miniforge/base/envs/SDL4Kids/lib/python3.11/site-packages/botorch/models/utils/assorted.py:201: InputDataWarning: Input data is not standardized. Please consider scaling the input to zero mean and unit variance.\n",
      "  warnings.warn(msg, InputDataWarning)\n",
      "/opt/homebrew/Caskroom/miniforge/base/envs/SDL4Kids/lib/python3.11/site-packages/botorch/optim/initializers.py:403: BadInitialCandidatesWarning: Unable to find non-zero acquisition function values - initial conditions are being selected randomly.\n",
      "  warnings.warn(\n"
     ]
    },
    {
     "name": "stdout",
     "output_type": "stream",
     "text": [
      "---Iteration 79\n",
      "New RGB Measurement: (110, 57, 86)\n",
      "Error:-90.60905032059435\n",
      "Candidate:(tensor(211.8531), tensor(146.7446), tensor(211.1667))\n"
     ]
    },
    {
     "name": "stderr",
     "output_type": "stream",
     "text": [
      "/opt/homebrew/Caskroom/miniforge/base/envs/SDL4Kids/lib/python3.11/site-packages/botorch/models/utils/assorted.py:173: InputDataWarning: Input data is not contained to the unit cube. Please consider min-max scaling the input data.\n",
      "  warnings.warn(msg, InputDataWarning)\n",
      "/opt/homebrew/Caskroom/miniforge/base/envs/SDL4Kids/lib/python3.11/site-packages/botorch/models/utils/assorted.py:201: InputDataWarning: Input data is not standardized. Please consider scaling the input to zero mean and unit variance.\n",
      "  warnings.warn(msg, InputDataWarning)\n",
      "/opt/homebrew/Caskroom/miniforge/base/envs/SDL4Kids/lib/python3.11/site-packages/botorch/optim/initializers.py:403: BadInitialCandidatesWarning: Unable to find non-zero acquisition function values - initial conditions are being selected randomly.\n",
      "  warnings.warn(\n"
     ]
    },
    {
     "name": "stdout",
     "output_type": "stream",
     "text": [
      "---Iteration 80\n",
      "New RGB Measurement: (122, 71, 60)\n",
      "Error:-65.19202405202648\n",
      "Candidate:(tensor(81.8780), tensor(35.2866), tensor(156.1031))\n"
     ]
    },
    {
     "name": "stderr",
     "output_type": "stream",
     "text": [
      "/opt/homebrew/Caskroom/miniforge/base/envs/SDL4Kids/lib/python3.11/site-packages/botorch/models/utils/assorted.py:173: InputDataWarning: Input data is not contained to the unit cube. Please consider min-max scaling the input data.\n",
      "  warnings.warn(msg, InputDataWarning)\n",
      "/opt/homebrew/Caskroom/miniforge/base/envs/SDL4Kids/lib/python3.11/site-packages/botorch/models/utils/assorted.py:201: InputDataWarning: Input data is not standardized. Please consider scaling the input to zero mean and unit variance.\n",
      "  warnings.warn(msg, InputDataWarning)\n"
     ]
    },
    {
     "name": "stdout",
     "output_type": "stream",
     "text": [
      "---Iteration 81\n",
      "New RGB Measurement: (47, 126, 90)\n",
      "Error:-153.65545873804808\n",
      "Candidate:(tensor(111.3358), tensor(135.3190), tensor(137.7845))\n"
     ]
    },
    {
     "name": "stderr",
     "output_type": "stream",
     "text": [
      "/opt/homebrew/Caskroom/miniforge/base/envs/SDL4Kids/lib/python3.11/site-packages/botorch/models/utils/assorted.py:173: InputDataWarning: Input data is not contained to the unit cube. Please consider min-max scaling the input data.\n",
      "  warnings.warn(msg, InputDataWarning)\n",
      "/opt/homebrew/Caskroom/miniforge/base/envs/SDL4Kids/lib/python3.11/site-packages/botorch/models/utils/assorted.py:201: InputDataWarning: Input data is not standardized. Please consider scaling the input to zero mean and unit variance.\n",
      "  warnings.warn(msg, InputDataWarning)\n"
     ]
    },
    {
     "name": "stdout",
     "output_type": "stream",
     "text": [
      "---Iteration 82\n",
      "New RGB Measurement: (70, 100, 88)\n",
      "Error:-125.65428763078481\n",
      "Candidate:(tensor(172.5103), tensor(74.9325), tensor(216.0394))\n"
     ]
    },
    {
     "name": "stderr",
     "output_type": "stream",
     "text": [
      "/opt/homebrew/Caskroom/miniforge/base/envs/SDL4Kids/lib/python3.11/site-packages/botorch/models/utils/assorted.py:173: InputDataWarning: Input data is not contained to the unit cube. Please consider min-max scaling the input data.\n",
      "  warnings.warn(msg, InputDataWarning)\n",
      "/opt/homebrew/Caskroom/miniforge/base/envs/SDL4Kids/lib/python3.11/site-packages/botorch/models/utils/assorted.py:201: InputDataWarning: Input data is not standardized. Please consider scaling the input to zero mean and unit variance.\n",
      "  warnings.warn(msg, InputDataWarning)\n"
     ]
    },
    {
     "name": "stdout",
     "output_type": "stream",
     "text": [
      "---Iteration 83\n",
      "New RGB Measurement: (57, 56, 147)\n",
      "Error:-169.84993376507393\n",
      "Candidate:(tensor(239.3851), tensor(15.7853), tensor(0.9186))\n"
     ]
    },
    {
     "name": "stderr",
     "output_type": "stream",
     "text": [
      "/opt/homebrew/Caskroom/miniforge/base/envs/SDL4Kids/lib/python3.11/site-packages/botorch/models/utils/assorted.py:173: InputDataWarning: Input data is not contained to the unit cube. Please consider min-max scaling the input data.\n",
      "  warnings.warn(msg, InputDataWarning)\n",
      "/opt/homebrew/Caskroom/miniforge/base/envs/SDL4Kids/lib/python3.11/site-packages/botorch/models/utils/assorted.py:201: InputDataWarning: Input data is not standardized. Please consider scaling the input to zero mean and unit variance.\n",
      "  warnings.warn(msg, InputDataWarning)\n"
     ]
    },
    {
     "name": "stdout",
     "output_type": "stream",
     "text": [
      "---Iteration 84\n",
      "New RGB Measurement: (94, 78, 85)\n",
      "Error:-101.58740079360236\n",
      "Candidate:(tensor(244.5153), tensor(35.5938), tensor(48.3102))\n"
     ]
    },
    {
     "name": "stderr",
     "output_type": "stream",
     "text": [
      "/opt/homebrew/Caskroom/miniforge/base/envs/SDL4Kids/lib/python3.11/site-packages/botorch/models/utils/assorted.py:173: InputDataWarning: Input data is not contained to the unit cube. Please consider min-max scaling the input data.\n",
      "  warnings.warn(msg, InputDataWarning)\n",
      "/opt/homebrew/Caskroom/miniforge/base/envs/SDL4Kids/lib/python3.11/site-packages/botorch/models/utils/assorted.py:201: InputDataWarning: Input data is not standardized. Please consider scaling the input to zero mean and unit variance.\n",
      "  warnings.warn(msg, InputDataWarning)\n",
      "/opt/homebrew/Caskroom/miniforge/base/envs/SDL4Kids/lib/python3.11/site-packages/botorch/optim/initializers.py:403: BadInitialCandidatesWarning: Unable to find non-zero acquisition function values - initial conditions are being selected randomly.\n",
      "  warnings.warn(\n"
     ]
    },
    {
     "name": "stdout",
     "output_type": "stream",
     "text": [
      "---Iteration 85\n",
      "New RGB Measurement: (61, 88, 110)\n",
      "Error:-142.7935572776307\n",
      "Candidate:(tensor(183.0477), tensor(191.8732), tensor(150.2496))\n"
     ]
    },
    {
     "name": "stderr",
     "output_type": "stream",
     "text": [
      "/opt/homebrew/Caskroom/miniforge/base/envs/SDL4Kids/lib/python3.11/site-packages/botorch/models/utils/assorted.py:173: InputDataWarning: Input data is not contained to the unit cube. Please consider min-max scaling the input data.\n",
      "  warnings.warn(msg, InputDataWarning)\n",
      "/opt/homebrew/Caskroom/miniforge/base/envs/SDL4Kids/lib/python3.11/site-packages/botorch/models/utils/assorted.py:201: InputDataWarning: Input data is not standardized. Please consider scaling the input to zero mean and unit variance.\n",
      "  warnings.warn(msg, InputDataWarning)\n"
     ]
    },
    {
     "name": "stdout",
     "output_type": "stream",
     "text": [
      "---Iteration 86\n",
      "New RGB Measurement: (38, 164, 65)\n",
      "Error:-170.70442290696514\n",
      "Candidate:(tensor(20.7803), tensor(6.6032), tensor(243.5586))\n"
     ]
    },
    {
     "name": "stderr",
     "output_type": "stream",
     "text": [
      "/opt/homebrew/Caskroom/miniforge/base/envs/SDL4Kids/lib/python3.11/site-packages/botorch/models/utils/assorted.py:173: InputDataWarning: Input data is not contained to the unit cube. Please consider min-max scaling the input data.\n",
      "  warnings.warn(msg, InputDataWarning)\n",
      "/opt/homebrew/Caskroom/miniforge/base/envs/SDL4Kids/lib/python3.11/site-packages/botorch/models/utils/assorted.py:201: InputDataWarning: Input data is not standardized. Please consider scaling the input to zero mean and unit variance.\n",
      "  warnings.warn(msg, InputDataWarning)\n"
     ]
    },
    {
     "name": "stdout",
     "output_type": "stream",
     "text": [
      "---Iteration 87\n",
      "New RGB Measurement: (61, 154, 49)\n",
      "Error:-143.7810835958611\n",
      "Candidate:(tensor(3.4228), tensor(23.6124), tensor(188.2255))\n"
     ]
    },
    {
     "name": "stderr",
     "output_type": "stream",
     "text": [
      "/opt/homebrew/Caskroom/miniforge/base/envs/SDL4Kids/lib/python3.11/site-packages/botorch/models/utils/assorted.py:173: InputDataWarning: Input data is not contained to the unit cube. Please consider min-max scaling the input data.\n",
      "  warnings.warn(msg, InputDataWarning)\n",
      "/opt/homebrew/Caskroom/miniforge/base/envs/SDL4Kids/lib/python3.11/site-packages/botorch/models/utils/assorted.py:201: InputDataWarning: Input data is not standardized. Please consider scaling the input to zero mean and unit variance.\n",
      "  warnings.warn(msg, InputDataWarning)\n",
      "/opt/homebrew/Caskroom/miniforge/base/envs/SDL4Kids/lib/python3.11/site-packages/botorch/optim/initializers.py:403: BadInitialCandidatesWarning: Unable to find non-zero acquisition function values - initial conditions are being selected randomly.\n",
      "  warnings.warn(\n"
     ]
    },
    {
     "name": "stdout",
     "output_type": "stream",
     "text": [
      "---Iteration 88\n",
      "New RGB Measurement: (93, 90, 73)\n",
      "Error:-97.32933781753577\n",
      "Candidate:(tensor(173.3714), tensor(135.1213), tensor(194.9698))\n"
     ]
    },
    {
     "name": "stderr",
     "output_type": "stream",
     "text": [
      "/opt/homebrew/Caskroom/miniforge/base/envs/SDL4Kids/lib/python3.11/site-packages/botorch/models/utils/assorted.py:173: InputDataWarning: Input data is not contained to the unit cube. Please consider min-max scaling the input data.\n",
      "  warnings.warn(msg, InputDataWarning)\n",
      "/opt/homebrew/Caskroom/miniforge/base/envs/SDL4Kids/lib/python3.11/site-packages/botorch/models/utils/assorted.py:201: InputDataWarning: Input data is not standardized. Please consider scaling the input to zero mean and unit variance.\n",
      "  warnings.warn(msg, InputDataWarning)\n"
     ]
    },
    {
     "name": "stdout",
     "output_type": "stream",
     "text": [
      "---Iteration 89\n",
      "New RGB Measurement: (55, 12, 186)\n",
      "Error:-207.91825316695983\n",
      "Candidate:(tensor(14.3416), tensor(21.0886), tensor(45.1318))\n"
     ]
    },
    {
     "name": "stderr",
     "output_type": "stream",
     "text": [
      "/opt/homebrew/Caskroom/miniforge/base/envs/SDL4Kids/lib/python3.11/site-packages/botorch/models/utils/assorted.py:173: InputDataWarning: Input data is not contained to the unit cube. Please consider min-max scaling the input data.\n",
      "  warnings.warn(msg, InputDataWarning)\n",
      "/opt/homebrew/Caskroom/miniforge/base/envs/SDL4Kids/lib/python3.11/site-packages/botorch/models/utils/assorted.py:201: InputDataWarning: Input data is not standardized. Please consider scaling the input to zero mean and unit variance.\n",
      "  warnings.warn(msg, InputDataWarning)\n"
     ]
    },
    {
     "name": "stdout",
     "output_type": "stream",
     "text": [
      "---Iteration 90\n",
      "New RGB Measurement: (58, 14, 183)\n",
      "Error:-203.57799488156869\n",
      "Candidate:(tensor(228.3284), tensor(32.6818), tensor(76.4652))\n"
     ]
    },
    {
     "name": "stderr",
     "output_type": "stream",
     "text": [
      "/opt/homebrew/Caskroom/miniforge/base/envs/SDL4Kids/lib/python3.11/site-packages/botorch/models/utils/assorted.py:173: InputDataWarning: Input data is not contained to the unit cube. Please consider min-max scaling the input data.\n",
      "  warnings.warn(msg, InputDataWarning)\n",
      "/opt/homebrew/Caskroom/miniforge/base/envs/SDL4Kids/lib/python3.11/site-packages/botorch/models/utils/assorted.py:201: InputDataWarning: Input data is not standardized. Please consider scaling the input to zero mean and unit variance.\n",
      "  warnings.warn(msg, InputDataWarning)\n"
     ]
    },
    {
     "name": "stdout",
     "output_type": "stream",
     "text": [
      "---Iteration 91\n",
      "New RGB Measurement: (72, 81, 104)\n",
      "Error:-129.79214151866051\n",
      "Candidate:(tensor(29.9973), tensor(0.3003), tensor(195.8515))\n"
     ]
    },
    {
     "name": "stderr",
     "output_type": "stream",
     "text": [
      "/opt/homebrew/Caskroom/miniforge/base/envs/SDL4Kids/lib/python3.11/site-packages/botorch/models/utils/assorted.py:173: InputDataWarning: Input data is not contained to the unit cube. Please consider min-max scaling the input data.\n",
      "  warnings.warn(msg, InputDataWarning)\n",
      "/opt/homebrew/Caskroom/miniforge/base/envs/SDL4Kids/lib/python3.11/site-packages/botorch/models/utils/assorted.py:201: InputDataWarning: Input data is not standardized. Please consider scaling the input to zero mean and unit variance.\n",
      "  warnings.warn(msg, InputDataWarning)\n"
     ]
    },
    {
     "name": "stdout",
     "output_type": "stream",
     "text": [
      "---Iteration 92\n",
      "New RGB Measurement: (41, 181, 55)\n",
      "Error:-177.60067567439037\n",
      "Candidate:(tensor(170.9793), tensor(77.4921), tensor(6.7317))\n"
     ]
    },
    {
     "name": "stderr",
     "output_type": "stream",
     "text": [
      "/opt/homebrew/Caskroom/miniforge/base/envs/SDL4Kids/lib/python3.11/site-packages/botorch/models/utils/assorted.py:173: InputDataWarning: Input data is not contained to the unit cube. Please consider min-max scaling the input data.\n",
      "  warnings.warn(msg, InputDataWarning)\n",
      "/opt/homebrew/Caskroom/miniforge/base/envs/SDL4Kids/lib/python3.11/site-packages/botorch/models/utils/assorted.py:201: InputDataWarning: Input data is not standardized. Please consider scaling the input to zero mean and unit variance.\n",
      "  warnings.warn(msg, InputDataWarning)\n"
     ]
    },
    {
     "name": "stdout",
     "output_type": "stream",
     "text": [
      "---Iteration 93\n",
      "New RGB Measurement: (34, 178, 57)\n",
      "Error:-180.3995565404749\n"
     ]
    },
    {
     "name": "stderr",
     "output_type": "stream",
     "text": [
      "/opt/homebrew/Caskroom/miniforge/base/envs/SDL4Kids/lib/python3.11/site-packages/botorch/models/utils/assorted.py:173: InputDataWarning: Input data is not contained to the unit cube. Please consider min-max scaling the input data.\n",
      "  warnings.warn(msg, InputDataWarning)\n",
      "/opt/homebrew/Caskroom/miniforge/base/envs/SDL4Kids/lib/python3.11/site-packages/botorch/models/utils/assorted.py:201: InputDataWarning: Input data is not standardized. Please consider scaling the input to zero mean and unit variance.\n",
      "  warnings.warn(msg, InputDataWarning)\n"
     ]
    },
    {
     "name": "stdout",
     "output_type": "stream",
     "text": [
      "Candidate:(tensor(175.5085), tensor(40.6905), tensor(206.9826))\n",
      "---Iteration 94\n",
      "New RGB Measurement: (56, 16, 183)\n",
      "Error:-204.1470058560742\n"
     ]
    },
    {
     "name": "stderr",
     "output_type": "stream",
     "text": [
      "/opt/homebrew/Caskroom/miniforge/base/envs/SDL4Kids/lib/python3.11/site-packages/botorch/models/utils/assorted.py:173: InputDataWarning: Input data is not contained to the unit cube. Please consider min-max scaling the input data.\n",
      "  warnings.warn(msg, InputDataWarning)\n",
      "/opt/homebrew/Caskroom/miniforge/base/envs/SDL4Kids/lib/python3.11/site-packages/botorch/models/utils/assorted.py:201: InputDataWarning: Input data is not standardized. Please consider scaling the input to zero mean and unit variance.\n",
      "  warnings.warn(msg, InputDataWarning)\n"
     ]
    },
    {
     "name": "stdout",
     "output_type": "stream",
     "text": [
      "Candidate:(tensor(158.0349), tensor(68.6280), tensor(115.2739))\n",
      "---Iteration 95\n",
      "New RGB Measurement: (57, 165, 48)\n",
      "Error:-154.02272559593277\n",
      "Candidate:(tensor(111.7580), tensor(73.1146), tensor(68.3340))\n"
     ]
    },
    {
     "name": "stderr",
     "output_type": "stream",
     "text": [
      "/opt/homebrew/Caskroom/miniforge/base/envs/SDL4Kids/lib/python3.11/site-packages/botorch/models/utils/assorted.py:173: InputDataWarning: Input data is not contained to the unit cube. Please consider min-max scaling the input data.\n",
      "  warnings.warn(msg, InputDataWarning)\n",
      "/opt/homebrew/Caskroom/miniforge/base/envs/SDL4Kids/lib/python3.11/site-packages/botorch/models/utils/assorted.py:201: InputDataWarning: Input data is not standardized. Please consider scaling the input to zero mean and unit variance.\n",
      "  warnings.warn(msg, InputDataWarning)\n"
     ]
    },
    {
     "name": "stdout",
     "output_type": "stream",
     "text": [
      "---Iteration 96\n",
      "New RGB Measurement: (46, 109, 106)\n",
      "Error:-156.51836952894698\n",
      "Candidate:(tensor(109.9735), tensor(139.7511), tensor(89.0883))\n"
     ]
    },
    {
     "name": "stderr",
     "output_type": "stream",
     "text": [
      "/opt/homebrew/Caskroom/miniforge/base/envs/SDL4Kids/lib/python3.11/site-packages/botorch/models/utils/assorted.py:173: InputDataWarning: Input data is not contained to the unit cube. Please consider min-max scaling the input data.\n",
      "  warnings.warn(msg, InputDataWarning)\n",
      "/opt/homebrew/Caskroom/miniforge/base/envs/SDL4Kids/lib/python3.11/site-packages/botorch/models/utils/assorted.py:201: InputDataWarning: Input data is not standardized. Please consider scaling the input to zero mean and unit variance.\n",
      "  warnings.warn(msg, InputDataWarning)\n"
     ]
    },
    {
     "name": "stdout",
     "output_type": "stream",
     "text": [
      "---Iteration 97\n",
      "New RGB Measurement: (50, 118, 95)\n",
      "Error:-150.74481748969018\n",
      "Candidate:(tensor(116.5352), tensor(136.8951), tensor(82.5477))\n"
     ]
    },
    {
     "name": "stderr",
     "output_type": "stream",
     "text": [
      "/opt/homebrew/Caskroom/miniforge/base/envs/SDL4Kids/lib/python3.11/site-packages/botorch/models/utils/assorted.py:173: InputDataWarning: Input data is not contained to the unit cube. Please consider min-max scaling the input data.\n",
      "  warnings.warn(msg, InputDataWarning)\n",
      "/opt/homebrew/Caskroom/miniforge/base/envs/SDL4Kids/lib/python3.11/site-packages/botorch/models/utils/assorted.py:201: InputDataWarning: Input data is not standardized. Please consider scaling the input to zero mean and unit variance.\n",
      "  warnings.warn(msg, InputDataWarning)\n"
     ]
    },
    {
     "name": "stdout",
     "output_type": "stream",
     "text": [
      "---Iteration 98\n",
      "New RGB Measurement: (63, 134, 71)\n",
      "Error:-137.77155003846042\n",
      "Candidate:(tensor(95.1786), tensor(14.7513), tensor(39.5450))\n"
     ]
    },
    {
     "name": "stderr",
     "output_type": "stream",
     "text": [
      "/opt/homebrew/Caskroom/miniforge/base/envs/SDL4Kids/lib/python3.11/site-packages/botorch/models/utils/assorted.py:173: InputDataWarning: Input data is not contained to the unit cube. Please consider min-max scaling the input data.\n",
      "  warnings.warn(msg, InputDataWarning)\n",
      "/opt/homebrew/Caskroom/miniforge/base/envs/SDL4Kids/lib/python3.11/site-packages/botorch/models/utils/assorted.py:201: InputDataWarning: Input data is not standardized. Please consider scaling the input to zero mean and unit variance.\n",
      "  warnings.warn(msg, InputDataWarning)\n"
     ]
    },
    {
     "name": "stdout",
     "output_type": "stream",
     "text": [
      "---Iteration 99\n",
      "New RGB Measurement: (106, 91, 61)\n",
      "Error:-82.17663901620703\n",
      "Candidate:(tensor(113.1563), tensor(64.5680), tensor(76.1730))\n"
     ]
    },
    {
     "name": "stderr",
     "output_type": "stream",
     "text": [
      "/opt/homebrew/Caskroom/miniforge/base/envs/SDL4Kids/lib/python3.11/site-packages/botorch/models/utils/assorted.py:173: InputDataWarning: Input data is not contained to the unit cube. Please consider min-max scaling the input data.\n",
      "  warnings.warn(msg, InputDataWarning)\n",
      "/opt/homebrew/Caskroom/miniforge/base/envs/SDL4Kids/lib/python3.11/site-packages/botorch/models/utils/assorted.py:201: InputDataWarning: Input data is not standardized. Please consider scaling the input to zero mean and unit variance.\n",
      "  warnings.warn(msg, InputDataWarning)\n"
     ]
    },
    {
     "name": "stdout",
     "output_type": "stream",
     "text": [
      "---Iteration 100\n",
      "New RGB Measurement: (103, 98, 59)\n",
      "Error:-86.19164692706596\n",
      "Candidate:(tensor(113.1394), tensor(64.5176), tensor(76.3097))\n"
     ]
    },
    {
     "name": "stderr",
     "output_type": "stream",
     "text": [
      "/opt/homebrew/Caskroom/miniforge/base/envs/SDL4Kids/lib/python3.11/site-packages/botorch/models/utils/assorted.py:173: InputDataWarning: Input data is not contained to the unit cube. Please consider min-max scaling the input data.\n",
      "  warnings.warn(msg, InputDataWarning)\n",
      "/opt/homebrew/Caskroom/miniforge/base/envs/SDL4Kids/lib/python3.11/site-packages/botorch/models/utils/assorted.py:201: InputDataWarning: Input data is not standardized. Please consider scaling the input to zero mean and unit variance.\n",
      "  warnings.warn(msg, InputDataWarning)\n"
     ]
    },
    {
     "name": "stdout",
     "output_type": "stream",
     "text": [
      "---Iteration 101\n",
      "New RGB Measurement: (48, 180, 63)\n",
      "Error:-175.12281404774194\n",
      "Candidate:(tensor(137.7118), tensor(67.2020), tensor(50.0969))\n"
     ]
    },
    {
     "name": "stderr",
     "output_type": "stream",
     "text": [
      "/opt/homebrew/Caskroom/miniforge/base/envs/SDL4Kids/lib/python3.11/site-packages/botorch/models/utils/assorted.py:173: InputDataWarning: Input data is not contained to the unit cube. Please consider min-max scaling the input data.\n",
      "  warnings.warn(msg, InputDataWarning)\n",
      "/opt/homebrew/Caskroom/miniforge/base/envs/SDL4Kids/lib/python3.11/site-packages/botorch/models/utils/assorted.py:201: InputDataWarning: Input data is not standardized. Please consider scaling the input to zero mean and unit variance.\n",
      "  warnings.warn(msg, InputDataWarning)\n"
     ]
    },
    {
     "name": "stdout",
     "output_type": "stream",
     "text": [
      "---Iteration 102\n",
      "New RGB Measurement: (67, 133, 70)\n",
      "Error:-134.1752585240662\n",
      "Candidate:(tensor(113.3556), tensor(51.9195), tensor(86.2065))\n"
     ]
    },
    {
     "name": "stderr",
     "output_type": "stream",
     "text": [
      "/opt/homebrew/Caskroom/miniforge/base/envs/SDL4Kids/lib/python3.11/site-packages/botorch/models/utils/assorted.py:173: InputDataWarning: Input data is not contained to the unit cube. Please consider min-max scaling the input data.\n",
      "  warnings.warn(msg, InputDataWarning)\n",
      "/opt/homebrew/Caskroom/miniforge/base/envs/SDL4Kids/lib/python3.11/site-packages/botorch/models/utils/assorted.py:201: InputDataWarning: Input data is not standardized. Please consider scaling the input to zero mean and unit variance.\n",
      "  warnings.warn(msg, InputDataWarning)\n"
     ]
    },
    {
     "name": "stdout",
     "output_type": "stream",
     "text": [
      "---Iteration 103\n",
      "New RGB Measurement: (68, 132, 71)\n",
      "Error:-133.43163043296744\n",
      "Candidate:(tensor(137.7251), tensor(67.2210), tensor(50.1556))\n"
     ]
    },
    {
     "name": "stderr",
     "output_type": "stream",
     "text": [
      "/opt/homebrew/Caskroom/miniforge/base/envs/SDL4Kids/lib/python3.11/site-packages/botorch/models/utils/assorted.py:173: InputDataWarning: Input data is not contained to the unit cube. Please consider min-max scaling the input data.\n",
      "  warnings.warn(msg, InputDataWarning)\n",
      "/opt/homebrew/Caskroom/miniforge/base/envs/SDL4Kids/lib/python3.11/site-packages/botorch/models/utils/assorted.py:201: InputDataWarning: Input data is not standardized. Please consider scaling the input to zero mean and unit variance.\n",
      "  warnings.warn(msg, InputDataWarning)\n"
     ]
    },
    {
     "name": "stdout",
     "output_type": "stream",
     "text": [
      "---Iteration 104\n",
      "New RGB Measurement: (61, 151, 58)\n",
      "Error:-144.67549896233294\n",
      "Candidate:(tensor(113.4299), tensor(51.9506), tensor(85.9653))\n"
     ]
    },
    {
     "name": "stderr",
     "output_type": "stream",
     "text": [
      "/opt/homebrew/Caskroom/miniforge/base/envs/SDL4Kids/lib/python3.11/site-packages/botorch/models/utils/assorted.py:173: InputDataWarning: Input data is not contained to the unit cube. Please consider min-max scaling the input data.\n",
      "  warnings.warn(msg, InputDataWarning)\n",
      "/opt/homebrew/Caskroom/miniforge/base/envs/SDL4Kids/lib/python3.11/site-packages/botorch/models/utils/assorted.py:201: InputDataWarning: Input data is not standardized. Please consider scaling the input to zero mean and unit variance.\n",
      "  warnings.warn(msg, InputDataWarning)\n"
     ]
    },
    {
     "name": "stdout",
     "output_type": "stream",
     "text": [
      "---Iteration 105\n",
      "New RGB Measurement: (61, 137, 73)\n",
      "Error:-141.8238343861849\n",
      "Candidate:(tensor(106.7280), tensor(93.5353), tensor(55.6461))\n"
     ]
    },
    {
     "name": "stderr",
     "output_type": "stream",
     "text": [
      "/opt/homebrew/Caskroom/miniforge/base/envs/SDL4Kids/lib/python3.11/site-packages/botorch/models/utils/assorted.py:173: InputDataWarning: Input data is not contained to the unit cube. Please consider min-max scaling the input data.\n",
      "  warnings.warn(msg, InputDataWarning)\n",
      "/opt/homebrew/Caskroom/miniforge/base/envs/SDL4Kids/lib/python3.11/site-packages/botorch/models/utils/assorted.py:201: InputDataWarning: Input data is not standardized. Please consider scaling the input to zero mean and unit variance.\n",
      "  warnings.warn(msg, InputDataWarning)\n"
     ]
    },
    {
     "name": "stdout",
     "output_type": "stream",
     "text": [
      "---Iteration 106\n",
      "New RGB Measurement: (63, 160, 50)\n",
      "Error:-147.28883189162713\n",
      "Candidate:(tensor(137.7380), tensor(67.2496), tensor(50.2319))\n"
     ]
    },
    {
     "name": "stderr",
     "output_type": "stream",
     "text": [
      "/opt/homebrew/Caskroom/miniforge/base/envs/SDL4Kids/lib/python3.11/site-packages/botorch/models/utils/assorted.py:173: InputDataWarning: Input data is not contained to the unit cube. Please consider min-max scaling the input data.\n",
      "  warnings.warn(msg, InputDataWarning)\n",
      "/opt/homebrew/Caskroom/miniforge/base/envs/SDL4Kids/lib/python3.11/site-packages/botorch/models/utils/assorted.py:201: InputDataWarning: Input data is not standardized. Please consider scaling the input to zero mean and unit variance.\n",
      "  warnings.warn(msg, InputDataWarning)\n"
     ]
    },
    {
     "name": "stdout",
     "output_type": "stream",
     "text": [
      "---Iteration 107\n",
      "New RGB Measurement: (60, 132, 79)\n",
      "Error:-142.47806848775008\n"
     ]
    },
    {
     "name": "stderr",
     "output_type": "stream",
     "text": [
      "/opt/homebrew/Caskroom/miniforge/base/envs/SDL4Kids/lib/python3.11/site-packages/botorch/models/utils/assorted.py:173: InputDataWarning: Input data is not contained to the unit cube. Please consider min-max scaling the input data.\n",
      "  warnings.warn(msg, InputDataWarning)\n",
      "/opt/homebrew/Caskroom/miniforge/base/envs/SDL4Kids/lib/python3.11/site-packages/botorch/models/utils/assorted.py:201: InputDataWarning: Input data is not standardized. Please consider scaling the input to zero mean and unit variance.\n",
      "  warnings.warn(msg, InputDataWarning)\n"
     ]
    },
    {
     "name": "stdout",
     "output_type": "stream",
     "text": [
      "Candidate:(tensor(137.7415), tensor(67.2587), tensor(50.2529))\n",
      "---Iteration 108\n",
      "New RGB Measurement: (88, 119, 59)\n",
      "Error:-107.33592129385204\n"
     ]
    },
    {
     "name": "stderr",
     "output_type": "stream",
     "text": [
      "/opt/homebrew/Caskroom/miniforge/base/envs/SDL4Kids/lib/python3.11/site-packages/botorch/models/utils/assorted.py:173: InputDataWarning: Input data is not contained to the unit cube. Please consider min-max scaling the input data.\n",
      "  warnings.warn(msg, InputDataWarning)\n",
      "/opt/homebrew/Caskroom/miniforge/base/envs/SDL4Kids/lib/python3.11/site-packages/botorch/models/utils/assorted.py:201: InputDataWarning: Input data is not standardized. Please consider scaling the input to zero mean and unit variance.\n",
      "  warnings.warn(msg, InputDataWarning)\n"
     ]
    },
    {
     "name": "stdout",
     "output_type": "stream",
     "text": [
      "Candidate:(tensor(137.7518), tensor(67.2853), tensor(50.2594))\n",
      "---Iteration 109\n",
      "New RGB Measurement: (63, 160, 49)\n",
      "Error:-146.98639392814562\n",
      "Candidate:(tensor(106.8694), tensor(95.3026), tensor(54.0606))\n"
     ]
    },
    {
     "name": "stderr",
     "output_type": "stream",
     "text": [
      "/opt/homebrew/Caskroom/miniforge/base/envs/SDL4Kids/lib/python3.11/site-packages/botorch/models/utils/assorted.py:173: InputDataWarning: Input data is not contained to the unit cube. Please consider min-max scaling the input data.\n",
      "  warnings.warn(msg, InputDataWarning)\n",
      "/opt/homebrew/Caskroom/miniforge/base/envs/SDL4Kids/lib/python3.11/site-packages/botorch/models/utils/assorted.py:201: InputDataWarning: Input data is not standardized. Please consider scaling the input to zero mean and unit variance.\n",
      "  warnings.warn(msg, InputDataWarning)\n"
     ]
    },
    {
     "name": "stdout",
     "output_type": "stream",
     "text": [
      "---Iteration 110\n",
      "New RGB Measurement: (63, 160, 49)\n",
      "Error:-146.98639392814562\n",
      "Candidate:(tensor(106.8818), tensor(95.6233), tensor(53.7807))\n"
     ]
    },
    {
     "name": "stderr",
     "output_type": "stream",
     "text": [
      "/opt/homebrew/Caskroom/miniforge/base/envs/SDL4Kids/lib/python3.11/site-packages/botorch/models/utils/assorted.py:173: InputDataWarning: Input data is not contained to the unit cube. Please consider min-max scaling the input data.\n",
      "  warnings.warn(msg, InputDataWarning)\n",
      "/opt/homebrew/Caskroom/miniforge/base/envs/SDL4Kids/lib/python3.11/site-packages/botorch/models/utils/assorted.py:201: InputDataWarning: Input data is not standardized. Please consider scaling the input to zero mean and unit variance.\n",
      "  warnings.warn(msg, InputDataWarning)\n"
     ]
    },
    {
     "name": "stdout",
     "output_type": "stream",
     "text": [
      "---Iteration 111\n",
      "New RGB Measurement: (63, 159, 50)\n",
      "Error:-146.54350889752845\n",
      "Candidate:(tensor(137.8028), tensor(67.3630), tensor(50.1633))\n"
     ]
    },
    {
     "name": "stderr",
     "output_type": "stream",
     "text": [
      "/opt/homebrew/Caskroom/miniforge/base/envs/SDL4Kids/lib/python3.11/site-packages/botorch/models/utils/assorted.py:173: InputDataWarning: Input data is not contained to the unit cube. Please consider min-max scaling the input data.\n",
      "  warnings.warn(msg, InputDataWarning)\n",
      "/opt/homebrew/Caskroom/miniforge/base/envs/SDL4Kids/lib/python3.11/site-packages/botorch/models/utils/assorted.py:201: InputDataWarning: Input data is not standardized. Please consider scaling the input to zero mean and unit variance.\n",
      "  warnings.warn(msg, InputDataWarning)\n"
     ]
    },
    {
     "name": "stdout",
     "output_type": "stream",
     "text": [
      "---Iteration 112\n",
      "New RGB Measurement: (93, 117, 56)\n",
      "Error:-101.68087332433765\n",
      "Candidate:(tensor(137.8133), tensor(67.3949), tensor(50.1536))\n"
     ]
    },
    {
     "name": "stderr",
     "output_type": "stream",
     "text": [
      "/opt/homebrew/Caskroom/miniforge/base/envs/SDL4Kids/lib/python3.11/site-packages/botorch/models/utils/assorted.py:173: InputDataWarning: Input data is not contained to the unit cube. Please consider min-max scaling the input data.\n",
      "  warnings.warn(msg, InputDataWarning)\n",
      "/opt/homebrew/Caskroom/miniforge/base/envs/SDL4Kids/lib/python3.11/site-packages/botorch/models/utils/assorted.py:201: InputDataWarning: Input data is not standardized. Please consider scaling the input to zero mean and unit variance.\n",
      "  warnings.warn(msg, InputDataWarning)\n"
     ]
    },
    {
     "name": "stdout",
     "output_type": "stream",
     "text": [
      "---Iteration 113\n",
      "New RGB Measurement: (93, 117, 56)\n",
      "Error:-101.68087332433765\n",
      "Candidate:(tensor(137.8133), tensor(67.3948), tensor(50.1538))\n"
     ]
    },
    {
     "name": "stderr",
     "output_type": "stream",
     "text": [
      "/opt/homebrew/Caskroom/miniforge/base/envs/SDL4Kids/lib/python3.11/site-packages/botorch/models/utils/assorted.py:173: InputDataWarning: Input data is not contained to the unit cube. Please consider min-max scaling the input data.\n",
      "  warnings.warn(msg, InputDataWarning)\n",
      "/opt/homebrew/Caskroom/miniforge/base/envs/SDL4Kids/lib/python3.11/site-packages/botorch/models/utils/assorted.py:201: InputDataWarning: Input data is not standardized. Please consider scaling the input to zero mean and unit variance.\n",
      "  warnings.warn(msg, InputDataWarning)\n"
     ]
    },
    {
     "name": "stdout",
     "output_type": "stream",
     "text": [
      "---Iteration 114\n",
      "New RGB Measurement: (71, 149, 51)\n",
      "Error:-134.75162336684483\n",
      "Candidate:(tensor(137.8217), tensor(67.4228), tensor(50.1461))\n"
     ]
    },
    {
     "name": "stderr",
     "output_type": "stream",
     "text": [
      "/opt/homebrew/Caskroom/miniforge/base/envs/SDL4Kids/lib/python3.11/site-packages/botorch/models/utils/assorted.py:173: InputDataWarning: Input data is not contained to the unit cube. Please consider min-max scaling the input data.\n",
      "  warnings.warn(msg, InputDataWarning)\n",
      "/opt/homebrew/Caskroom/miniforge/base/envs/SDL4Kids/lib/python3.11/site-packages/botorch/models/utils/assorted.py:201: InputDataWarning: Input data is not standardized. Please consider scaling the input to zero mean and unit variance.\n",
      "  warnings.warn(msg, InputDataWarning)\n"
     ]
    },
    {
     "name": "stdout",
     "output_type": "stream",
     "text": [
      "---Iteration 115\n",
      "New RGB Measurement: (63, 160, 49)\n",
      "Error:-146.98639392814562\n",
      "Candidate:(tensor(137.8217), tensor(67.4228), tensor(50.1462))\n"
     ]
    },
    {
     "name": "stderr",
     "output_type": "stream",
     "text": [
      "/opt/homebrew/Caskroom/miniforge/base/envs/SDL4Kids/lib/python3.11/site-packages/botorch/models/utils/assorted.py:173: InputDataWarning: Input data is not contained to the unit cube. Please consider min-max scaling the input data.\n",
      "  warnings.warn(msg, InputDataWarning)\n",
      "/opt/homebrew/Caskroom/miniforge/base/envs/SDL4Kids/lib/python3.11/site-packages/botorch/models/utils/assorted.py:201: InputDataWarning: Input data is not standardized. Please consider scaling the input to zero mean and unit variance.\n",
      "  warnings.warn(msg, InputDataWarning)\n"
     ]
    },
    {
     "name": "stdout",
     "output_type": "stream",
     "text": [
      "---Iteration 116\n",
      "New RGB Measurement: (63, 160, 49)\n",
      "Error:-146.98639392814562\n",
      "Candidate:(tensor(137.8217), tensor(67.4227), tensor(50.1461))\n"
     ]
    },
    {
     "name": "stderr",
     "output_type": "stream",
     "text": [
      "/opt/homebrew/Caskroom/miniforge/base/envs/SDL4Kids/lib/python3.11/site-packages/botorch/models/utils/assorted.py:173: InputDataWarning: Input data is not contained to the unit cube. Please consider min-max scaling the input data.\n",
      "  warnings.warn(msg, InputDataWarning)\n",
      "/opt/homebrew/Caskroom/miniforge/base/envs/SDL4Kids/lib/python3.11/site-packages/botorch/models/utils/assorted.py:201: InputDataWarning: Input data is not standardized. Please consider scaling the input to zero mean and unit variance.\n",
      "  warnings.warn(msg, InputDataWarning)\n"
     ]
    },
    {
     "name": "stdout",
     "output_type": "stream",
     "text": [
      "---Iteration 117\n",
      "New RGB Measurement: (63, 160, 49)\n",
      "Error:-146.98639392814562\n",
      "Candidate:(tensor(137.8218), tensor(67.4229), tensor(50.1458))\n"
     ]
    },
    {
     "name": "stderr",
     "output_type": "stream",
     "text": [
      "/opt/homebrew/Caskroom/miniforge/base/envs/SDL4Kids/lib/python3.11/site-packages/botorch/models/utils/assorted.py:173: InputDataWarning: Input data is not contained to the unit cube. Please consider min-max scaling the input data.\n",
      "  warnings.warn(msg, InputDataWarning)\n",
      "/opt/homebrew/Caskroom/miniforge/base/envs/SDL4Kids/lib/python3.11/site-packages/botorch/models/utils/assorted.py:201: InputDataWarning: Input data is not standardized. Please consider scaling the input to zero mean and unit variance.\n",
      "  warnings.warn(msg, InputDataWarning)\n"
     ]
    },
    {
     "name": "stdout",
     "output_type": "stream",
     "text": [
      "---Iteration 118\n",
      "New RGB Measurement: (63, 160, 49)\n",
      "Error:-146.98639392814562\n",
      "Candidate:(tensor(137.8216), tensor(67.4222), tensor(50.1467))\n"
     ]
    },
    {
     "name": "stderr",
     "output_type": "stream",
     "text": [
      "/opt/homebrew/Caskroom/miniforge/base/envs/SDL4Kids/lib/python3.11/site-packages/botorch/models/utils/assorted.py:173: InputDataWarning: Input data is not contained to the unit cube. Please consider min-max scaling the input data.\n",
      "  warnings.warn(msg, InputDataWarning)\n",
      "/opt/homebrew/Caskroom/miniforge/base/envs/SDL4Kids/lib/python3.11/site-packages/botorch/models/utils/assorted.py:201: InputDataWarning: Input data is not standardized. Please consider scaling the input to zero mean and unit variance.\n",
      "  warnings.warn(msg, InputDataWarning)\n"
     ]
    },
    {
     "name": "stdout",
     "output_type": "stream",
     "text": [
      "---Iteration 119\n",
      "New RGB Measurement: (63, 160, 49)\n",
      "Error:-146.98639392814562\n",
      "Candidate:(tensor(137.8217), tensor(67.4228), tensor(50.1462))\n"
     ]
    },
    {
     "name": "stderr",
     "output_type": "stream",
     "text": [
      "/opt/homebrew/Caskroom/miniforge/base/envs/SDL4Kids/lib/python3.11/site-packages/botorch/models/utils/assorted.py:173: InputDataWarning: Input data is not contained to the unit cube. Please consider min-max scaling the input data.\n",
      "  warnings.warn(msg, InputDataWarning)\n",
      "/opt/homebrew/Caskroom/miniforge/base/envs/SDL4Kids/lib/python3.11/site-packages/botorch/models/utils/assorted.py:201: InputDataWarning: Input data is not standardized. Please consider scaling the input to zero mean and unit variance.\n",
      "  warnings.warn(msg, InputDataWarning)\n"
     ]
    },
    {
     "name": "stdout",
     "output_type": "stream",
     "text": [
      "---Iteration 120\n",
      "New RGB Measurement: (63, 160, 49)\n",
      "Error:-146.98639392814562\n",
      "Candidate:(tensor(106.9221), tensor(96.7007), tensor(52.8241))\n"
     ]
    },
    {
     "name": "stderr",
     "output_type": "stream",
     "text": [
      "/opt/homebrew/Caskroom/miniforge/base/envs/SDL4Kids/lib/python3.11/site-packages/botorch/models/utils/assorted.py:173: InputDataWarning: Input data is not contained to the unit cube. Please consider min-max scaling the input data.\n",
      "  warnings.warn(msg, InputDataWarning)\n",
      "/opt/homebrew/Caskroom/miniforge/base/envs/SDL4Kids/lib/python3.11/site-packages/botorch/models/utils/assorted.py:201: InputDataWarning: Input data is not standardized. Please consider scaling the input to zero mean and unit variance.\n",
      "  warnings.warn(msg, InputDataWarning)\n"
     ]
    },
    {
     "name": "stdout",
     "output_type": "stream",
     "text": [
      "---Iteration 121\n",
      "New RGB Measurement: (63, 160, 49)\n",
      "Error:-146.98639392814562\n"
     ]
    },
    {
     "name": "stderr",
     "output_type": "stream",
     "text": [
      "/opt/homebrew/Caskroom/miniforge/base/envs/SDL4Kids/lib/python3.11/site-packages/botorch/models/utils/assorted.py:173: InputDataWarning: Input data is not contained to the unit cube. Please consider min-max scaling the input data.\n",
      "  warnings.warn(msg, InputDataWarning)\n",
      "/opt/homebrew/Caskroom/miniforge/base/envs/SDL4Kids/lib/python3.11/site-packages/botorch/models/utils/assorted.py:201: InputDataWarning: Input data is not standardized. Please consider scaling the input to zero mean and unit variance.\n",
      "  warnings.warn(msg, InputDataWarning)\n"
     ]
    },
    {
     "name": "stdout",
     "output_type": "stream",
     "text": [
      "Candidate:(tensor(137.8217), tensor(67.4228), tensor(50.1462))\n",
      "---Iteration 122\n",
      "New RGB Measurement: (64, 158, 50)\n",
      "Error:-145.2067491544384\n",
      "Candidate:(tensor(137.8380), tensor(67.4806), tensor(50.1128))\n"
     ]
    },
    {
     "name": "stderr",
     "output_type": "stream",
     "text": [
      "/opt/homebrew/Caskroom/miniforge/base/envs/SDL4Kids/lib/python3.11/site-packages/botorch/models/utils/assorted.py:173: InputDataWarning: Input data is not contained to the unit cube. Please consider min-max scaling the input data.\n",
      "  warnings.warn(msg, InputDataWarning)\n",
      "/opt/homebrew/Caskroom/miniforge/base/envs/SDL4Kids/lib/python3.11/site-packages/botorch/models/utils/assorted.py:201: InputDataWarning: Input data is not standardized. Please consider scaling the input to zero mean and unit variance.\n",
      "  warnings.warn(msg, InputDataWarning)\n"
     ]
    },
    {
     "name": "stdout",
     "output_type": "stream",
     "text": [
      "---Iteration 123\n",
      "New RGB Measurement: (95, 117, 55)\n",
      "Error:-100.069975517135\n"
     ]
    },
    {
     "name": "stderr",
     "output_type": "stream",
     "text": [
      "/opt/homebrew/Caskroom/miniforge/base/envs/SDL4Kids/lib/python3.11/site-packages/botorch/models/utils/assorted.py:173: InputDataWarning: Input data is not contained to the unit cube. Please consider min-max scaling the input data.\n",
      "  warnings.warn(msg, InputDataWarning)\n",
      "/opt/homebrew/Caskroom/miniforge/base/envs/SDL4Kids/lib/python3.11/site-packages/botorch/models/utils/assorted.py:201: InputDataWarning: Input data is not standardized. Please consider scaling the input to zero mean and unit variance.\n",
      "  warnings.warn(msg, InputDataWarning)\n"
     ]
    },
    {
     "name": "stdout",
     "output_type": "stream",
     "text": [
      "Candidate:(tensor(137.8540), tensor(67.5370), tensor(50.0789))\n",
      "---Iteration 124\n",
      "New RGB Measurement: (66, 155, 50)\n",
      "Error:-141.7956275771577\n",
      "Candidate:(tensor(137.8673), tensor(67.5917), tensor(50.0522))\n"
     ]
    },
    {
     "name": "stderr",
     "output_type": "stream",
     "text": [
      "/opt/homebrew/Caskroom/miniforge/base/envs/SDL4Kids/lib/python3.11/site-packages/botorch/models/utils/assorted.py:173: InputDataWarning: Input data is not contained to the unit cube. Please consider min-max scaling the input data.\n",
      "  warnings.warn(msg, InputDataWarning)\n",
      "/opt/homebrew/Caskroom/miniforge/base/envs/SDL4Kids/lib/python3.11/site-packages/botorch/models/utils/assorted.py:201: InputDataWarning: Input data is not standardized. Please consider scaling the input to zero mean and unit variance.\n",
      "  warnings.warn(msg, InputDataWarning)\n"
     ]
    },
    {
     "name": "stdout",
     "output_type": "stream",
     "text": [
      "---Iteration 125\n",
      "New RGB Measurement: (63, 160, 49)\n",
      "Error:-146.98639392814562\n",
      "Candidate:(tensor(123.1129), tensor(80.4580), tensor(53.8299))\n"
     ]
    },
    {
     "name": "stderr",
     "output_type": "stream",
     "text": [
      "/opt/homebrew/Caskroom/miniforge/base/envs/SDL4Kids/lib/python3.11/site-packages/botorch/models/utils/assorted.py:173: InputDataWarning: Input data is not contained to the unit cube. Please consider min-max scaling the input data.\n",
      "  warnings.warn(msg, InputDataWarning)\n",
      "/opt/homebrew/Caskroom/miniforge/base/envs/SDL4Kids/lib/python3.11/site-packages/botorch/models/utils/assorted.py:201: InputDataWarning: Input data is not standardized. Please consider scaling the input to zero mean and unit variance.\n",
      "  warnings.warn(msg, InputDataWarning)\n"
     ]
    },
    {
     "name": "stdout",
     "output_type": "stream",
     "text": [
      "---Iteration 126\n",
      "New RGB Measurement: (63, 160, 49)\n",
      "Error:-146.98639392814562\n",
      "Candidate:(tensor(137.8679), tensor(67.5915), tensor(50.0517))\n"
     ]
    },
    {
     "name": "stderr",
     "output_type": "stream",
     "text": [
      "/opt/homebrew/Caskroom/miniforge/base/envs/SDL4Kids/lib/python3.11/site-packages/botorch/models/utils/assorted.py:173: InputDataWarning: Input data is not contained to the unit cube. Please consider min-max scaling the input data.\n",
      "  warnings.warn(msg, InputDataWarning)\n",
      "/opt/homebrew/Caskroom/miniforge/base/envs/SDL4Kids/lib/python3.11/site-packages/botorch/models/utils/assorted.py:201: InputDataWarning: Input data is not standardized. Please consider scaling the input to zero mean and unit variance.\n",
      "  warnings.warn(msg, InputDataWarning)\n"
     ]
    },
    {
     "name": "stdout",
     "output_type": "stream",
     "text": [
      "---Iteration 127\n",
      "New RGB Measurement: (64, 158, 50)\n",
      "Error:-145.2067491544384\n"
     ]
    },
    {
     "name": "stderr",
     "output_type": "stream",
     "text": [
      "/opt/homebrew/Caskroom/miniforge/base/envs/SDL4Kids/lib/python3.11/site-packages/botorch/models/utils/assorted.py:173: InputDataWarning: Input data is not contained to the unit cube. Please consider min-max scaling the input data.\n",
      "  warnings.warn(msg, InputDataWarning)\n",
      "/opt/homebrew/Caskroom/miniforge/base/envs/SDL4Kids/lib/python3.11/site-packages/botorch/models/utils/assorted.py:201: InputDataWarning: Input data is not standardized. Please consider scaling the input to zero mean and unit variance.\n",
      "  warnings.warn(msg, InputDataWarning)\n"
     ]
    },
    {
     "name": "stdout",
     "output_type": "stream",
     "text": [
      "Candidate:(tensor(137.8679), tensor(67.5920), tensor(50.0517))\n",
      "---Iteration 128\n",
      "New RGB Measurement: (76, 140, 53)\n",
      "Error:-126.01587201618692\n"
     ]
    },
    {
     "name": "stderr",
     "output_type": "stream",
     "text": [
      "/opt/homebrew/Caskroom/miniforge/base/envs/SDL4Kids/lib/python3.11/site-packages/botorch/models/utils/assorted.py:173: InputDataWarning: Input data is not contained to the unit cube. Please consider min-max scaling the input data.\n",
      "  warnings.warn(msg, InputDataWarning)\n",
      "/opt/homebrew/Caskroom/miniforge/base/envs/SDL4Kids/lib/python3.11/site-packages/botorch/models/utils/assorted.py:201: InputDataWarning: Input data is not standardized. Please consider scaling the input to zero mean and unit variance.\n",
      "  warnings.warn(msg, InputDataWarning)\n"
     ]
    },
    {
     "name": "stdout",
     "output_type": "stream",
     "text": [
      "Candidate:(tensor(137.8758), tensor(67.6190), tensor(50.0422))\n",
      "---Iteration 129\n",
      "New RGB Measurement: (64, 157, 50)\n",
      "Error:-144.46452851824907\n"
     ]
    },
    {
     "name": "stderr",
     "output_type": "stream",
     "text": [
      "/opt/homebrew/Caskroom/miniforge/base/envs/SDL4Kids/lib/python3.11/site-packages/botorch/models/utils/assorted.py:173: InputDataWarning: Input data is not contained to the unit cube. Please consider min-max scaling the input data.\n",
      "  warnings.warn(msg, InputDataWarning)\n",
      "/opt/homebrew/Caskroom/miniforge/base/envs/SDL4Kids/lib/python3.11/site-packages/botorch/models/utils/assorted.py:201: InputDataWarning: Input data is not standardized. Please consider scaling the input to zero mean and unit variance.\n",
      "  warnings.warn(msg, InputDataWarning)\n"
     ]
    },
    {
     "name": "stdout",
     "output_type": "stream",
     "text": [
      "Candidate:(tensor(107.0295), tensor(97.0873), tensor(52.3542))\n",
      "---Iteration 130\n",
      "New RGB Measurement: (63, 160, 49)\n",
      "Error:-146.98639392814562\n",
      "Candidate:(tensor(137.8923), tensor(67.6908), tensor(49.9955))\n"
     ]
    },
    {
     "name": "stderr",
     "output_type": "stream",
     "text": [
      "/opt/homebrew/Caskroom/miniforge/base/envs/SDL4Kids/lib/python3.11/site-packages/botorch/models/utils/assorted.py:173: InputDataWarning: Input data is not contained to the unit cube. Please consider min-max scaling the input data.\n",
      "  warnings.warn(msg, InputDataWarning)\n",
      "/opt/homebrew/Caskroom/miniforge/base/envs/SDL4Kids/lib/python3.11/site-packages/botorch/models/utils/assorted.py:201: InputDataWarning: Input data is not standardized. Please consider scaling the input to zero mean and unit variance.\n",
      "  warnings.warn(msg, InputDataWarning)\n"
     ]
    },
    {
     "name": "stdout",
     "output_type": "stream",
     "text": [
      "---Iteration 131\n",
      "New RGB Measurement: (70, 150, 50)\n",
      "Error:-135.73871960498226\n"
     ]
    },
    {
     "name": "stderr",
     "output_type": "stream",
     "text": [
      "/opt/homebrew/Caskroom/miniforge/base/envs/SDL4Kids/lib/python3.11/site-packages/botorch/models/utils/assorted.py:173: InputDataWarning: Input data is not contained to the unit cube. Please consider min-max scaling the input data.\n",
      "  warnings.warn(msg, InputDataWarning)\n",
      "/opt/homebrew/Caskroom/miniforge/base/envs/SDL4Kids/lib/python3.11/site-packages/botorch/models/utils/assorted.py:201: InputDataWarning: Input data is not standardized. Please consider scaling the input to zero mean and unit variance.\n",
      "  warnings.warn(msg, InputDataWarning)\n"
     ]
    },
    {
     "name": "stdout",
     "output_type": "stream",
     "text": [
      "Candidate:(tensor(137.9052), tensor(67.7450), tensor(49.9653))\n",
      "---Iteration 132\n",
      "New RGB Measurement: (94, 117, 54)\n",
      "Error:-100.12991560967181\n"
     ]
    },
    {
     "name": "stderr",
     "output_type": "stream",
     "text": [
      "/opt/homebrew/Caskroom/miniforge/base/envs/SDL4Kids/lib/python3.11/site-packages/botorch/models/utils/assorted.py:173: InputDataWarning: Input data is not contained to the unit cube. Please consider min-max scaling the input data.\n",
      "  warnings.warn(msg, InputDataWarning)\n",
      "/opt/homebrew/Caskroom/miniforge/base/envs/SDL4Kids/lib/python3.11/site-packages/botorch/models/utils/assorted.py:201: InputDataWarning: Input data is not standardized. Please consider scaling the input to zero mean and unit variance.\n",
      "  warnings.warn(msg, InputDataWarning)\n"
     ]
    },
    {
     "name": "stdout",
     "output_type": "stream",
     "text": [
      "Candidate:(tensor(137.9131), tensor(67.7703), tensor(49.9552))\n",
      "---Iteration 133\n",
      "New RGB Measurement: (63, 160, 49)\n",
      "Error:-146.98639392814562\n"
     ]
    },
    {
     "name": "stderr",
     "output_type": "stream",
     "text": [
      "/opt/homebrew/Caskroom/miniforge/base/envs/SDL4Kids/lib/python3.11/site-packages/botorch/models/utils/assorted.py:173: InputDataWarning: Input data is not contained to the unit cube. Please consider min-max scaling the input data.\n",
      "  warnings.warn(msg, InputDataWarning)\n",
      "/opt/homebrew/Caskroom/miniforge/base/envs/SDL4Kids/lib/python3.11/site-packages/botorch/models/utils/assorted.py:201: InputDataWarning: Input data is not standardized. Please consider scaling the input to zero mean and unit variance.\n",
      "  warnings.warn(msg, InputDataWarning)\n"
     ]
    },
    {
     "name": "stdout",
     "output_type": "stream",
     "text": [
      "Candidate:(tensor(137.9129), tensor(67.7701), tensor(49.9556))\n",
      "---Iteration 134\n",
      "New RGB Measurement: (63, 160, 49)\n",
      "Error:-146.98639392814562\n"
     ]
    },
    {
     "name": "stderr",
     "output_type": "stream",
     "text": [
      "/opt/homebrew/Caskroom/miniforge/base/envs/SDL4Kids/lib/python3.11/site-packages/botorch/models/utils/assorted.py:173: InputDataWarning: Input data is not contained to the unit cube. Please consider min-max scaling the input data.\n",
      "  warnings.warn(msg, InputDataWarning)\n",
      "/opt/homebrew/Caskroom/miniforge/base/envs/SDL4Kids/lib/python3.11/site-packages/botorch/models/utils/assorted.py:201: InputDataWarning: Input data is not standardized. Please consider scaling the input to zero mean and unit variance.\n",
      "  warnings.warn(msg, InputDataWarning)\n"
     ]
    },
    {
     "name": "stdout",
     "output_type": "stream",
     "text": [
      "Candidate:(tensor(137.9130), tensor(67.7701), tensor(49.9555))\n",
      "---Iteration 135\n",
      "New RGB Measurement: (63, 160, 49)\n",
      "Error:-146.98639392814562\n"
     ]
    },
    {
     "name": "stderr",
     "output_type": "stream",
     "text": [
      "/opt/homebrew/Caskroom/miniforge/base/envs/SDL4Kids/lib/python3.11/site-packages/botorch/models/utils/assorted.py:173: InputDataWarning: Input data is not contained to the unit cube. Please consider min-max scaling the input data.\n",
      "  warnings.warn(msg, InputDataWarning)\n",
      "/opt/homebrew/Caskroom/miniforge/base/envs/SDL4Kids/lib/python3.11/site-packages/botorch/models/utils/assorted.py:201: InputDataWarning: Input data is not standardized. Please consider scaling the input to zero mean and unit variance.\n",
      "  warnings.warn(msg, InputDataWarning)\n"
     ]
    },
    {
     "name": "stdout",
     "output_type": "stream",
     "text": [
      "Candidate:(tensor(137.9130), tensor(67.7698), tensor(49.9557))\n",
      "---Iteration 136\n",
      "New RGB Measurement: (63, 160, 49)\n",
      "Error:-146.98639392814562\n",
      "Candidate:(tensor(137.9129), tensor(67.7702), tensor(49.9552))\n"
     ]
    },
    {
     "name": "stderr",
     "output_type": "stream",
     "text": [
      "/opt/homebrew/Caskroom/miniforge/base/envs/SDL4Kids/lib/python3.11/site-packages/botorch/models/utils/assorted.py:173: InputDataWarning: Input data is not contained to the unit cube. Please consider min-max scaling the input data.\n",
      "  warnings.warn(msg, InputDataWarning)\n",
      "/opt/homebrew/Caskroom/miniforge/base/envs/SDL4Kids/lib/python3.11/site-packages/botorch/models/utils/assorted.py:201: InputDataWarning: Input data is not standardized. Please consider scaling the input to zero mean and unit variance.\n",
      "  warnings.warn(msg, InputDataWarning)\n"
     ]
    },
    {
     "name": "stdout",
     "output_type": "stream",
     "text": [
      "---Iteration 137\n",
      "New RGB Measurement: (63, 160, 49)\n",
      "Error:-146.98639392814562\n"
     ]
    },
    {
     "name": "stderr",
     "output_type": "stream",
     "text": [
      "/opt/homebrew/Caskroom/miniforge/base/envs/SDL4Kids/lib/python3.11/site-packages/botorch/models/utils/assorted.py:173: InputDataWarning: Input data is not contained to the unit cube. Please consider min-max scaling the input data.\n",
      "  warnings.warn(msg, InputDataWarning)\n",
      "/opt/homebrew/Caskroom/miniforge/base/envs/SDL4Kids/lib/python3.11/site-packages/botorch/models/utils/assorted.py:201: InputDataWarning: Input data is not standardized. Please consider scaling the input to zero mean and unit variance.\n",
      "  warnings.warn(msg, InputDataWarning)\n"
     ]
    },
    {
     "name": "stdout",
     "output_type": "stream",
     "text": [
      "Candidate:(tensor(137.9130), tensor(67.7692), tensor(49.9550))\n",
      "---Iteration 138\n",
      "New RGB Measurement: (63, 160, 49)\n",
      "Error:-146.98639392814562\n",
      "Candidate:(tensor(137.9128), tensor(67.7722), tensor(49.9559))\n"
     ]
    },
    {
     "name": "stderr",
     "output_type": "stream",
     "text": [
      "/opt/homebrew/Caskroom/miniforge/base/envs/SDL4Kids/lib/python3.11/site-packages/botorch/models/utils/assorted.py:173: InputDataWarning: Input data is not contained to the unit cube. Please consider min-max scaling the input data.\n",
      "  warnings.warn(msg, InputDataWarning)\n",
      "/opt/homebrew/Caskroom/miniforge/base/envs/SDL4Kids/lib/python3.11/site-packages/botorch/models/utils/assorted.py:201: InputDataWarning: Input data is not standardized. Please consider scaling the input to zero mean and unit variance.\n",
      "  warnings.warn(msg, InputDataWarning)\n"
     ]
    },
    {
     "name": "stdout",
     "output_type": "stream",
     "text": [
      "---Iteration 139\n",
      "New RGB Measurement: (63, 160, 49)\n",
      "Error:-146.98639392814562\n",
      "Candidate:(tensor(137.9128), tensor(67.7703), tensor(49.9553))\n"
     ]
    },
    {
     "name": "stderr",
     "output_type": "stream",
     "text": [
      "/opt/homebrew/Caskroom/miniforge/base/envs/SDL4Kids/lib/python3.11/site-packages/botorch/models/utils/assorted.py:173: InputDataWarning: Input data is not contained to the unit cube. Please consider min-max scaling the input data.\n",
      "  warnings.warn(msg, InputDataWarning)\n",
      "/opt/homebrew/Caskroom/miniforge/base/envs/SDL4Kids/lib/python3.11/site-packages/botorch/models/utils/assorted.py:201: InputDataWarning: Input data is not standardized. Please consider scaling the input to zero mean and unit variance.\n",
      "  warnings.warn(msg, InputDataWarning)\n"
     ]
    },
    {
     "name": "stdout",
     "output_type": "stream",
     "text": [
      "---Iteration 140\n",
      "New RGB Measurement: (63, 160, 49)\n",
      "Error:-146.98639392814562\n",
      "Candidate:(tensor(107.0558), tensor(97.0283), tensor(52.2657))\n"
     ]
    },
    {
     "name": "stderr",
     "output_type": "stream",
     "text": [
      "/opt/homebrew/Caskroom/miniforge/base/envs/SDL4Kids/lib/python3.11/site-packages/botorch/models/utils/assorted.py:173: InputDataWarning: Input data is not contained to the unit cube. Please consider min-max scaling the input data.\n",
      "  warnings.warn(msg, InputDataWarning)\n",
      "/opt/homebrew/Caskroom/miniforge/base/envs/SDL4Kids/lib/python3.11/site-packages/botorch/models/utils/assorted.py:201: InputDataWarning: Input data is not standardized. Please consider scaling the input to zero mean and unit variance.\n",
      "  warnings.warn(msg, InputDataWarning)\n"
     ]
    },
    {
     "name": "stdout",
     "output_type": "stream",
     "text": [
      "---Iteration 141\n",
      "New RGB Measurement: (63, 160, 49)\n",
      "Error:-146.98639392814562\n",
      "Candidate:(tensor(137.9129), tensor(67.7699), tensor(49.9558))\n"
     ]
    },
    {
     "name": "stderr",
     "output_type": "stream",
     "text": [
      "/opt/homebrew/Caskroom/miniforge/base/envs/SDL4Kids/lib/python3.11/site-packages/botorch/models/utils/assorted.py:173: InputDataWarning: Input data is not contained to the unit cube. Please consider min-max scaling the input data.\n",
      "  warnings.warn(msg, InputDataWarning)\n",
      "/opt/homebrew/Caskroom/miniforge/base/envs/SDL4Kids/lib/python3.11/site-packages/botorch/models/utils/assorted.py:201: InputDataWarning: Input data is not standardized. Please consider scaling the input to zero mean and unit variance.\n",
      "  warnings.warn(msg, InputDataWarning)\n"
     ]
    },
    {
     "name": "stdout",
     "output_type": "stream",
     "text": [
      "---Iteration 142\n",
      "New RGB Measurement: (63, 160, 49)\n",
      "Error:-146.98639392814562\n"
     ]
    },
    {
     "name": "stderr",
     "output_type": "stream",
     "text": [
      "/opt/homebrew/Caskroom/miniforge/base/envs/SDL4Kids/lib/python3.11/site-packages/botorch/models/utils/assorted.py:173: InputDataWarning: Input data is not contained to the unit cube. Please consider min-max scaling the input data.\n",
      "  warnings.warn(msg, InputDataWarning)\n",
      "/opt/homebrew/Caskroom/miniforge/base/envs/SDL4Kids/lib/python3.11/site-packages/botorch/models/utils/assorted.py:201: InputDataWarning: Input data is not standardized. Please consider scaling the input to zero mean and unit variance.\n",
      "  warnings.warn(msg, InputDataWarning)\n"
     ]
    },
    {
     "name": "stdout",
     "output_type": "stream",
     "text": [
      "Candidate:(tensor(137.9130), tensor(67.7702), tensor(49.9554))\n",
      "---Iteration 143\n",
      "New RGB Measurement: (84, 131, 53)\n",
      "Error:-114.9826073804208\n",
      "Candidate:(tensor(137.9221), tensor(67.8046), tensor(49.9362))\n"
     ]
    },
    {
     "name": "stderr",
     "output_type": "stream",
     "text": [
      "/opt/homebrew/Caskroom/miniforge/base/envs/SDL4Kids/lib/python3.11/site-packages/botorch/models/utils/assorted.py:173: InputDataWarning: Input data is not contained to the unit cube. Please consider min-max scaling the input data.\n",
      "  warnings.warn(msg, InputDataWarning)\n",
      "/opt/homebrew/Caskroom/miniforge/base/envs/SDL4Kids/lib/python3.11/site-packages/botorch/models/utils/assorted.py:201: InputDataWarning: Input data is not standardized. Please consider scaling the input to zero mean and unit variance.\n",
      "  warnings.warn(msg, InputDataWarning)\n"
     ]
    },
    {
     "name": "stdout",
     "output_type": "stream",
     "text": [
      "---Iteration 144\n",
      "New RGB Measurement: (63, 160, 49)\n",
      "Error:-146.98639392814562\n"
     ]
    },
    {
     "name": "stderr",
     "output_type": "stream",
     "text": [
      "/opt/homebrew/Caskroom/miniforge/base/envs/SDL4Kids/lib/python3.11/site-packages/botorch/models/utils/assorted.py:173: InputDataWarning: Input data is not contained to the unit cube. Please consider min-max scaling the input data.\n",
      "  warnings.warn(msg, InputDataWarning)\n",
      "/opt/homebrew/Caskroom/miniforge/base/envs/SDL4Kids/lib/python3.11/site-packages/botorch/models/utils/assorted.py:201: InputDataWarning: Input data is not standardized. Please consider scaling the input to zero mean and unit variance.\n",
      "  warnings.warn(msg, InputDataWarning)\n"
     ]
    },
    {
     "name": "stdout",
     "output_type": "stream",
     "text": [
      "Candidate:(tensor(137.9230), tensor(67.8077), tensor(49.9342))\n",
      "---Iteration 145\n",
      "New RGB Measurement: (63, 160, 49)\n",
      "Error:-146.98639392814562\n",
      "Candidate:(tensor(137.9229), tensor(67.8081), tensor(49.9339))\n"
     ]
    },
    {
     "name": "stderr",
     "output_type": "stream",
     "text": [
      "/opt/homebrew/Caskroom/miniforge/base/envs/SDL4Kids/lib/python3.11/site-packages/botorch/models/utils/assorted.py:173: InputDataWarning: Input data is not contained to the unit cube. Please consider min-max scaling the input data.\n",
      "  warnings.warn(msg, InputDataWarning)\n",
      "/opt/homebrew/Caskroom/miniforge/base/envs/SDL4Kids/lib/python3.11/site-packages/botorch/models/utils/assorted.py:201: InputDataWarning: Input data is not standardized. Please consider scaling the input to zero mean and unit variance.\n",
      "  warnings.warn(msg, InputDataWarning)\n"
     ]
    },
    {
     "name": "stdout",
     "output_type": "stream",
     "text": [
      "---Iteration 146\n",
      "New RGB Measurement: (63, 160, 49)\n",
      "Error:-146.98639392814562\n"
     ]
    },
    {
     "name": "stderr",
     "output_type": "stream",
     "text": [
      "/opt/homebrew/Caskroom/miniforge/base/envs/SDL4Kids/lib/python3.11/site-packages/botorch/models/utils/assorted.py:173: InputDataWarning: Input data is not contained to the unit cube. Please consider min-max scaling the input data.\n",
      "  warnings.warn(msg, InputDataWarning)\n",
      "/opt/homebrew/Caskroom/miniforge/base/envs/SDL4Kids/lib/python3.11/site-packages/botorch/models/utils/assorted.py:201: InputDataWarning: Input data is not standardized. Please consider scaling the input to zero mean and unit variance.\n",
      "  warnings.warn(msg, InputDataWarning)\n"
     ]
    },
    {
     "name": "stdout",
     "output_type": "stream",
     "text": [
      "Candidate:(tensor(137.9229), tensor(67.8081), tensor(49.9340))\n",
      "---Iteration 147\n",
      "New RGB Measurement: (63, 160, 49)\n",
      "Error:-146.98639392814562\n",
      "Candidate:(tensor(137.9229), tensor(67.8079), tensor(49.9339))\n"
     ]
    },
    {
     "name": "stderr",
     "output_type": "stream",
     "text": [
      "/opt/homebrew/Caskroom/miniforge/base/envs/SDL4Kids/lib/python3.11/site-packages/botorch/models/utils/assorted.py:173: InputDataWarning: Input data is not contained to the unit cube. Please consider min-max scaling the input data.\n",
      "  warnings.warn(msg, InputDataWarning)\n",
      "/opt/homebrew/Caskroom/miniforge/base/envs/SDL4Kids/lib/python3.11/site-packages/botorch/models/utils/assorted.py:201: InputDataWarning: Input data is not standardized. Please consider scaling the input to zero mean and unit variance.\n",
      "  warnings.warn(msg, InputDataWarning)\n"
     ]
    },
    {
     "name": "stdout",
     "output_type": "stream",
     "text": [
      "---Iteration 148\n",
      "New RGB Measurement: (63, 160, 49)\n",
      "Error:-146.98639392814562\n",
      "Candidate:(tensor(137.9229), tensor(67.8076), tensor(49.9341))\n"
     ]
    },
    {
     "name": "stderr",
     "output_type": "stream",
     "text": [
      "/opt/homebrew/Caskroom/miniforge/base/envs/SDL4Kids/lib/python3.11/site-packages/botorch/models/utils/assorted.py:173: InputDataWarning: Input data is not contained to the unit cube. Please consider min-max scaling the input data.\n",
      "  warnings.warn(msg, InputDataWarning)\n",
      "/opt/homebrew/Caskroom/miniforge/base/envs/SDL4Kids/lib/python3.11/site-packages/botorch/models/utils/assorted.py:201: InputDataWarning: Input data is not standardized. Please consider scaling the input to zero mean and unit variance.\n",
      "  warnings.warn(msg, InputDataWarning)\n"
     ]
    },
    {
     "name": "stdout",
     "output_type": "stream",
     "text": [
      "---Iteration 149\n",
      "New RGB Measurement: (62, 160, 49)\n",
      "Error:-147.58048651498612\n"
     ]
    },
    {
     "name": "stderr",
     "output_type": "stream",
     "text": [
      "/opt/homebrew/Caskroom/miniforge/base/envs/SDL4Kids/lib/python3.11/site-packages/botorch/models/utils/assorted.py:173: InputDataWarning: Input data is not contained to the unit cube. Please consider min-max scaling the input data.\n",
      "  warnings.warn(msg, InputDataWarning)\n",
      "/opt/homebrew/Caskroom/miniforge/base/envs/SDL4Kids/lib/python3.11/site-packages/botorch/models/utils/assorted.py:201: InputDataWarning: Input data is not standardized. Please consider scaling the input to zero mean and unit variance.\n",
      "  warnings.warn(msg, InputDataWarning)\n"
     ]
    },
    {
     "name": "stdout",
     "output_type": "stream",
     "text": [
      "Candidate:(tensor(107.1215), tensor(97.0138), tensor(52.1654))\n"
     ]
    },
    {
     "data": {
      "text/plain": [
       "-1"
      ]
     },
     "execution_count": 10,
     "metadata": {},
     "output_type": "execute_result"
    }
   ],
   "source": [
    "import random\n",
    "import numpy as np\n",
    "import cv2\n",
    "\n",
    "# Create a blank image\n",
    "width, height = 800, 400\n",
    "image = np.zeros((height, width, 3), dtype=np.uint8)\n",
    "\n",
    "# Create a named window for display\n",
    "cv2.namedWindow(\"Live Image\", cv2.WINDOW_NORMAL)\n",
    "cv2.startWindowThread()\n",
    "\n",
    "# Define font properties for displaying text\n",
    "font = cv2.FONT_HERSHEY_SIMPLEX\n",
    "font_scale = 0.8\n",
    "font_color = (255, 255, 255)  # White color\n",
    "\n",
    "# Define the goal color\n",
    "goal_color = (150, 150, 150)  # Goal color\n",
    "\n",
    "# Main loop\n",
    "max_iterations = 150  # Set the desired number of iterations\n",
    "\n",
    "# Let us set up a data table to record the data more structured\n",
    "samples = pd.DataFrame(columns=['R', 'G', 'B', 'error', 'ID'])\n",
    "\n",
    "candidate_color = [(0,0,0)] # Initial color\n",
    "\n",
    "for iteration in range(max_iterations):\n",
    "    print(f\"---Iteration {iteration}\")\n",
    "\n",
    "    # STEP 1: Synthesis\n",
    "    # Update the live image with the current color\n",
    "    image[:, :] = tuple(reversed(candidate_color))\n",
    "    \n",
    "    # Display the image\n",
    "    cv2.imshow(\"Live Image\", image)\n",
    "    \n",
    "    # STEP 2: Characterisation\n",
    "    \n",
    "    # Measure the color with the Microbit: We will do this eventually\n",
    "    rgb_measurement = characterise(wait=0.2)  \n",
    "    #rgb_measurement = (rgb_measurement[0]+np.random.normal(1),rgb_measurement[1]+np.random.normal(1),rgb_measurement[2]+np.random.normal(1))\n",
    "    \n",
    "    # STEP 3: Planning\n",
    "    \n",
    "    # Calculate the loss between the goal color and the current color\n",
    "    error = calculate_error(goal_color, rgb_measurement)\n",
    "    print(f\"Error:{error}\")\n",
    "\n",
    "    # Add the sample to the data table\n",
    "    new_sample = pd.DataFrame({\"R\":rgb_measurement[0], \"G\":rgb_measurement[1], \"B\":rgb_measurement[2], \"ID\":iteration, \"error\":error}, index=[iteration])\n",
    "    samples = pd.concat([samples, new_sample], axis=0, ignore_index=True)\n",
    "\n",
    "    candidate = calculate_candidate(samples)\n",
    "    candidate_color = (candidate['R'], candidate['G'], candidate['B'])\n",
    "    print(f\"Candidate:{candidate_color}\")\n",
    "    \n",
    "    # Add text information to the image\n",
    "    text = f\"Iteration: {iteration + 1}\"\n",
    "    cv2.putText(image, text, (10, 30), font, font_scale, font_color, 2)\n",
    "\n",
    "    # Plot a subplot for the goal color\n",
    "    # subplot_x = num_iterations * (width // (max_iterations + 1))\n",
    "    subplot_x = width // (max_iterations + 1)\n",
    "    subplot_width = 50\n",
    "    cv2.rectangle(image, (subplot_x, 60), (subplot_x + subplot_width, height - 60), goal_color, -1)\n",
    "\n",
    "    # Add text for the error\n",
    "    error_text = f\"Error: {error:.2f}\"\n",
    "    cv2.putText(image, error_text, (10, height - 10), font, font_scale, font_color, 2)\n",
    "\n",
    "    error_values = list(samples['error'].to_numpy())    # Draw the graph of error values\n",
    "    if len(error_values) > 1:\n",
    "        for i in range(1, len(error_values)):\n",
    "            x1 = (i - 1) * (width // max_iterations)\n",
    "            y1 = height - int(error_values[i - 1] * (height - 60) / max(error_values))\n",
    "            x2 = i * (width // max_iterations)\n",
    "            y2 = height - int(error_values[i] * (height - 60) / max(error_values))\n",
    "            cv2.line(image, (x1, y1), (x2, y2), (255, 255, 255), 2)\n",
    "\n",
    "    # Increment the iteration counter\n",
    "    cv2.imshow(\"Live Image\", image)\n",
    "    cv2.waitKey(200)  # Adjust the wait time (in milliseconds) as needed\n",
    "    \n",
    "# Close the window after the desired number of iterations\n",
    "cv2.waitKey(1)\n",
    "cv2.destroyAllWindows()\n",
    "cv2.waitKey(1)"
   ]
  },
  {
   "cell_type": "code",
   "execution_count": 11,
   "id": "668d00b7",
   "metadata": {
    "scrolled": false
   },
   "outputs": [
    {
     "data": {
      "text/plain": [
       "<matplotlib.legend.Legend at 0x28913bd10>"
      ]
     },
     "execution_count": 11,
     "metadata": {},
     "output_type": "execute_result"
    },
    {
     "data": {
      "image/png": "[encoded data removed]",
      "text/plain": [
       "<Figure size 640x480 with 1 Axes>"
      ]
     },
     "metadata": {},
     "output_type": "display_data"
    }
   ],
   "source": [
    "import matplotlib.pyplot as plt\n",
    "# Plot error for each iteration\n",
    "plt.scatter(range(len(error_values)), error_values, label=\"Error for each iteration\")\n",
    "\n",
    "# Calculate best error so far\n",
    "best_error_so_far = 1000\n",
    "best_errors = []\n",
    "for value in error_values:\n",
    "    if value < best_error_so_far:\n",
    "        best_error_so_far = value\n",
    "    best_errors.append(best_error_so_far)\n",
    "    \n",
    "# Plot best error so far\n",
    "plt.plot(best_errors, label=\"Best Error So Far\", color=\"orange\")\n",
    "plt.legend()"
   ]
  },
  {
   "cell_type": "code",
   "execution_count": null,
   "id": "80422ddc",
   "metadata": {},
   "outputs": [],
   "source": []
  },
  {
   "cell_type": "code",
   "execution_count": null,
   "id": "751e5f21",
   "metadata": {},
   "outputs": [],
   "source": [
    "samples"
   ]
  },
  {
   "cell_type": "code",
   "execution_count": null,
   "id": "392ae3d8",
   "metadata": {},
   "outputs": [],
   "source": [
    "list(samples['error'].to_numpy())"
   ]
  },
  {
   "cell_type": "code",
   "execution_count": null,
   "id": "4ec886f8",
   "metadata": {},
   "outputs": [],
   "source": []
  }
 ],
 "metadata": {
  "kernelspec": {
   "display_name": "SDL4Kids_kernel",
   "language": "python",
   "name": "sdl4kids_kernel"
  },
  "language_info": {
   "codemirror_mode": {
    "name": "ipython",
    "version": 3
   },
   "file_extension": ".py",
   "mimetype": "text/x-python",
   "name": "python",
   "nbconvert_exporter": "python",
   "pygments_lexer": "ipython3",
   "version": "3.11.4"
  }
 },
 "nbformat": 4,
 "nbformat_minor": 5
}
