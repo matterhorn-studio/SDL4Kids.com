{
 "cells": [
  {
   "cell_type": "markdown",
   "id": "7fadee20",
   "metadata": {
    "pycharm": {
     "name": "#%% md\n"
    }
   },
   "source": [
    "# Part D: Planning for your SDL (MacOS version)\n",
    "\n",
    "In this notebook, you will learn more about the third step of an SDL: Planning.\n",
    "\n",
    "Go to [sdl4kids.com](http://sdl4kids.com) for the Windows version.\n",
    "\n",
    "If you have any questions, check out the [FAQ](https://sites.google.com/matterhorn.studio/sdl4kids/faq)!"
   ]
  },
  {
   "cell_type": "markdown",
   "id": "7c546391",
   "metadata": {},
   "source": [
    "## Introduction\n",
    "\n",
    "We will look at different ways (\"search strategies\") to plan your experiment, i.e. selecting which color to try next:\n",
    "\n",
    "1. Random\n",
    "2. Grid\n",
    "3. Bayesian Optimisation\n",
    "\n",
    "We will introduce the microbit in section 4, so do not worry about it for the next 3 sections."
   ]
  },
  {
   "cell_type": "markdown",
   "id": "861537d0",
   "metadata": {},
   "source": [
    "## (1) Strategy: Random\n",
    "\n",
    "**Goal**: You will learn how to use a random search to find the best RGB combination.\n",
    "\n",
    "*Random* here means the same as throwing a die with 6 sides: Each side, 1 to 6, has an equal probability (1/6 = 16.6%) of occurence. \n",
    "\n",
    "With RGB colors, we essentially have three dice — one for each R, G and B — with each die having 256 sides, representing the numbers 0 to 255. Each side has equal probability.\n",
    "\n",
    "We will throw these three die to select the next RGB experiment. If we do that 100 times, many RGB colors will be far off our target color, but with a certain probability, some will get close."
   ]
  },
  {
   "cell_type": "code",
   "execution_count": 1,
   "id": "b3471f86",
   "metadata": {},
   "outputs": [],
   "source": [
    "import random\n",
    "import numpy as np\n",
    "import cv2\n",
    "\n",
    "# Function to generate random color\n",
    "def generate_random_color():\n",
    "    red = random.randint(0, 255)\n",
    "    green = random.randint(0, 255)\n",
    "    blue = random.randint(0, 255)\n",
    "    return red, green, blue  # OpenCV uses BGR color format\n",
    "\n",
    "# Function to calculate the error between two colors\n",
    "def calculate_error(color1, color2):\n",
    "    return np.sqrt((color1[0] - color2[0]) ** 2 + (color1[1] - color2[1]) ** 2 + (color1[2] - color2[2]) ** 2)"
   ]
  },
  {
   "cell_type": "code",
   "execution_count": 2,
   "id": "094f89ee",
   "metadata": {
    "pycharm": {
     "name": "#%%\n"
    }
   },
   "outputs": [
    {
     "data": {
      "text/plain": [
       "-1"
      ]
     },
     "execution_count": 2,
     "metadata": {},
     "output_type": "execute_result"
    }
   ],
   "source": [
    "\n",
    "# Create a blank image\n",
    "width, height = 800, 400\n",
    "image = np.zeros((height, width, 3), dtype=np.uint8)\n",
    "\n",
    "# Create a named window for display\n",
    "cv2.namedWindow(\"Live Image\", cv2.WINDOW_NORMAL)\n",
    "cv2.startWindowThread()\n",
    "\n",
    "# Define font properties for displaying text\n",
    "font = cv2.FONT_HERSHEY_SIMPLEX\n",
    "font_scale = 0.8\n",
    "font_color = (255, 255, 255)  # White color\n",
    "\n",
    "# Define the goal color\n",
    "goal_color = (255, 0, 0) \n",
    "\n",
    "# Create an empty list to store the error values\n",
    "error_values = []\n",
    "\n",
    "# Main loop\n",
    "max_iterations = 50  # Set the desired number of iterations\n",
    "\n",
    "candidate_color = (0,0,0) # Initial candidate\n",
    "\n",
    "for iteration in range(max_iterations):\n",
    "\n",
    "    # STEP 1: Synthesis\n",
    "    # Update the live image with the current color\n",
    "    image[:, :] = tuple(reversed(candidate_color))\n",
    "    \n",
    "    # Display the image\n",
    "    cv2.imshow(\"Live Image\", image)\n",
    "    \n",
    "    # STEP 2: Characterisation\n",
    "    \n",
    "    # Measure the color with the Microbit: We will do this eventually\n",
    "    #rgb_measurement = characterise()  \n",
    "    #rgb_measurement = tuple(reversed(rgb_measurement))\n",
    "    \n",
    "    # Measure the color by just pretending candidate_color being the measurement \n",
    "    rgb_measurement = candidate_color\n",
    "    \n",
    "    # STEP 3: Planning\n",
    "    \n",
    "    # Calculate the error between the goal color and the current color\n",
    "    error = calculate_error(goal_color, rgb_measurement)\n",
    "\n",
    "    # Add the loss value to the list\n",
    "    error_values.append(error)    \n",
    "\n",
    "    # Add text information to the image\n",
    "    text = f\"Iteration: {iteration + 1}\"\n",
    "    cv2.putText(image, text, (10, 30), font, font_scale, font_color, 2)\n",
    "\n",
    "    # Plot a subplot for the goal color\n",
    "    # subplot_x = num_iterations * (width // (max_iterations + 1))\n",
    "    subplot_x = width // (max_iterations + 1)\n",
    "    subplot_width = width // 50\n",
    "    cv2.rectangle(image, (subplot_x, 60), (subplot_x + subplot_width, height - 60), tuple(reversed(goal_color)), -1)\n",
    "\n",
    "    # Add text for the loss\n",
    "    error_text = f\"Loss: {error:.2f}\"\n",
    "    cv2.putText(image, error_text, (10, height - 10), font, font_scale, font_color, 2)\n",
    "\n",
    "    # Draw the graph of error values\n",
    "    if len(error_values) > 1:\n",
    "        for i in range(1, len(error_values)):\n",
    "            x1 = (i - 1) * (width // max_iterations)\n",
    "            y1 = height - int(error_values[i - 1] * (height - 60) / max(error_values))\n",
    "            x2 = i * (width // max_iterations)\n",
    "            y2 = height - int(error_values[i] * (height - 60) / max(error_values))\n",
    "            cv2.line(image, (x1, y1), (x2, y2), (255, 255, 255), 2)\n",
    "\n",
    "    # Increment the iteration counter\n",
    "    cv2.imshow(\"Live Image\", image)\n",
    "    cv2.waitKey(100)  # Adjust the wait time (in milliseconds) as needed\n",
    "    \n",
    "    # Generate a new candidate color, for now we will pick one randomly\n",
    "    candidate_color = generate_random_color()\n",
    "    \n",
    "# Close the window after the desired number of iterations\n",
    "cv2.waitKey(1)\n",
    "cv2.destroyAllWindows()\n",
    "cv2.waitKey(1)"
   ]
  },
  {
   "cell_type": "markdown",
   "id": "3fa245bb",
   "metadata": {},
   "source": [
    "We can now plot the error for each random RGB combination, and also a line for the best random color we have found so far."
   ]
  },
  {
   "cell_type": "code",
   "execution_count": 3,
   "id": "d9d1a198",
   "metadata": {
    "pycharm": {
     "name": "#%%\n"
    }
   },
   "outputs": [
    {
     "data": {
      "text/plain": [
       "<matplotlib.legend.Legend at 0x290794750>"
      ]
     },
     "execution_count": 3,
     "metadata": {},
     "output_type": "execute_result"
    },
    {
     "data": {
      "image/png": "[encoded data removed]",
      "text/plain": [
       "<Figure size 640x480 with 1 Axes>"
      ]
     },
     "metadata": {},
     "output_type": "display_data"
    }
   ],
   "source": [
    "import matplotlib.pyplot as plt\n",
    "# Plot error for each iteration\n",
    "plt.scatter(range(len(error_values)), error_values, label=\"Error for each iteration\")\n",
    "\n",
    "# Calculate best error so far\n",
    "best_error_so_far = 1000\n",
    "best_errors = []\n",
    "for value in error_values:\n",
    "    if value < best_error_so_far:\n",
    "        best_error_so_far = value\n",
    "    best_errors.append(best_error_so_far)\n",
    "    \n",
    "# Plot best error so far\n",
    "plt.plot(best_errors, label=\"Best Error So Far\", color=\"orange\")\n",
    "plt.legend()"
   ]
  },
  {
   "cell_type": "markdown",
   "id": "56d537bd",
   "metadata": {},
   "source": [
    "**Task**: Run the above script a few times. How do the errors change? What happens when you increase the number of iterations?"
   ]
  },
  {
   "cell_type": "markdown",
   "id": "9ea5f310",
   "metadata": {},
   "source": [
    "## (2) Strategy: Grid\n",
    "\n",
    "We will generate a 'grid' of RGB combinations, which we then measure and pick the best point.\n",
    "\n",
    "Image you want to cook the best pizza, but you don't know for how long you should put the pizza in the oven (e.g. at 200 Celsius). It is most likely somehwere between 10 and 15 minutes. If we have 6 pizzas, we can just put in a pizza for each 10, 11, 12, 13, 14 and 15 minutes and then test the taste. \n",
    "\n",
    "That's a grid: We have a lower (10) and upper (15) bound and a limited number of experiments we can run in between (6 pizzas). If we evenly space them, we get the following grid: 10, 11, 12, 13, 14, 15.\n",
    "\n",
    "For our SDL4Kids, we have 3 variables R, G and B instead of 'minutes in the oven'. For example, we can create a grid with 3 steps for each variable. That would be 3 * 3 * 3 = 27 experiments to run. The following code generates such a grid:"
   ]
  },
  {
   "cell_type": "code",
   "execution_count": 4,
   "id": "6e5ff7fa",
   "metadata": {},
   "outputs": [
    {
     "data": {
      "text/plain": [
       "[(0.0, 0.0, 0.0),\n",
       " (0.0, 0.0, 127.5),\n",
       " (0.0, 0.0, 255.0),\n",
       " (0.0, 127.5, 0.0),\n",
       " (0.0, 127.5, 127.5),\n",
       " (0.0, 127.5, 255.0),\n",
       " (0.0, 255.0, 0.0),\n",
       " (0.0, 255.0, 127.5),\n",
       " (0.0, 255.0, 255.0),\n",
       " (127.5, 0.0, 0.0),\n",
       " (127.5, 0.0, 127.5),\n",
       " (127.5, 0.0, 255.0),\n",
       " (127.5, 127.5, 0.0),\n",
       " (127.5, 127.5, 127.5),\n",
       " (127.5, 127.5, 255.0),\n",
       " (127.5, 255.0, 0.0),\n",
       " (127.5, 255.0, 127.5),\n",
       " (127.5, 255.0, 255.0),\n",
       " (255.0, 0.0, 0.0),\n",
       " (255.0, 0.0, 127.5),\n",
       " (255.0, 0.0, 255.0),\n",
       " (255.0, 127.5, 0.0),\n",
       " (255.0, 127.5, 127.5),\n",
       " (255.0, 127.5, 255.0),\n",
       " (255.0, 255.0, 0.0),\n",
       " (255.0, 255.0, 127.5),\n",
       " (255.0, 255.0, 255.0)]"
      ]
     },
     "execution_count": 4,
     "metadata": {},
     "output_type": "execute_result"
    }
   ],
   "source": [
    "grid_steps = 3\n",
    "red = np.linspace(0, 255, grid_steps)\n",
    "green = np.linspace(0, 255, grid_steps)\n",
    "blue = np.linspace(0, 255, grid_steps)\n",
    "\n",
    "grid_combinations = []\n",
    "for r in red:\n",
    "    for g in green:\n",
    "        for b in blue:\n",
    "            combination = (r,g,b)\n",
    "            grid_combinations.append(combination)\n",
    "grid_combinations"
   ]
  },
  {
   "cell_type": "markdown",
   "id": "f40acf9d",
   "metadata": {},
   "source": [
    "The following loop evaluates each grid combination:"
   ]
  },
  {
   "cell_type": "code",
   "execution_count": 5,
   "id": "aa9c0ae0",
   "metadata": {},
   "outputs": [
    {
     "data": {
      "text/plain": [
       "-1"
      ]
     },
     "execution_count": 5,
     "metadata": {},
     "output_type": "execute_result"
    }
   ],
   "source": [
    "import random\n",
    "import numpy as np\n",
    "import cv2\n",
    "\n",
    "# Create a blank image\n",
    "width, height = 800, 400\n",
    "image = np.zeros((height, width, 3), dtype=np.uint8)\n",
    "\n",
    "# Create a named window for display\n",
    "cv2.namedWindow(\"Live Image\", cv2.WINDOW_NORMAL)\n",
    "cv2.startWindowThread()\n",
    "\n",
    "# Define font properties for displaying text\n",
    "font = cv2.FONT_HERSHEY_SIMPLEX\n",
    "font_scale = 0.8\n",
    "font_color = (255, 255, 255)  # White color\n",
    "\n",
    "# Define the goal color\n",
    "goal_color = (255, 0, 0) \n",
    "\n",
    "# Create an empty list to store the loss values\n",
    "error_values = []\n",
    "\n",
    "# Main loop\n",
    "max_iterations = len(grid_combinations)  # Set the desired number of iterations\n",
    "\n",
    "candidate_color = grid_combinations[0]\n",
    "\n",
    "for iteration, grid_combination in enumerate(grid_combinations):\n",
    "    # STEP 1: Synthesis\n",
    "    # Update the live image with the current color\n",
    "    image[:, :] = tuple(reversed(candidate_color))\n",
    "    \n",
    "    # Display the image\n",
    "    cv2.imshow(\"Live Image\", image)\n",
    "    \n",
    "    # STEP 2: Characterisation\n",
    "    \n",
    "    # Measure the color with the Microbit: We will do this eventually\n",
    "    #rgb_measurement = characterise()  \n",
    "    #rgb_measurement = tuple(reversed(rgb_measurement))\n",
    "    \n",
    "    # Measure the color by just pretending candidate_color being the measurement \n",
    "    rgb_measurement = candidate_color\n",
    "    \n",
    "    # STEP 3: Planning\n",
    "    \n",
    "    # Calculate the loss between the goal color and the current color\n",
    "    error = calculate_error(goal_color, rgb_measurement)\n",
    "\n",
    "    # Add the loss value to the list\n",
    "    error_values.append(error)    \n",
    "\n",
    "    # Add text information to the image\n",
    "    text = f\"Iteration: {iteration + 1}\"\n",
    "    cv2.putText(image, text, (10, 30), font, font_scale, font_color, 2)\n",
    "\n",
    "    # Plot a subplot for the goal color\n",
    "    # subplot_x = num_iterations * (width // (max_iterations + 1))\n",
    "    subplot_x = width // (max_iterations + 1)\n",
    "    subplot_width = width // (max_iterations + 1)\n",
    "    cv2.rectangle(image, (subplot_x, 60), (subplot_x + subplot_width, height - 60), tuple(reversed(goal_color)), -1)\n",
    "\n",
    "    # Add text for the error\n",
    "    error_text = f\"Loss: {error:.2f}\"\n",
    "    cv2.putText(image, error_text, (10, height - 10), font, font_scale, font_color, 2)\n",
    "\n",
    "    # Draw the graph of error values\n",
    "    if len(error_values) > 1:\n",
    "        for i in range(1, len(error_values)):\n",
    "            x1 = (i - 1) * (width // max_iterations)\n",
    "            y1 = height - int(error_values[i - 1] * (height - 60) / max(error_values))\n",
    "            x2 = i * (width // max_iterations)\n",
    "            y2 = height - int(error_values[i] * (height - 60) / max(error_values))\n",
    "            cv2.line(image, (x1, y1), (x2, y2), (255, 255, 255), 2)\n",
    "\n",
    "    # Increment the iteration counter\n",
    "    cv2.imshow(\"Live Image\", image)\n",
    "    cv2.waitKey(50)  # Adjust the wait time (in milliseconds) as needed\n",
    "    \n",
    "    # Generate a new candidate color, for now we will pick one randomly\n",
    "    candidate_color = grid_combination\n",
    "    \n",
    "# Close the window after the desired number of iterations\n",
    "cv2.waitKey(1)\n",
    "cv2.destroyAllWindows()\n",
    "cv2.waitKey(1)"
   ]
  },
  {
   "cell_type": "markdown",
   "id": "785acab6",
   "metadata": {},
   "source": [
    "Let's plot the error values for each grid combination. Notice the pattern a grid creates."
   ]
  },
  {
   "cell_type": "code",
   "execution_count": 6,
   "id": "8a65d0a7",
   "metadata": {},
   "outputs": [
    {
     "data": {
      "text/plain": [
       "<matplotlib.legend.Legend at 0x290842390>"
      ]
     },
     "execution_count": 6,
     "metadata": {},
     "output_type": "execute_result"
    },
    {
     "data": {
      "image/png": "[encoded data removed]",
      "text/plain": [
       "<Figure size 640x480 with 1 Axes>"
      ]
     },
     "metadata": {},
     "output_type": "display_data"
    }
   ],
   "source": [
    "import matplotlib.pyplot as plt\n",
    "# Plot error for each iteration\n",
    "plt.scatter(range(len(error_values)), error_values, label=\"Error for each iteration\")\n",
    "\n",
    "# Calculate best error so far\n",
    "best_error_so_far = 1000\n",
    "best_errors = []\n",
    "for value in error_values:\n",
    "    if value < best_error_so_far:\n",
    "        best_error_so_far = value\n",
    "    best_errors.append(best_error_so_far)\n",
    "    \n",
    "# Plot best error so far\n",
    "plt.plot(best_errors, label=\"Best Error So Far\", color=\"orange\")\n",
    "plt.legend()"
   ]
  },
  {
   "cell_type": "markdown",
   "id": "92efdb47",
   "metadata": {},
   "source": [
    "**Question**: Which RGB combination was closest to our goal color?\n",
    "\n",
    "*Solution*: Check the loss graph for the combination with the smallest loss, i.e. it is closest to our goal color."
   ]
  },
  {
   "cell_type": "code",
   "execution_count": 7,
   "id": "6c12d631",
   "metadata": {},
   "outputs": [
    {
     "name": "stdout",
     "output_type": "stream",
     "text": [
      "The best candidate is iteration 18 with RGB=(255.0, 0.0, 0.0)\n"
     ]
    }
   ],
   "source": [
    "iteration_with_smallest_error = error_values.index(min(error_values))-1 # Index of the iteration with the smallest loss\n",
    "print(f\"The best candidate is iteration {iteration_with_smallest_error} with RGB={grid_combinations[iteration_with_smallest_error]}\")"
   ]
  },
  {
   "cell_type": "markdown",
   "id": "a3ce4463",
   "metadata": {
    "pycharm": {
     "name": "#%% md\n"
    }
   },
   "source": [
    "## (3) Strategy: Bayesian Optimisation \n",
    "\n",
    "The *random* strategy is a good baseline set ourselves as a standard to beat. If our search is not better than *random* then, we should just randomly experiment. With a *grid* search, we are more structured in our search, but the best experiment can still easily sleep in between the grid points.\n",
    "\n",
    "With **Bayesian Optimisation**, we build a statistical model for decision making, i.e. using statistics to steer our search. This model will represent the behaviour of our RGB color. In Material Science, it can for example represent the relationships between water content and concrete strength.\n",
    "\n",
    "We can ask this model for the next *most informative* combination to test, collect the data, update the model and repeat."
   ]
  },
  {
   "cell_type": "code",
   "execution_count": 8,
   "id": "eca1fa8c",
   "metadata": {},
   "outputs": [
    {
     "name": "stderr",
     "output_type": "stream",
     "text": [
      "/opt/homebrew/Caskroom/miniforge/base/envs/SDL4Kids/lib/python3.11/site-packages/tqdm/auto.py:21: TqdmWarning: IProgress not found. Please update jupyter and ipywidgets. See https://ipywidgets.readthedocs.io/en/stable/user_install.html\n",
      "  from .autonotebook import tqdm as notebook_tqdm\n"
     ]
    }
   ],
   "source": [
    "import torch\n",
    "from botorch.models import SingleTaskGP\n",
    "from botorch.fit import fit_gpytorch_mll\n",
    "from botorch.utils import standardize\n",
    "from gpytorch.mlls import ExactMarginalLogLikelihood\n",
    "from botorch.acquisition import UpperConfidenceBound\n",
    "from botorch.optim import optimize_acqf\n",
    "from botorch.models.transforms.input import Normalize\n",
    "from botorch.models.transforms.outcome import Standardize"
   ]
  },
  {
   "cell_type": "code",
   "execution_count": 9,
   "id": "c9c9e111",
   "metadata": {},
   "outputs": [],
   "source": [
    "import pandas as pd\n",
    "def calculate_candidate(samples):\n",
    "    train_X = samples[[\"R\",\"G\",\"B\"]]\n",
    "    train_Y = samples[[\"error\"]]\n",
    "\n",
    "    train_X = torch.tensor(train_X.to_numpy(dtype=np.float64))\n",
    "    train_Y = torch.tensor(-1*train_Y.to_numpy(dtype=np.float64))\n",
    "\n",
    "    gp = SingleTaskGP(train_X, train_Y, input_transform=Normalize(d=train_X.shape[-1]), outcome_transform=Standardize(m=train_Y.shape[-1]),)\n",
    "    mll = ExactMarginalLogLikelihood(gp.likelihood, gp)\n",
    "    fit_gpytorch_mll(mll)\n",
    "\n",
    "    from botorch.acquisition import UpperConfidenceBound\n",
    "    UCB = UpperConfidenceBound(gp, beta=0.1)\n",
    "    \n",
    "    from botorch.optim import optimize_acqf\n",
    "    bounds = torch.stack([torch.zeros(3), torch.ones(3)*255])\n",
    "    candidate, acq_value = optimize_acqf(\n",
    "        UCB, bounds=bounds, q=1, num_restarts=5, raw_samples=20,\n",
    "    )\n",
    "    candidate = candidate[0]\n",
    "    candidate = {\"R\": candidate[0], \"G\": candidate[1], \"B\": candidate[2]}\n",
    "    return candidate"
   ]
  },
  {
   "cell_type": "code",
   "execution_count": 10,
   "id": "35459665",
   "metadata": {},
   "outputs": [
    {
     "name": "stdout",
     "output_type": "stream",
     "text": [
      "---Iteration 0\n",
      "Synthesis:(0, 0, 0)\n",
      "Characterisation:(0, 0, 0)\n",
      "Error:255.0\n",
      "Planning: Candidate:(245.7991485595703, 144.47726440429688, 219.72628784179688)\n",
      "---Iteration 1\n",
      "Synthesis:(245.7991485595703, 144.47726440429688, 219.72628784179688)\n",
      "Characterisation:(245.7991485595703, 144.47726440429688, 219.72628784179688)\n",
      "Error:263.13110261942455\n"
     ]
    },
    {
     "name": "stderr",
     "output_type": "stream",
     "text": [
      "/opt/homebrew/Caskroom/miniforge/base/envs/SDL4Kids/lib/python3.11/site-packages/botorch/optim/initializers.py:403: BadInitialCandidatesWarning: Unable to find non-zero acquisition function values - initial conditions are being selected randomly.\n",
      "  warnings.warn(\n"
     ]
    },
    {
     "name": "stdout",
     "output_type": "stream",
     "text": [
      "Planning: Candidate:(31.554805755615234, 0.0, 0.0)\n",
      "---Iteration 2\n",
      "Synthesis:(31.554805755615234, 0.0, 0.0)\n",
      "Characterisation:(31.554805755615234, 0.0, 0.0)\n",
      "Error:223.44519424438477\n",
      "Planning: Candidate:(71.7242202758789, 0.0, 0.0)\n",
      "---Iteration 3\n",
      "Synthesis:(71.7242202758789, 0.0, 0.0)\n",
      "Characterisation:(71.7242202758789, 0.0, 0.0)\n",
      "Error:183.2757797241211\n",
      "Planning: Candidate:(107.66242980957031, 0.0, 0.0)\n",
      "---Iteration 4\n",
      "Synthesis:(107.66242980957031, 0.0, 0.0)\n",
      "Characterisation:(107.66242980957031, 0.0, 0.0)\n",
      "Error:147.3375701904297\n",
      "Planning: Candidate:(168.623779296875, 0.0, 0.0)\n",
      "---Iteration 5\n",
      "Synthesis:(168.623779296875, 0.0, 0.0)\n",
      "Characterisation:(168.623779296875, 0.0, 0.0)\n",
      "Error:86.376220703125\n",
      "Planning: Candidate:(255.0, 0.0, 0.0)\n",
      "---Iteration 6\n",
      "Synthesis:(255.0, 0.0, 0.0)\n",
      "Characterisation:(255.0, 0.0, 0.0)\n",
      "Error:0.0\n",
      "Planning: Candidate:(255.0, 7.691955089569092, 0.0)\n",
      "---Iteration 7\n",
      "Synthesis:(255.0, 7.691955089569092, 0.0)\n",
      "Characterisation:(255.0, 7.691955089569092, 0.0)\n",
      "Error:7.691955089569092\n",
      "Planning: Candidate:(255.0, 0.0, 0.0)\n",
      "---Iteration 8\n",
      "Synthesis:(255.0, 0.0, 0.0)\n",
      "Characterisation:(255.0, 0.0, 0.0)\n",
      "Error:0.0\n",
      "Planning: Candidate:(255.0, 0.0, 9.98031234741211)\n",
      "---Iteration 9\n",
      "Synthesis:(255.0, 0.0, 9.98031234741211)\n",
      "Characterisation:(255.0, 0.0, 9.98031234741211)\n",
      "Error:9.98031234741211\n",
      "Planning: Candidate:(255.0, 0.0, 0.0)\n",
      "---Iteration 10\n",
      "Synthesis:(255.0, 0.0, 0.0)\n",
      "Characterisation:(255.0, 0.0, 0.0)\n",
      "Error:0.0\n",
      "Planning: Candidate:(255.0, 0.0, 0.0)\n",
      "---Iteration 11\n",
      "Synthesis:(255.0, 0.0, 0.0)\n",
      "Characterisation:(255.0, 0.0, 0.0)\n",
      "Error:0.0\n",
      "Planning: Candidate:(255.0, 0.0, 0.0)\n",
      "---Iteration 12\n",
      "Synthesis:(255.0, 0.0, 0.0)\n",
      "Characterisation:(255.0, 0.0, 0.0)\n",
      "Error:0.0\n",
      "Planning: Candidate:(255.0, 0.0, 0.0)\n",
      "---Iteration 13\n",
      "Synthesis:(255.0, 0.0, 0.0)\n",
      "Characterisation:(255.0, 0.0, 0.0)\n",
      "Error:0.0\n",
      "Planning: Candidate:(255.0, 0.0, 0.0)\n",
      "---Iteration 14\n",
      "Synthesis:(255.0, 0.0, 0.0)\n",
      "Characterisation:(255.0, 0.0, 0.0)\n",
      "Error:0.0\n",
      "Planning: Candidate:(255.0, 0.0, 0.0)\n",
      "---Iteration 15\n",
      "Synthesis:(255.0, 0.0, 0.0)\n",
      "Characterisation:(255.0, 0.0, 0.0)\n",
      "Error:0.0\n",
      "Planning: Candidate:(255.0, 0.0, 0.0)\n",
      "---Iteration 16\n",
      "Synthesis:(255.0, 0.0, 0.0)\n",
      "Characterisation:(255.0, 0.0, 0.0)\n",
      "Error:0.0\n",
      "Planning: Candidate:(255.0, 0.0, 0.0)\n",
      "---Iteration 17\n",
      "Synthesis:(255.0, 0.0, 0.0)\n",
      "Characterisation:(255.0, 0.0, 0.0)\n",
      "Error:0.0\n",
      "Planning: Candidate:(255.0, 0.0, 0.0)\n",
      "---Iteration 18\n",
      "Synthesis:(255.0, 0.0, 0.0)\n",
      "Characterisation:(255.0, 0.0, 0.0)\n",
      "Error:0.0\n",
      "Planning: Candidate:(255.0, 0.0, 0.0)\n",
      "---Iteration 19\n",
      "Synthesis:(255.0, 0.0, 0.0)\n",
      "Characterisation:(255.0, 0.0, 0.0)\n",
      "Error:0.0\n",
      "Planning: Candidate:(255.0, 0.0, 0.0)\n",
      "---Iteration 20\n",
      "Synthesis:(255.0, 0.0, 0.0)\n",
      "Characterisation:(255.0, 0.0, 0.0)\n",
      "Error:0.0\n",
      "Planning: Candidate:(255.0, 0.0, 0.0)\n",
      "---Iteration 21\n",
      "Synthesis:(255.0, 0.0, 0.0)\n",
      "Characterisation:(255.0, 0.0, 0.0)\n",
      "Error:0.0\n",
      "Planning: Candidate:(255.0, 0.0, 0.0)\n",
      "---Iteration 22\n",
      "Synthesis:(255.0, 0.0, 0.0)\n",
      "Characterisation:(255.0, 0.0, 0.0)\n",
      "Error:0.0\n",
      "Planning: Candidate:(255.0, 0.0, 0.0)\n",
      "---Iteration 23\n",
      "Synthesis:(255.0, 0.0, 0.0)\n",
      "Characterisation:(255.0, 0.0, 0.0)\n",
      "Error:0.0\n",
      "Planning: Candidate:(255.0, 0.0, 0.0)\n",
      "---Iteration 24\n",
      "Synthesis:(255.0, 0.0, 0.0)\n",
      "Characterisation:(255.0, 0.0, 0.0)\n",
      "Error:0.0\n",
      "Planning: Candidate:(255.0, 0.0, 0.0)\n"
     ]
    },
    {
     "data": {
      "text/plain": [
       "-1"
      ]
     },
     "execution_count": 10,
     "metadata": {},
     "output_type": "execute_result"
    }
   ],
   "source": [
    "import random\n",
    "import numpy as np\n",
    "import cv2\n",
    "\n",
    "# Create a blank image\n",
    "width, height = 800, 400\n",
    "image = np.zeros((height, width, 3), dtype=np.uint8)\n",
    "\n",
    "# Create a named window for display\n",
    "cv2.namedWindow(\"Live Image\", cv2.WINDOW_NORMAL)\n",
    "cv2.startWindowThread()\n",
    "\n",
    "# Define font properties for displaying text\n",
    "font = cv2.FONT_HERSHEY_SIMPLEX\n",
    "font_scale = 0.8\n",
    "font_color = (255, 255, 255)  # White color\n",
    "\n",
    "# Define the goal color\n",
    "goal_color = (255,0,0) \n",
    "\n",
    "# Main loop\n",
    "max_iterations = 25  # Set the desired number of iterations\n",
    "\n",
    "# Let us set up a data table to record the data more structured\n",
    "samples = pd.DataFrame(columns=['R', 'G', 'B', 'error', 'ID'])\n",
    "\n",
    "candidate_color = (0,0,0) # Initial color\n",
    "\n",
    "for iteration in range(max_iterations):\n",
    "    print(f\"---Iteration {iteration}\")\n",
    "\n",
    "    # STEP 1: Synthesis\n",
    "    # Update the live image with the current color\n",
    "    print(f\"Synthesis:{candidate_color}\")\n",
    "    image[:, :] = tuple(reversed(candidate_color))\n",
    "    \n",
    "    # Display the image\n",
    "    cv2.imshow(\"Live Image\", image)\n",
    "    \n",
    "    # STEP 2: Characterisation\n",
    "    # Measure the color by just plugging it in\n",
    "    rgb_measurement = candidate_color\n",
    "    print(f\"Characterisation:{rgb_measurement}\")\n",
    "    \n",
    "    # STEP 3: Planning\n",
    "    # Calculate the loss between the goal color and the current color\n",
    "    error = calculate_error(goal_color, rgb_measurement)\n",
    "    print(f\"Error:{error}\")\n",
    "\n",
    "    # Add the sample to the data table\n",
    "    new_sample = pd.DataFrame({\"R\":rgb_measurement[0], \"G\":rgb_measurement[1], \"B\":rgb_measurement[2], \"ID\":iteration, \"error\":error}, index=[iteration])\n",
    "    samples = pd.concat([samples, new_sample], axis=0, ignore_index=True)\n",
    "\n",
    "    candidate = calculate_candidate(samples)\n",
    "    candidate_color = (candidate['R'].item(), candidate['G'].item(), candidate['B'].item())\n",
    "    print(f\"Planning: Candidate:{candidate_color}\")\n",
    "    \n",
    "    # Add text information to the image\n",
    "    text = f\"Iteration: {iteration + 1}\"\n",
    "    cv2.putText(image, text, (10, 30), font, font_scale, font_color, 2)\n",
    "\n",
    "    # Plot a subplot for the goal color\n",
    "    # subplot_x = num_iterations * (width // (max_iterations + 1))\n",
    "    subplot_x = width // (max_iterations + 1)\n",
    "    subplot_width = 50\n",
    "    cv2.rectangle(image, (subplot_x, 60), (subplot_x + subplot_width, height - 60), tuple(reversed(goal_color)), -1)\n",
    "\n",
    "    # Add text for the error\n",
    "    error_text = f\"Error: {error:.2f}\"\n",
    "    cv2.putText(image, error_text, (10, height - 10), font, font_scale, font_color, 2)\n",
    "\n",
    "    error_values = list(samples['error'].to_numpy())    # Draw the graph of error values\n",
    "    if len(error_values) > 1:\n",
    "        for i in range(1, len(error_values)):\n",
    "            x1 = (i - 1) * (width // max_iterations)\n",
    "            y1 = height - int(error_values[i - 1] * (height - 60) / max(error_values))\n",
    "            x2 = i * (width // max_iterations)\n",
    "            y2 = height - int(error_values[i] * (height - 60) / max(error_values))\n",
    "            cv2.line(image, (x1, y1), (x2, y2), (255, 255, 255), 2)\n",
    "\n",
    "    # Increment the iteration counter\n",
    "    cv2.imshow(\"Live Image\", image)\n",
    "    cv2.waitKey(100)  # Adjust the wait time (in milliseconds) as needed\n",
    "    \n",
    "# Close the window after the desired number of iterations\n",
    "cv2.waitKey(1)\n",
    "cv2.destroyAllWindows()\n",
    "cv2.waitKey(1)"
   ]
  },
  {
   "cell_type": "markdown",
   "id": "6eec95a3",
   "metadata": {},
   "source": [
    "Let's plot the error curve for Bayesian Optimisation. Notice how fast BO finds the best RGB combination. "
   ]
  },
  {
   "cell_type": "code",
   "execution_count": 11,
   "id": "385bdf25",
   "metadata": {
    "pycharm": {
     "name": "#%%\n"
    }
   },
   "outputs": [
    {
     "data": {
      "text/plain": [
       "<matplotlib.legend.Legend at 0x2908d0190>"
      ]
     },
     "execution_count": 11,
     "metadata": {},
     "output_type": "execute_result"
    },
    {
     "data": {
      "image/png": "[encoded data removed]",
      "text/plain": [
       "<Figure size 640x480 with 1 Axes>"
      ]
     },
     "metadata": {},
     "output_type": "display_data"
    }
   ],
   "source": [
    "import matplotlib.pyplot as plt\n",
    "# Plot error for each iteration\n",
    "plt.scatter(range(len(error_values)), error_values, label=\"Error for each iteration\")\n",
    "\n",
    "# Calculate best error so far\n",
    "best_error_so_far = 999999\n",
    "best_errors = []\n",
    "for value in error_values:\n",
    "    if value < best_error_so_far:\n",
    "        best_error_so_far = value\n",
    "    best_errors.append(best_error_so_far)\n",
    "    \n",
    "# Plot best error so far\n",
    "plt.plot(best_errors, label=\"Best Error So Far\", color=\"orange\")\n",
    "plt.legend()"
   ]
  },
  {
   "cell_type": "code",
   "execution_count": 12,
   "id": "7afabd55",
   "metadata": {},
   "outputs": [
    {
     "data": {
      "text/plain": [
       "<matplotlib.legend.Legend at 0x2a9370ad0>"
      ]
     },
     "execution_count": 12,
     "metadata": {},
     "output_type": "execute_result"
    },
    {
     "data": {
      "image/png": "[encoded data removed]",
      "text/plain": [
       "<Figure size 640x480 with 1 Axes>"
      ]
     },
     "metadata": {},
     "output_type": "display_data"
    }
   ],
   "source": [
    "import matplotlib.pyplot as plt\n",
    "# Plot error for each iteration\n",
    "plt.scatter(range(len(error_values)), error_values, label=\"Error for each iteration\")\n",
    "\n",
    "# Calculate best error so far\n",
    "best_error_so_far = 1000\n",
    "best_errors = []\n",
    "for value in error_values:\n",
    "    if value < best_error_so_far:\n",
    "        best_error_so_far = value\n",
    "    best_errors.append(best_error_so_far)\n",
    "    \n",
    "# Plot best error so far\n",
    "plt.plot(best_errors, label=\"Best Error So Far\", color=\"orange\")\n",
    "plt.plot(samples['R'], color='red')\n",
    "plt.plot(samples['G'], color='green')\n",
    "plt.plot(samples['B'], color='blue')\n",
    "plt.legend()"
   ]
  },
  {
   "cell_type": "markdown",
   "id": "078c8ad0",
   "metadata": {},
   "source": [
    "**Task**: Change the goal color and see if that makes a difference to the speed of Bayesian Optimisation.\n"
   ]
  },
  {
   "cell_type": "markdown",
   "id": "5f52544e",
   "metadata": {},
   "source": [
    "## (4) Bayesian Optimisation with Microbit measurements\n",
    "\n",
    "We will now use real measurements again to complete the full SDL setup.\n",
    "\n",
    "We have already look in detail how to do measurements with the microbit in the notebook Part-C on Characterisation. Make sure you have worked through that before."
   ]
  },
  {
   "cell_type": "code",
   "execution_count": 13,
   "id": "c12bbc4d",
   "metadata": {},
   "outputs": [],
   "source": [
    "import serial"
   ]
  },
  {
   "cell_type": "code",
   "execution_count": 14,
   "id": "0d5c33cc",
   "metadata": {},
   "outputs": [
    {
     "name": "stdout",
     "output_type": "stream",
     "text": [
      "\u001b[34m\u001b[43m/dev/cu.Bluetooth-Incoming-Port\u001b[m\u001b[m \u001b[34m\u001b[43m/dev/cu.ZeitlersBoseQC35II\u001b[m\u001b[m\r\n",
      "\u001b[34m\u001b[43m/dev/cu.RoastBeats\u001b[m\u001b[m              \u001b[34m\u001b[43m/dev/cu.usbmodem102\u001b[m\u001b[m\r\n"
     ]
    }
   ],
   "source": [
    "!ls /dev/cu.*"
   ]
  },
  {
   "cell_type": "code",
   "execution_count": 16,
   "id": "5a9d9e6f",
   "metadata": {},
   "outputs": [],
   "source": [
    "ser = serial.Serial()\n",
    "ser = serial.Serial(\"/dev/cu.usbmodem102\",115200, timeout=0.1)"
   ]
  },
  {
   "cell_type": "code",
   "execution_count": 17,
   "id": "b1fee44d",
   "metadata": {},
   "outputs": [],
   "source": [
    "import time\n",
    "def characterise(wait=0.5):\n",
    "    valid = False\n",
    "    while not valid:\n",
    "        try:\n",
    "            ser.flushInput()\n",
    "            ser.write(b\",\")\n",
    "            serial_data = str(ser.readline().decode('utf8')).rstrip()\n",
    "            rgb = tuple([int(value) for value in serial_data.split(\"-\")])\n",
    "            # Validate: Measurement needs three entries\n",
    "            if len(rgb) != 3:\n",
    "                print(f\"Measurement did not containt 3 RGB values:{rgb}\")\n",
    "                raise Exception()\n",
    "            # Validate: Measurements need to be between 0 and 255\n",
    "            if sum([0 <= x <= 255 for x in rgb]) != 3:\n",
    "                print(f\"Measurement outside valid range [0,255]:{rgb}\")\n",
    "                raise Exception()\n",
    "            valid = True\n",
    "        except Exception as e:\n",
    "            print(f\"Measurement invalid, will try again (error: {str(e)})\")\n",
    "    print(f\"New RGB Measurement: {rgb}\")\n",
    "    time.sleep(wait)\n",
    "    return rgb"
   ]
  },
  {
   "cell_type": "code",
   "execution_count": 18,
   "id": "7bd5e46d",
   "metadata": {},
   "outputs": [
    {
     "name": "stdout",
     "output_type": "stream",
     "text": [
      "Measurement did not containt 3 RGB values:(90, 9075)\n",
      "Measurement invalid, will try again (error: )\n",
      "New RGB Measurement: (9, 9, 75)\n"
     ]
    },
    {
     "data": {
      "text/plain": [
       "(9, 9, 75)"
      ]
     },
     "execution_count": 18,
     "metadata": {},
     "output_type": "execute_result"
    }
   ],
   "source": [
    "characterise()"
   ]
  },
  {
   "cell_type": "code",
   "execution_count": 19,
   "id": "8b9dfe13",
   "metadata": {},
   "outputs": [],
   "source": [
    "import torch\n",
    "from botorch.models import SingleTaskGP\n",
    "from botorch.fit import fit_gpytorch_mll\n",
    "from botorch.utils import standardize\n",
    "from gpytorch.mlls import ExactMarginalLogLikelihood\n",
    "from botorch.acquisition import UpperConfidenceBound\n",
    "from botorch.optim import optimize_acqf\n",
    "from botorch.models.transforms.input import Normalize\n",
    "from botorch.models.transforms.outcome import Standardize"
   ]
  },
  {
   "cell_type": "code",
   "execution_count": 20,
   "id": "8ffb3fba",
   "metadata": {},
   "outputs": [],
   "source": [
    "import pandas as pd\n",
    "def calculate_candidate(samples):\n",
    "    train_X = samples[[\"R\",\"G\",\"B\"]]\n",
    "    train_Y = samples[[\"error\"]]\n",
    "\n",
    "    train_X = torch.tensor(train_X.to_numpy(dtype=np.float64))\n",
    "    train_Y = torch.tensor(-1*train_Y.to_numpy(dtype=np.float64))\n",
    "\n",
    "    gp = SingleTaskGP(train_X, train_Y, input_transform=Normalize(d=train_X.shape[-1]), outcome_transform=Standardize(m=train_Y.shape[-1]),)\n",
    "    mll = ExactMarginalLogLikelihood(gp.likelihood, gp)\n",
    "    fit_gpytorch_mll(mll)\n",
    "\n",
    "    from botorch.acquisition import UpperConfidenceBound\n",
    "    UCB = UpperConfidenceBound(gp, beta=0.1)\n",
    "    \n",
    "    from botorch.optim import optimize_acqf\n",
    "    bounds = torch.stack([torch.zeros(3), torch.ones(3)*255])\n",
    "    candidate, acq_value = optimize_acqf(\n",
    "        UCB, bounds=bounds, q=1, num_restarts=5, raw_samples=20,\n",
    "    )\n",
    "    candidate = candidate[0]\n",
    "    candidate = {\"R\": candidate[0], \"G\": candidate[1], \"B\": candidate[2]}\n",
    "    return candidate"
   ]
  },
  {
   "cell_type": "code",
   "execution_count": 23,
   "id": "7a2caa88",
   "metadata": {},
   "outputs": [
    {
     "name": "stdout",
     "output_type": "stream",
     "text": [
      "---Iteration 0\n",
      "Synthesis:(0, 0, 0)\n",
      "New RGB Measurement: (91, 89, 75)\n",
      "Characterisation:(91, 89, 75)\n",
      "Error:201.10196418732463\n",
      "Planning: Candidate:(4.335215091705322, 3.378049612045288, 128.1900177001953)\n",
      "---Iteration 1\n",
      "Synthesis:(4.335215091705322, 3.378049612045288, 128.1900177001953)\n",
      "New RGB Measurement: (91, 89, 75)\n",
      "Characterisation:(91, 89, 75)\n",
      "Error:201.10196418732463\n",
      "Planning: Candidate:(213.17971801757812, 84.15338897705078, 12.819803237915039)\n",
      "---Iteration 2\n",
      "Synthesis:(213.17971801757812, 84.15338897705078, 12.819803237915039)\n",
      "New RGB Measurement: (88, 90, 81)\n"
     ]
    },
    {
     "name": "stderr",
     "output_type": "stream",
     "text": [
      "/opt/homebrew/Caskroom/miniforge/base/envs/SDL4Kids/lib/python3.11/site-packages/botorch/models/utils/assorted.py:201: InputDataWarning: Input data is not standardized. Please consider scaling the input to zero mean and unit variance.\n",
      "  warnings.warn(msg, InputDataWarning)\n",
      "/opt/homebrew/Caskroom/miniforge/base/envs/SDL4Kids/lib/python3.11/site-packages/botorch/optim/initializers.py:403: BadInitialCandidatesWarning: Unable to find non-zero acquisition function values - initial conditions are being selected randomly.\n",
      "  warnings.warn(\n"
     ]
    },
    {
     "name": "stdout",
     "output_type": "stream",
     "text": [
      "Characterisation:(88, 90, 81)\n",
      "Error:206.27651344736267\n",
      "Planning: Candidate:(128.8454132080078, 71.06787109375, 52.394317626953125)\n",
      "---Iteration 3\n",
      "Synthesis:(128.8454132080078, 71.06787109375, 52.394317626953125)\n",
      "New RGB Measurement: (88, 90, 81)\n"
     ]
    },
    {
     "name": "stderr",
     "output_type": "stream",
     "text": [
      "/opt/homebrew/Caskroom/miniforge/base/envs/SDL4Kids/lib/python3.11/site-packages/botorch/optim/initializers.py:403: BadInitialCandidatesWarning: Unable to find non-zero acquisition function values - initial conditions are being selected randomly.\n",
      "  warnings.warn(\n"
     ]
    },
    {
     "name": "stdout",
     "output_type": "stream",
     "text": [
      "Characterisation:(88, 90, 81)\n",
      "Error:206.27651344736267\n",
      "Planning: Candidate:(100.14208221435547, 86.8585205078125, 55.13981246948242)\n",
      "---Iteration 4\n",
      "Synthesis:(100.14208221435547, 86.8585205078125, 55.13981246948242)\n",
      "New RGB Measurement: (136, 53, 76)\n",
      "Characterisation:(136, 53, 76)\n",
      "Error:150.8177708361982\n",
      "Planning: Candidate:(227.45513916015625, 75.11478424072266, 47.91801452636719)\n",
      "---Iteration 5\n",
      "Synthesis:(227.45513916015625, 75.11478424072266, 47.91801452636719)\n",
      "New RGB Measurement: (163, 62, 44)\n",
      "Characterisation:(163, 62, 44)\n",
      "Error:119.34822998268554\n",
      "Planning: Candidate:(161.09483337402344, 60.19144821166992, 47.41000747680664)\n",
      "---Iteration 6\n",
      "Synthesis:(161.09483337402344, 60.19144821166992, 47.41000747680664)\n",
      "New RGB Measurement: (125, 84, 54)\n",
      "Characterisation:(125, 84, 54)\n",
      "Error:163.92681293796937\n",
      "Planning: Candidate:(162.0243377685547, 60.0987548828125, 46.708831787109375)\n",
      "---Iteration 7\n",
      "Synthesis:(162.0243377685547, 60.0987548828125, 46.708831787109375)\n",
      "New RGB Measurement: (125, 84, 54)\n",
      "Characterisation:(125, 84, 54)\n",
      "Error:163.92681293796937\n",
      "Planning: Candidate:(162.03326416015625, 60.1082649230957, 46.69485855102539)\n",
      "---Iteration 8\n",
      "Synthesis:(162.03326416015625, 60.1082649230957, 46.69485855102539)\n",
      "New RGB Measurement: (185, 46, 37)\n",
      "Characterisation:(185, 46, 37)\n",
      "Error:91.56964562561112\n",
      "Planning: Candidate:(185.06210327148438, 48.953006744384766, 35.14006042480469)\n",
      "---Iteration 9\n",
      "Synthesis:(185.06210327148438, 48.953006744384766, 35.14006042480469)\n",
      "New RGB Measurement: (174, 51, 43)\n",
      "Characterisation:(174, 51, 43)\n",
      "Error:104.93331215586402\n",
      "Planning: Candidate:(191.17202758789062, 45.704376220703125, 31.740943908691406)\n",
      "---Iteration 10\n",
      "Synthesis:(191.17202758789062, 45.704376220703125, 31.740943908691406)\n",
      "New RGB Measurement: (166, 56, 47)\n",
      "Characterisation:(166, 56, 47)\n",
      "Error:115.17812292271479\n",
      "Planning: Candidate:(195.4674072265625, 42.87322998046875, 30.86479377746582)\n",
      "---Iteration 11\n",
      "Synthesis:(195.4674072265625, 42.87322998046875, 30.86479377746582)\n",
      "New RGB Measurement: (186, 45, 40)\n",
      "Characterisation:(186, 45, 40)\n",
      "Error:91.57510578754469\n",
      "Planning: Candidate:(200.76019287109375, 40.464786529541016, 34.51398468017578)\n",
      "---Iteration 12\n",
      "Synthesis:(200.76019287109375, 40.464786529541016, 34.51398468017578)\n",
      "New RGB Measurement: (197, 38, 36)\n",
      "Characterisation:(197, 38, 36)\n",
      "Error:78.12809993849844\n",
      "Planning: Candidate:(215.0334930419922, 28.899681091308594, 31.299959182739258)\n",
      "---Iteration 13\n",
      "Synthesis:(215.0334930419922, 28.899681091308594, 31.299959182739258)\n",
      "New RGB Measurement: (197, 38, 36)\n",
      "Characterisation:(197, 38, 36)\n",
      "Error:78.12809993849844\n",
      "Planning: Candidate:(215.04275512695312, 28.881532669067383, 31.30142593383789)\n",
      "---Iteration 14\n",
      "Synthesis:(215.04275512695312, 28.881532669067383, 31.30142593383789)\n",
      "New RGB Measurement: (200, 36, 35)\n",
      "Characterisation:(200, 36, 35)\n",
      "Error:74.47147104764348\n",
      "Planning: Candidate:(224.6260223388672, 23.765308380126953, 28.818504333496094)\n",
      "---Iteration 15\n",
      "Synthesis:(224.6260223388672, 23.765308380126953, 28.818504333496094)\n",
      "New RGB Measurement: (204, 34, 35)\n",
      "Characterisation:(204, 34, 35)\n",
      "Error:70.58328414008518\n",
      "Planning: Candidate:(234.90267944335938, 22.18299674987793, 30.78006935119629)\n",
      "---Iteration 16\n",
      "Synthesis:(234.90267944335938, 22.18299674987793, 30.78006935119629)\n",
      "New RGB Measurement: (208, 30, 33)\n",
      "Characterisation:(208, 30, 33)\n",
      "Error:64.79197481170026\n",
      "Planning: Candidate:(237.68389892578125, 15.832664489746094, 28.23984146118164)\n",
      "---Iteration 17\n",
      "Synthesis:(237.68389892578125, 15.832664489746094, 28.23984146118164)\n",
      "New RGB Measurement: (210, 30, 33)\n",
      "Characterisation:(210, 30, 33)\n",
      "Error:63.35613624582863\n",
      "Planning: Candidate:(246.03182983398438, 17.634469985961914, 27.34861946105957)\n",
      "---Iteration 18\n",
      "Synthesis:(246.03182983398438, 17.634469985961914, 27.34861946105957)\n",
      "New RGB Measurement: (210, 29, 32)\n",
      "Characterisation:(210, 29, 32)\n",
      "Error:62.369864518050704\n",
      "Planning: Candidate:(246.3705291748047, 16.758045196533203, 25.444189071655273)\n",
      "---Iteration 19\n",
      "Synthesis:(246.3705291748047, 16.758045196533203, 25.444189071655273)\n",
      "New RGB Measurement: (212, 28, 31)\n",
      "Characterisation:(212, 28, 31)\n",
      "Error:59.94997914928745\n",
      "Planning: Candidate:(248.91075134277344, 16.29564666748047, 22.216739654541016)\n",
      "---Iteration 20\n",
      "Synthesis:(248.91075134277344, 16.29564666748047, 22.216739654541016)\n",
      "New RGB Measurement: (213, 28, 31)\n",
      "Characterisation:(213, 28, 31)\n",
      "Error:59.23681287847955\n",
      "Planning: Candidate:(251.8224639892578, 16.9511775970459, 21.7268009185791)\n",
      "---Iteration 21\n",
      "Synthesis:(251.8224639892578, 16.9511775970459, 21.7268009185791)\n",
      "New RGB Measurement: (213, 27, 31)\n",
      "Characterisation:(213, 27, 31)\n",
      "Error:58.770741019660456\n",
      "Planning: Candidate:(252.24887084960938, 15.131382942199707, 21.691099166870117)\n",
      "---Iteration 22\n",
      "Synthesis:(252.24887084960938, 15.131382942199707, 21.691099166870117)\n",
      "New RGB Measurement: (214, 28, 30)\n",
      "Characterisation:(214, 28, 30)\n",
      "Error:58.008620049092706\n",
      "Planning: Candidate:(253.47705078125, 16.45347785949707, 20.119802474975586)\n",
      "---Iteration 23\n",
      "Synthesis:(253.47705078125, 16.45347785949707, 20.119802474975586)\n",
      "New RGB Measurement: (214, 28, 30)\n",
      "Characterisation:(214, 28, 30)\n",
      "Error:58.008620049092706\n",
      "Planning: Candidate:(253.67584228515625, 16.742290496826172, 19.822694778442383)\n",
      "---Iteration 24\n",
      "Synthesis:(253.67584228515625, 16.742290496826172, 19.822694778442383)\n",
      "New RGB Measurement: (214, 28, 30)\n",
      "Characterisation:(214, 28, 30)\n",
      "Error:58.008620049092706\n",
      "Planning: Candidate:(254.13455200195312, 16.811494827270508, 19.766326904296875)\n",
      "---Iteration 25\n",
      "Synthesis:(254.13455200195312, 16.811494827270508, 19.766326904296875)\n",
      "New RGB Measurement: (214, 27, 31)\n",
      "Characterisation:(214, 27, 31)\n",
      "Error:58.06031346797914\n",
      "Planning: Candidate:(255.0, 16.07065773010254, 20.014217376708984)\n",
      "---Iteration 26\n",
      "Synthesis:(255.0, 16.07065773010254, 20.014217376708984)\n",
      "New RGB Measurement: (213, 28, 31)\n",
      "Characterisation:(213, 28, 31)\n",
      "Error:59.23681287847955\n",
      "Planning: Candidate:(254.34967041015625, 16.567848205566406, 20.245847702026367)\n",
      "---Iteration 27\n",
      "Synthesis:(254.34967041015625, 16.567848205566406, 20.245847702026367)\n",
      "New RGB Measurement: (213, 28, 30)\n",
      "Characterisation:(213, 28, 30)\n",
      "Error:58.71967302361279\n",
      "Planning: Candidate:(255.0, 15.964753150939941, 19.97313117980957)\n",
      "---Iteration 28\n",
      "Synthesis:(255.0, 15.964753150939941, 19.97313117980957)\n",
      "New RGB Measurement: (214, 28, 30)\n",
      "Characterisation:(214, 28, 30)\n",
      "Error:58.008620049092706\n",
      "Planning: Candidate:(255.0, 16.026809692382812, 19.9165096282959)\n",
      "---Iteration 29\n",
      "Synthesis:(255.0, 16.026809692382812, 19.9165096282959)\n",
      "New RGB Measurement: (213, 28, 30)\n",
      "Characterisation:(213, 28, 30)\n",
      "Error:58.71967302361279\n",
      "Planning: Candidate:(254.98574829101562, 16.515281677246094, 20.118759155273438)\n",
      "---Iteration 30\n",
      "Synthesis:(254.98574829101562, 16.515281677246094, 20.118759155273438)\n",
      "New RGB Measurement: (213, 28, 30)\n",
      "Characterisation:(213, 28, 30)\n",
      "Error:58.71967302361279\n",
      "Planning: Candidate:(255.0, 15.946218490600586, 19.89779281616211)\n",
      "---Iteration 31\n",
      "Synthesis:(255.0, 15.946218490600586, 19.89779281616211)\n",
      "New RGB Measurement: (214, 28, 30)\n",
      "Characterisation:(214, 28, 30)\n",
      "Error:58.008620049092706\n",
      "Planning: Candidate:(255.0, 16.489011764526367, 20.028961181640625)\n",
      "---Iteration 32\n",
      "Synthesis:(255.0, 16.489011764526367, 20.028961181640625)\n",
      "New RGB Measurement: (214, 28, 30)\n",
      "Characterisation:(214, 28, 30)\n",
      "Error:58.008620049092706\n",
      "Planning: Candidate:(255.0, 16.017446517944336, 19.866613388061523)\n",
      "---Iteration 33\n",
      "Synthesis:(255.0, 16.017446517944336, 19.866613388061523)\n",
      "New RGB Measurement: (213, 28, 30)\n",
      "Characterisation:(213, 28, 30)\n",
      "Error:58.71967302361279\n",
      "Planning: Candidate:(254.48841857910156, 15.591551780700684, 21.056732177734375)\n",
      "---Iteration 34\n",
      "Synthesis:(254.48841857910156, 15.591551780700684, 21.056732177734375)\n",
      "New RGB Measurement: (214, 27, 30)\n",
      "Characterisation:(214, 27, 30)\n",
      "Error:57.532599454570104\n",
      "Planning: Candidate:(254.55718994140625, 15.06475830078125, 20.77227020263672)\n",
      "---Iteration 35\n",
      "Synthesis:(254.55718994140625, 15.06475830078125, 20.77227020263672)\n",
      "New RGB Measurement: (214, 27, 30)\n",
      "Characterisation:(214, 27, 30)\n",
      "Error:57.532599454570104\n",
      "Planning: Candidate:(254.6461181640625, 14.688386917114258, 20.575586318969727)\n",
      "---Iteration 36\n",
      "Synthesis:(254.6461181640625, 14.688386917114258, 20.575586318969727)\n",
      "New RGB Measurement: (214, 27, 30)\n"
     ]
    },
    {
     "name": "stdout",
     "output_type": "stream",
     "text": [
      "Characterisation:(214, 27, 30)\n",
      "Error:57.532599454570104\n",
      "Planning: Candidate:(254.7456512451172, 14.395864486694336, 20.425128936767578)\n",
      "---Iteration 37\n",
      "Synthesis:(254.7456512451172, 14.395864486694336, 20.425128936767578)\n",
      "New RGB Measurement: (213, 28, 30)\n",
      "Characterisation:(213, 28, 30)\n",
      "Error:58.71967302361279\n",
      "Planning: Candidate:(255.0, 14.32763385772705, 20.40697479248047)\n",
      "---Iteration 38\n",
      "Synthesis:(255.0, 14.32763385772705, 20.40697479248047)\n",
      "New RGB Measurement: (213, 28, 30)\n",
      "Characterisation:(213, 28, 30)\n",
      "Error:58.71967302361279\n",
      "Planning: Candidate:(255.0, 15.370767593383789, 19.400426864624023)\n",
      "---Iteration 39\n",
      "Synthesis:(255.0, 15.370767593383789, 19.400426864624023)\n",
      "New RGB Measurement: (213, 28, 30)\n",
      "Characterisation:(213, 28, 30)\n",
      "Error:58.71967302361279\n",
      "Planning: Candidate:(255.0, 15.325704574584961, 19.373088836669922)\n",
      "---Iteration 40\n",
      "Synthesis:(255.0, 15.325704574584961, 19.373088836669922)\n",
      "New RGB Measurement: (213, 27, 31)\n",
      "Characterisation:(213, 27, 31)\n",
      "Error:58.770741019660456\n",
      "Planning: Candidate:(255.0, 255.0, 255.0)\n",
      "---Iteration 41\n",
      "Synthesis:(255.0, 255.0, 255.0)\n",
      "New RGB Measurement: (213, 27, 31)\n",
      "Characterisation:(213, 27, 31)\n",
      "Error:58.770741019660456\n",
      "Planning: Candidate:(255.0, 15.184700012207031, 19.277278900146484)\n",
      "---Iteration 42\n",
      "Synthesis:(255.0, 15.184700012207031, 19.277278900146484)\n",
      "New RGB Measurement: (213, 27, 30)\n",
      "Characterisation:(213, 27, 30)\n",
      "Error:58.249463516842795\n",
      "Planning: Candidate:(255.0, 14.670554161071777, 19.263185501098633)\n",
      "---Iteration 43\n",
      "Synthesis:(255.0, 14.670554161071777, 19.263185501098633)\n",
      "New RGB Measurement: (123, 73, 62)\n",
      "Characterisation:(123, 73, 62)\n",
      "Error:163.08586695357755\n",
      "Planning: Candidate:(255.0, 13.67313289642334, 19.093032836914062)\n",
      "---Iteration 44\n",
      "Synthesis:(255.0, 13.67313289642334, 19.093032836914062)\n",
      "New RGB Measurement: (117, 76, 64)\n",
      "Characterisation:(117, 76, 64)\n",
      "Error:170.0470523119998\n",
      "Planning: Candidate:(255.0, 12.248862266540527, 19.636783599853516)\n",
      "---Iteration 45\n",
      "Synthesis:(255.0, 12.248862266540527, 19.636783599853516)\n",
      "New RGB Measurement: (213, 28, 31)\n",
      "Characterisation:(213, 28, 31)\n",
      "Error:59.23681287847955\n",
      "Planning: Candidate:(255.0, 13.498958587646484, 18.411144256591797)\n",
      "---Iteration 46\n",
      "Synthesis:(255.0, 13.498958587646484, 18.411144256591797)\n",
      "New RGB Measurement: (213, 28, 31)\n",
      "Characterisation:(213, 28, 31)\n",
      "Error:59.23681287847955\n",
      "Planning: Candidate:(255.0, 13.449837684631348, 18.349504470825195)\n",
      "---Iteration 47\n",
      "Synthesis:(255.0, 13.449837684631348, 18.349504470825195)\n",
      "New RGB Measurement: (214, 27, 30)\n",
      "Characterisation:(214, 27, 30)\n",
      "Error:57.532599454570104\n",
      "Planning: Candidate:(255.0, 13.289612770080566, 18.25520896911621)\n",
      "---Iteration 48\n",
      "Synthesis:(255.0, 13.289612770080566, 18.25520896911621)\n",
      "New RGB Measurement: (214, 27, 30)\n",
      "Characterisation:(214, 27, 30)\n",
      "Error:57.532599454570104\n",
      "Planning: Candidate:(255.0, 11.71032428741455, 19.24555015563965)\n",
      "---Iteration 49\n",
      "Synthesis:(255.0, 11.71032428741455, 19.24555015563965)\n",
      "New RGB Measurement: (214, 27, 30)\n",
      "Characterisation:(214, 27, 30)\n",
      "Error:57.532599454570104\n",
      "Planning: Candidate:(255.0, 13.024039268493652, 18.089370727539062)\n"
     ]
    },
    {
     "data": {
      "text/plain": [
       "-1"
      ]
     },
     "execution_count": 23,
     "metadata": {},
     "output_type": "execute_result"
    }
   ],
   "source": [
    "import random\n",
    "import numpy as np\n",
    "import cv2\n",
    "\n",
    "# Create a blank image\n",
    "width, height = 800, 400\n",
    "image = np.zeros((height, width, 3), dtype=np.uint8)\n",
    "\n",
    "# Create a named window for display\n",
    "cv2.namedWindow(\"Live Image\", cv2.WINDOW_NORMAL)\n",
    "cv2.startWindowThread()\n",
    "\n",
    "# Define font properties for displaying text\n",
    "font = cv2.FONT_HERSHEY_SIMPLEX\n",
    "font_scale = 0.8\n",
    "font_color = (255, 255, 255)  # White color\n",
    "\n",
    "# Define the goal color\n",
    "goal_color = (255,0,0) \n",
    "\n",
    "# Main loop\n",
    "max_iterations = 50  # Set the desired number of iterations\n",
    "\n",
    "# Let us set up a data table to record the data more structured\n",
    "samples = pd.DataFrame(columns=['R', 'G', 'B', 'error', 'ID'])\n",
    "\n",
    "candidate_color = (0,0,0) # Initial color\n",
    "\n",
    "for iteration in range(max_iterations):\n",
    "    print(f\"---Iteration {iteration}\")\n",
    "\n",
    "    # STEP 1: Synthesis\n",
    "    # Update the live image with the current color\n",
    "    print(f\"Synthesis:{candidate_color}\")\n",
    "    image[:, :] = tuple(reversed(candidate_color))\n",
    "    \n",
    "    # Display the image\n",
    "    cv2.imshow(\"Live Image\", image)\n",
    "    \n",
    "    # STEP 2: Characterisation\n",
    "    \n",
    "    # Measure the color with the Microbit: We will do this eventually\n",
    "    rgb_measurement = characterise(wait=0.2)  \n",
    "    print(f\"Characterisation:{rgb_measurement}\")\n",
    "    #rgb_measurement = (rgb_measurement[0]+np.random.normal(1),rgb_measurement[1]+np.random.normal(1),rgb_measurement[2]+np.random.normal(1))\n",
    "    \n",
    "    # STEP 3: Planning\n",
    "    \n",
    "    # Calculate the loss between the goal color and the current color\n",
    "    error = calculate_error(goal_color, rgb_measurement)\n",
    "    print(f\"Error:{error}\")\n",
    "\n",
    "    # Add the sample to the data table\n",
    "    new_sample = pd.DataFrame({\"R\":rgb_measurement[0], \"G\":rgb_measurement[1], \"B\":rgb_measurement[2], \"ID\":iteration, \"error\":error}, index=[iteration])\n",
    "    samples = pd.concat([samples, new_sample], axis=0, ignore_index=True)\n",
    "\n",
    "    candidate = calculate_candidate(samples)\n",
    "    candidate_color = (candidate['R'].item(), candidate['G'].item(), candidate['B'].item())\n",
    "    print(f\"Planning: Candidate:{candidate_color}\")\n",
    "    \n",
    "    # Add text information to the image\n",
    "    text = f\"Iteration: {iteration + 1}\"\n",
    "    cv2.putText(image, text, (10, 30), font, font_scale, font_color, 2)\n",
    "\n",
    "    # Plot a subplot for the goal color\n",
    "    # subplot_x = num_iterations * (width // (max_iterations + 1))\n",
    "    subplot_x = width // (max_iterations + 1)\n",
    "    subplot_width = 50\n",
    "    cv2.rectangle(image, (subplot_x, 60), (subplot_x + subplot_width, height - 60), tuple(reversed(goal_color)), -1)\n",
    "\n",
    "    # Add text for the error\n",
    "    error_text = f\"Error: {error:.2f}\"\n",
    "    cv2.putText(image, error_text, (10, height - 10), font, font_scale, font_color, 2)\n",
    "\n",
    "    error_values = list(samples['error'].to_numpy())    # Draw the graph of error values\n",
    "    if len(error_values) > 1:\n",
    "        for i in range(1, len(error_values)):\n",
    "            x1 = (i - 1) * (width // max_iterations)\n",
    "            y1 = height - int(error_values[i - 1] * (height - 60) / max(error_values))\n",
    "            x2 = i * (width // max_iterations)\n",
    "            y2 = height - int(error_values[i] * (height - 60) / max(error_values))\n",
    "            cv2.line(image, (x1, y1), (x2, y2), (255, 255, 255), 2)\n",
    "\n",
    "    # Increment the iteration counter\n",
    "    cv2.imshow(\"Live Image\", image)\n",
    "    cv2.waitKey(100)  # Adjust the wait time (in milliseconds) as needed\n",
    "    \n",
    "# Close the window after the desired number of iterations\n",
    "cv2.waitKey(1)\n",
    "cv2.destroyAllWindows()\n",
    "cv2.waitKey(1)"
   ]
  },
  {
   "cell_type": "code",
   "execution_count": 24,
   "id": "668d00b7",
   "metadata": {
    "scrolled": false
   },
   "outputs": [
    {
     "data": {
      "text/plain": [
       "<matplotlib.legend.Legend at 0x2aa72ef50>"
      ]
     },
     "execution_count": 24,
     "metadata": {},
     "output_type": "execute_result"
    },
    {
     "data": {
      "image/png": "[encoded data removed]",
      "text/plain": [
       "<Figure size 640x480 with 1 Axes>"
      ]
     },
     "metadata": {},
     "output_type": "display_data"
    }
   ],
   "source": [
    "import matplotlib.pyplot as plt\n",
    "# Plot error for each iteration\n",
    "plt.scatter(range(len(error_values)), error_values, label=\"Error for each iteration\")\n",
    "\n",
    "# Calculate best error so far\n",
    "best_error_so_far = 1000\n",
    "best_errors = []\n",
    "for value in error_values:\n",
    "    if value < best_error_so_far:\n",
    "        best_error_so_far = value\n",
    "    best_errors.append(best_error_so_far)\n",
    "    \n",
    "# Plot best error so far\n",
    "plt.plot(best_errors, label=\"Best Error So Far\", color=\"orange\")\n",
    "plt.legend()"
   ]
  },
  {
   "cell_type": "markdown",
   "id": "a3fae39c",
   "metadata": {},
   "source": [
    "Let's also plot the RGB colors with it."
   ]
  },
  {
   "cell_type": "code",
   "execution_count": 25,
   "id": "347e9c75",
   "metadata": {},
   "outputs": [
    {
     "data": {
      "text/plain": [
       "<matplotlib.legend.Legend at 0x2aa7fa390>"
      ]
     },
     "execution_count": 25,
     "metadata": {},
     "output_type": "execute_result"
    },
    {
     "data": {
      "image/png": "[encoded data removed]",
      "text/plain": [
       "<Figure size 640x480 with 1 Axes>"
      ]
     },
     "metadata": {},
     "output_type": "display_data"
    }
   ],
   "source": [
    "import matplotlib.pyplot as plt\n",
    "# Plot error for each iteration\n",
    "plt.scatter(range(len(error_values)), error_values, label=\"Error for each iteration\")\n",
    "\n",
    "# Calculate best error so far\n",
    "best_error_so_far = 1000\n",
    "best_errors = []\n",
    "for value in error_values:\n",
    "    if value < best_error_so_far:\n",
    "        best_error_so_far = value\n",
    "    best_errors.append(best_error_so_far)\n",
    "    \n",
    "# Plot best error so far\n",
    "plt.plot(best_errors, label=\"Best Error So Far\", color=\"orange\")\n",
    "plt.plot(samples['R'], color='red')\n",
    "plt.plot(samples['G'], color='green')\n",
    "plt.plot(samples['B'], color='blue')\n",
    "plt.legend()"
   ]
  },
  {
   "cell_type": "markdown",
   "id": "030852aa",
   "metadata": {},
   "source": [
    "**Task**: Run the SDL loop a few times. Change the distance of how close the microbit color sensor is to your screen. Does it impact the speed of convergence? Is there a distance where the sensor does not reliably measure the color anymore?"
   ]
  },
  {
   "cell_type": "markdown",
   "id": "ea6f9461",
   "metadata": {},
   "source": [
    "## (5) Congratulations! \n",
    "\n",
    "### You just ran your first closed-loop self-driving laboratory. In Part B to D, you learned how to do:\n",
    "### 1. Synthesis: *Generating the material: a color on your screen (RGB)*\n",
    "### 2. Charactersiation: *Measuring the material: the color on your screen (in RGB)*\n",
    "### 3. Planning: *Choosing the next experiment: randomly, with a grid or with Bayesian Optimisation*"
   ]
  },
  {
   "cell_type": "code",
   "execution_count": null,
   "id": "fb22c948",
   "metadata": {},
   "outputs": [],
   "source": []
  }
 ],
 "metadata": {
  "kernelspec": {
   "display_name": "SDL4Kids_kernel",
   "language": "python",
   "name": "sdl4kids_kernel"
  },
  "language_info": {
   "codemirror_mode": {
    "name": "ipython",
    "version": 3
   },
   "file_extension": ".py",
   "mimetype": "text/x-python",
   "name": "python",
   "nbconvert_exporter": "python",
   "pygments_lexer": "ipython3",
   "version": "3.11.4"
  }
 },
 "nbformat": 4,
 "nbformat_minor": 5
}
