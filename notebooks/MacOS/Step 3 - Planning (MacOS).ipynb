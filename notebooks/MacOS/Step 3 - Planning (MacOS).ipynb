{
 "cells": [
  {
   "cell_type": "markdown",
   "id": "7fadee20",
   "metadata": {
    "pycharm": {
     "name": "#%% md\n"
    }
   },
   "source": [
    "# Step 3 - Planning (MacOS)\n",
    "\n",
    "In this notebook, you will learn more about the third step of an SDL: Planning.\n",
    "\n",
    "### For the best experience, following along the video-series that explains the notebooks step by step [here](http://sdl4kids.com).\n",
    "\n",
    "If you have any questions, check out the [FAQ](https://sites.google.com/matterhorn.studio/sdl4kids/faq)!"
   ]
  },
  {
   "cell_type": "markdown",
   "id": "7c546391",
   "metadata": {},
   "source": [
    "## Introduction\n",
    "\n",
    "We will look at different ways (\"search strategies\") to plan your experiment, i.e. selecting which color to try next:\n",
    "\n",
    "1. Random\n",
    "2. Grid\n",
    "3. Bayesian Optimisation\n",
    "\n",
    "We will introduce the microbit in section 4, so do not worry about it for the next 3 sections."
   ]
  },
  {
   "cell_type": "markdown",
   "id": "861537d0",
   "metadata": {},
   "source": [
    "## (1) Strategy: Random\n",
    "\n",
    "**Goal**: You will learn how to use a random search to find the best RGB combination.\n",
    "\n",
    "*Random* here means the same as throwing a die with 6 sides: Each side, 1 to 6, has an equal probability (1/6 = 16.6%) of occurence. \n",
    "\n",
    "With RGB colors, we essentially have three dice — one for each R, G and B — with each die having 256 sides, representing the numbers 0 to 255. Each side has equal probability.\n",
    "\n",
    "We will throw these three die to select the next RGB experiment. If we do that 100 times, many RGB colors will be far off our target color, but with a certain probability, some will get close."
   ]
  },
  {
   "cell_type": "code",
   "execution_count": 3,
   "id": "b3471f86",
   "metadata": {},
   "outputs": [],
   "source": [
    "import random\n",
    "import numpy as np\n",
    "import cv2\n",
    "\n",
    "# Function to generate random color\n",
    "def generate_random_color():\n",
    "    red = random.randint(0, 255)\n",
    "    green = random.randint(0, 255)\n",
    "    blue = random.randint(0, 255)\n",
    "    return red, green, blue  # OpenCV uses BGR color format\n",
    "\n",
    "# Function to calculate the error between two colors\n",
    "def calculate_error(color1, color2):\n",
    "    return np.sqrt((color1[0] - color2[0]) ** 2 + (color1[1] - color2[1]) ** 2 + (color1[2] - color2[2]) ** 2)"
   ]
  },
  {
   "cell_type": "code",
   "execution_count": 6,
   "id": "094f89ee",
   "metadata": {
    "pycharm": {
     "name": "#%%\n"
    }
   },
   "outputs": [
    {
     "data": {
      "text/plain": [
       "-1"
      ]
     },
     "execution_count": 6,
     "metadata": {},
     "output_type": "execute_result"
    }
   ],
   "source": [
    "\n",
    "# Create a blank image\n",
    "width, height = 800, 400\n",
    "image = np.zeros((height, width, 3), dtype=np.uint8)\n",
    "\n",
    "# Create a named window for display\n",
    "cv2.namedWindow(\"Live Image\", cv2.WINDOW_NORMAL)\n",
    "cv2.startWindowThread()\n",
    "\n",
    "# Define font properties for displaying text\n",
    "font = cv2.FONT_HERSHEY_SIMPLEX\n",
    "font_scale = 0.8\n",
    "font_color = (255, 255, 255)  # White color\n",
    "\n",
    "# Define the goal color\n",
    "goal_color = (255, 0, 0) \n",
    "\n",
    "# Create an empty list to store the error values\n",
    "error_values = []\n",
    "\n",
    "# Main loop\n",
    "max_iterations = 50  # Set the desired number of iterations\n",
    "\n",
    "candidate_color = (0,0,0) # Initial candidate\n",
    "\n",
    "for iteration in range(max_iterations):\n",
    "\n",
    "    # STEP 1: Synthesis\n",
    "    # Update the live image with the current color\n",
    "    image[:, :] = tuple(reversed(candidate_color))\n",
    "    \n",
    "    # Display the image\n",
    "    cv2.imshow(\"Live Image\", image)\n",
    "    \n",
    "    # STEP 2: Characterisation\n",
    "    \n",
    "    # Measure the color with the Microbit: We will do this eventually\n",
    "    #rgb_measurement = characterise()  \n",
    "    #rgb_measurement = tuple(reversed(rgb_measurement))\n",
    "    \n",
    "    # Measure the color by just pretending candidate_color being the measurement \n",
    "    rgb_measurement = candidate_color\n",
    "    \n",
    "    # STEP 3: Planning\n",
    "    \n",
    "    # Calculate the error between the goal color and the current color\n",
    "    error = calculate_error(goal_color, rgb_measurement)\n",
    "\n",
    "    # Add the loss value to the list\n",
    "    error_values.append(error)    \n",
    "\n",
    "    # Add text information to the image\n",
    "    text = f\"Iteration: {iteration + 1}\"\n",
    "    cv2.putText(image, text, (10, 30), font, font_scale, font_color, 2)\n",
    "\n",
    "    # Plot a subplot for the goal color\n",
    "    # subplot_x = num_iterations * (width // (max_iterations + 1))\n",
    "    subplot_x = width // (max_iterations + 1)\n",
    "    subplot_width = width // 50\n",
    "    cv2.rectangle(image, (subplot_x, 60), (subplot_x + subplot_width, height - 60), tuple(reversed(goal_color)), -1)\n",
    "\n",
    "    # Add text for the loss\n",
    "    error_text = f\"Loss: {error:.2f}\"\n",
    "    cv2.putText(image, error_text, (10, height - 10), font, font_scale, font_color, 2)\n",
    "\n",
    "    # Draw the graph of error values\n",
    "    if len(error_values) > 1:\n",
    "        for i in range(1, len(error_values)):\n",
    "            x1 = (i - 1) * (width // max_iterations)\n",
    "            y1 = height - int(error_values[i - 1] * (height - 60) / max(error_values))\n",
    "            x2 = i * (width // max_iterations)\n",
    "            y2 = height - int(error_values[i] * (height - 60) / max(error_values))\n",
    "            cv2.line(image, (x1, y1), (x2, y2), (255, 255, 255), 2)\n",
    "\n",
    "    # Increment the iteration counter\n",
    "    cv2.imshow(\"Live Image\", image)\n",
    "    cv2.waitKey(100)  # Adjust the wait time (in milliseconds) as needed\n",
    "    \n",
    "    # Generate a new candidate color, for now we will pick one randomly\n",
    "    candidate_color = generate_random_color()\n",
    "    \n",
    "# Close the window after the desired number of iterations\n",
    "cv2.waitKey(1)\n",
    "cv2.destroyAllWindows()\n",
    "cv2.waitKey(1)"
   ]
  },
  {
   "cell_type": "markdown",
   "id": "3fa245bb",
   "metadata": {},
   "source": [
    "We can now plot the error (i.e. distance to the goal color) for each random RGB combination, and also a line for the best random color we have found so far."
   ]
  },
  {
   "cell_type": "code",
   "execution_count": 7,
   "id": "d9d1a198",
   "metadata": {
    "pycharm": {
     "name": "#%%\n"
    }
   },
   "outputs": [
    {
     "data": {
      "text/plain": [
       "<matplotlib.legend.Legend at 0x290a39410>"
      ]
     },
     "execution_count": 7,
     "metadata": {},
     "output_type": "execute_result"
    },
    {
     "data": {
      "image/png": "[encoded data removed]",
      "text/plain": [
       "<Figure size 640x480 with 1 Axes>"
      ]
     },
     "metadata": {},
     "output_type": "display_data"
    }
   ],
   "source": [
    "import matplotlib.pyplot as plt\n",
    "# Plot error for each iteration\n",
    "plt.scatter(range(len(error_values)), error_values, label=\"Error for each iteration\")\n",
    "\n",
    "# Calculate best error so far\n",
    "best_error_so_far = 1000\n",
    "best_errors = []\n",
    "for value in error_values:\n",
    "    if value < best_error_so_far:\n",
    "        best_error_so_far = value\n",
    "    best_errors.append(best_error_so_far)\n",
    "    \n",
    "# Plot best error so far\n",
    "plt.plot(best_errors, label=\"Best Error So Far\", color=\"orange\")\n",
    "plt.xlabel('Iteration', fontsize=18)\n",
    "plt.ylabel('Distance to Goal', fontsize=18)\n",
    "plt.legend()"
   ]
  },
  {
   "cell_type": "markdown",
   "id": "56d537bd",
   "metadata": {},
   "source": [
    "**Task**: Run the above script a few times. How do the errors change? What happens when you increase the number of iterations?"
   ]
  },
  {
   "cell_type": "markdown",
   "id": "9ea5f310",
   "metadata": {},
   "source": [
    "## (2) Strategy: Grid\n",
    "\n",
    "We will generate a 'grid' of RGB combinations, which we then measure and pick the best point.\n",
    "\n",
    "Image you want to cook the best pizza, but you don't know for how long you should put the pizza in the oven (e.g. at 200 Celsius). It is most likely somehwere between 10 and 15 minutes. If we have 6 pizzas, we can just put in a pizza for each 10, 11, 12, 13, 14 and 15 minutes and then test the taste. \n",
    "\n",
    "That's a grid: We have a lower (10) and upper (15) bound and a limited number of experiments we can run in between (6 pizzas). If we evenly space them, we get the following grid: 10, 11, 12, 13, 14, 15.\n",
    "\n",
    "For our SDL4Kids, we have 3 variables R, G and B instead of 'minutes in the oven'. For example, we can create a grid with 3 steps for each variable. That would be 3 * 3 * 3 = 27 experiments to run. The following code generates such a grid:"
   ]
  },
  {
   "cell_type": "code",
   "execution_count": 9,
   "id": "6e5ff7fa",
   "metadata": {},
   "outputs": [
    {
     "data": {
      "text/plain": [
       "[(0.0, 0.0, 0.0),\n",
       " (0.0, 0.0, 127.5),\n",
       " (0.0, 0.0, 255.0),\n",
       " (0.0, 127.5, 0.0),\n",
       " (0.0, 127.5, 127.5),\n",
       " (0.0, 127.5, 255.0),\n",
       " (0.0, 255.0, 0.0),\n",
       " (0.0, 255.0, 127.5),\n",
       " (0.0, 255.0, 255.0),\n",
       " (127.5, 0.0, 0.0),\n",
       " (127.5, 0.0, 127.5),\n",
       " (127.5, 0.0, 255.0),\n",
       " (127.5, 127.5, 0.0),\n",
       " (127.5, 127.5, 127.5),\n",
       " (127.5, 127.5, 255.0),\n",
       " (127.5, 255.0, 0.0),\n",
       " (127.5, 255.0, 127.5),\n",
       " (127.5, 255.0, 255.0),\n",
       " (255.0, 0.0, 0.0),\n",
       " (255.0, 0.0, 127.5),\n",
       " (255.0, 0.0, 255.0),\n",
       " (255.0, 127.5, 0.0),\n",
       " (255.0, 127.5, 127.5),\n",
       " (255.0, 127.5, 255.0),\n",
       " (255.0, 255.0, 0.0),\n",
       " (255.0, 255.0, 127.5),\n",
       " (255.0, 255.0, 255.0)]"
      ]
     },
     "execution_count": 9,
     "metadata": {},
     "output_type": "execute_result"
    }
   ],
   "source": [
    "grid_steps = 3\n",
    "red = np.linspace(0, 255, grid_steps)\n",
    "green = np.linspace(0, 255, grid_steps)\n",
    "blue = np.linspace(0, 255, grid_steps)\n",
    "\n",
    "grid_combinations = []\n",
    "for r in red:\n",
    "    for g in green:\n",
    "        for b in blue:\n",
    "            combination = (r,g,b)\n",
    "            grid_combinations.append(combination)\n",
    "grid_combinations"
   ]
  },
  {
   "cell_type": "markdown",
   "id": "f40acf9d",
   "metadata": {},
   "source": [
    "The following loop evaluates each grid combination:"
   ]
  },
  {
   "cell_type": "code",
   "execution_count": 10,
   "id": "aa9c0ae0",
   "metadata": {},
   "outputs": [
    {
     "data": {
      "text/plain": [
       "-1"
      ]
     },
     "execution_count": 10,
     "metadata": {},
     "output_type": "execute_result"
    }
   ],
   "source": [
    "import random\n",
    "import numpy as np\n",
    "import cv2\n",
    "\n",
    "# Create a blank image\n",
    "width, height = 800, 400\n",
    "image = np.zeros((height, width, 3), dtype=np.uint8)\n",
    "\n",
    "# Create a named window for display\n",
    "cv2.namedWindow(\"Live Image\", cv2.WINDOW_NORMAL)\n",
    "cv2.startWindowThread()\n",
    "\n",
    "# Define font properties for displaying text\n",
    "font = cv2.FONT_HERSHEY_SIMPLEX\n",
    "font_scale = 0.8\n",
    "font_color = (255, 255, 255)  # White color\n",
    "\n",
    "# Define the goal color\n",
    "goal_color = (255, 0, 0) \n",
    "\n",
    "# Create an empty list to store the loss values\n",
    "error_values = []\n",
    "\n",
    "# Main loop\n",
    "max_iterations = len(grid_combinations)  # Set the desired number of iterations\n",
    "\n",
    "candidate_color = grid_combinations[0]\n",
    "\n",
    "for iteration, grid_combination in enumerate(grid_combinations):\n",
    "    # STEP 1: Synthesis\n",
    "    # Update the live image with the current color\n",
    "    image[:, :] = tuple(reversed(candidate_color))\n",
    "    \n",
    "    # Display the image\n",
    "    cv2.imshow(\"Live Image\", image)\n",
    "    \n",
    "    # STEP 2: Characterisation\n",
    "    \n",
    "    # Measure the color with the Microbit: We will do this eventually\n",
    "    #rgb_measurement = characterise()  \n",
    "    #rgb_measurement = tuple(reversed(rgb_measurement))\n",
    "    \n",
    "    # Measure the color by just pretending candidate_color being the measurement \n",
    "    rgb_measurement = candidate_color\n",
    "    \n",
    "    # STEP 3: Planning\n",
    "    \n",
    "    # Calculate the loss between the goal color and the current color\n",
    "    error = calculate_error(goal_color, rgb_measurement)\n",
    "\n",
    "    # Add the loss value to the list\n",
    "    error_values.append(error)    \n",
    "\n",
    "    # Add text information to the image\n",
    "    text = f\"Iteration: {iteration + 1}\"\n",
    "    cv2.putText(image, text, (10, 30), font, font_scale, font_color, 2)\n",
    "\n",
    "    # Plot a subplot for the goal color\n",
    "    # subplot_x = num_iterations * (width // (max_iterations + 1))\n",
    "    subplot_x = width // (max_iterations + 1)\n",
    "    subplot_width = width // (max_iterations + 1)\n",
    "    cv2.rectangle(image, (subplot_x, 60), (subplot_x + subplot_width, height - 60), tuple(reversed(goal_color)), -1)\n",
    "\n",
    "    # Add text for the error\n",
    "    error_text = f\"Loss: {error:.2f}\"\n",
    "    cv2.putText(image, error_text, (10, height - 10), font, font_scale, font_color, 2)\n",
    "\n",
    "    # Draw the graph of error values\n",
    "    if len(error_values) > 1:\n",
    "        for i in range(1, len(error_values)):\n",
    "            x1 = (i - 1) * (width // max_iterations)\n",
    "            y1 = height - int(error_values[i - 1] * (height - 60) / max(error_values))\n",
    "            x2 = i * (width // max_iterations)\n",
    "            y2 = height - int(error_values[i] * (height - 60) / max(error_values))\n",
    "            cv2.line(image, (x1, y1), (x2, y2), (255, 255, 255), 2)\n",
    "\n",
    "    # Increment the iteration counter\n",
    "    cv2.imshow(\"Live Image\", image)\n",
    "    cv2.waitKey(50)  # Adjust the wait time (in milliseconds) as needed\n",
    "    \n",
    "    # Generate a new candidate color, for now we will pick one randomly\n",
    "    candidate_color = grid_combination\n",
    "    \n",
    "# Close the window after the desired number of iterations\n",
    "cv2.waitKey(1)\n",
    "cv2.destroyAllWindows()\n",
    "cv2.waitKey(1)"
   ]
  },
  {
   "cell_type": "markdown",
   "id": "785acab6",
   "metadata": {},
   "source": [
    "Let's plot the error values for each grid combination. Notice the pattern a grid creates."
   ]
  },
  {
   "cell_type": "code",
   "execution_count": 11,
   "id": "8a65d0a7",
   "metadata": {},
   "outputs": [
    {
     "data": {
      "text/plain": [
       "<matplotlib.legend.Legend at 0x2906692d0>"
      ]
     },
     "execution_count": 11,
     "metadata": {},
     "output_type": "execute_result"
    },
    {
     "data": {
      "image/png": "[encoded data removed]",
      "text/plain": [
       "<Figure size 640x480 with 1 Axes>"
      ]
     },
     "metadata": {},
     "output_type": "display_data"
    }
   ],
   "source": [
    "import matplotlib.pyplot as plt\n",
    "# Plot error for each iteration\n",
    "plt.scatter(range(len(error_values)), error_values, label=\"Error for each iteration\")\n",
    "\n",
    "# Calculate best error so far\n",
    "best_error_so_far = 1000\n",
    "best_errors = []\n",
    "for value in error_values:\n",
    "    if value < best_error_so_far:\n",
    "        best_error_so_far = value\n",
    "    best_errors.append(best_error_so_far)\n",
    "    \n",
    "# Plot best error so far\n",
    "plt.plot(best_errors, label=\"Best Error So Far\", color=\"orange\")\n",
    "plt.legend()"
   ]
  },
  {
   "cell_type": "markdown",
   "id": "92efdb47",
   "metadata": {},
   "source": [
    "**Question**: Which RGB combination was closest to our goal color?\n",
    "\n",
    "*Solution*: Check the loss graph for the combination with the smallest loss, i.e. it is closest to our goal color."
   ]
  },
  {
   "cell_type": "code",
   "execution_count": null,
   "id": "6c12d631",
   "metadata": {},
   "outputs": [],
   "source": [
    "iteration_with_smallest_error = error_values.index(min(error_values))-1 # Index of the iteration with the smallest loss\n",
    "print(f\"The best candidate is iteration {iteration_with_smallest_error} with RGB={grid_combinations[iteration_with_smallest_error]}\")"
   ]
  },
  {
   "cell_type": "markdown",
   "id": "a3ce4463",
   "metadata": {
    "pycharm": {
     "name": "#%% md\n"
    }
   },
   "source": [
    "## (3) Strategy: Bayesian Optimisation \n",
    "\n",
    "**Goal**: With **Bayesian Optimisation**, we build a statistical model for decision making, i.e. using statistics to steer our search. \n",
    "\n",
    "**Warning**: Bayesian Optimiastion is by far the most complicated topic in this tutorial. If you do not understand it at first, that's perfectly normal. Just make sure you run the code properly!\n",
    "\n",
    "\n",
    "The *random* strategy is a good baseline set ourselves as a standard to beat. If our search is not better than *random* then, we should just randomly experiment. With a *grid* search, we are more structured in our search, but the best experiment can still easily sleep in between the grid points.\n",
    "\n",
    "With **Bayesian Optimisation**, we build a statistical model for decision making, i.e. using statistics to steer our search. This model will represent the behaviour of our RGB color. In Material Science, it can for example represent the relationships between water content and concrete strength.\n",
    "\n",
    "We can ask this model for the next *most informative* combination to test, collect the data, update the model and repeat."
   ]
  },
  {
   "cell_type": "code",
   "execution_count": 12,
   "id": "eca1fa8c",
   "metadata": {},
   "outputs": [
    {
     "name": "stderr",
     "output_type": "stream",
     "text": [
      "/opt/homebrew/Caskroom/miniforge/base/envs/SDL4Kids/lib/python3.11/site-packages/tqdm/auto.py:21: TqdmWarning: IProgress not found. Please update jupyter and ipywidgets. See https://ipywidgets.readthedocs.io/en/stable/user_install.html\n",
      "  from .autonotebook import tqdm as notebook_tqdm\n"
     ]
    }
   ],
   "source": [
    "import torch\n",
    "from botorch.models import SingleTaskGP\n",
    "from botorch.fit import fit_gpytorch_mll\n",
    "from botorch.utils import standardize\n",
    "from gpytorch.mlls import ExactMarginalLogLikelihood\n",
    "from botorch.acquisition import UpperConfidenceBound\n",
    "from botorch.optim import optimize_acqf\n",
    "from botorch.models.transforms.input import Normalize\n",
    "from botorch.models.transforms.outcome import Standardize"
   ]
  },
  {
   "cell_type": "code",
   "execution_count": 14,
   "id": "c9c9e111",
   "metadata": {},
   "outputs": [],
   "source": [
    "import pandas as pd\n",
    "def calculate_candidate(samples):\n",
    "    train_X = samples[[\"R\",\"G\",\"B\"]]\n",
    "    train_Y = samples[[\"error\"]]\n",
    "\n",
    "    train_X = torch.tensor(train_X.to_numpy(dtype=np.float64))\n",
    "    train_Y = torch.tensor(-1*train_Y.to_numpy(dtype=np.float64))\n",
    "\n",
    "    gp = SingleTaskGP(train_X, train_Y, input_transform=Normalize(d=train_X.shape[-1]), outcome_transform=Standardize(m=train_Y.shape[-1]),)\n",
    "    mll = ExactMarginalLogLikelihood(gp.likelihood, gp)\n",
    "    fit_gpytorch_mll(mll)\n",
    "\n",
    "    from botorch.acquisition import UpperConfidenceBound\n",
    "    UCB = UpperConfidenceBound(gp, beta=0.1)\n",
    "    \n",
    "    from botorch.optim import optimize_acqf\n",
    "    bounds = torch.stack([torch.zeros(3), torch.ones(3)*255])\n",
    "    candidate, acq_value = optimize_acqf(\n",
    "        UCB, bounds=bounds, q=1, num_restarts=5, raw_samples=20,\n",
    "    )\n",
    "    candidate = candidate[0]\n",
    "    candidate = {\"R\": candidate[0], \"G\": candidate[1], \"B\": candidate[2]}\n",
    "    return candidate"
   ]
  },
  {
   "cell_type": "code",
   "execution_count": 15,
   "id": "35459665",
   "metadata": {},
   "outputs": [
    {
     "name": "stdout",
     "output_type": "stream",
     "text": [
      "---Iteration 0\n",
      "Synthesis:(0, 0, 0)\n",
      "Characterisation:(0, 0, 0)\n",
      "Error:255.0\n",
      "Planning: Candidate:(250.6796112060547, 209.6202392578125, 92.19520568847656)\n"
     ]
    },
    {
     "name": "stderr",
     "output_type": "stream",
     "text": [
      "/opt/homebrew/Caskroom/miniforge/base/envs/SDL4Kids/lib/python3.11/site-packages/botorch/optim/initializers.py:403: BadInitialCandidatesWarning: Unable to find non-zero acquisition function values - initial conditions are being selected randomly.\n",
      "  warnings.warn(\n"
     ]
    },
    {
     "name": "stdout",
     "output_type": "stream",
     "text": [
      "---Iteration 1\n",
      "Synthesis:(250.6796112060547, 209.6202392578125, 92.19520568847656)\n",
      "Characterisation:(250.6796112060547, 209.6202392578125, 92.19520568847656)\n",
      "Error:229.03987953580028\n",
      "Planning: Candidate:(255.0, 228.1976776123047, 100.67377471923828)\n",
      "---Iteration 2\n",
      "Synthesis:(255.0, 228.1976776123047, 100.67377471923828)\n",
      "Characterisation:(255.0, 228.1976776123047, 100.67377471923828)\n",
      "Error:249.4181007542742\n",
      "Planning: Candidate:(244.5731964111328, 182.89952087402344, 79.99861907958984)\n",
      "---Iteration 3\n",
      "Synthesis:(244.5731964111328, 182.89952087402344, 79.99861907958984)\n",
      "Characterisation:(244.5731964111328, 182.89952087402344, 79.99861907958984)\n",
      "Error:199.90180595399698\n",
      "Planning: Candidate:(239.71424865722656, 160.9661407470703, 69.98570251464844)\n",
      "---Iteration 4\n",
      "Synthesis:(239.71424865722656, 160.9661407470703, 69.98570251464844)\n",
      "Characterisation:(239.71424865722656, 160.9661407470703, 69.98570251464844)\n",
      "Error:176.1866942126664\n",
      "Planning: Candidate:(234.34873962402344, 133.2178497314453, 57.30242156982422)\n",
      "---Iteration 5\n",
      "Synthesis:(234.34873962402344, 133.2178497314453, 57.30242156982422)\n",
      "Characterisation:(234.34873962402344, 133.2178497314453, 57.30242156982422)\n",
      "Error:146.48220902195658\n",
      "Planning: Candidate:(229.7930908203125, 98.84706115722656, 41.554630279541016)\n",
      "---Iteration 6\n",
      "Synthesis:(229.7930908203125, 98.84706115722656, 41.554630279541016)\n",
      "Characterisation:(229.7930908203125, 98.84706115722656, 41.554630279541016)\n",
      "Error:110.14952141286338\n",
      "Planning: Candidate:(228.06268310546875, 58.32586669921875, 22.925777435302734)\n",
      "---Iteration 7\n",
      "Synthesis:(228.06268310546875, 58.32586669921875, 22.925777435302734)\n",
      "Characterisation:(228.06268310546875, 58.32586669921875, 22.925777435302734)\n",
      "Error:68.21375989274063\n",
      "Planning: Candidate:(230.70263671875, 12.267807006835938, 1.6723439693450928)\n",
      "---Iteration 8\n",
      "Synthesis:(230.70263671875, 12.267807006835938, 1.6723439693450928)\n",
      "Characterisation:(230.70263671875, 12.267807006835938, 1.6723439693450928)\n",
      "Error:27.270087743346437\n",
      "Planning: Candidate:(238.92469787597656, 0.0, 0.0)\n",
      "---Iteration 9\n",
      "Synthesis:(238.92469787597656, 0.0, 0.0)\n",
      "Characterisation:(238.92469787597656, 0.0, 0.0)\n",
      "Error:16.075302124023438\n",
      "Planning: Candidate:(255.0, 0.0, 0.0)\n",
      "---Iteration 10\n",
      "Synthesis:(255.0, 0.0, 0.0)\n",
      "Characterisation:(255.0, 0.0, 0.0)\n",
      "Error:0.0\n",
      "Planning: Candidate:(255.0, 7.616333961486816, 0.0)\n",
      "---Iteration 11\n",
      "Synthesis:(255.0, 7.616333961486816, 0.0)\n",
      "Characterisation:(255.0, 7.616333961486816, 0.0)\n",
      "Error:7.616333961486816\n",
      "Planning: Candidate:(255.0, 0.0, 0.0)\n",
      "---Iteration 12\n",
      "Synthesis:(255.0, 0.0, 0.0)\n",
      "Characterisation:(255.0, 0.0, 0.0)\n",
      "Error:0.0\n",
      "Planning: Candidate:(255.0, 0.0, 9.588929176330566)\n",
      "---Iteration 13\n",
      "Synthesis:(255.0, 0.0, 9.588929176330566)\n",
      "Characterisation:(255.0, 0.0, 9.588929176330566)\n",
      "Error:9.588929176330566\n",
      "Planning: Candidate:(255.0, 0.0, 0.0)\n",
      "---Iteration 14\n",
      "Synthesis:(255.0, 0.0, 0.0)\n",
      "Characterisation:(255.0, 0.0, 0.0)\n",
      "Error:0.0\n",
      "Planning: Candidate:(255.0, 0.0, 0.0)\n",
      "---Iteration 15\n",
      "Synthesis:(255.0, 0.0, 0.0)\n",
      "Characterisation:(255.0, 0.0, 0.0)\n",
      "Error:0.0\n",
      "Planning: Candidate:(255.0, 0.0, 0.0)\n",
      "---Iteration 16\n",
      "Synthesis:(255.0, 0.0, 0.0)\n",
      "Characterisation:(255.0, 0.0, 0.0)\n",
      "Error:0.0\n",
      "Planning: Candidate:(255.0, 0.0, 0.0)\n",
      "---Iteration 17\n",
      "Synthesis:(255.0, 0.0, 0.0)\n",
      "Characterisation:(255.0, 0.0, 0.0)\n",
      "Error:0.0\n",
      "Planning: Candidate:(255.0, 0.0, 0.0)\n",
      "---Iteration 18\n",
      "Synthesis:(255.0, 0.0, 0.0)\n",
      "Characterisation:(255.0, 0.0, 0.0)\n",
      "Error:0.0\n",
      "Planning: Candidate:(255.0, 0.0, 0.0)\n",
      "---Iteration 19\n",
      "Synthesis:(255.0, 0.0, 0.0)\n",
      "Characterisation:(255.0, 0.0, 0.0)\n",
      "Error:0.0\n",
      "Planning: Candidate:(255.0, 0.0, 0.0)\n",
      "---Iteration 20\n",
      "Synthesis:(255.0, 0.0, 0.0)\n",
      "Characterisation:(255.0, 0.0, 0.0)\n",
      "Error:0.0\n",
      "Planning: Candidate:(255.0, 0.0, 0.0)\n",
      "---Iteration 21\n",
      "Synthesis:(255.0, 0.0, 0.0)\n",
      "Characterisation:(255.0, 0.0, 0.0)\n",
      "Error:0.0\n",
      "Planning: Candidate:(255.0, 0.0, 0.0)\n",
      "---Iteration 22\n",
      "Synthesis:(255.0, 0.0, 0.0)\n",
      "Characterisation:(255.0, 0.0, 0.0)\n",
      "Error:0.0\n",
      "Planning: Candidate:(255.0, 0.0, 0.0)\n",
      "---Iteration 23\n",
      "Synthesis:(255.0, 0.0, 0.0)\n",
      "Characterisation:(255.0, 0.0, 0.0)\n",
      "Error:0.0\n",
      "Planning: Candidate:(255.0, 0.0, 0.0)\n",
      "---Iteration 24\n",
      "Synthesis:(255.0, 0.0, 0.0)\n",
      "Characterisation:(255.0, 0.0, 0.0)\n",
      "Error:0.0\n",
      "Planning: Candidate:(255.0, 0.0, 0.0)\n"
     ]
    },
    {
     "data": {
      "text/plain": [
       "-1"
      ]
     },
     "execution_count": 15,
     "metadata": {},
     "output_type": "execute_result"
    }
   ],
   "source": [
    "import random\n",
    "import numpy as np\n",
    "import cv2\n",
    "\n",
    "# Create a blank image\n",
    "width, height = 800, 400\n",
    "image = np.zeros((height, width, 3), dtype=np.uint8)\n",
    "\n",
    "# Create a named window for display\n",
    "cv2.namedWindow(\"Live Image\", cv2.WINDOW_NORMAL)\n",
    "cv2.startWindowThread()\n",
    "\n",
    "# Define font properties for displaying text\n",
    "font = cv2.FONT_HERSHEY_SIMPLEX\n",
    "font_scale = 0.8\n",
    "font_color = (255, 255, 255)  # White color\n",
    "\n",
    "# Define the goal color\n",
    "goal_color = (255,0,0) \n",
    "\n",
    "# Main loop\n",
    "max_iterations = 25  # Set the desired number of iterations\n",
    "\n",
    "# Let us set up a data table to record the data more structured\n",
    "samples = pd.DataFrame(columns=['R', 'G', 'B', 'error', 'ID'])\n",
    "\n",
    "candidate_color = (0,0,0) # Initial color\n",
    "\n",
    "for iteration in range(max_iterations):\n",
    "    print(f\"---Iteration {iteration}\")\n",
    "\n",
    "    # STEP 1: Synthesis\n",
    "    # Update the live image with the current color\n",
    "    print(f\"Synthesis:{candidate_color}\")\n",
    "    image[:, :] = tuple(reversed(candidate_color))\n",
    "    \n",
    "    # Display the image\n",
    "    cv2.imshow(\"Live Image\", image)\n",
    "    \n",
    "    # STEP 2: Characterisation\n",
    "    # Measure the color by just plugging it in\n",
    "    rgb_measurement = candidate_color\n",
    "    print(f\"Characterisation:{rgb_measurement}\")\n",
    "    \n",
    "    # STEP 3: Planning\n",
    "    # Calculate the loss between the goal color and the current color\n",
    "    error = calculate_error(goal_color, rgb_measurement)\n",
    "    print(f\"Error:{error}\")\n",
    "\n",
    "    # Add the sample to the data table\n",
    "    new_sample = pd.DataFrame({\"R\":rgb_measurement[0], \"G\":rgb_measurement[1], \"B\":rgb_measurement[2], \"ID\":iteration, \"error\":error}, index=[iteration])\n",
    "    samples = pd.concat([samples, new_sample], axis=0, ignore_index=True)\n",
    "\n",
    "    candidate = calculate_candidate(samples)\n",
    "    candidate_color = (candidate['R'].item(), candidate['G'].item(), candidate['B'].item())\n",
    "    print(f\"Planning: Candidate:{candidate_color}\")\n",
    "    \n",
    "    # Add text information to the image\n",
    "    text = f\"Iteration: {iteration + 1}\"\n",
    "    cv2.putText(image, text, (10, 30), font, font_scale, font_color, 2)\n",
    "\n",
    "    # Plot a subplot for the goal color\n",
    "    # subplot_x = num_iterations * (width // (max_iterations + 1))\n",
    "    subplot_x = width // (max_iterations + 1)\n",
    "    subplot_width = 50\n",
    "    cv2.rectangle(image, (subplot_x, 60), (subplot_x + subplot_width, height - 60), tuple(reversed(goal_color)), -1)\n",
    "\n",
    "    # Add text for the error\n",
    "    error_text = f\"Error: {error:.2f}\"\n",
    "    cv2.putText(image, error_text, (10, height - 10), font, font_scale, font_color, 2)\n",
    "\n",
    "    error_values = list(samples['error'].to_numpy())    # Draw the graph of error values\n",
    "    if len(error_values) > 1:\n",
    "        for i in range(1, len(error_values)):\n",
    "            x1 = (i - 1) * (width // max_iterations)\n",
    "            y1 = height - int(error_values[i - 1] * (height - 60) / max(error_values))\n",
    "            x2 = i * (width // max_iterations)\n",
    "            y2 = height - int(error_values[i] * (height - 60) / max(error_values))\n",
    "            cv2.line(image, (x1, y1), (x2, y2), (255, 255, 255), 2)\n",
    "\n",
    "    # Increment the iteration counter\n",
    "    cv2.imshow(\"Live Image\", image)\n",
    "    cv2.waitKey(100)  # Adjust the wait time (in milliseconds) as needed\n",
    "    \n",
    "# Close the window after the desired number of iterations\n",
    "cv2.waitKey(1)\n",
    "cv2.destroyAllWindows()\n",
    "cv2.waitKey(1)"
   ]
  },
  {
   "cell_type": "markdown",
   "id": "6eec95a3",
   "metadata": {},
   "source": [
    "Let's plot the error curve for Bayesian Optimisation. Notice how fast BO finds the best RGB combination. "
   ]
  },
  {
   "cell_type": "code",
   "execution_count": null,
   "id": "385bdf25",
   "metadata": {
    "pycharm": {
     "name": "#%%\n"
    }
   },
   "outputs": [],
   "source": [
    "import matplotlib.pyplot as plt\n",
    "# Plot error for each iteration\n",
    "plt.scatter(range(len(error_values)), error_values, label=\"Error for each iteration\")\n",
    "\n",
    "# Calculate best error so far\n",
    "best_error_so_far = 999999\n",
    "best_errors = []\n",
    "for value in error_values:\n",
    "    if value < best_error_so_far:\n",
    "        best_error_so_far = value\n",
    "    best_errors.append(best_error_so_far)\n",
    "    \n",
    "# Plot best error so far\n",
    "plt.plot(best_errors, label=\"Best Error So Far\", color=\"orange\")\n",
    "plt.legend()"
   ]
  },
  {
   "cell_type": "code",
   "execution_count": 16,
   "id": "7afabd55",
   "metadata": {},
   "outputs": [
    {
     "data": {
      "text/plain": [
       "[<matplotlib.lines.Line2D at 0x2aa961310>]"
      ]
     },
     "execution_count": 16,
     "metadata": {},
     "output_type": "execute_result"
    },
    {
     "data": {
      "image/png": "[encoded data removed]",
      "text/plain": [
       "<Figure size 640x480 with 2 Axes>"
      ]
     },
     "metadata": {},
     "output_type": "display_data"
    }
   ],
   "source": [
    "import matplotlib.pyplot as plt\n",
    "# Plot error for each iteration\n",
    "plt.scatter(range(len(error_values)), error_values, label=\"Error for each iteration\")\n",
    "\n",
    "# Calculate best error so far\n",
    "best_error_so_far = 1000\n",
    "best_errors = []\n",
    "for value in error_values:\n",
    "    if value < best_error_so_far:\n",
    "        best_error_so_far = value\n",
    "    best_errors.append(best_error_so_far)\n",
    "    \n",
    "# Plot best error so far\n",
    "plt.plot(best_errors, label=\"Best Error So Far\", color=\"orange\")\n",
    "plt.xlabel('Iteration', fontsize=18)\n",
    "plt.ylabel('Distance to Goal', fontsize=18)\n",
    "plt.legend()\n",
    "ax = plt.gca()\n",
    "secax = ax.twinx() \n",
    "secax.set_ylabel('RGB value (0 to 255)')\n",
    "secax.plot(samples['R'], color='red', linestyle='dashed')\n",
    "secax.plot(samples['G'], color='green', linestyle='dashed')\n",
    "secax.plot(samples['B'], color='blue', linestyle='dashed')\n"
   ]
  },
  {
   "cell_type": "markdown",
   "id": "078c8ad0",
   "metadata": {},
   "source": [
    "**Task**: Change the goal color and see if that makes a difference to the speed of Bayesian Optimisation.\n"
   ]
  },
  {
   "cell_type": "markdown",
   "id": "5f52544e",
   "metadata": {},
   "source": [
    "## (4) Bayesian Optimisation with Microbit measurements\n",
    "\n",
    "**Goal**: We will now use real measurements from the enviro:bit to complete the close the loop of our SDL setup.\n",
    "\n",
    "We have already look in detail how to do measurements with the microbit in the notebook for Step 2 on Characterisation. Make sure you have worked through that before."
   ]
  },
  {
   "cell_type": "code",
   "execution_count": null,
   "id": "c12bbc4d",
   "metadata": {},
   "outputs": [],
   "source": [
    "import serial"
   ]
  },
  {
   "cell_type": "code",
   "execution_count": null,
   "id": "0d5c33cc",
   "metadata": {},
   "outputs": [],
   "source": [
    "!ls /dev/cu.*"
   ]
  },
  {
   "cell_type": "code",
   "execution_count": null,
   "id": "5a9d9e6f",
   "metadata": {},
   "outputs": [],
   "source": [
    "ser = serial.Serial()\n",
    "ser = serial.Serial(\"/dev/cu.usbmodem102\",115200, timeout=0.1)"
   ]
  },
  {
   "cell_type": "code",
   "execution_count": null,
   "id": "b1fee44d",
   "metadata": {},
   "outputs": [],
   "source": [
    "def characterise():\n",
    "    import time\n",
    "    valid = False\n",
    "    max_num_tries = 25\n",
    "    num_tries = 0\n",
    "    while not valid:\n",
    "        try:\n",
    "            ser.flushInput()\n",
    "            ser.write(b\",\")\n",
    "            serial_data = str(ser.readline().decode('utf8')).rstrip()\n",
    "            rgb = tuple([int(value) for value in serial_data.split(\"-\")])\n",
    "            # Measurement needs three entries\n",
    "            if len(rgb) != 3:\n",
    "                print(f\"Measurement did not containt 3 RGB values:{rgb}\")\n",
    "                raise Exception()\n",
    "            if not np.all([0 <= x <= 255 for x in rgb]):\n",
    "                print(f\"Measurement outside valid range [0,255]:{rgb}\")\n",
    "                raise Exception()\n",
    "            valid = True\n",
    "        except Exception as err:\n",
    "            print(f\"Unexpected {err=}, {type(err)=}\")\n",
    "            print(\"Measurement invalid, will try again\")\n",
    "            if num_tries > max_num_tries:\n",
    "                print(\"Please check connection. Maximum number of tries exceeded. There seems to be a fatal error.\")\n",
    "                break\n",
    "            num_tries = num_tries + 1\n",
    "    print(f\"New RGB Measurement: {rgb}\")\n",
    "    time.sleep(0.4)\n",
    "    return rgb"
   ]
  },
  {
   "cell_type": "code",
   "execution_count": null,
   "id": "7bd5e46d",
   "metadata": {},
   "outputs": [],
   "source": [
    "characterise()"
   ]
  },
  {
   "cell_type": "markdown",
   "id": "a35049b8",
   "metadata": {},
   "source": [
    "**Warning**: Make 100% sure that you disconnected your Microbit from Google Chrome before continuing. Otherwise, Google Chrome will interfere with the serial connection and you cannot request values"
   ]
  },
  {
   "cell_type": "code",
   "execution_count": null,
   "id": "8b9dfe13",
   "metadata": {},
   "outputs": [],
   "source": [
    "import torch\n",
    "from botorch.models import SingleTaskGP\n",
    "from botorch.fit import fit_gpytorch_mll\n",
    "from botorch.utils import standardize\n",
    "from gpytorch.mlls import ExactMarginalLogLikelihood\n",
    "from botorch.acquisition import UpperConfidenceBound\n",
    "from botorch.optim import optimize_acqf\n",
    "from botorch.models.transforms.input import Normalize\n",
    "from botorch.models.transforms.outcome import Standardize"
   ]
  },
  {
   "cell_type": "code",
   "execution_count": null,
   "id": "8ffb3fba",
   "metadata": {},
   "outputs": [],
   "source": [
    "import pandas as pd\n",
    "def calculate_candidate(samples):\n",
    "    train_X = samples[[\"R\",\"G\",\"B\"]]\n",
    "    train_Y = samples[[\"error\"]]\n",
    "\n",
    "    train_X = torch.tensor(train_X.to_numpy(dtype=np.float64))\n",
    "    train_Y = torch.tensor(-1*train_Y.to_numpy(dtype=np.float64))\n",
    "\n",
    "    gp = SingleTaskGP(train_X, train_Y, input_transform=Normalize(d=train_X.shape[-1]), outcome_transform=Standardize(m=train_Y.shape[-1]),)\n",
    "    mll = ExactMarginalLogLikelihood(gp.likelihood, gp)\n",
    "    fit_gpytorch_mll(mll)\n",
    "\n",
    "    from botorch.acquisition import UpperConfidenceBound\n",
    "    UCB = UpperConfidenceBound(gp, beta=0.1)\n",
    "    \n",
    "    from botorch.optim import optimize_acqf\n",
    "    bounds = torch.stack([torch.zeros(3), torch.ones(3)*255])\n",
    "    candidate, acq_value = optimize_acqf(\n",
    "        UCB, bounds=bounds, q=1, num_restarts=5, raw_samples=20,\n",
    "    )\n",
    "    candidate = candidate[0]\n",
    "    candidate = {\"R\": candidate[0], \"G\": candidate[1], \"B\": candidate[2]}\n",
    "    return candidate"
   ]
  },
  {
   "cell_type": "code",
   "execution_count": null,
   "id": "7a2caa88",
   "metadata": {},
   "outputs": [],
   "source": [
    "import random\n",
    "import numpy as np\n",
    "import cv2\n",
    "\n",
    "# Create a blank image\n",
    "width, height = 800, 400\n",
    "image = np.zeros((height, width, 3), dtype=np.uint8)\n",
    "\n",
    "# Create a named window for display\n",
    "cv2.namedWindow(\"Live Image\", cv2.WINDOW_NORMAL)\n",
    "cv2.startWindowThread()\n",
    "\n",
    "# Define font properties for displaying text\n",
    "font = cv2.FONT_HERSHEY_SIMPLEX\n",
    "font_scale = 0.8\n",
    "font_color = (255, 255, 255)  # White color\n",
    "\n",
    "# Define the goal color\n",
    "goal_color = (255,0,0) \n",
    "\n",
    "# Main loop\n",
    "max_iterations = 50  # Set the desired number of iterations\n",
    "\n",
    "# Let us set up a data table to record the data more structured\n",
    "samples = pd.DataFrame(columns=['R', 'G', 'B', 'error', 'ID'])\n",
    "\n",
    "candidate_color = (0,0,0) # Initial color\n",
    "\n",
    "for iteration in range(max_iterations):\n",
    "    print(f\"---Iteration {iteration}\")\n",
    "\n",
    "    # STEP 1: Synthesis\n",
    "    # Update the live image with the current color\n",
    "    print(f\"Synthesis:{candidate_color}\")\n",
    "    image[:, :] = tuple(reversed(candidate_color))\n",
    "    \n",
    "    # Display the image\n",
    "    cv2.imshow(\"Live Image\", image)\n",
    "    \n",
    "    # STEP 2: Characterisation\n",
    "    \n",
    "    # Measure the color with the Microbit: We will do this eventually\n",
    "    rgb_measurement = characterise()  \n",
    "    print(f\"Characterisation:{rgb_measurement}\")\n",
    "    #rgb_measurement = (rgb_measurement[0]+np.random.normal(1),rgb_measurement[1]+np.random.normal(1),rgb_measurement[2]+np.random.normal(1))\n",
    "    \n",
    "    # STEP 3: Planning\n",
    "    \n",
    "    # Calculate the loss between the goal color and the current color\n",
    "    error = calculate_error(goal_color, rgb_measurement)\n",
    "    print(f\"Error:{error}\")\n",
    "\n",
    "    # Add the sample to the data table\n",
    "    new_sample = pd.DataFrame({\"R\":rgb_measurement[0], \"G\":rgb_measurement[1], \"B\":rgb_measurement[2], \"ID\":iteration, \"error\":error}, index=[iteration])\n",
    "    samples = pd.concat([samples, new_sample], axis=0, ignore_index=True)\n",
    "\n",
    "    candidate = calculate_candidate(samples)\n",
    "    candidate_color = (candidate['R'].item(), candidate['G'].item(), candidate['B'].item())\n",
    "    print(f\"Planning: Candidate:{candidate_color}\")\n",
    "    \n",
    "    # Add text information to the image\n",
    "    text = f\"Iteration: {iteration + 1}\"\n",
    "    cv2.putText(image, text, (10, 30), font, font_scale, font_color, 2)\n",
    "\n",
    "    # Plot a subplot for the goal color\n",
    "    # subplot_x = num_iterations * (width // (max_iterations + 1))\n",
    "    subplot_x = width // (max_iterations + 1)\n",
    "    subplot_width = 50\n",
    "    cv2.rectangle(image, (subplot_x, 60), (subplot_x + subplot_width, height - 60), tuple(reversed(goal_color)), -1)\n",
    "\n",
    "    # Add text for the error\n",
    "    error_text = f\"Error: {error:.2f}\"\n",
    "    cv2.putText(image, error_text, (10, height - 10), font, font_scale, font_color, 2)\n",
    "\n",
    "    error_values = list(samples['error'].to_numpy())    # Draw the graph of error values\n",
    "    if len(error_values) > 1:\n",
    "        for i in range(1, len(error_values)):\n",
    "            x1 = (i - 1) * (width // max_iterations)\n",
    "            y1 = height - int(error_values[i - 1] * (height - 60) / max(error_values))\n",
    "            x2 = i * (width // max_iterations)\n",
    "            y2 = height - int(error_values[i] * (height - 60) / max(error_values))\n",
    "            cv2.line(image, (x1, y1), (x2, y2), (255, 255, 255), 2)\n",
    "\n",
    "    # Increment the iteration counter\n",
    "    cv2.imshow(\"Live Image\", image)\n",
    "    cv2.waitKey(100)  # Adjust the wait time (in milliseconds) as needed\n",
    "    \n",
    "# Close the window after the desired number of iterations\n",
    "cv2.waitKey(1)\n",
    "cv2.destroyAllWindows()\n",
    "cv2.waitKey(1)"
   ]
  },
  {
   "cell_type": "code",
   "execution_count": null,
   "id": "668d00b7",
   "metadata": {
    "scrolled": false
   },
   "outputs": [],
   "source": [
    "import matplotlib.pyplot as plt\n",
    "# Plot error for each iteration\n",
    "plt.scatter(range(len(error_values)), error_values, label=\"Error for each iteration\")\n",
    "\n",
    "# Calculate best error so far\n",
    "best_error_so_far = 1000\n",
    "best_errors = []\n",
    "for value in error_values:\n",
    "    if value < best_error_so_far:\n",
    "        best_error_so_far = value\n",
    "    best_errors.append(best_error_so_far)\n",
    "    \n",
    "# Plot best error so far\n",
    "plt.plot(best_errors, label=\"Best Error So Far\", color=\"orange\")\n",
    "plt.legend()"
   ]
  },
  {
   "cell_type": "markdown",
   "id": "a3fae39c",
   "metadata": {},
   "source": [
    "Let's also plot the RGB colors with it."
   ]
  },
  {
   "cell_type": "code",
   "execution_count": null,
   "id": "347e9c75",
   "metadata": {},
   "outputs": [],
   "source": [
    "import matplotlib.pyplot as plt\n",
    "# Plot error for each iteration\n",
    "plt.scatter(range(len(error_values)), error_values, label=\"Error for each iteration\")\n",
    "\n",
    "# Calculate best error so far\n",
    "best_error_so_far = 1000\n",
    "best_errors = []\n",
    "for value in error_values:\n",
    "    if value < best_error_so_far:\n",
    "        best_error_so_far = value\n",
    "    best_errors.append(best_error_so_far)\n",
    "    \n",
    "# Plot best error so far\n",
    "plt.plot(best_errors, label=\"Best Error So Far\", color=\"orange\")\n",
    "plt.xlabel('Iteration', fontsize=18)\n",
    "plt.ylabel('Distance to Goal', fontsize=18)\n",
    "plt.legend()\n",
    "ax = plt.gca()\n",
    "secax = ax.twinx() \n",
    "secax.set_ylabel('RGB value (0 to 255)')\n",
    "secax.plot(samples['R'], color='red', linestyle='dashed')\n",
    "secax.plot(samples['G'], color='green', linestyle='dashed')\n",
    "secax.plot(samples['B'], color='blue', linestyle='dashed')\n"
   ]
  },
  {
   "cell_type": "markdown",
   "id": "030852aa",
   "metadata": {},
   "source": [
    "**Task**: Run the SDL loop a few times. Change the distance of how close the microbit color sensor is to your screen. Does it impact the speed of convergence? Is there a distance where the sensor does not reliably measure the color anymore?"
   ]
  },
  {
   "cell_type": "markdown",
   "id": "ea6f9461",
   "metadata": {},
   "source": [
    "## (5) Congratulations! \n",
    "\n",
    "### You just ran your first closed-loop self-driving laboratory. In Step 1, 2 and 3, you learned how to do:\n",
    "### 1. Synthesis: *Generating the material: a color on your screen (RGB)*\n",
    "### 2. Charactersiation: *Measuring the material: the color on your screen (in RGB)*\n",
    "### 3. Planning: *Choosing the next experiment: randomly, with a grid or with Bayesian Optimisation*"
   ]
  },
  {
   "cell_type": "code",
   "execution_count": null,
   "id": "fb22c948",
   "metadata": {},
   "outputs": [],
   "source": []
  }
 ],
 "metadata": {
  "kernelspec": {
   "display_name": "SDL4Kids_kernel",
   "language": "python",
   "name": "sdl4kids_kernel"
  },
  "language_info": {
   "codemirror_mode": {
    "name": "ipython",
    "version": 3
   },
   "file_extension": ".py",
   "mimetype": "text/x-python",
   "name": "python",
   "nbconvert_exporter": "python",
   "pygments_lexer": "ipython3",
   "version": "3.11.4"
  }
 },
 "nbformat": 4,
 "nbformat_minor": 5
}
