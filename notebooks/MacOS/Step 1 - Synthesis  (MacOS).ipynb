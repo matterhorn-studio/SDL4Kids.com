{
 "cells": [
  {
   "cell_type": "markdown",
   "id": "7fadee20",
   "metadata": {
    "pycharm": {
     "name": "#%% md\n"
    }
   },
   "source": [
    "# Step 1 - Synthesis  (MacOS)\n",
    "\n",
    "In this notebook, you will learn more about the first step of an SDL: *Synthesis*.\n",
    "\n",
    "This notebook is part of a 4 part series:\n",
    "1. Step 1: Synthesis (10 mins, EASY)\n",
    "2. Step 2: Characterisation (20 mins, MEDIUM)\n",
    "3. Step 3: Planning (15 mins, MEDIUM)\n",
    "4. Step 4: All 3 Steps Together - Synthesis-Characterisation-Planning (15 mins, HARD)\n",
    "\n",
    "ALL of the steps in this notebook are down without the microbit. We will introduce the microbit in Step 2.\n",
    "\n",
    "### For the best experience, following along the video-series that explains the notebooks step by step [here](http://sdl4kids.com).\n",
    "\n",
    "If you have any questions, check out the [FAQ](https://sites.google.com/matterhorn.studio/sdl4kids/faq)!"
   ]
  },
  {
   "cell_type": "markdown",
   "id": "7c546391",
   "metadata": {},
   "source": [
    "## Introduction\n",
    "\n",
    "We will look at all the building blocks required for showing squares different colors on your screen.\n",
    "\n",
    "1. Creating a window to draw colors in\n",
    "2. Rendering different colors into that window\n",
    "3. Updating the window with new colors\n",
    "\n",
    "**Note**: You will NOT need the microbit for this notebook."
   ]
  },
  {
   "cell_type": "markdown",
   "id": "861537d0",
   "metadata": {},
   "source": [
    "## (1) Creating a window and filling it with a color\n",
    "\n",
    "**Goal**: You will learn how to display different RGB colors on your screen.\n",
    "\n",
    "RGB is a short-hand for the colors \"Red\", \"Green\" and \"Blue\". \n",
    "\n",
    "By *mixing* these three colors, we can create all kinds of colors on your screen.  For example\n",
    "\n",
    "1. (255,0,0) is 100% red and no other color, so the screen will be fully red.\n",
    "2. (255,0,255) is red and blue together, which makes pink!\n",
    "3. (255,255,255) is 100% for all of red, green and blue, which makes the color white.\n"
   ]
  },
  {
   "cell_type": "markdown",
   "id": "d74f3500",
   "metadata": {},
   "source": [
    "First, we will import 'cv2', the python software library which we will use to draw rectangles on our screen. ([Installation instructions](https://github.com/opencv/opencv-python))\n",
    "\n",
    "We also import numpy for some calculations later. ([Installation instructions](https://numpy.org/install/))"
   ]
  },
  {
   "cell_type": "code",
   "execution_count": 1,
   "id": "2f2aad3d",
   "metadata": {},
   "outputs": [],
   "source": [
    "import cv2\n",
    "import numpy as np"
   ]
  },
  {
   "cell_type": "markdown",
   "id": "cb8a590d",
   "metadata": {},
   "source": [
    "Then, we define what RGB values we want to mix and put them together into one a single object (also called a *tuple*)."
   ]
  },
  {
   "cell_type": "code",
   "execution_count": 4,
   "id": "2778ef59",
   "metadata": {},
   "outputs": [],
   "source": [
    "red = 255\n",
    "green = 0\n",
    "blue = 255\n",
    "\n",
    "current_color = (red, green, blue)"
   ]
  },
  {
   "cell_type": "markdown",
   "id": "47b2862c",
   "metadata": {},
   "source": [
    "The following code will create a window and fill it with our 'current_color'. \n",
    "\n",
    "Make sure you have an idea what each of the steps does!"
   ]
  },
  {
   "cell_type": "code",
   "execution_count": 6,
   "id": "314cfd23",
   "metadata": {},
   "outputs": [
    {
     "data": {
      "text/plain": [
       "-1"
      ]
     },
     "execution_count": 6,
     "metadata": {},
     "output_type": "execute_result"
    }
   ],
   "source": [
    "# 1. Create a window to display our color and give it a name\n",
    "cv2.namedWindow(\"Synthesis Window\", cv2.WINDOW_NORMAL)\n",
    "cv2.startWindowThread()\n",
    "\n",
    "# 2. Create a blank image of size 800 by 400\n",
    "width, height = 800, 400\n",
    "image = np.zeros((height, width, 3), dtype=np.uint8)\n",
    "\n",
    "# 3. Fill it with our current color\n",
    "image[:, :] = tuple(reversed(current_color)) #cv2 expects colors in the BGR order, not RGB\n",
    "\n",
    "# 4. Display the image\n",
    "cv2.imshow(\"Live Image\", image)\n",
    "\n",
    "# 5. Wait for 3000 milliseconds (i.e. 3 seconds) so we can see the window\n",
    "cv2.waitKey(3000)  \n",
    "\n",
    "# 6. Close the CV2 window\n",
    "cv2.waitKey(1)\n",
    "cv2.destroyAllWindows()\n",
    "cv2.waitKey(1)"
   ]
  },
  {
   "cell_type": "markdown",
   "id": "a7be9b75",
   "metadata": {},
   "source": [
    "**Task**: Now try it yourself: Change the RGB value above (i.e. the variable current_color), and see what different rectangles you can create!"
   ]
  },
  {
   "cell_type": "code",
   "execution_count": null,
   "id": "dde37817",
   "metadata": {},
   "outputs": [],
   "source": [
    "current_color = (255,255,255)"
   ]
  },
  {
   "cell_type": "markdown",
   "id": "77581851",
   "metadata": {
    "pycharm": {
     "name": "#%% md\n"
    }
   },
   "source": [
    "## (2) Generating a random colors"
   ]
  },
  {
   "cell_type": "markdown",
   "id": "cfd2c5e7",
   "metadata": {},
   "source": [
    "**Goal**: We will define a function that will give us random RGB combinations, i.e. three random numbers, each between 0 and 255:"
   ]
  },
  {
   "cell_type": "code",
   "execution_count": 8,
   "id": "e3f6ecb7",
   "metadata": {},
   "outputs": [],
   "source": [
    "import random #this package give us access to a function called 'randint(lowest, highest)'\n",
    "def generate_random_color():\n",
    "    red = random.randint(0, 255)\n",
    "    green = random.randint(0, 255)\n",
    "    blue = random.randint(0, 255)\n",
    "    return red, green, blue  # OpenCV uses BGR color format"
   ]
  },
  {
   "cell_type": "markdown",
   "id": "2ba76b4e",
   "metadata": {},
   "source": [
    "Give the function a try, run it a few time to generate different random colors:"
   ]
  },
  {
   "cell_type": "code",
   "execution_count": 9,
   "id": "248d5233",
   "metadata": {},
   "outputs": [
    {
     "data": {
      "text/plain": [
       "(232, 113, 236)"
      ]
     },
     "execution_count": 9,
     "metadata": {},
     "output_type": "execute_result"
    }
   ],
   "source": [
    "generate_random_color()"
   ]
  },
  {
   "cell_type": "markdown",
   "id": "82c7f17a",
   "metadata": {},
   "source": [
    "Let's generate 10 different random colors with a loop:"
   ]
  },
  {
   "cell_type": "code",
   "execution_count": null,
   "id": "094f89ee",
   "metadata": {
    "pycharm": {
     "name": "#%%\n"
    }
   },
   "outputs": [],
   "source": [
    "# 1. Create a named window for display\n",
    "cv2.namedWindow(\"Synthesis Window\", cv2.WINDOW_NORMAL)\n",
    "cv2.startWindowThread()\n",
    "\n",
    "# 2. Create a blank image\n",
    "width, height = 800, 400\n",
    "image = np.zeros((height, width, 3), dtype=np.uint8)\n",
    "\n",
    "# 3. Define how many colors we want to show\n",
    "max_iterations = 20 \n",
    "\n",
    "for iteration in range(max_iterations):\n",
    "    # 4. Generate a new random color\n",
    "    current_color = generate_random_color()\n",
    "    \n",
    "    # 5. Update the live image with the current color\n",
    "    image[:, :] = tuple(reversed(current_color))\n",
    "    \n",
    "    # 6. Display the image\n",
    "    cv2.imshow(\"Live Image\", image)\n",
    "    \n",
    "    # 7. Wait half a second\n",
    "    cv2.waitKey(100) \n",
    "        \n",
    "# Close the window after the desired number of iterations\n",
    "cv2.waitKey(1)\n",
    "cv2.destroyAllWindows()\n",
    "cv2.waitKey(1)"
   ]
  },
  {
   "cell_type": "markdown",
   "id": "475f3b37",
   "metadata": {},
   "source": [
    "**Task**: Try changing the number of iterations or the time we wait before we show the next color to get a feeling for the loop."
   ]
  },
  {
   "cell_type": "markdown",
   "id": "8ceb1463",
   "metadata": {},
   "source": [
    "## (3) Setting a goal color and calculating the error\n",
    "\n",
    "**Goal**: Let's extend the loop above and calculate the *difference* between each random color and a 'target' color that we want to achieve. We will call this the *error* between our target color and another color.\n",
    "\n",
    "For example, if our goal is a completely red image, i.e.\n",
    "\n",
    "RGB_goal = (255,0,0)\n",
    "\n",
    "then difference between our goal and a different color will be\n",
    "\n",
    "RGB_goal - current_color = (255,0,0) - (150,100,200)\n",
    "\n",
    "if current color was (150,100,200).\n",
    "\n",
    "We will use the squared error to indicate that we only care *how far* the color is away from our goal, not whether it is bigger or smaller than the goal."
   ]
  },
  {
   "cell_type": "code",
   "execution_count": 11,
   "id": "f146cf6f",
   "metadata": {},
   "outputs": [],
   "source": [
    "def calculate_error(color1, color2):\n",
    "    return np.sqrt((color1[0] - color2[0]) ** 2 + (color1[1] - color2[1]) ** 2 + (color1[2] - color2[2]) ** 2)"
   ]
  },
  {
   "cell_type": "markdown",
   "id": "4ae991ef",
   "metadata": {},
   "source": [
    "**Task**: Use the calculate function to calculate the difference between two colors, e.g. with goal = (255,0,0)\n",
    "\n",
    "Which color is furthest away from our goal of (255,0,0)?"
   ]
  },
  {
   "cell_type": "code",
   "execution_count": null,
   "id": "555ff97a",
   "metadata": {},
   "outputs": [],
   "source": [
    "RGB_goal = (255,0,0)\n",
    "current_color = (255,0,0)\n",
    "calculate_error(RGB_goal, current_color)"
   ]
  },
  {
   "cell_type": "markdown",
   "id": "3d8137bf",
   "metadata": {},
   "source": [
    "Let's generate some random colors and calculate their errors (printed below the cell):"
   ]
  },
  {
   "cell_type": "code",
   "execution_count": null,
   "id": "ea6f1396",
   "metadata": {},
   "outputs": [],
   "source": [
    "# 1. Create a named window for display\n",
    "cv2.namedWindow(\"Synthesis Window\", cv2.WINDOW_NORMAL)\n",
    "cv2.startWindowThread()\n",
    "\n",
    "# 2. Create a blank image\n",
    "width, height = 800, 400\n",
    "image = np.zeros((height, width, 3), dtype=np.uint8)\n",
    "\n",
    "# 3.1 Define how many colors we want to show\n",
    "max_iterations = 20 \n",
    "\n",
    "# 3.2 Let's define our goal color\n",
    "goal_color = (255,0,0) \n",
    "\n",
    "# 3.3 Create an empty list to store the error values\n",
    "error_values = []\n",
    "\n",
    "for iteration in range(max_iterations):\n",
    "    # 4. Generate a new random color\n",
    "    current_color = generate_random_color()\n",
    "    \n",
    "    # 5. Update the live image with the current color\n",
    "    image[:, :] = tuple(reversed(current_color))\n",
    "    \n",
    "    # 6.1 Let's also calculate the difference between the random color and the goal\n",
    "    error = calculate_error(goal_color, current_color)\n",
    "    error_values.append(error)\n",
    "    print(f\"RGB={current_color} has Error={error}\")\n",
    "    \n",
    "    # 6.2 Display the image\n",
    "    cv2.imshow(\"Live Image\", image)\n",
    "    \n",
    "    # 7. Wait half a second\n",
    "    cv2.waitKey(100) \n",
    "        \n",
    "# Close the window after the desired number of iterations\n",
    "cv2.waitKey(1)\n",
    "cv2.destroyAllWindows()\n",
    "cv2.waitKey(1)"
   ]
  },
  {
   "cell_type": "markdown",
   "id": "21514035",
   "metadata": {},
   "source": [
    "We also added a list called 'error_values' that save all the color differences so we can plot them for each iteration.\n",
    "\n",
    "Each error corresponds to the 'distance' between a color and our goal. For example, a dark red color will have a smaller error than a neon green color to pure red as it is much more similar to red."
   ]
  },
  {
   "cell_type": "code",
   "execution_count": null,
   "id": "428e85f5",
   "metadata": {},
   "outputs": [],
   "source": [
    "import matplotlib.pyplot as plt\n",
    "# Plot error for each iteration\n",
    "plt.scatter(range(len(error_values)), error_values, label=\"Error for each iteration\")\n",
    "\n",
    "# Calculate best error so far\n",
    "best_error_so_far = 1000\n",
    "best_errors = []\n",
    "for value in error_values:\n",
    "    if value < best_error_so_far:\n",
    "        best_error_so_far = value\n",
    "    best_errors.append(best_error_so_far)\n",
    "    \n",
    "# Plot best error so far\n",
    "plt.plot(best_errors, label=\"Best Error So Far\", color=\"orange\")\n",
    "plt.xlabel('Iteration', fontsize=18)\n",
    "plt.ylabel('Distance to Goal', fontsize=18)\n",
    "plt.legend()"
   ]
  },
  {
   "cell_type": "markdown",
   "id": "4adab653",
   "metadata": {
    "pycharm": {
     "name": "#%%\n"
    }
   },
   "source": [
    "**Task**: What happens when you run the loop for longer? Do you find more colors that have a small error?"
   ]
  },
  {
   "cell_type": "markdown",
   "id": "2dcf491c",
   "metadata": {},
   "source": [
    "## (4) Adding more details to the window\n",
    "\n",
    "**Goal**: We will add some more information to the window. \n",
    "\n",
    "You don't need to understand the details below, but feel free to take a closer look if you are curious how it works:\n",
    "\n",
    "1. A counter for the iterations. (top left)\n",
    "2. A line that shows the error. (left to right, in white)\n",
    "3. A gauge that shows the current error. (bottom left)\n",
    "4. The goal color, with a rectangle on the left side."
   ]
  },
  {
   "cell_type": "code",
   "execution_count": 14,
   "id": "c40d8b21",
   "metadata": {},
   "outputs": [
    {
     "name": "stdout",
     "output_type": "stream",
     "text": [
      "RGB=(27, 116, 15) has Error=256.25182926176353\n",
      "RGB=(106, 142, 194) has Error=282.84448023604773\n",
      "RGB=(200, 248, 35) has Error=256.4254277562972\n",
      "RGB=(39, 254, 118) has Error=353.68912903848206\n",
      "RGB=(199, 104, 115) has Error=164.8544812857691\n",
      "RGB=(207, 162, 40) has Error=173.63179432350518\n",
      "RGB=(227, 71, 107) has Error=131.43059004660978\n",
      "RGB=(196, 247, 90) has Error=269.4253143266237\n",
      "RGB=(62, 205, 150) has Error=319.02037552482443\n",
      "RGB=(7, 1, 189) has Error=311.8108400937979\n"
     ]
    },
    {
     "data": {
      "text/plain": [
       "-1"
      ]
     },
     "execution_count": 14,
     "metadata": {},
     "output_type": "execute_result"
    }
   ],
   "source": [
    "# 1. Create a named window for display\n",
    "cv2.namedWindow(\"Synthesis Window\", cv2.WINDOW_NORMAL)\n",
    "cv2.startWindowThread()\n",
    "\n",
    "# 2. Create a blank image\n",
    "width, height = 800, 400\n",
    "image = np.zeros((height, width, 3), dtype=np.uint8)\n",
    "\n",
    "# 3.1 Define how many colors we want to show\n",
    "max_iterations = 10 \n",
    "\n",
    "# 3.2 Let's define our goal color\n",
    "goal_color = (255,0,0)\n",
    "\n",
    "# 3.3 Create an empty list to store the error values\n",
    "error_values = []\n",
    "\n",
    "# 3.4 Define font properties for displaying text\n",
    "font = cv2.FONT_HERSHEY_SIMPLEX\n",
    "font_scale = 0.8\n",
    "font_color = (255, 255, 255)  # White color\n",
    "\n",
    "for iteration in range(max_iterations):\n",
    "    # 4. Generate a new random color\n",
    "    current_color = generate_random_color()\n",
    "    \n",
    "    # 5.1 Update the live image with the current color\n",
    "    image[:, :] = tuple(reversed(current_color))\n",
    "    \n",
    "    # 5.2 Let's plot the goal color\n",
    "    subplot_x = width // (max_iterations + 1)\n",
    "    subplot_width = width // (max_iterations + 1)\n",
    "    cv2.rectangle(image, (subplot_x, 60), (subplot_x + subplot_width, height - 60), tuple(reversed(goal_color)), -1)\n",
    "    \n",
    "    # 5.3 Let's also calculate the difference between the random color and the goal\n",
    "    error = calculate_error(goal_color, current_color)\n",
    "    error_values.append(error)\n",
    "    print(f\"RGB={current_color} has Error={error}\")\n",
    "    \n",
    "    # 5.4. Add text information to the image\n",
    "    text = f\"Iteration: {iteration + 1}\"\n",
    "    cv2.putText(image, text, (10, 30), font, font_scale, font_color, 2)\n",
    "\n",
    "    # 5.5 Add text for the error\n",
    "    error_text = f\"Error: {error:.2f}\"\n",
    "    cv2.putText(image, error_text, (10, height - 10), font, font_scale, font_color, 2)\n",
    "\n",
    "    # 5.6 Draw the graph of error values\n",
    "    if len(error_values) > 1:\n",
    "        for i in range(1, len(error_values)):\n",
    "            x1 = (i - 1) * (width // max_iterations)\n",
    "            y1 = height - int(error_values[i - 1] * (height - 60) / max(error_values))\n",
    "            x2 = i * (width // max_iterations)\n",
    "            y2 = height - int(error_values[i] * (height - 60) / max(error_values))\n",
    "            cv2.line(image, (x1, y1), (x2, y2), (255, 255, 255), 2)\n",
    "    \n",
    "    # 6. Display the image again\n",
    "    cv2.imshow(\"Live Image\", image)\n",
    "    \n",
    "    # 8. Wait half a second\n",
    "    cv2.waitKey(500) \n",
    "        \n",
    "# Close the window after the desired number of iterations\n",
    "cv2.waitKey(1)\n",
    "cv2.destroyAllWindows()\n",
    "cv2.waitKey(1)"
   ]
  },
  {
   "cell_type": "markdown",
   "id": "673859ec",
   "metadata": {},
   "source": [
    "## (5) Conclusion\n",
    "\n",
    "Well done! You made it completed Step 1 of the SDL4Kids.com notebooks. \n",
    "\n",
    "You learnt:\n",
    "1. How to create windows\n",
    "2. Fill them with colors\n",
    "3. Fill them with random colors\n",
    "4. Calculate the difference of those random colors to a goal color\n",
    "5. Display a graph of the errors\n",
    "6. Add aditional information to the window\n",
    "\n",
    "### **Now it's time to move on to the second step of an SDL: Characterisation in Step 2**"
   ]
  },
  {
   "cell_type": "code",
   "execution_count": null,
   "id": "fdeb7bb6",
   "metadata": {},
   "outputs": [],
   "source": []
  },
  {
   "cell_type": "code",
   "execution_count": null,
   "id": "a8f94568",
   "metadata": {},
   "outputs": [],
   "source": []
  }
 ],
 "metadata": {
  "kernelspec": {
   "display_name": "SDL4Kids_kernel",
   "language": "python",
   "name": "sdl4kids_kernel"
  },
  "language_info": {
   "codemirror_mode": {
    "name": "ipython",
    "version": 3
   },
   "file_extension": ".py",
   "mimetype": "text/x-python",
   "name": "python",
   "nbconvert_exporter": "python",
   "pygments_lexer": "ipython3",
   "version": "3.11.4"
  }
 },
 "nbformat": 4,
 "nbformat_minor": 5
}
