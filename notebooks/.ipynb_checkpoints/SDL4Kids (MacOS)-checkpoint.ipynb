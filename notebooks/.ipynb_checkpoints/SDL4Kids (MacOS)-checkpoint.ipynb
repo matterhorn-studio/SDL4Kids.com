{
 "cells": [
  {
   "cell_type": "markdown",
   "id": "7fadee20",
   "metadata": {
    "pycharm": {
     "name": "#%% md\n"
    }
   },
   "source": [
    "# SDL4Kids.com: Your first self-driving laboratory （MacOS version)\n",
    "\n",
    "This notebook helps you run your first SDL, using the BBC Micro:bit, see [sdl4kids.com](http://sdl4kids.com).\n",
    "\n",
    "Go to [sdl4kids.com](http://sdl4kids.com) for the Windows version.\n",
    "\n",
    "If you have any questions, check out the [FAQ](https://sites.google.com/matterhorn.studio/sdl4kids/faq)!"
   ]
  },
  {
   "cell_type": "markdown",
   "id": "7c546391",
   "metadata": {},
   "source": [
    "## Introduction\n",
    "\n",
    "In this notebook, you will run your first closed-loop SDL.\n",
    "\n",
    "Every SDL has three core components\n",
    "\n",
    "1. Synthesis: We will use your computer screen to generate rectangles with different RGB colors (Synthesis).\n",
    "2. Characterisation: We will use the Microbit to measure (Characterisation) the RGB color on the screen. \n",
    "3. Planning: We will use different strategies to find the correct RGB color combination."
   ]
  },
  {
   "cell_type": "markdown",
   "id": "861537d0",
   "metadata": {},
   "source": [
    "## (1) Synthesis: Using your screen as an RGB color generator\n",
    "\n",
    "**Goal**: You will learn how to display different RGB colors on your screen"
   ]
  },
  {
   "cell_type": "code",
   "execution_count": 17,
   "id": "b7bdb14c",
   "metadata": {},
   "outputs": [
    {
     "name": "stdout",
     "output_type": "stream",
     "text": [
      "Requirement already satisfied: opencv-python in /Users/jakobzeitler/Documents/GitHub/Matterhorn-Studio-DM-project/SDL4Kids/lib/python3.9/site-packages (4.8.0.74)\n",
      "Requirement already satisfied: numpy>=1.19.3 in /Users/jakobzeitler/Documents/GitHub/Matterhorn-Studio-DM-project/SDL4Kids/lib/python3.9/site-packages (from opencv-python) (1.25.1)\n",
      "\n",
      "\u001b[1m[\u001b[0m\u001b[34;49mnotice\u001b[0m\u001b[1;39;49m]\u001b[0m\u001b[39;49m A new release of pip available: \u001b[0m\u001b[31;49m22.3\u001b[0m\u001b[39;49m -> \u001b[0m\u001b[32;49m23.2\u001b[0m\n",
      "\u001b[1m[\u001b[0m\u001b[34;49mnotice\u001b[0m\u001b[1;39;49m]\u001b[0m\u001b[39;49m To update, run: \u001b[0m\u001b[32;49mpip install --upgrade pip\u001b[0m\n",
      "Requirement already satisfied: numpy in /Users/jakobzeitler/Documents/GitHub/Matterhorn-Studio-DM-project/SDL4Kids/lib/python3.9/site-packages (1.25.1)\n",
      "\n",
      "\u001b[1m[\u001b[0m\u001b[34;49mnotice\u001b[0m\u001b[1;39;49m]\u001b[0m\u001b[39;49m A new release of pip available: \u001b[0m\u001b[31;49m22.3\u001b[0m\u001b[39;49m -> \u001b[0m\u001b[32;49m23.2\u001b[0m\n",
      "\u001b[1m[\u001b[0m\u001b[34;49mnotice\u001b[0m\u001b[1;39;49m]\u001b[0m\u001b[39;49m To update, run: \u001b[0m\u001b[32;49mpip install --upgrade pip\u001b[0m\n"
     ]
    }
   ],
   "source": [
    "!pip install opencv-python\n",
    "!pip install numpy"
   ]
  },
  {
   "cell_type": "code",
   "execution_count": 16,
   "id": "314cfd23",
   "metadata": {},
   "outputs": [
    {
     "data": {
      "text/plain": [
       "-1"
      ]
     },
     "execution_count": 16,
     "metadata": {},
     "output_type": "execute_result"
    }
   ],
   "source": [
    "import cv2\n",
    "import numpy as np\n",
    "\n",
    "blue = 0\n",
    "green = 0\n",
    "red = 255\n",
    "\n",
    "current_color = (blue, green, red)\n",
    "\n",
    "# Create a blank image\n",
    "width, height = 800, 400\n",
    "image = np.zeros((height, width, 3), dtype=np.uint8)\n",
    "\n",
    "# Create a named window for display\n",
    "cv2.namedWindow(\"Live Image\", cv2.WINDOW_NORMAL)\n",
    "cv2.startWindowThread()\n",
    "\n",
    "image[:, :] = current_color\n",
    "\n",
    "# Display the image\n",
    "cv2.imshow(\"Live Image\", image)\n",
    "cv2.waitKey(3000)  # Adjust the wait time (in milliseconds) as needed\n",
    "\n",
    "# Close the window after the desired number of iterations\n",
    "cv2.waitKey(1)\n",
    "cv2.destroyAllWindows()\n",
    "cv2.waitKey(1)"
   ]
  },
  {
   "cell_type": "markdown",
   "id": "4caf96cd",
   "metadata": {
    "pycharm": {
     "name": "#%% md\n"
    }
   },
   "source": [
    "## (2) Characterisation: Using the Microbit with the Envirobit to measure RGB colors\n",
    "\n",
    "**Goal**: You will be able to measure RGB colors with the Microbit\n",
    "We will use the 'pyserial' library. Let's make sure it is installed\n",
    "\n",
    "**Tasks**: \n",
    "1. Program the Microbit to measure RGB color on request.\n",
    "2. Connect the Microbit to the computer, and make sure we request new measurements from it."
   ]
  },
  {
   "cell_type": "markdown",
   "id": "57786146",
   "metadata": {
    "pycharm": {
     "name": "#%% md\n"
    }
   },
   "source": [
    "### (2.1) Programming the Microbit to send new RGB color measurements\n",
    "\n",
    "1. Open MakeCode [here](https://makecode.microbit.org/#editor).\n",
    "2. In the middle column, somewhere between \"Math\" and \"Variables\" click on \"Extensions\".\n",
    "3. Search for \"envirobit\", then click on it to load the envirobit library into your Microbit program.\n",
    "4. Drag and drop the below program into your Microbit.\n",
    "\n",
    "![Microbit Program](img/microbit_program.png \"Microbit Program\")\n",
    "\n",
    "5. Alternatively, you can copy and paste the following code into the \"JavaScript\" section (switch to JavaScript via its button in the middle of the top bar):\n",
    "```\n",
    "serial.onDataReceived(serial.delimiters(Delimiters.Comma), function () {\n",
    "    serial.writeValue(\"R\", envirobit.getRed())\n",
    "    serial.writeValue(\"G\", envirobit.getGreen())\n",
    "    serial.writeValue(\"B\", envirobit.getBlue())\n",
    "    music.playTone(262, music.beat(BeatFraction.Sixteenth))\n",
    "})\n",
    "music.setVolume(127)\n",
    "```\n"
   ]
  },
  {
   "cell_type": "markdown",
   "id": "baa14281",
   "metadata": {},
   "source": [
    "### (2.2) Connecting to the Microbit and requesting new measurements"
   ]
  },
  {
   "cell_type": "code",
   "execution_count": 5,
   "id": "4889922a",
   "metadata": {
    "pycharm": {
     "name": "#%%\n"
    }
   },
   "outputs": [
    {
     "name": "stdout",
     "output_type": "stream",
     "text": [
      "Requirement already satisfied: pyserial in /Users/jakobzeitler/Documents/GitHub/Matterhorn-Studio-DM-project/SDL4Kids/lib/python3.9/site-packages (3.5)\n",
      "\n",
      "\u001b[1m[\u001b[0m\u001b[34;49mnotice\u001b[0m\u001b[1;39;49m]\u001b[0m\u001b[39;49m A new release of pip available: \u001b[0m\u001b[31;49m22.3\u001b[0m\u001b[39;49m -> \u001b[0m\u001b[32;49m23.2\u001b[0m\n",
      "\u001b[1m[\u001b[0m\u001b[34;49mnotice\u001b[0m\u001b[1;39;49m]\u001b[0m\u001b[39;49m To update, run: \u001b[0m\u001b[32;49mpip install --upgrade pip\u001b[0m\n"
     ]
    }
   ],
   "source": [
    "!pip install pyserial"
   ]
  },
  {
   "cell_type": "markdown",
   "id": "c10a47f1",
   "metadata": {
    "pycharm": {
     "name": "#%% md\n"
    }
   },
   "source": [
    "Let's import the 'pyserial' package, which we use to connect to the Microbit (it is just called 'serial'):"
   ]
  },
  {
   "cell_type": "code",
   "execution_count": 6,
   "id": "26239577",
   "metadata": {
    "pycharm": {
     "name": "#%%\n"
    }
   },
   "outputs": [],
   "source": [
    "import serial"
   ]
  },
  {
   "cell_type": "markdown",
   "id": "5feba709",
   "metadata": {
    "pycharm": {
     "name": "#%% md\n"
    }
   },
   "source": [
    "We will list all USB devices currently connected to our computer:"
   ]
  },
  {
   "cell_type": "code",
   "execution_count": 7,
   "id": "ed6dd490",
   "metadata": {
    "pycharm": {
     "name": "#%%\n"
    }
   },
   "outputs": [
    {
     "name": "stdout",
     "output_type": "stream",
     "text": [
      "\u001b[34m\u001b[43m/dev/cu.Bluetooth-Incoming-Port\u001b[m\u001b[m \u001b[34m\u001b[43m/dev/cu.ZeitlersBoseQC35II\u001b[m\u001b[m\r\n",
      "\u001b[34m\u001b[43m/dev/cu.RoastBeats\u001b[m\u001b[m              \u001b[34m\u001b[43m/dev/cu.usbmodem2102\u001b[m\u001b[m\r\n"
     ]
    }
   ],
   "source": [
    "!ls /dev/cu.*"
   ]
  },
  {
   "cell_type": "markdown",
   "id": "c4f37588",
   "metadata": {
    "pycharm": {
     "name": "#%% md\n"
    }
   },
   "source": [
    "Choose the one with 'cu.usbmodem' in its name and copy its name below:"
   ]
  },
  {
   "cell_type": "code",
   "execution_count": 8,
   "id": "13cb4120",
   "metadata": {
    "pycharm": {
     "name": "#%%\n"
    }
   },
   "outputs": [],
   "source": [
    "ser = serial.Serial()\n",
    "ser=serial.Serial(\"/dev/cu.usbmodem2102\",115200)"
   ]
  },
  {
   "cell_type": "markdown",
   "id": "f307b1bd",
   "metadata": {},
   "source": [
    "## (3) Planning: Using different search strategies: Random, Grid, Bayesian Optimisation"
   ]
  },
  {
   "cell_type": "markdown",
   "id": "77581851",
   "metadata": {
    "pycharm": {
     "name": "#%% md\n"
    }
   },
   "source": [
    "## Generate a random color with CV2"
   ]
  },
  {
   "cell_type": "code",
   "execution_count": 3,
   "id": "094f89ee",
   "metadata": {
    "pycharm": {
     "name": "#%%\n"
    }
   },
   "outputs": [
    {
     "name": "stdout",
     "output_type": "stream",
     "text": [
      "1\n",
      "2\n",
      "3\n",
      "4\n",
      "5\n",
      "6\n",
      "7\n",
      "8\n",
      "9\n",
      "10\n"
     ]
    },
    {
     "data": {
      "text/plain": [
       "-1"
      ]
     },
     "execution_count": 3,
     "metadata": {},
     "output_type": "execute_result"
    }
   ],
   "source": [
    "import random\n",
    "import numpy as np\n",
    "import cv2\n",
    "\n",
    "# Function to generate random color\n",
    "def generate_random_color():\n",
    "    red = random.randint(0, 255)\n",
    "    green = random.randint(0, 255)\n",
    "    blue = random.randint(0, 255)\n",
    "    return blue, green, red  # OpenCV uses BGR color format\n",
    "\n",
    "# Function to calculate the loss between two colors\n",
    "def calculate_loss(color1, color2):\n",
    "    return np.sqrt((color1[0] - color2[0]) ** 2 + (color1[1] - color2[1]) ** 2 + (color1[2] - color2[2]) ** 2)\n",
    "\n",
    "# Create a blank image\n",
    "width, height = 800, 400\n",
    "image = np.zeros((height, width, 3), dtype=np.uint8)\n",
    "\n",
    "# Create a named window for display\n",
    "cv2.namedWindow(\"Live Image\", cv2.WINDOW_NORMAL)\n",
    "cv2.startWindowThread()\n",
    "\n",
    "# Define font properties for displaying text\n",
    "font = cv2.FONT_HERSHEY_SIMPLEX\n",
    "font_scale = 0.8\n",
    "font_color = (255, 255, 255)  # White color\n",
    "\n",
    "# Define the goal color\n",
    "goal_color = (0, 0, 255)  # Red color (BGR format)\n",
    "\n",
    "# Create an empty list to store the loss values\n",
    "loss_values = []\n",
    "\n",
    "# Main loop\n",
    "num_iterations = 0\n",
    "max_iterations = 10  # Set the desired number of iterations\n",
    "\n",
    "while num_iterations < max_iterations:\n",
    "    # Generate a new random color\n",
    "    current_color = generate_random_color()\n",
    "\n",
    "    # Calculate the loss between the goal color and the current color\n",
    "    loss = calculate_loss(goal_color, current_color)\n",
    "\n",
    "    # Add the loss value to the list\n",
    "    loss_values.append(loss)\n",
    "\n",
    "    # Update the live image with the current color\n",
    "    image[:, :] = current_color\n",
    "\n",
    "    # Add text information to the image\n",
    "    text = f\"Iteration: {num_iterations + 1}\"\n",
    "    cv2.putText(image, text, (10, 30), font, font_scale, font_color, 2)\n",
    "\n",
    "    # Plot a subplot for the goal color\n",
    "    # subplot_x = num_iterations * (width // (max_iterations + 1))\n",
    "    subplot_x = width // (max_iterations + 1)\n",
    "    subplot_width = width // (max_iterations + 1)\n",
    "    cv2.rectangle(image, (subplot_x, 60), (subplot_x + subplot_width, height - 60), goal_color, -1)\n",
    "\n",
    "    # Add text for the loss\n",
    "    loss_text = f\"Loss: {loss:.2f}\"\n",
    "    cv2.putText(image, loss_text, (10, height - 10), font, font_scale, font_color, 2)\n",
    "\n",
    "    # Draw the graph of loss values\n",
    "    if len(loss_values) > 1:\n",
    "        for i in range(1, len(loss_values)):\n",
    "            x1 = (i - 1) * (width // max_iterations)\n",
    "            y1 = height - int(loss_values[i - 1] * (height - 60) / max(loss_values))\n",
    "            x2 = i * (width // max_iterations)\n",
    "            y2 = height - int(loss_values[i] * (height - 60) / max(loss_values))\n",
    "            cv2.line(image, (x1, y1), (x2, y2), (255, 255, 255), 2)\n",
    "\n",
    "    # Display the image\n",
    "    cv2.imshow(\"Live Image\", image)\n",
    "    cv2.waitKey(1000)  # Adjust the wait time (in milliseconds) as needed\n",
    "\n",
    "    # Increment the iteration counter\n",
    "    num_iterations += 1\n",
    "\n",
    "# Close the window after the desired number of iterations\n",
    "cv2.waitKey(1)\n",
    "cv2.destroyAllWindows()\n",
    "cv2.waitKey(1)"
   ]
  },
  {
   "cell_type": "code",
   "execution_count": null,
   "id": "428e85f5",
   "metadata": {},
   "outputs": [],
   "source": []
  },
  {
   "cell_type": "code",
   "execution_count": 4,
   "id": "d9d1a198",
   "metadata": {
    "pycharm": {
     "name": "#%%\n"
    }
   },
   "outputs": [
    {
     "data": {
      "text/plain": [
       "[<matplotlib.lines.Line2D at 0x16863c9d0>]"
      ]
     },
     "execution_count": 4,
     "metadata": {},
     "output_type": "execute_result"
    },
    {
     "data": {
      "image/png": "[encoded data removed]",
      "text/plain": [
       "<Figure size 640x480 with 1 Axes>"
      ]
     },
     "metadata": {},
     "output_type": "display_data"
    }
   ],
   "source": [
    "import matplotlib.pyplot as plt\n",
    "plt.plot(loss_values)"
   ]
  },
  {
   "cell_type": "markdown",
   "id": "a3ce4463",
   "metadata": {
    "pycharm": {
     "name": "#%% md\n"
    }
   },
   "source": [
    "### use bayesian to reach the goal color"
   ]
  },
  {
   "cell_type": "code",
   "execution_count": 7,
   "id": "710c5884",
   "metadata": {
    "pycharm": {
     "name": "#%%\n"
    }
   },
   "outputs": [
    {
     "name": "stdout",
     "output_type": "stream",
     "text": [
      "(Characterisation) Measure RGB sample:\n",
      "{'R': 117, 'G': 71, 'B': 61, 'outcome': 237.41524803600967, 'time': 1689539005.017233}\n",
      "(Characterisation) Measure RGB sample:\n",
      "{'R': 122, 'G': 69, 'B': 59, 'outcome': 240.95850265139018, 'time': 1689539005.975181}\n",
      "(Characterisation) Measure RGB sample:\n",
      "{'R': 68, 'G': 109, 'B': 65, 'outcome': 229.35779908256882, 'time': 1689539006.944224}\n",
      "(Characterisation) Measure RGB sample:\n",
      "{'R': 135, 'G': 64, 'B': 56, 'outcome': 248.84131489766727, 'time': 1689539007.918304}\n",
      "(Characterisation) Measure RGB sample:\n",
      "{'R': 187, 'G': 34, 'B': 38, 'outcome': 288.46836914989484, 'time': 1689539008.887062}\n",
      "(Characterisation) Measure RGB sample:\n",
      "{'R': 186, 'G': 37, 'B': 37, 'outcome': 288.9446313742479, 'time': 1689539010.155988}\n",
      "(Characterisation) Measure RGB sample:\n",
      "{'R': 179, 'G': 43, 'B': 38, 'outcome': 284.568093784247, 'time': 1689539011.450079}\n",
      "(Characterisation) Measure RGB sample:\n",
      "{'R': 186, 'G': 37, 'B': 32, 'outcome': 292.7353753819309, 'time': 1689539012.7279491}\n",
      "(Characterisation) Measure RGB sample:\n",
      "{'R': 190, 'G': 38, 'B': 33, 'outcome': 294.6659125178886, 'time': 1689539014.101232}\n",
      "(Characterisation) Measure RGB sample:\n",
      "{'R': 185, 'G': 37, 'B': 32, 'outcome': 292.1010099263609, 'time': 1689539015.542079}\n",
      "(Characterisation) Measure RGB sample:\n",
      "{'R': 187, 'G': 36, 'B': 32, 'outcome': 293.2473358787766, 'time': 1689539016.8581529}\n",
      "(Characterisation) Measure RGB sample:\n",
      "{'R': 185, 'G': 40, 'B': 35, 'outcome': 290.215437218629, 'time': 1689539018.186219}\n",
      "(Characterisation) Measure RGB sample:\n",
      "{'R': 186, 'G': 39, 'B': 35, 'outcome': 290.71807649336154, 'time': 1689539019.6118941}\n",
      "(Characterisation) Measure RGB sample:\n",
      "{'R': 189, 'G': 35, 'B': 31, 'outcome': 295.1643609923122, 'time': 1689539020.882925}\n",
      "(Characterisation) Measure RGB sample:\n",
      "{'R': 193, 'G': 35, 'B': 31, 'outcome': 297.7414986191881, 'time': 1689539022.269182}\n"
     ]
    },
    {
     "data": {
      "text/plain": [
       "[<matplotlib.lines.Line2D at 0x7fae1c196910>]"
      ]
     },
     "execution_count": 7,
     "metadata": {},
     "output_type": "execute_result"
    },
    {
     "data": {
      "image/png": "[encoded data removed]",
      "text/plain": [
       "<Figure size 432x288 with 1 Axes>"
      ]
     },
     "metadata": {
      "needs_background": "light"
     },
     "output_type": "display_data"
    }
   ],
   "source": [
    "import serial\n",
    "import time\n",
    "import numpy as np\n",
    "import cv2\n",
    "from bayes_opt import BayesianOptimization\n",
    "from bayes_opt import UtilityFunction\n",
    "\n",
    "ser = serial.Serial(\"/dev/cu.usbmodem144102\", 115200)\n",
    "\n",
    "# Define the optimization goal\n",
    "goal_color = (0, 0, 255)  # Red color (BGR format)\n",
    "\n",
    "# Initialize CV2 window for live image display\n",
    "width, height = 800, 400\n",
    "image = np.zeros((height, width, 3), dtype=np.uint8)\n",
    "cv2.namedWindow(\"Live Image\", cv2.WINDOW_NORMAL)\n",
    "font = cv2.FONT_HERSHEY_SIMPLEX\n",
    "font_scale = 0.8\n",
    "font_color = (255, 255, 255)\n",
    "\n",
    "max_iterations = 15  # Set the desired number of iterations\n",
    "\n",
    "serial_line_tested = False\n",
    "def test_serial_line():\n",
    "    ser.write(b\",\")\n",
    "    serial_data = str(ser.readline().decode('utf8'))\n",
    "    serial_data = str(ser.readline().decode('utf8'))\n",
    "    serial_data = str(ser.readline().decode('utf8'))\n",
    "    # do nothing with it\n",
    "    global serial_line_tested\n",
    "    serial_line_tested = True\n",
    "\n",
    "def calculate_loss(color1, color2):\n",
    "    return np.sqrt(\n",
    "        (color1[0] - color2[\"R\"]) ** 2\n",
    "        + (color1[1] - color2[\"G\"]) ** 2\n",
    "        + (color1[2] - color2[\"B\"]) ** 2\n",
    "    )\n",
    "\n",
    "def measure_outcome():\n",
    "    if not serial_line_tested:\n",
    "        test_serial_line()\n",
    "    time.sleep(0.4)\n",
    "    print('(Characterisation) Measure RGB sample:')\n",
    "    ser.write(b\",\")\n",
    "    serial_data = str(ser.readline().decode('utf-8'))\n",
    "    new_sample = {}\n",
    "    while True:\n",
    "        color, val = serial_data.split(\":\")\n",
    "        new_sample[str(color)] = int(val)\n",
    "        if color == \"B\":\n",
    "            break\n",
    "        else:\n",
    "            serial_data = str(ser.readline().decode('utf-8'))\n",
    "\n",
    "    # Make sure the keys \"R\", \"G\", and \"B\" exist in the new_sample dictionary\n",
    "    for color_key in [\"R\", \"G\", \"B\"]:\n",
    "        if color_key not in new_sample:\n",
    "            new_sample[color_key] = 0\n",
    "\n",
    "    new_sample[\"outcome\"] = calculate_loss(goal_color, new_sample)\n",
    "    new_sample[\"time\"] = time.time()\n",
    "\n",
    "    print(new_sample)\n",
    "    return new_sample\n",
    "\n",
    "def objective_function(R, G, B):\n",
    "    # Simulate the outcome based on the RGB values\n",
    "    outcome = calculate_loss(goal_color, {'R': R, 'G': G, 'B': B})\n",
    "    return outcome\n",
    "\n",
    "# Define the utility function (Expected Improvement)\n",
    "utility = UtilityFunction(kind=\"ei\", kappa=2.5, xi=0.0)\n",
    "\n",
    "loss_values = []\n",
    "\n",
    "if __name__ == \"__main__\":\n",
    "    # Define the search space bounds\n",
    "    pbounds = {'R': (0, 255), 'G': (0, 255), 'B': (0, 255)}\n",
    "\n",
    "    # Define the Bayesian optimization function\n",
    "    optimizer = BayesianOptimization(\n",
    "        f=objective_function,\n",
    "        pbounds=pbounds,\n",
    "        random_state=1,\n",
    "        verbose=2\n",
    "    )\n",
    "\n",
    "    for iteration in range(max_iterations):\n",
    "        # Measure the outcome from the micro:bit\n",
    "        new_sample = measure_outcome()\n",
    "\n",
    "        # Update the optimizer with the new sample\n",
    "        optimizer.register(params={'R': new_sample['R'], 'G': new_sample['G'], 'B': new_sample['B']}, target=new_sample['outcome'])\n",
    "\n",
    "        # Optimize the acquisition function to get the next sample\n",
    "        next_sample = optimizer.suggest(utility_function=utility)\n",
    "\n",
    "        # Update the live image with the current color\n",
    "        image[:, :] = [next_sample['B'], next_sample['G'], next_sample['R']]\n",
    "\n",
    "        # Add text information to the image\n",
    "        text = f\"Iteration: {iteration + 1}\"\n",
    "        cv2.putText(image, text, (10, 30), font, font_scale, font_color, 2)\n",
    "\n",
    "        # Add text for the loss\n",
    "        loss_text = f\"Loss: {new_sample['outcome']:.2f}\"\n",
    "        cv2.putText(image, loss_text, (10, height - 10), font, font_scale, font_color, 2)\n",
    "        # Plot a subplot for the goal color\n",
    "        subplot_x = width // (max_iterations + 1)\n",
    "        subplot_width = width // (max_iterations + 1)\n",
    "        cv2.rectangle(image, (subplot_x, 60), (subplot_x + subplot_width, height - 60), goal_color, -1)\n",
    "        \n",
    "        # Calculate the loss between the goal color and the current color\n",
    "        loss = calculate_loss(goal_color, {'R': next_sample['R'], 'G': next_sample['G'], 'B': next_sample['B']})\n",
    "        # Add the loss value to the list\n",
    "        loss_values.append(loss)\n",
    "        \n",
    "        # Display the updated image\n",
    "        cv2.imshow(\"Live Image\", image)\n",
    "        cv2.waitKey(500)\n",
    "\n",
    "        # Other optimization steps (omitted for clarity)\n",
    "\n",
    "    # Save the final image\n",
    "    cv2.imwrite(\"final_image.png\", image)\n",
    "\n",
    "    # Close the CV2 window\n",
    "    cv2.destroyAllWindows()\n",
    "\n",
    "plt.plot(loss_values)\n"
   ]
  },
  {
   "cell_type": "code",
   "execution_count": null,
   "id": "385bdf25",
   "metadata": {
    "pycharm": {
     "name": "#%%\n"
    }
   },
   "outputs": [],
   "source": []
  }
 ],
 "metadata": {
  "kernelspec": {
   "display_name": "Python 3 (ipykernel)",
   "language": "python",
   "name": "python3"
  },
  "language_info": {
   "codemirror_mode": {
    "name": "ipython",
    "version": 3
   },
   "file_extension": ".py",
   "mimetype": "text/x-python",
   "name": "python",
   "nbconvert_exporter": "python",
   "pygments_lexer": "ipython3",
   "version": "3.9.6"
  }
 },
 "nbformat": 4,
 "nbformat_minor": 5
}
